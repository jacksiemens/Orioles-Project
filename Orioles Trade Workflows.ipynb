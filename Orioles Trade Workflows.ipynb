{
 "cells": [
  {
   "cell_type": "code",
   "execution_count": 1,
   "metadata": {},
   "outputs": [
    {
     "data": {
      "text/html": [
       "<div>\n",
       "<style scoped>\n",
       "    .dataframe tbody tr th:only-of-type {\n",
       "        vertical-align: middle;\n",
       "    }\n",
       "\n",
       "    .dataframe tbody tr th {\n",
       "        vertical-align: top;\n",
       "    }\n",
       "\n",
       "    .dataframe thead th {\n",
       "        text-align: right;\n",
       "    }\n",
       "</style>\n",
       "<table border=\"1\" class=\"dataframe\">\n",
       "  <thead>\n",
       "    <tr style=\"text-align: right;\">\n",
       "      <th></th>\n",
       "      <th>id</th>\n",
       "      <th>Name</th>\n",
       "      <th>bats</th>\n",
       "      <th>bat</th>\n",
       "      <th>bat_sd</th>\n",
       "      <th>plat</th>\n",
       "      <th>bat_vsRHP</th>\n",
       "      <th>bat_vsLHP</th>\n",
       "      <th>C</th>\n",
       "      <th>1B</th>\n",
       "      <th>2B</th>\n",
       "      <th>3B</th>\n",
       "      <th>SS</th>\n",
       "      <th>LF</th>\n",
       "      <th>CF</th>\n",
       "      <th>RF</th>\n",
       "    </tr>\n",
       "  </thead>\n",
       "  <tbody>\n",
       "    <tr>\n",
       "      <th>0</th>\n",
       "      <td>BAL</td>\n",
       "      <td>Cedric Mullins</td>\n",
       "      <td>L</td>\n",
       "      <td>3.7</td>\n",
       "      <td>19</td>\n",
       "      <td>18</td>\n",
       "      <td>12.7</td>\n",
       "      <td>-5.3</td>\n",
       "      <td>NaN</td>\n",
       "      <td>NaN</td>\n",
       "      <td>NaN</td>\n",
       "      <td>NaN</td>\n",
       "      <td>NaN</td>\n",
       "      <td>15.0</td>\n",
       "      <td>8.0</td>\n",
       "      <td>13.0</td>\n",
       "    </tr>\n",
       "    <tr>\n",
       "      <th>1</th>\n",
       "      <td>BAL</td>\n",
       "      <td>Austin Hays</td>\n",
       "      <td>R</td>\n",
       "      <td>1.3</td>\n",
       "      <td>9</td>\n",
       "      <td>-8</td>\n",
       "      <td>-2.7</td>\n",
       "      <td>5.3</td>\n",
       "      <td>NaN</td>\n",
       "      <td>NaN</td>\n",
       "      <td>NaN</td>\n",
       "      <td>NaN</td>\n",
       "      <td>NaN</td>\n",
       "      <td>6.0</td>\n",
       "      <td>-4.0</td>\n",
       "      <td>8.0</td>\n",
       "    </tr>\n",
       "    <tr>\n",
       "      <th>2</th>\n",
       "      <td>BAL</td>\n",
       "      <td>Colton Cowser</td>\n",
       "      <td>L</td>\n",
       "      <td>0.3</td>\n",
       "      <td>11</td>\n",
       "      <td>18</td>\n",
       "      <td>9.3</td>\n",
       "      <td>-8.7</td>\n",
       "      <td>NaN</td>\n",
       "      <td>NaN</td>\n",
       "      <td>NaN</td>\n",
       "      <td>NaN</td>\n",
       "      <td>NaN</td>\n",
       "      <td>7.0</td>\n",
       "      <td>1.0</td>\n",
       "      <td>5.0</td>\n",
       "    </tr>\n",
       "    <tr>\n",
       "      <th>3</th>\n",
       "      <td>BAL</td>\n",
       "      <td>Ryan McKenna</td>\n",
       "      <td>R</td>\n",
       "      <td>-1.0</td>\n",
       "      <td>21</td>\n",
       "      <td>-3</td>\n",
       "      <td>-2.5</td>\n",
       "      <td>0.5</td>\n",
       "      <td>NaN</td>\n",
       "      <td>NaN</td>\n",
       "      <td>NaN</td>\n",
       "      <td>NaN</td>\n",
       "      <td>NaN</td>\n",
       "      <td>7.0</td>\n",
       "      <td>3.0</td>\n",
       "      <td>4.0</td>\n",
       "    </tr>\n",
       "    <tr>\n",
       "      <th>4</th>\n",
       "      <td>BAL</td>\n",
       "      <td>Aaron Hicks</td>\n",
       "      <td>S</td>\n",
       "      <td>-2.4</td>\n",
       "      <td>19</td>\n",
       "      <td>4</td>\n",
       "      <td>-0.4</td>\n",
       "      <td>-4.4</td>\n",
       "      <td>NaN</td>\n",
       "      <td>NaN</td>\n",
       "      <td>NaN</td>\n",
       "      <td>NaN</td>\n",
       "      <td>NaN</td>\n",
       "      <td>4.0</td>\n",
       "      <td>-3.0</td>\n",
       "      <td>3.0</td>\n",
       "    </tr>\n",
       "  </tbody>\n",
       "</table>\n",
       "</div>"
      ],
      "text/plain": [
       "    id            Name bats  bat  bat_sd  plat  bat_vsRHP  bat_vsLHP   C  1B  \\\n",
       "0  BAL  Cedric Mullins    L  3.7      19    18       12.7       -5.3 NaN NaN   \n",
       "1  BAL     Austin Hays    R  1.3       9    -8       -2.7        5.3 NaN NaN   \n",
       "2  BAL   Colton Cowser    L  0.3      11    18        9.3       -8.7 NaN NaN   \n",
       "3  BAL    Ryan McKenna    R -1.0      21    -3       -2.5        0.5 NaN NaN   \n",
       "4  BAL     Aaron Hicks    S -2.4      19     4       -0.4       -4.4 NaN NaN   \n",
       "\n",
       "   2B  3B  SS    LF   CF    RF  \n",
       "0 NaN NaN NaN  15.0  8.0  13.0  \n",
       "1 NaN NaN NaN   6.0 -4.0   8.0  \n",
       "2 NaN NaN NaN   7.0  1.0   5.0  \n",
       "3 NaN NaN NaN   7.0  3.0   4.0  \n",
       "4 NaN NaN NaN   4.0 -3.0   3.0  "
      ]
     },
     "execution_count": 1,
     "metadata": {},
     "output_type": "execute_result"
    }
   ],
   "source": [
    "# Load the Excel file\n",
    "\n",
    "import pandas as pd\n",
    "import numpy as np\n",
    "from scipy.optimize import linear_sum_assignment\n",
    "\n",
    "file_path = '/Users/jacksonsiemens/Desktop/R/Basebol/data/orioles_lineups.xlsx'\n",
    "player_data = pd.read_excel(file_path)\n",
    "\n",
    "# Display the first few rows of the dataframe to understand its structure\n",
    "player_data.head()"
   ]
  },
  {
   "cell_type": "code",
   "execution_count": 2,
   "metadata": {},
   "outputs": [
    {
     "data": {
      "text/plain": [
       "{'CF': 14.877551020408163, 'RF': 23.697683868346203}"
      ]
     },
     "execution_count": 2,
     "metadata": {},
     "output_type": "execute_result"
    }
   ],
   "source": [
    "# For defensive projections, we are saying per 162 games. Equating to 1458 Innings.\n",
    "# When calculating a players defensive value at various positions, I'm going to scale their past performance to reflect a 1458 Innings total.\n",
    "# This feels inherently flawed, but after testing around with some orioles projections and Statcast Defensive RAR, it seems pretty accurate\n",
    "\n",
    "def defensive_pace_pos(defensive_dict):\n",
    "    # Dictionary to hold the pace values for each position\n",
    "    pace_dict = {}\n",
    "\n",
    "    # Iterate over the keys in the dictionary\n",
    "    for key in defensive_dict.keys():\n",
    "        # Identify the position and corresponding metric (innings or RAR)\n",
    "        if 'innings' in key:\n",
    "            position = key.split('_')[0]\n",
    "            innings = sum(defensive_dict[key])\n",
    "            # Check if RAR for the same position exists\n",
    "            if f'{position}_RAR' in defensive_dict:\n",
    "                rar = sum(defensive_dict[f'{position}_RAR'])\n",
    "                # Calculate the pace for this position\n",
    "                if innings > 0:\n",
    "                    pace = rar / innings * 1458\n",
    "                    pace_dict[position] = pace\n",
    "\n",
    "    return pace_dict\n",
    "\n",
    "# Test the function with the provided data\n",
    "frelick = {\n",
    "    'CF_innings': [196.0], \n",
    "    'CF_RAR': [2], \n",
    "    'RF_innings': [246.1], \n",
    "    'RF_RAR': [4], \n",
    "}\n",
    "\n",
    "frelick_defence = defensive_pace_pos(frelick)\n",
    "frelick_defence "
   ]
  },
  {
   "cell_type": "markdown",
   "metadata": {},
   "source": [
    "This is absurd. To get his offensive contribution, "
   ]
  },
  {
   "cell_type": "code",
   "execution_count": 3,
   "metadata": {},
   "outputs": [
    {
     "name": "stderr",
     "output_type": "stream",
     "text": [
      "/Library/Frameworks/Python.framework/Versions/3.10/lib/python3.10/site-packages/sklearn/preprocessing/_encoders.py:972: FutureWarning: `sparse` was renamed to `sparse_output` in version 1.2 and will be removed in 1.4. `sparse_output` is ignored unless you leave `sparse` to its default value.\n",
      "  warnings.warn(\n"
     ]
    },
    {
     "name": "stdout",
     "output_type": "stream",
     "text": [
      "Train R²: 0.9513003328783476, Test R²: 0.9436792035055751\n"
     ]
    }
   ],
   "source": [
    "\n",
    "import pandas as pd\n",
    "from sklearn.model_selection import train_test_split\n",
    "from sklearn.ensemble import RandomForestRegressor\n",
    "from sklearn.metrics import r2_score\n",
    "from sklearn.preprocessing import OneHotEncoder\n",
    "\n",
    "file_path = 'data/fg_leaders.csv'\n",
    "df = pd.read_csv(file_path)\n",
    "\n",
    "\n",
    "# Scale 'Off' to 600 PAs\n",
    "df['Scaled_Off'] = df['Off'] * (600 / df['PA'])\n",
    "\n",
    "# One-hot encode 'Team'\n",
    "encoder = OneHotEncoder(sparse=False)\n",
    "team_encoded = encoder.fit_transform(df[['Team']])\n",
    "team_df = pd.DataFrame(team_encoded, columns=encoder.get_feature_names_out(['Team']))\n",
    "\n",
    "# Merge features\n",
    "X = pd.concat([df[['AVG', 'OBP', 'SLG']], team_df], axis=1)\n",
    "y = df['Scaled_Off']\n",
    "\n",
    "# Split data\n",
    "X_train, X_test, y_train, y_test = train_test_split(X, y, test_size=0.2, random_state=42)\n",
    "\n",
    "# Train model\n",
    "model = RandomForestRegressor(n_estimators=100, max_depth=10, min_samples_split=4, min_samples_leaf=4, random_state=42)\n",
    "model.fit(X_train, y_train)\n",
    "\n",
    "# Predict and evaluate\n",
    "train_pred = model.predict(X_train)\n",
    "test_pred = model.predict(X_test)\n",
    "train_r2 = r2_score(y_train, train_pred)\n",
    "test_r2 = r2_score(y_test, test_pred)\n",
    "\n",
    "print(f'Train R²: {train_r2}, Test R²: {test_r2}')\n"
   ]
  },
  {
   "cell_type": "markdown",
   "metadata": {},
   "source": [
    "Model is super good, which makes sense."
   ]
  },
  {
   "cell_type": "code",
   "execution_count": 4,
   "metadata": {},
   "outputs": [
    {
     "name": "stdout",
     "output_type": "stream",
     "text": [
      "RHP:  0.5964567496379495\n",
      "LHP:  -5.01049749422324\n"
     ]
    },
    {
     "name": "stderr",
     "output_type": "stream",
     "text": [
      "/Library/Frameworks/Python.framework/Versions/3.10/lib/python3.10/site-packages/sklearn/base.py:464: UserWarning: X does not have valid feature names, but OneHotEncoder was fitted with feature names\n",
      "  warnings.warn(\n",
      "/Library/Frameworks/Python.framework/Versions/3.10/lib/python3.10/site-packages/sklearn/base.py:464: UserWarning: X does not have valid feature names, but OneHotEncoder was fitted with feature names\n",
      "  warnings.warn(\n"
     ]
    }
   ],
   "source": [
    "def predict_off_value(team, avg, obp, slg, model, encoder):\n",
    "    # One-hot encode the team\n",
    "    team_encoded = encoder.transform([[team]])\n",
    "    team_df = pd.DataFrame(team_encoded, columns=encoder.get_feature_names_out())\n",
    "\n",
    "    # Create a DataFrame for the player's stats\n",
    "    player_stats = pd.DataFrame([[avg, obp, slg]], columns=['AVG', 'OBP', 'SLG'])\n",
    "    \n",
    "    # Combine player stats with team data\n",
    "    features = pd.concat([player_stats, team_df], axis=1)\n",
    "\n",
    "    # Predict the 'Off' value\n",
    "    predicted_off = model.predict(features)\n",
    "\n",
    "    return predicted_off[0]\n",
    "\n",
    "## Sal Frelick\n",
    "## These projections are pulled from ZIPS\n",
    "# RHP\n",
    "print(\"RHP: \", predict_off_value(\"MIL\",0.275,0.335, 0.392, model, encoder))\n",
    "\n",
    "#LHP\n",
    "print(\"LHP: \", predict_off_value(\"MIL\",0.267,0.328, 0.378, model, encoder))\n",
    "\n"
   ]
  },
  {
   "cell_type": "code",
   "execution_count": 5,
   "metadata": {},
   "outputs": [
    {
     "data": {
      "text/plain": [
       "17.0"
      ]
     },
     "execution_count": 5,
     "metadata": {},
     "output_type": "execute_result"
    }
   ],
   "source": [
    "ops_plus_80th = 115\n",
    "ops_plus_20th = 81\n",
    "ops_plus_mean = 99\n",
    "\n",
    "# Assuming a symmetrical distribution, the standard deviation can be approximated\n",
    "# by the average distance of the 80th and 20th percentiles from the mean\n",
    "std_dev_approx = (abs(ops_plus_80th - ops_plus_mean) + abs(ops_plus_mean - ops_plus_20th)) / 2\n",
    "std_dev_approx"
   ]
  },
  {
   "cell_type": "markdown",
   "metadata": {},
   "source": [
    "Mean Projection : -1.1945825908574963\n",
    "Against LHP:  -5.01049749422324\n",
    "Against RHP: 0.5964567496379495\n",
    "\n",
    "STD : 17.0"
   ]
  },
  {
   "cell_type": "code",
   "execution_count": 6,
   "metadata": {},
   "outputs": [
    {
     "name": "stderr",
     "output_type": "stream",
     "text": [
      "/var/folders/8n/g8bq8_011kv24tnfb649vgmw0000gn/T/ipykernel_1522/3199097631.py:21: FutureWarning: The frame.append method is deprecated and will be removed from pandas in a future version. Use pandas.concat instead.\n",
      "  player_data_w_frelick = player_data.append(frelick, ignore_index=True)\n"
     ]
    }
   ],
   "source": [
    "#{'CF': 14.877551020408163, 'RF': 23.697683868346203}\n",
    "\n",
    "frelick = {\n",
    "    'id': 664056,\n",
    "    'Name': 'Sal Frelick',\n",
    "    'bats': 'R',\n",
    "    'bat': -1.1945825908574963,\n",
    "    'bat_sd': 17.0,\n",
    "    'plat': 0,\n",
    "    'bat_vsRHP': 0.5964567496379495,\n",
    "    'bat_vsLHP': -5.01049749422324,\n",
    "    'C': np.nan,     # Assuming NaN should be represented by np.nan\n",
    "    '1B': np.nan,\n",
    "    '2B': np.nan,\n",
    "    '3B': np.nan,\n",
    "    'SS': np.nan,\n",
    "    'LF': 14, # No way it's less than this with respect to the process\n",
    "    'CF': 14.87755102040816,\n",
    "    'RF': 23.697683868346203\n",
    "}\n",
    "player_data_w_frelick = player_data.append(frelick, ignore_index=True)\n",
    "player_data_w_frelick.fillna(-1000, inplace=True)\n",
    "\n",
    "# Function to optimize lineup including DH\n",
    "def optimize_lineup_with_dh(player_data, against_pitcher_type):\n",
    "    bat_column = f'bat_vs{against_pitcher_type}'\n",
    "    sd_column = 'bat_sd'  # Column name for standard deviation\n",
    "    positions = ['C', '1B', '2B', '3B', 'SS', 'LF', 'CF', 'RF']\n",
    "\n",
    "    total_performance_matrix = np.full((len(player_data), len(positions) + 1), -1000.0)  # Include DH\n",
    "\n",
    "    # Fill the matrix for position players\n",
    "    for i, position in enumerate(positions):\n",
    "        can_play = player_data[position] > -1000\n",
    "        total_performance_matrix[can_play, i] = player_data[bat_column][can_play] + player_data[position][can_play]\n",
    "\n",
    "    # Fill the matrix for DH (only offensive contribution)\n",
    "    total_performance_matrix[:, -1] = player_data[bat_column]\n",
    "\n",
    "    # Optimization using linear sum assignment\n",
    "    row_ind, col_ind = linear_sum_assignment(-total_performance_matrix)  # Negative for maximization\n",
    "\n",
    "    # Calculate total optimized runs above average\n",
    "    optimized_runs = total_performance_matrix[row_ind, col_ind].sum()\n",
    "\n",
    "    # Create the optimized lineup\n",
    "    optimized_lineup = player_data.iloc[row_ind]\n",
    "    positions.append('DH')  # Add DH to position list\n",
    "    optimized_lineup['Position'] = [positions[i] for i in col_ind]\n",
    "\n",
    "    # Calculate SD of the total RAA of the lineup\n",
    "    # SD calculation assumes independence of player performances\n",
    "    lineup_sd = np.sqrt((player_data.iloc[row_ind][sd_column] ** 2).sum())\n",
    "\n",
    "    return optimized_lineup, optimized_runs, lineup_sd\n",
    "\n"
   ]
  },
  {
   "cell_type": "code",
   "execution_count": 7,
   "metadata": {},
   "outputs": [
    {
     "name": "stderr",
     "output_type": "stream",
     "text": [
      "/var/folders/8n/g8bq8_011kv24tnfb649vgmw0000gn/T/ipykernel_1522/3199097631.py:49: SettingWithCopyWarning: \n",
      "A value is trying to be set on a copy of a slice from a DataFrame.\n",
      "Try using .loc[row_indexer,col_indexer] = value instead\n",
      "\n",
      "See the caveats in the documentation: https://pandas.pydata.org/pandas-docs/stable/user_guide/indexing.html#returning-a-view-versus-a-copy\n",
      "  optimized_lineup['Position'] = [positions[i] for i in col_ind]\n",
      "/var/folders/8n/g8bq8_011kv24tnfb649vgmw0000gn/T/ipykernel_1522/3199097631.py:49: SettingWithCopyWarning: \n",
      "A value is trying to be set on a copy of a slice from a DataFrame.\n",
      "Try using .loc[row_indexer,col_indexer] = value instead\n",
      "\n",
      "See the caveats in the documentation: https://pandas.pydata.org/pandas-docs/stable/user_guide/indexing.html#returning-a-view-versus-a-copy\n",
      "  optimized_lineup['Position'] = [positions[i] for i in col_ind]\n"
     ]
    }
   ],
   "source": [
    "optimized_lineup_rhp, total_runs_rhp, total_sd_rhp = optimize_lineup_with_dh(player_data_w_frelick, 'RHP')\n",
    "optimized_lineup_lhp, total_runs_lhp, total_sd_lhp = optimize_lineup_with_dh(player_data_w_frelick, 'LHP')"
   ]
  },
  {
   "cell_type": "code",
   "execution_count": 20,
   "metadata": {},
   "outputs": [
    {
     "name": "stdout",
     "output_type": "stream",
     "text": [
      "LHP:  10.432889402664598\n"
     ]
    },
    {
     "name": "stderr",
     "output_type": "stream",
     "text": [
      "/Library/Frameworks/Python.framework/Versions/3.10/lib/python3.10/site-packages/sklearn/base.py:464: UserWarning: X does not have valid feature names, but OneHotEncoder was fitted with feature names\n",
      "  warnings.warn(\n"
     ]
    }
   ],
   "source": [
    "# Slater\n",
    "print(\"LHP: \", predict_off_value(\"SFG\",0.254,0.352, 0.421, model, encoder))\n",
    "\n",
    "# This projection seems too low on him, He hasn't posted anything lower than a .361 OBP against lefties since 2018. And his last three seasons have been .373/.379/.361.\n",
    "# He hasn't hit lower than he did last year, which was a .288/.361/.439. He's been a platoon destroyer for the past three seasons. The BABIP's have been high though, so I'll role with"
   ]
  },
  {
   "cell_type": "code",
   "execution_count": 21,
   "metadata": {},
   "outputs": [
    {
     "data": {
      "text/plain": [
       "{'CF': 3.9583710407239816, 'RF': 0.0, 'LF': 4.189655172413793}"
      ]
     },
     "execution_count": 21,
     "metadata": {},
     "output_type": "execute_result"
    }
   ],
   "source": [
    "slater = {\n",
    "    'CF_innings': [181, 538, 386], \n",
    "    'CF_RAR': [1, 1, 1], \n",
    "    'RF_innings': [33, 40, 93], \n",
    "    'RF_RAR': [1, -1, 0], \n",
    "    'LF_innings': [165, 60, 123], \n",
    "    'LF_RAR': [-1, 1, 1]\n",
    "}\n",
    "\n",
    "slater_defence = defensive_pace_pos(slater )\n",
    "slater_defence "
   ]
  },
  {
   "cell_type": "code",
   "execution_count": 23,
   "metadata": {},
   "outputs": [
    {
     "data": {
      "text/plain": [
       "{'CF': 4.486153846153846, 'RF': 0.0, 'LF': 17.708502024291498}"
      ]
     },
     "execution_count": 23,
     "metadata": {},
     "output_type": "execute_result"
    }
   ],
   "source": [
    "noot = {\n",
    "    'CF_innings': [570, 80], \n",
    "    'CF_RAR': [1, 1], \n",
    "    'RF_innings': [233, 585, 181], \n",
    "    'RF_RAR': [0, -1, 1], \n",
    "    'LF_innings': [161, 46, 40], \n",
    "    'LF_RAR': [2, 0, 1]\n",
    "}\n",
    "defensive_pace_pos(noot)\n",
    "\n",
    "# Generally speaking I'm extremely uncertain with the way that FG handles defensive projection. Lars has never posted a season with a negative defensive value, yet they project him well below average which makes little sense \n",
    "# I'm not giving noot a 17 in Left though, I think he's marginally above average. Regardless, he will be extreme value"
   ]
  },
  {
   "cell_type": "code",
   "execution_count": 24,
   "metadata": {},
   "outputs": [
    {
     "name": "stdout",
     "output_type": "stream",
     "text": [
      "RHP:  14.613712196935648\n",
      "LHP:  3.885227328661415\n"
     ]
    },
    {
     "name": "stderr",
     "output_type": "stream",
     "text": [
      "/Library/Frameworks/Python.framework/Versions/3.10/lib/python3.10/site-packages/sklearn/base.py:464: UserWarning: X does not have valid feature names, but OneHotEncoder was fitted with feature names\n",
      "  warnings.warn(\n",
      "/Library/Frameworks/Python.framework/Versions/3.10/lib/python3.10/site-packages/sklearn/base.py:464: UserWarning: X does not have valid feature names, but OneHotEncoder was fitted with feature names\n",
      "  warnings.warn(\n"
     ]
    }
   ],
   "source": [
    "print(\"RHP: \", predict_off_value(\"STL\", 0.245,0.347, 0.455, model, encoder))\n",
    "print(\"LHP: \", predict_off_value(\"STL\", 0.233,0.336, 0.405, model, encoder))"
   ]
  }
 ],
 "metadata": {
  "kernelspec": {
   "display_name": "Python 3",
   "language": "python",
   "name": "python3"
  },
  "language_info": {
   "codemirror_mode": {
    "name": "ipython",
    "version": 3
   },
   "file_extension": ".py",
   "mimetype": "text/x-python",
   "name": "python",
   "nbconvert_exporter": "python",
   "pygments_lexer": "ipython3",
   "version": "3.10.4"
  },
  "orig_nbformat": 4
 },
 "nbformat": 4,
 "nbformat_minor": 2
}
