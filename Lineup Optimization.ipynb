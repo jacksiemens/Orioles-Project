{
 "cells": [
  {
   "cell_type": "code",
   "execution_count": 34,
   "metadata": {},
   "outputs": [
    {
     "data": {
      "text/html": [
       "<div>\n",
       "<style scoped>\n",
       "    .dataframe tbody tr th:only-of-type {\n",
       "        vertical-align: middle;\n",
       "    }\n",
       "\n",
       "    .dataframe tbody tr th {\n",
       "        vertical-align: top;\n",
       "    }\n",
       "\n",
       "    .dataframe thead th {\n",
       "        text-align: right;\n",
       "    }\n",
       "</style>\n",
       "<table border=\"1\" class=\"dataframe\">\n",
       "  <thead>\n",
       "    <tr style=\"text-align: right;\">\n",
       "      <th></th>\n",
       "      <th>id</th>\n",
       "      <th>Name</th>\n",
       "      <th>bats</th>\n",
       "      <th>bat</th>\n",
       "      <th>bat_sd</th>\n",
       "      <th>plat</th>\n",
       "      <th>bat_vsRHP</th>\n",
       "      <th>bat_vsLHP</th>\n",
       "      <th>C</th>\n",
       "      <th>1B</th>\n",
       "      <th>2B</th>\n",
       "      <th>3B</th>\n",
       "      <th>SS</th>\n",
       "      <th>LF</th>\n",
       "      <th>CF</th>\n",
       "      <th>RF</th>\n",
       "    </tr>\n",
       "  </thead>\n",
       "  <tbody>\n",
       "    <tr>\n",
       "      <th>0</th>\n",
       "      <td>BAL</td>\n",
       "      <td>Cedric Mullins</td>\n",
       "      <td>L</td>\n",
       "      <td>3.7</td>\n",
       "      <td>19</td>\n",
       "      <td>18</td>\n",
       "      <td>12.7</td>\n",
       "      <td>-5.3</td>\n",
       "      <td>NaN</td>\n",
       "      <td>NaN</td>\n",
       "      <td>NaN</td>\n",
       "      <td>NaN</td>\n",
       "      <td>NaN</td>\n",
       "      <td>15.0</td>\n",
       "      <td>8.0</td>\n",
       "      <td>13.0</td>\n",
       "    </tr>\n",
       "    <tr>\n",
       "      <th>1</th>\n",
       "      <td>BAL</td>\n",
       "      <td>Austin Hays</td>\n",
       "      <td>R</td>\n",
       "      <td>1.3</td>\n",
       "      <td>9</td>\n",
       "      <td>-8</td>\n",
       "      <td>-2.7</td>\n",
       "      <td>5.3</td>\n",
       "      <td>NaN</td>\n",
       "      <td>NaN</td>\n",
       "      <td>NaN</td>\n",
       "      <td>NaN</td>\n",
       "      <td>NaN</td>\n",
       "      <td>6.0</td>\n",
       "      <td>-4.0</td>\n",
       "      <td>8.0</td>\n",
       "    </tr>\n",
       "    <tr>\n",
       "      <th>2</th>\n",
       "      <td>BAL</td>\n",
       "      <td>Colton Cowser</td>\n",
       "      <td>L</td>\n",
       "      <td>0.3</td>\n",
       "      <td>11</td>\n",
       "      <td>18</td>\n",
       "      <td>9.3</td>\n",
       "      <td>-8.7</td>\n",
       "      <td>NaN</td>\n",
       "      <td>NaN</td>\n",
       "      <td>NaN</td>\n",
       "      <td>NaN</td>\n",
       "      <td>NaN</td>\n",
       "      <td>7.0</td>\n",
       "      <td>1.0</td>\n",
       "      <td>5.0</td>\n",
       "    </tr>\n",
       "    <tr>\n",
       "      <th>3</th>\n",
       "      <td>BAL</td>\n",
       "      <td>Ryan McKenna</td>\n",
       "      <td>R</td>\n",
       "      <td>-1.0</td>\n",
       "      <td>21</td>\n",
       "      <td>-3</td>\n",
       "      <td>-2.5</td>\n",
       "      <td>0.5</td>\n",
       "      <td>NaN</td>\n",
       "      <td>NaN</td>\n",
       "      <td>NaN</td>\n",
       "      <td>NaN</td>\n",
       "      <td>NaN</td>\n",
       "      <td>7.0</td>\n",
       "      <td>3.0</td>\n",
       "      <td>4.0</td>\n",
       "    </tr>\n",
       "    <tr>\n",
       "      <th>4</th>\n",
       "      <td>BAL</td>\n",
       "      <td>Aaron Hicks</td>\n",
       "      <td>S</td>\n",
       "      <td>-2.4</td>\n",
       "      <td>19</td>\n",
       "      <td>4</td>\n",
       "      <td>-0.4</td>\n",
       "      <td>-4.4</td>\n",
       "      <td>NaN</td>\n",
       "      <td>NaN</td>\n",
       "      <td>NaN</td>\n",
       "      <td>NaN</td>\n",
       "      <td>NaN</td>\n",
       "      <td>4.0</td>\n",
       "      <td>-3.0</td>\n",
       "      <td>3.0</td>\n",
       "    </tr>\n",
       "    <tr>\n",
       "      <th>5</th>\n",
       "      <td>BAL</td>\n",
       "      <td>Hudson Haskin</td>\n",
       "      <td>R</td>\n",
       "      <td>0.0</td>\n",
       "      <td>21</td>\n",
       "      <td>-6</td>\n",
       "      <td>-3.0</td>\n",
       "      <td>3.0</td>\n",
       "      <td>NaN</td>\n",
       "      <td>NaN</td>\n",
       "      <td>NaN</td>\n",
       "      <td>NaN</td>\n",
       "      <td>NaN</td>\n",
       "      <td>4.0</td>\n",
       "      <td>1.0</td>\n",
       "      <td>2.0</td>\n",
       "    </tr>\n",
       "    <tr>\n",
       "      <th>6</th>\n",
       "      <td>BAL</td>\n",
       "      <td>Sam Hilliard</td>\n",
       "      <td>L</td>\n",
       "      <td>-1.0</td>\n",
       "      <td>9</td>\n",
       "      <td>18</td>\n",
       "      <td>8.0</td>\n",
       "      <td>-10.0</td>\n",
       "      <td>NaN</td>\n",
       "      <td>NaN</td>\n",
       "      <td>NaN</td>\n",
       "      <td>NaN</td>\n",
       "      <td>NaN</td>\n",
       "      <td>0.0</td>\n",
       "      <td>-4.0</td>\n",
       "      <td>2.0</td>\n",
       "    </tr>\n",
       "    <tr>\n",
       "      <th>7</th>\n",
       "      <td>BAL</td>\n",
       "      <td>Kyle Stowers</td>\n",
       "      <td>R</td>\n",
       "      <td>0.0</td>\n",
       "      <td>19</td>\n",
       "      <td>10</td>\n",
       "      <td>5.0</td>\n",
       "      <td>-5.0</td>\n",
       "      <td>NaN</td>\n",
       "      <td>NaN</td>\n",
       "      <td>NaN</td>\n",
       "      <td>NaN</td>\n",
       "      <td>NaN</td>\n",
       "      <td>0.0</td>\n",
       "      <td>-10.0</td>\n",
       "      <td>2.0</td>\n",
       "    </tr>\n",
       "    <tr>\n",
       "      <th>8</th>\n",
       "      <td>BAL</td>\n",
       "      <td>Jorge Mateo</td>\n",
       "      <td>R</td>\n",
       "      <td>-1.8</td>\n",
       "      <td>20</td>\n",
       "      <td>-8</td>\n",
       "      <td>-5.8</td>\n",
       "      <td>2.2</td>\n",
       "      <td>NaN</td>\n",
       "      <td>NaN</td>\n",
       "      <td>9.0</td>\n",
       "      <td>4.0</td>\n",
       "      <td>13.0</td>\n",
       "      <td>2.0</td>\n",
       "      <td>-3.0</td>\n",
       "      <td>0.0</td>\n",
       "    </tr>\n",
       "    <tr>\n",
       "      <th>9</th>\n",
       "      <td>BAL</td>\n",
       "      <td>Terrin Vavra</td>\n",
       "      <td>R</td>\n",
       "      <td>0.0</td>\n",
       "      <td>10</td>\n",
       "      <td>18</td>\n",
       "      <td>9.0</td>\n",
       "      <td>-9.0</td>\n",
       "      <td>NaN</td>\n",
       "      <td>NaN</td>\n",
       "      <td>-5.0</td>\n",
       "      <td>-8.0</td>\n",
       "      <td>NaN</td>\n",
       "      <td>2.0</td>\n",
       "      <td>-9.0</td>\n",
       "      <td>-1.0</td>\n",
       "    </tr>\n",
       "    <tr>\n",
       "      <th>10</th>\n",
       "      <td>BAL</td>\n",
       "      <td>Adam Frazier</td>\n",
       "      <td>L</td>\n",
       "      <td>-4.4</td>\n",
       "      <td>13</td>\n",
       "      <td>18</td>\n",
       "      <td>4.6</td>\n",
       "      <td>-13.4</td>\n",
       "      <td>NaN</td>\n",
       "      <td>NaN</td>\n",
       "      <td>-9.0</td>\n",
       "      <td>NaN</td>\n",
       "      <td>NaN</td>\n",
       "      <td>0.0</td>\n",
       "      <td>NaN</td>\n",
       "      <td>-6.0</td>\n",
       "    </tr>\n",
       "    <tr>\n",
       "      <th>11</th>\n",
       "      <td>BAL</td>\n",
       "      <td>Heston Kjerstad</td>\n",
       "      <td>L</td>\n",
       "      <td>1.7</td>\n",
       "      <td>19</td>\n",
       "      <td>15</td>\n",
       "      <td>9.2</td>\n",
       "      <td>-5.8</td>\n",
       "      <td>NaN</td>\n",
       "      <td>-7.0</td>\n",
       "      <td>NaN</td>\n",
       "      <td>NaN</td>\n",
       "      <td>NaN</td>\n",
       "      <td>-10.0</td>\n",
       "      <td>NaN</td>\n",
       "      <td>-8.0</td>\n",
       "    </tr>\n",
       "    <tr>\n",
       "      <th>12</th>\n",
       "      <td>BAL</td>\n",
       "      <td>Connor Norby</td>\n",
       "      <td>R</td>\n",
       "      <td>-0.1</td>\n",
       "      <td>17</td>\n",
       "      <td>-8</td>\n",
       "      <td>-4.1</td>\n",
       "      <td>3.9</td>\n",
       "      <td>NaN</td>\n",
       "      <td>NaN</td>\n",
       "      <td>-2.0</td>\n",
       "      <td>-9.0</td>\n",
       "      <td>NaN</td>\n",
       "      <td>-5.0</td>\n",
       "      <td>NaN</td>\n",
       "      <td>-9.0</td>\n",
       "    </tr>\n",
       "    <tr>\n",
       "      <th>13</th>\n",
       "      <td>BAL</td>\n",
       "      <td>Anthony Santander</td>\n",
       "      <td>S</td>\n",
       "      <td>10.5</td>\n",
       "      <td>14</td>\n",
       "      <td>7</td>\n",
       "      <td>14.0</td>\n",
       "      <td>7.0</td>\n",
       "      <td>NaN</td>\n",
       "      <td>-4.0</td>\n",
       "      <td>NaN</td>\n",
       "      <td>NaN</td>\n",
       "      <td>NaN</td>\n",
       "      <td>-8.0</td>\n",
       "      <td>NaN</td>\n",
       "      <td>-10.0</td>\n",
       "    </tr>\n",
       "    <tr>\n",
       "      <th>14</th>\n",
       "      <td>BAL</td>\n",
       "      <td>Ryan O'Hearn</td>\n",
       "      <td>L</td>\n",
       "      <td>1.2</td>\n",
       "      <td>22</td>\n",
       "      <td>18</td>\n",
       "      <td>10.2</td>\n",
       "      <td>-7.8</td>\n",
       "      <td>NaN</td>\n",
       "      <td>-3.0</td>\n",
       "      <td>NaN</td>\n",
       "      <td>NaN</td>\n",
       "      <td>NaN</td>\n",
       "      <td>-6.0</td>\n",
       "      <td>NaN</td>\n",
       "      <td>-11.0</td>\n",
       "    </tr>\n",
       "    <tr>\n",
       "      <th>15</th>\n",
       "      <td>BAL</td>\n",
       "      <td>Joey Ortiz</td>\n",
       "      <td>R</td>\n",
       "      <td>-0.1</td>\n",
       "      <td>14</td>\n",
       "      <td>-9</td>\n",
       "      <td>-4.6</td>\n",
       "      <td>4.4</td>\n",
       "      <td>NaN</td>\n",
       "      <td>7.0</td>\n",
       "      <td>15.0</td>\n",
       "      <td>13.0</td>\n",
       "      <td>11.0</td>\n",
       "      <td>NaN</td>\n",
       "      <td>NaN</td>\n",
       "      <td>NaN</td>\n",
       "    </tr>\n",
       "    <tr>\n",
       "      <th>16</th>\n",
       "      <td>BAL</td>\n",
       "      <td>Jackson Holliday</td>\n",
       "      <td>L</td>\n",
       "      <td>3.3</td>\n",
       "      <td>21</td>\n",
       "      <td>20</td>\n",
       "      <td>13.3</td>\n",
       "      <td>-6.7</td>\n",
       "      <td>NaN</td>\n",
       "      <td>NaN</td>\n",
       "      <td>7.0</td>\n",
       "      <td>4.0</td>\n",
       "      <td>5.0</td>\n",
       "      <td>NaN</td>\n",
       "      <td>NaN</td>\n",
       "      <td>NaN</td>\n",
       "    </tr>\n",
       "    <tr>\n",
       "      <th>17</th>\n",
       "      <td>BAL</td>\n",
       "      <td>Gunnar Henderson</td>\n",
       "      <td>L</td>\n",
       "      <td>20.9</td>\n",
       "      <td>19</td>\n",
       "      <td>25</td>\n",
       "      <td>33.4</td>\n",
       "      <td>8.4</td>\n",
       "      <td>NaN</td>\n",
       "      <td>5.0</td>\n",
       "      <td>0.0</td>\n",
       "      <td>10.0</td>\n",
       "      <td>5.0</td>\n",
       "      <td>NaN</td>\n",
       "      <td>NaN</td>\n",
       "      <td>NaN</td>\n",
       "    </tr>\n",
       "    <tr>\n",
       "      <th>18</th>\n",
       "      <td>BAL</td>\n",
       "      <td>Ramón Urías</td>\n",
       "      <td>R</td>\n",
       "      <td>-2.0</td>\n",
       "      <td>13</td>\n",
       "      <td>-4</td>\n",
       "      <td>-4.0</td>\n",
       "      <td>0.0</td>\n",
       "      <td>NaN</td>\n",
       "      <td>5.0</td>\n",
       "      <td>4.0</td>\n",
       "      <td>12.0</td>\n",
       "      <td>-8.0</td>\n",
       "      <td>NaN</td>\n",
       "      <td>NaN</td>\n",
       "      <td>NaN</td>\n",
       "    </tr>\n",
       "    <tr>\n",
       "      <th>19</th>\n",
       "      <td>BAL</td>\n",
       "      <td>Jordan Westburg</td>\n",
       "      <td>R</td>\n",
       "      <td>3.0</td>\n",
       "      <td>14</td>\n",
       "      <td>-7</td>\n",
       "      <td>-0.5</td>\n",
       "      <td>6.5</td>\n",
       "      <td>NaN</td>\n",
       "      <td>NaN</td>\n",
       "      <td>-2.0</td>\n",
       "      <td>3.0</td>\n",
       "      <td>-10.0</td>\n",
       "      <td>NaN</td>\n",
       "      <td>NaN</td>\n",
       "      <td>NaN</td>\n",
       "    </tr>\n",
       "    <tr>\n",
       "      <th>20</th>\n",
       "      <td>BAL</td>\n",
       "      <td>Coby Mayo</td>\n",
       "      <td>R</td>\n",
       "      <td>0.1</td>\n",
       "      <td>22</td>\n",
       "      <td>-7</td>\n",
       "      <td>-3.4</td>\n",
       "      <td>3.6</td>\n",
       "      <td>NaN</td>\n",
       "      <td>7.0</td>\n",
       "      <td>NaN</td>\n",
       "      <td>2.0</td>\n",
       "      <td>NaN</td>\n",
       "      <td>NaN</td>\n",
       "      <td>NaN</td>\n",
       "      <td>NaN</td>\n",
       "    </tr>\n",
       "    <tr>\n",
       "      <th>21</th>\n",
       "      <td>BAL</td>\n",
       "      <td>Ryan Mountcastle</td>\n",
       "      <td>R</td>\n",
       "      <td>10.0</td>\n",
       "      <td>22</td>\n",
       "      <td>-11</td>\n",
       "      <td>4.5</td>\n",
       "      <td>15.5</td>\n",
       "      <td>NaN</td>\n",
       "      <td>-1.0</td>\n",
       "      <td>NaN</td>\n",
       "      <td>NaN</td>\n",
       "      <td>NaN</td>\n",
       "      <td>NaN</td>\n",
       "      <td>NaN</td>\n",
       "      <td>NaN</td>\n",
       "    </tr>\n",
       "    <tr>\n",
       "      <th>22</th>\n",
       "      <td>BAL</td>\n",
       "      <td>Adley Rutschman</td>\n",
       "      <td>S</td>\n",
       "      <td>22.2</td>\n",
       "      <td>9</td>\n",
       "      <td>10</td>\n",
       "      <td>27.2</td>\n",
       "      <td>17.2</td>\n",
       "      <td>12.0</td>\n",
       "      <td>-6.0</td>\n",
       "      <td>NaN</td>\n",
       "      <td>NaN</td>\n",
       "      <td>NaN</td>\n",
       "      <td>NaN</td>\n",
       "      <td>NaN</td>\n",
       "      <td>NaN</td>\n",
       "    </tr>\n",
       "    <tr>\n",
       "      <th>23</th>\n",
       "      <td>BAL</td>\n",
       "      <td>James McCann</td>\n",
       "      <td>R</td>\n",
       "      <td>-3.6</td>\n",
       "      <td>13</td>\n",
       "      <td>-10</td>\n",
       "      <td>-8.6</td>\n",
       "      <td>1.4</td>\n",
       "      <td>-1.0</td>\n",
       "      <td>-6.0</td>\n",
       "      <td>NaN</td>\n",
       "      <td>NaN</td>\n",
       "      <td>NaN</td>\n",
       "      <td>NaN</td>\n",
       "      <td>NaN</td>\n",
       "      <td>NaN</td>\n",
       "    </tr>\n",
       "  </tbody>\n",
       "</table>\n",
       "</div>"
      ],
      "text/plain": [
       "     id               Name bats   bat  bat_sd  plat  bat_vsRHP  bat_vsLHP  \\\n",
       "0   BAL     Cedric Mullins    L   3.7      19    18       12.7       -5.3   \n",
       "1   BAL        Austin Hays    R   1.3       9    -8       -2.7        5.3   \n",
       "2   BAL      Colton Cowser    L   0.3      11    18        9.3       -8.7   \n",
       "3   BAL       Ryan McKenna    R  -1.0      21    -3       -2.5        0.5   \n",
       "4   BAL        Aaron Hicks    S  -2.4      19     4       -0.4       -4.4   \n",
       "5   BAL      Hudson Haskin    R   0.0      21    -6       -3.0        3.0   \n",
       "6   BAL       Sam Hilliard    L  -1.0       9    18        8.0      -10.0   \n",
       "7   BAL       Kyle Stowers    R   0.0      19    10        5.0       -5.0   \n",
       "8   BAL        Jorge Mateo    R  -1.8      20    -8       -5.8        2.2   \n",
       "9   BAL       Terrin Vavra    R   0.0      10    18        9.0       -9.0   \n",
       "10  BAL       Adam Frazier    L  -4.4      13    18        4.6      -13.4   \n",
       "11  BAL    Heston Kjerstad    L   1.7      19    15        9.2       -5.8   \n",
       "12  BAL       Connor Norby    R  -0.1      17    -8       -4.1        3.9   \n",
       "13  BAL  Anthony Santander    S  10.5      14     7       14.0        7.0   \n",
       "14  BAL       Ryan O'Hearn    L   1.2      22    18       10.2       -7.8   \n",
       "15  BAL         Joey Ortiz    R  -0.1      14    -9       -4.6        4.4   \n",
       "16  BAL   Jackson Holliday    L   3.3      21    20       13.3       -6.7   \n",
       "17  BAL   Gunnar Henderson    L  20.9      19    25       33.4        8.4   \n",
       "18  BAL        Ramón Urías    R  -2.0      13    -4       -4.0        0.0   \n",
       "19  BAL    Jordan Westburg    R   3.0      14    -7       -0.5        6.5   \n",
       "20  BAL          Coby Mayo    R   0.1      22    -7       -3.4        3.6   \n",
       "21  BAL   Ryan Mountcastle    R  10.0      22   -11        4.5       15.5   \n",
       "22  BAL    Adley Rutschman    S  22.2       9    10       27.2       17.2   \n",
       "23  BAL       James McCann    R  -3.6      13   -10       -8.6        1.4   \n",
       "\n",
       "       C   1B    2B    3B    SS    LF    CF    RF  \n",
       "0    NaN  NaN   NaN   NaN   NaN  15.0   8.0  13.0  \n",
       "1    NaN  NaN   NaN   NaN   NaN   6.0  -4.0   8.0  \n",
       "2    NaN  NaN   NaN   NaN   NaN   7.0   1.0   5.0  \n",
       "3    NaN  NaN   NaN   NaN   NaN   7.0   3.0   4.0  \n",
       "4    NaN  NaN   NaN   NaN   NaN   4.0  -3.0   3.0  \n",
       "5    NaN  NaN   NaN   NaN   NaN   4.0   1.0   2.0  \n",
       "6    NaN  NaN   NaN   NaN   NaN   0.0  -4.0   2.0  \n",
       "7    NaN  NaN   NaN   NaN   NaN   0.0 -10.0   2.0  \n",
       "8    NaN  NaN   9.0   4.0  13.0   2.0  -3.0   0.0  \n",
       "9    NaN  NaN  -5.0  -8.0   NaN   2.0  -9.0  -1.0  \n",
       "10   NaN  NaN  -9.0   NaN   NaN   0.0   NaN  -6.0  \n",
       "11   NaN -7.0   NaN   NaN   NaN -10.0   NaN  -8.0  \n",
       "12   NaN  NaN  -2.0  -9.0   NaN  -5.0   NaN  -9.0  \n",
       "13   NaN -4.0   NaN   NaN   NaN  -8.0   NaN -10.0  \n",
       "14   NaN -3.0   NaN   NaN   NaN  -6.0   NaN -11.0  \n",
       "15   NaN  7.0  15.0  13.0  11.0   NaN   NaN   NaN  \n",
       "16   NaN  NaN   7.0   4.0   5.0   NaN   NaN   NaN  \n",
       "17   NaN  5.0   0.0  10.0   5.0   NaN   NaN   NaN  \n",
       "18   NaN  5.0   4.0  12.0  -8.0   NaN   NaN   NaN  \n",
       "19   NaN  NaN  -2.0   3.0 -10.0   NaN   NaN   NaN  \n",
       "20   NaN  7.0   NaN   2.0   NaN   NaN   NaN   NaN  \n",
       "21   NaN -1.0   NaN   NaN   NaN   NaN   NaN   NaN  \n",
       "22  12.0 -6.0   NaN   NaN   NaN   NaN   NaN   NaN  \n",
       "23  -1.0 -6.0   NaN   NaN   NaN   NaN   NaN   NaN  "
      ]
     },
     "execution_count": 34,
     "metadata": {},
     "output_type": "execute_result"
    }
   ],
   "source": [
    "import pandas as pd\n",
    "import numpy as np\n",
    "from scipy.optimize import linear_sum_assignment\n",
    "\n",
    "# Load the Excel file\n",
    "file_path = '/Users/jacksonsiemens/Desktop/R/Basebol/data/orioles_lineups.xlsx'\n",
    "player_data = pd.read_excel(file_path)\n",
    "\n",
    "# Display the first few rows of the dataframe to understand its structure\n",
    "player_data"
   ]
  },
  {
   "cell_type": "code",
   "execution_count": 35,
   "metadata": {},
   "outputs": [
    {
     "name": "stderr",
     "output_type": "stream",
     "text": [
      "/var/folders/8n/g8bq8_011kv24tnfb649vgmw0000gn/T/ipykernel_1988/49421829.py:25: SettingWithCopyWarning:\n",
      "\n",
      "\n",
      "A value is trying to be set on a copy of a slice from a DataFrame.\n",
      "Try using .loc[row_indexer,col_indexer] = value instead\n",
      "\n",
      "See the caveats in the documentation: https://pandas.pydata.org/pandas-docs/stable/user_guide/indexing.html#returning-a-view-versus-a-copy\n",
      "\n",
      "/var/folders/8n/g8bq8_011kv24tnfb649vgmw0000gn/T/ipykernel_1988/49421829.py:25: SettingWithCopyWarning:\n",
      "\n",
      "\n",
      "A value is trying to be set on a copy of a slice from a DataFrame.\n",
      "Try using .loc[row_indexer,col_indexer] = value instead\n",
      "\n",
      "See the caveats in the documentation: https://pandas.pydata.org/pandas-docs/stable/user_guide/indexing.html#returning-a-view-versus-a-copy\n",
      "\n",
      "/var/folders/8n/g8bq8_011kv24tnfb649vgmw0000gn/T/ipykernel_1988/49421829.py:25: SettingWithCopyWarning:\n",
      "\n",
      "\n",
      "A value is trying to be set on a copy of a slice from a DataFrame.\n",
      "Try using .loc[row_indexer,col_indexer] = value instead\n",
      "\n",
      "See the caveats in the documentation: https://pandas.pydata.org/pandas-docs/stable/user_guide/indexing.html#returning-a-view-versus-a-copy\n",
      "\n",
      "/var/folders/8n/g8bq8_011kv24tnfb649vgmw0000gn/T/ipykernel_1988/49421829.py:25: SettingWithCopyWarning:\n",
      "\n",
      "\n",
      "A value is trying to be set on a copy of a slice from a DataFrame.\n",
      "Try using .loc[row_indexer,col_indexer] = value instead\n",
      "\n",
      "See the caveats in the documentation: https://pandas.pydata.org/pandas-docs/stable/user_guide/indexing.html#returning-a-view-versus-a-copy\n",
      "\n",
      "/var/folders/8n/g8bq8_011kv24tnfb649vgmw0000gn/T/ipykernel_1988/49421829.py:25: SettingWithCopyWarning:\n",
      "\n",
      "\n",
      "A value is trying to be set on a copy of a slice from a DataFrame.\n",
      "Try using .loc[row_indexer,col_indexer] = value instead\n",
      "\n",
      "See the caveats in the documentation: https://pandas.pydata.org/pandas-docs/stable/user_guide/indexing.html#returning-a-view-versus-a-copy\n",
      "\n",
      "/var/folders/8n/g8bq8_011kv24tnfb649vgmw0000gn/T/ipykernel_1988/49421829.py:25: SettingWithCopyWarning:\n",
      "\n",
      "\n",
      "A value is trying to be set on a copy of a slice from a DataFrame.\n",
      "Try using .loc[row_indexer,col_indexer] = value instead\n",
      "\n",
      "See the caveats in the documentation: https://pandas.pydata.org/pandas-docs/stable/user_guide/indexing.html#returning-a-view-versus-a-copy\n",
      "\n",
      "/var/folders/8n/g8bq8_011kv24tnfb649vgmw0000gn/T/ipykernel_1988/49421829.py:25: SettingWithCopyWarning:\n",
      "\n",
      "\n",
      "A value is trying to be set on a copy of a slice from a DataFrame.\n",
      "Try using .loc[row_indexer,col_indexer] = value instead\n",
      "\n",
      "See the caveats in the documentation: https://pandas.pydata.org/pandas-docs/stable/user_guide/indexing.html#returning-a-view-versus-a-copy\n",
      "\n",
      "/var/folders/8n/g8bq8_011kv24tnfb649vgmw0000gn/T/ipykernel_1988/49421829.py:25: SettingWithCopyWarning:\n",
      "\n",
      "\n",
      "A value is trying to be set on a copy of a slice from a DataFrame.\n",
      "Try using .loc[row_indexer,col_indexer] = value instead\n",
      "\n",
      "See the caveats in the documentation: https://pandas.pydata.org/pandas-docs/stable/user_guide/indexing.html#returning-a-view-versus-a-copy\n",
      "\n"
     ]
    }
   ],
   "source": [
    "import numpy as np\n",
    "from scipy.optimize import linear_sum_assignment\n",
    "\n",
    "def optimize_dual_lineups(player_data):\n",
    "    positions = ['C', '1B', '2B', '3B', 'SS', 'LF', 'CF', 'RF']\n",
    "    max_players = 12\n",
    "\n",
    "    # Function to create an optimized lineup\n",
    "    def create_optimized_lineup(against_pitcher_type):\n",
    "        bat_column = f'bat_vs{against_pitcher_type}'\n",
    "        sd_column = 'bat_sd'\n",
    "\n",
    "        total_performance_matrix = np.full((len(player_data), len(positions) + 1), -1000.0)  # Include DH\n",
    "\n",
    "        for i, position in enumerate(positions):\n",
    "            can_play = player_data[position] > -1000\n",
    "            total_performance_matrix[can_play, i] = player_data[bat_column][can_play] + player_data[position][can_play]\n",
    "\n",
    "        total_performance_matrix[:, -1] = player_data[bat_column]\n",
    "\n",
    "        row_ind, col_ind = linear_sum_assignment(-total_performance_matrix)\n",
    "        optimized_runs = total_performance_matrix[row_ind, col_ind].sum()\n",
    "        optimized_lineup = player_data.iloc[row_ind]\n",
    "        positions_with_dh = positions + ['DH']\n",
    "        optimized_lineup['Position'] = [positions_with_dh[i] for i in col_ind]\n",
    "        lineup_sd = np.sqrt((player_data.iloc[row_ind][sd_column] ** 2).sum())\n",
    "\n",
    "        return optimized_lineup, optimized_runs, lineup_sd, set(row_ind)\n",
    "\n",
    "    # Optimize lineup against RHP\n",
    "    rhp_lineup, rhp_runs, rhp_sd, rhp_players = create_optimized_lineup('RHP')\n",
    "\n",
    "    # Optimize lineup against LHP with consideration of player overlap\n",
    "    lhp_lineup, lhp_runs, lhp_sd, lhp_players = create_optimized_lineup('LHP')\n",
    "\n",
    "    # Ensure no more than max_players are used\n",
    "    combined_players = rhp_players.union(lhp_players)\n",
    "    while len(combined_players) > max_players:\n",
    "        # Adjust LHP lineup to reuse players from RHP lineup\n",
    "        # This logic can be further refined based on specific team/player strategies\n",
    "        # For now, it iteratively removes the least contributing player from LHP lineup\n",
    "        # that is not in the RHP lineup and recalculates the lineup\n",
    "        least_contributing_player = min(lhp_players - rhp_players, key=lambda x: player_data.iloc[x]['bat_vsLHP'])\n",
    "        player_data.at[least_contributing_player, 'bat_vsLHP'] = -1000  # Effectively removing the player for LHP consideration\n",
    "        lhp_lineup, lhp_runs, lhp_sd, lhp_players = create_optimized_lineup('LHP')\n",
    "        combined_players = rhp_players.union(lhp_players)\n",
    "\n",
    "    return rhp_lineup, rhp_runs, rhp_sd, lhp_lineup, lhp_runs, lhp_sd\n",
    "\n",
    "# Example usage:\n",
    "optimized_rhp_lineup, optimized_rhp_runs, optimized_rhp_sd, optimized_lhp_lineup, optimized_lhp_runs, optimized_lhp_sd = optimize_dual_lineups(player_data)\n"
   ]
  },
  {
   "cell_type": "code",
   "execution_count": 36,
   "metadata": {},
   "outputs": [
    {
     "data": {
      "text/html": [
       "<div>\n",
       "<style scoped>\n",
       "    .dataframe tbody tr th:only-of-type {\n",
       "        vertical-align: middle;\n",
       "    }\n",
       "\n",
       "    .dataframe tbody tr th {\n",
       "        vertical-align: top;\n",
       "    }\n",
       "\n",
       "    .dataframe thead th {\n",
       "        text-align: right;\n",
       "    }\n",
       "</style>\n",
       "<table border=\"1\" class=\"dataframe\">\n",
       "  <thead>\n",
       "    <tr style=\"text-align: right;\">\n",
       "      <th></th>\n",
       "      <th>id</th>\n",
       "      <th>Name</th>\n",
       "      <th>bats</th>\n",
       "      <th>bat</th>\n",
       "      <th>bat_sd</th>\n",
       "      <th>plat</th>\n",
       "      <th>bat_vsRHP</th>\n",
       "      <th>bat_vsLHP</th>\n",
       "      <th>C</th>\n",
       "      <th>1B</th>\n",
       "      <th>2B</th>\n",
       "      <th>3B</th>\n",
       "      <th>SS</th>\n",
       "      <th>LF</th>\n",
       "      <th>CF</th>\n",
       "      <th>RF</th>\n",
       "      <th>Position</th>\n",
       "    </tr>\n",
       "  </thead>\n",
       "  <tbody>\n",
       "    <tr>\n",
       "      <th>0</th>\n",
       "      <td>BAL</td>\n",
       "      <td>Cedric Mullins</td>\n",
       "      <td>L</td>\n",
       "      <td>3.7</td>\n",
       "      <td>19</td>\n",
       "      <td>18</td>\n",
       "      <td>12.7</td>\n",
       "      <td>-5.3</td>\n",
       "      <td>NaN</td>\n",
       "      <td>NaN</td>\n",
       "      <td>NaN</td>\n",
       "      <td>NaN</td>\n",
       "      <td>NaN</td>\n",
       "      <td>15.0</td>\n",
       "      <td>8.0</td>\n",
       "      <td>13.0</td>\n",
       "      <td>LF</td>\n",
       "    </tr>\n",
       "    <tr>\n",
       "      <th>2</th>\n",
       "      <td>BAL</td>\n",
       "      <td>Colton Cowser</td>\n",
       "      <td>L</td>\n",
       "      <td>0.3</td>\n",
       "      <td>11</td>\n",
       "      <td>18</td>\n",
       "      <td>9.3</td>\n",
       "      <td>-8.7</td>\n",
       "      <td>NaN</td>\n",
       "      <td>NaN</td>\n",
       "      <td>NaN</td>\n",
       "      <td>NaN</td>\n",
       "      <td>NaN</td>\n",
       "      <td>7.0</td>\n",
       "      <td>1.0</td>\n",
       "      <td>5.0</td>\n",
       "      <td>CF</td>\n",
       "    </tr>\n",
       "    <tr>\n",
       "      <th>6</th>\n",
       "      <td>BAL</td>\n",
       "      <td>Sam Hilliard</td>\n",
       "      <td>L</td>\n",
       "      <td>-1.0</td>\n",
       "      <td>9</td>\n",
       "      <td>18</td>\n",
       "      <td>8.0</td>\n",
       "      <td>-10.0</td>\n",
       "      <td>NaN</td>\n",
       "      <td>NaN</td>\n",
       "      <td>NaN</td>\n",
       "      <td>NaN</td>\n",
       "      <td>NaN</td>\n",
       "      <td>0.0</td>\n",
       "      <td>-4.0</td>\n",
       "      <td>2.0</td>\n",
       "      <td>RF</td>\n",
       "    </tr>\n",
       "    <tr>\n",
       "      <th>13</th>\n",
       "      <td>BAL</td>\n",
       "      <td>Anthony Santander</td>\n",
       "      <td>S</td>\n",
       "      <td>10.5</td>\n",
       "      <td>14</td>\n",
       "      <td>7</td>\n",
       "      <td>14.0</td>\n",
       "      <td>7.0</td>\n",
       "      <td>NaN</td>\n",
       "      <td>-4.0</td>\n",
       "      <td>NaN</td>\n",
       "      <td>NaN</td>\n",
       "      <td>NaN</td>\n",
       "      <td>-8.0</td>\n",
       "      <td>NaN</td>\n",
       "      <td>-10.0</td>\n",
       "      <td>DH</td>\n",
       "    </tr>\n",
       "    <tr>\n",
       "      <th>14</th>\n",
       "      <td>BAL</td>\n",
       "      <td>Ryan O'Hearn</td>\n",
       "      <td>L</td>\n",
       "      <td>1.2</td>\n",
       "      <td>22</td>\n",
       "      <td>18</td>\n",
       "      <td>10.2</td>\n",
       "      <td>-7.8</td>\n",
       "      <td>NaN</td>\n",
       "      <td>-3.0</td>\n",
       "      <td>NaN</td>\n",
       "      <td>NaN</td>\n",
       "      <td>NaN</td>\n",
       "      <td>-6.0</td>\n",
       "      <td>NaN</td>\n",
       "      <td>-11.0</td>\n",
       "      <td>1B</td>\n",
       "    </tr>\n",
       "    <tr>\n",
       "      <th>15</th>\n",
       "      <td>BAL</td>\n",
       "      <td>Joey Ortiz</td>\n",
       "      <td>R</td>\n",
       "      <td>-0.1</td>\n",
       "      <td>14</td>\n",
       "      <td>-9</td>\n",
       "      <td>-4.6</td>\n",
       "      <td>4.4</td>\n",
       "      <td>NaN</td>\n",
       "      <td>7.0</td>\n",
       "      <td>15.0</td>\n",
       "      <td>13.0</td>\n",
       "      <td>11.0</td>\n",
       "      <td>NaN</td>\n",
       "      <td>NaN</td>\n",
       "      <td>NaN</td>\n",
       "      <td>2B</td>\n",
       "    </tr>\n",
       "    <tr>\n",
       "      <th>16</th>\n",
       "      <td>BAL</td>\n",
       "      <td>Jackson Holliday</td>\n",
       "      <td>L</td>\n",
       "      <td>3.3</td>\n",
       "      <td>21</td>\n",
       "      <td>20</td>\n",
       "      <td>13.3</td>\n",
       "      <td>-6.7</td>\n",
       "      <td>NaN</td>\n",
       "      <td>NaN</td>\n",
       "      <td>7.0</td>\n",
       "      <td>4.0</td>\n",
       "      <td>5.0</td>\n",
       "      <td>NaN</td>\n",
       "      <td>NaN</td>\n",
       "      <td>NaN</td>\n",
       "      <td>SS</td>\n",
       "    </tr>\n",
       "    <tr>\n",
       "      <th>17</th>\n",
       "      <td>BAL</td>\n",
       "      <td>Gunnar Henderson</td>\n",
       "      <td>L</td>\n",
       "      <td>20.9</td>\n",
       "      <td>19</td>\n",
       "      <td>25</td>\n",
       "      <td>33.4</td>\n",
       "      <td>8.4</td>\n",
       "      <td>NaN</td>\n",
       "      <td>5.0</td>\n",
       "      <td>0.0</td>\n",
       "      <td>10.0</td>\n",
       "      <td>5.0</td>\n",
       "      <td>NaN</td>\n",
       "      <td>NaN</td>\n",
       "      <td>NaN</td>\n",
       "      <td>3B</td>\n",
       "    </tr>\n",
       "    <tr>\n",
       "      <th>22</th>\n",
       "      <td>BAL</td>\n",
       "      <td>Adley Rutschman</td>\n",
       "      <td>S</td>\n",
       "      <td>22.2</td>\n",
       "      <td>9</td>\n",
       "      <td>10</td>\n",
       "      <td>27.2</td>\n",
       "      <td>17.2</td>\n",
       "      <td>12.0</td>\n",
       "      <td>-6.0</td>\n",
       "      <td>NaN</td>\n",
       "      <td>NaN</td>\n",
       "      <td>NaN</td>\n",
       "      <td>NaN</td>\n",
       "      <td>NaN</td>\n",
       "      <td>NaN</td>\n",
       "      <td>C</td>\n",
       "    </tr>\n",
       "  </tbody>\n",
       "</table>\n",
       "</div>"
      ],
      "text/plain": [
       "     id               Name bats   bat  bat_sd  plat  bat_vsRHP  bat_vsLHP  \\\n",
       "0   BAL     Cedric Mullins    L   3.7      19    18       12.7       -5.3   \n",
       "2   BAL      Colton Cowser    L   0.3      11    18        9.3       -8.7   \n",
       "6   BAL       Sam Hilliard    L  -1.0       9    18        8.0      -10.0   \n",
       "13  BAL  Anthony Santander    S  10.5      14     7       14.0        7.0   \n",
       "14  BAL       Ryan O'Hearn    L   1.2      22    18       10.2       -7.8   \n",
       "15  BAL         Joey Ortiz    R  -0.1      14    -9       -4.6        4.4   \n",
       "16  BAL   Jackson Holliday    L   3.3      21    20       13.3       -6.7   \n",
       "17  BAL   Gunnar Henderson    L  20.9      19    25       33.4        8.4   \n",
       "22  BAL    Adley Rutschman    S  22.2       9    10       27.2       17.2   \n",
       "\n",
       "       C   1B    2B    3B    SS    LF   CF    RF Position  \n",
       "0    NaN  NaN   NaN   NaN   NaN  15.0  8.0  13.0       LF  \n",
       "2    NaN  NaN   NaN   NaN   NaN   7.0  1.0   5.0       CF  \n",
       "6    NaN  NaN   NaN   NaN   NaN   0.0 -4.0   2.0       RF  \n",
       "13   NaN -4.0   NaN   NaN   NaN  -8.0  NaN -10.0       DH  \n",
       "14   NaN -3.0   NaN   NaN   NaN  -6.0  NaN -11.0       1B  \n",
       "15   NaN  7.0  15.0  13.0  11.0   NaN  NaN   NaN       2B  \n",
       "16   NaN  NaN   7.0   4.0   5.0   NaN  NaN   NaN       SS  \n",
       "17   NaN  5.0   0.0  10.0   5.0   NaN  NaN   NaN       3B  \n",
       "22  12.0 -6.0   NaN   NaN   NaN   NaN  NaN   NaN        C  "
      ]
     },
     "execution_count": 36,
     "metadata": {},
     "output_type": "execute_result"
    }
   ],
   "source": [
    "optimized_rhp_lineup"
   ]
  },
  {
   "cell_type": "code",
   "execution_count": 37,
   "metadata": {},
   "outputs": [
    {
     "data": {
      "text/html": [
       "<div>\n",
       "<style scoped>\n",
       "    .dataframe tbody tr th:only-of-type {\n",
       "        vertical-align: middle;\n",
       "    }\n",
       "\n",
       "    .dataframe tbody tr th {\n",
       "        vertical-align: top;\n",
       "    }\n",
       "\n",
       "    .dataframe thead th {\n",
       "        text-align: right;\n",
       "    }\n",
       "</style>\n",
       "<table border=\"1\" class=\"dataframe\">\n",
       "  <thead>\n",
       "    <tr style=\"text-align: right;\">\n",
       "      <th></th>\n",
       "      <th>id</th>\n",
       "      <th>Name</th>\n",
       "      <th>bats</th>\n",
       "      <th>bat</th>\n",
       "      <th>bat_sd</th>\n",
       "      <th>plat</th>\n",
       "      <th>bat_vsRHP</th>\n",
       "      <th>bat_vsLHP</th>\n",
       "      <th>C</th>\n",
       "      <th>1B</th>\n",
       "      <th>2B</th>\n",
       "      <th>3B</th>\n",
       "      <th>SS</th>\n",
       "      <th>LF</th>\n",
       "      <th>CF</th>\n",
       "      <th>RF</th>\n",
       "      <th>Position</th>\n",
       "    </tr>\n",
       "  </thead>\n",
       "  <tbody>\n",
       "    <tr>\n",
       "      <th>0</th>\n",
       "      <td>BAL</td>\n",
       "      <td>Cedric Mullins</td>\n",
       "      <td>L</td>\n",
       "      <td>3.7</td>\n",
       "      <td>19</td>\n",
       "      <td>18</td>\n",
       "      <td>12.7</td>\n",
       "      <td>-5.3</td>\n",
       "      <td>NaN</td>\n",
       "      <td>NaN</td>\n",
       "      <td>NaN</td>\n",
       "      <td>NaN</td>\n",
       "      <td>NaN</td>\n",
       "      <td>15.0</td>\n",
       "      <td>8.0</td>\n",
       "      <td>13.0</td>\n",
       "      <td>LF</td>\n",
       "    </tr>\n",
       "    <tr>\n",
       "      <th>1</th>\n",
       "      <td>BAL</td>\n",
       "      <td>Austin Hays</td>\n",
       "      <td>R</td>\n",
       "      <td>1.3</td>\n",
       "      <td>9</td>\n",
       "      <td>-8</td>\n",
       "      <td>-2.7</td>\n",
       "      <td>5.3</td>\n",
       "      <td>NaN</td>\n",
       "      <td>NaN</td>\n",
       "      <td>NaN</td>\n",
       "      <td>NaN</td>\n",
       "      <td>NaN</td>\n",
       "      <td>6.0</td>\n",
       "      <td>-4.0</td>\n",
       "      <td>8.0</td>\n",
       "      <td>RF</td>\n",
       "    </tr>\n",
       "    <tr>\n",
       "      <th>2</th>\n",
       "      <td>BAL</td>\n",
       "      <td>Colton Cowser</td>\n",
       "      <td>L</td>\n",
       "      <td>0.3</td>\n",
       "      <td>11</td>\n",
       "      <td>18</td>\n",
       "      <td>9.3</td>\n",
       "      <td>-8.7</td>\n",
       "      <td>NaN</td>\n",
       "      <td>NaN</td>\n",
       "      <td>NaN</td>\n",
       "      <td>NaN</td>\n",
       "      <td>NaN</td>\n",
       "      <td>7.0</td>\n",
       "      <td>1.0</td>\n",
       "      <td>5.0</td>\n",
       "      <td>CF</td>\n",
       "    </tr>\n",
       "    <tr>\n",
       "      <th>13</th>\n",
       "      <td>BAL</td>\n",
       "      <td>Anthony Santander</td>\n",
       "      <td>S</td>\n",
       "      <td>10.5</td>\n",
       "      <td>14</td>\n",
       "      <td>7</td>\n",
       "      <td>14.0</td>\n",
       "      <td>7.0</td>\n",
       "      <td>NaN</td>\n",
       "      <td>-4.0</td>\n",
       "      <td>NaN</td>\n",
       "      <td>NaN</td>\n",
       "      <td>NaN</td>\n",
       "      <td>-8.0</td>\n",
       "      <td>NaN</td>\n",
       "      <td>-10.0</td>\n",
       "      <td>DH</td>\n",
       "    </tr>\n",
       "    <tr>\n",
       "      <th>15</th>\n",
       "      <td>BAL</td>\n",
       "      <td>Joey Ortiz</td>\n",
       "      <td>R</td>\n",
       "      <td>-0.1</td>\n",
       "      <td>14</td>\n",
       "      <td>-9</td>\n",
       "      <td>-4.6</td>\n",
       "      <td>4.4</td>\n",
       "      <td>NaN</td>\n",
       "      <td>7.0</td>\n",
       "      <td>15.0</td>\n",
       "      <td>13.0</td>\n",
       "      <td>11.0</td>\n",
       "      <td>NaN</td>\n",
       "      <td>NaN</td>\n",
       "      <td>NaN</td>\n",
       "      <td>2B</td>\n",
       "    </tr>\n",
       "    <tr>\n",
       "      <th>17</th>\n",
       "      <td>BAL</td>\n",
       "      <td>Gunnar Henderson</td>\n",
       "      <td>L</td>\n",
       "      <td>20.9</td>\n",
       "      <td>19</td>\n",
       "      <td>25</td>\n",
       "      <td>33.4</td>\n",
       "      <td>8.4</td>\n",
       "      <td>NaN</td>\n",
       "      <td>5.0</td>\n",
       "      <td>0.0</td>\n",
       "      <td>10.0</td>\n",
       "      <td>5.0</td>\n",
       "      <td>NaN</td>\n",
       "      <td>NaN</td>\n",
       "      <td>NaN</td>\n",
       "      <td>SS</td>\n",
       "    </tr>\n",
       "    <tr>\n",
       "      <th>19</th>\n",
       "      <td>BAL</td>\n",
       "      <td>Jordan Westburg</td>\n",
       "      <td>R</td>\n",
       "      <td>3.0</td>\n",
       "      <td>14</td>\n",
       "      <td>-7</td>\n",
       "      <td>-0.5</td>\n",
       "      <td>6.5</td>\n",
       "      <td>NaN</td>\n",
       "      <td>NaN</td>\n",
       "      <td>-2.0</td>\n",
       "      <td>3.0</td>\n",
       "      <td>-10.0</td>\n",
       "      <td>NaN</td>\n",
       "      <td>NaN</td>\n",
       "      <td>NaN</td>\n",
       "      <td>3B</td>\n",
       "    </tr>\n",
       "    <tr>\n",
       "      <th>21</th>\n",
       "      <td>BAL</td>\n",
       "      <td>Ryan Mountcastle</td>\n",
       "      <td>R</td>\n",
       "      <td>10.0</td>\n",
       "      <td>22</td>\n",
       "      <td>-11</td>\n",
       "      <td>4.5</td>\n",
       "      <td>15.5</td>\n",
       "      <td>NaN</td>\n",
       "      <td>-1.0</td>\n",
       "      <td>NaN</td>\n",
       "      <td>NaN</td>\n",
       "      <td>NaN</td>\n",
       "      <td>NaN</td>\n",
       "      <td>NaN</td>\n",
       "      <td>NaN</td>\n",
       "      <td>1B</td>\n",
       "    </tr>\n",
       "    <tr>\n",
       "      <th>22</th>\n",
       "      <td>BAL</td>\n",
       "      <td>Adley Rutschman</td>\n",
       "      <td>S</td>\n",
       "      <td>22.2</td>\n",
       "      <td>9</td>\n",
       "      <td>10</td>\n",
       "      <td>27.2</td>\n",
       "      <td>17.2</td>\n",
       "      <td>12.0</td>\n",
       "      <td>-6.0</td>\n",
       "      <td>NaN</td>\n",
       "      <td>NaN</td>\n",
       "      <td>NaN</td>\n",
       "      <td>NaN</td>\n",
       "      <td>NaN</td>\n",
       "      <td>NaN</td>\n",
       "      <td>C</td>\n",
       "    </tr>\n",
       "  </tbody>\n",
       "</table>\n",
       "</div>"
      ],
      "text/plain": [
       "     id               Name bats   bat  bat_sd  plat  bat_vsRHP  bat_vsLHP  \\\n",
       "0   BAL     Cedric Mullins    L   3.7      19    18       12.7       -5.3   \n",
       "1   BAL        Austin Hays    R   1.3       9    -8       -2.7        5.3   \n",
       "2   BAL      Colton Cowser    L   0.3      11    18        9.3       -8.7   \n",
       "13  BAL  Anthony Santander    S  10.5      14     7       14.0        7.0   \n",
       "15  BAL         Joey Ortiz    R  -0.1      14    -9       -4.6        4.4   \n",
       "17  BAL   Gunnar Henderson    L  20.9      19    25       33.4        8.4   \n",
       "19  BAL    Jordan Westburg    R   3.0      14    -7       -0.5        6.5   \n",
       "21  BAL   Ryan Mountcastle    R  10.0      22   -11        4.5       15.5   \n",
       "22  BAL    Adley Rutschman    S  22.2       9    10       27.2       17.2   \n",
       "\n",
       "       C   1B    2B    3B    SS    LF   CF    RF Position  \n",
       "0    NaN  NaN   NaN   NaN   NaN  15.0  8.0  13.0       LF  \n",
       "1    NaN  NaN   NaN   NaN   NaN   6.0 -4.0   8.0       RF  \n",
       "2    NaN  NaN   NaN   NaN   NaN   7.0  1.0   5.0       CF  \n",
       "13   NaN -4.0   NaN   NaN   NaN  -8.0  NaN -10.0       DH  \n",
       "15   NaN  7.0  15.0  13.0  11.0   NaN  NaN   NaN       2B  \n",
       "17   NaN  5.0   0.0  10.0   5.0   NaN  NaN   NaN       SS  \n",
       "19   NaN  NaN  -2.0   3.0 -10.0   NaN  NaN   NaN       3B  \n",
       "21   NaN -1.0   NaN   NaN   NaN   NaN  NaN   NaN       1B  \n",
       "22  12.0 -6.0   NaN   NaN   NaN   NaN  NaN   NaN        C  "
      ]
     },
     "execution_count": 37,
     "metadata": {},
     "output_type": "execute_result"
    }
   ],
   "source": [
    "optimized_lhp_lineup"
   ]
  },
  {
   "cell_type": "code",
   "execution_count": 28,
   "metadata": {},
   "outputs": [],
   "source": [
    "def calculate_lineup_statistics(optimized_lineup, player_data, pitcher_hand, n_simulations=3000):\n",
    "    bat_column = f'bat_vs{pitcher_hand}'\n",
    "    positions_ordered = ['C', '1B', '2B', '3B', 'SS', 'LF', 'CF', 'RF', 'DH']\n",
    "    total_lineup_raa_simulations = []\n",
    "\n",
    "    for _ in range(n_simulations):\n",
    "        total_raa_simulation = 0\n",
    "        for position in positions_ordered:\n",
    "            player = optimized_lineup[optimized_lineup['Position'] == position].iloc[0]\n",
    "            mean_performance = player[bat_column]\n",
    "            sd_performance = player_data.loc[player.name, 'bat_sd']\n",
    "\n",
    "            # Simulate individual batting performance\n",
    "            simulated_batting_performance = np.random.normal(mean_performance, sd_performance)\n",
    "\n",
    "            # Add defensive value (if not DH)\n",
    "            total_performance = simulated_batting_performance + player[position] if position != 'DH' else simulated_batting_performance\n",
    "\n",
    "            total_raa_simulation += total_performance\n",
    "\n",
    "        total_lineup_raa_simulations.append(total_raa_simulation)\n",
    "\n",
    "    # Calculate SD and percentiles from the simulations\n",
    "    lineup_sd = np.std(total_lineup_raa_simulations)\n",
    "    percentile_25 = np.percentile(total_lineup_raa_simulations, 25)\n",
    "    percentile_75 = np.percentile(total_lineup_raa_simulations, 75)\n",
    "    mean_total_lineup_raa = np.mean(total_lineup_raa_simulations)\n",
    "\n",
    "    return  mean_total_lineup_raa, lineup_sd, percentile_25, percentile_75\n"
   ]
  },
  {
   "cell_type": "code",
   "execution_count": 27,
   "metadata": {},
   "outputs": [],
   "source": [
    "import pandas as pd\n",
    "import numpy as np\n",
    "from scipy.optimize import linear_sum_assignment\n",
    "import plotly.graph_objects as go\n",
    "\n",
    "\n",
    "def create_and_display_lineup_visual(optimized_lineup, player_data, pitcher_hand):\n",
    "    # Column to use based on pitcher hand\n",
    "    bat_column = f'bat_vs{pitcher_hand}'\n",
    "    # Create the full lineup summary table and obtain lineup statistics\n",
    "    summary_table, lineup_sd, total_lineup_raa, percentile_25, percentile_75 = create_full_lineup_summary_table(optimized_lineup, player_data, pitcher_hand)\n",
    "\n",
    "    # Define the color scheme based on team colors or preference\n",
    "    color_scheme = {\n",
    "        'header': 'white',\n",
    "        'cell': ['white', '#FFA500'],  # alternating colors for rows, orange color for the Orioles\n",
    "        'text': 'black',\n",
    "        'title_text': 'black',\n",
    "        'background': 'white'\n",
    "    }\n",
    "\n",
    "    # Create the styled Plotly table with updated title\n",
    "    title = f\"Lineup vs. {pitcher_hand} - Mean RAA: {total_lineup_raa:.2f}<br>\" \\\n",
    "            f\"SD: {lineup_sd:.2f}, 25th Percentile: {percentile_25:.2f}, 75th Percentile: {percentile_75:.2f}\"\n",
    "    styled_table = create_styled_plotly_table(summary_table, title, color_scheme)\n",
    "\n",
    "    # Display the styled table\n",
    "    styled_table.show()\n",
    "\n",
    "\n",
    "\n",
    "def create_full_lineup_summary_table(optimized_lineup, player_data, pitcher_hand):\n",
    "    bat_column = f'bat_vs{pitcher_hand}'\n",
    "    positions_ordered = ['C', '1B', '2B', '3B', 'SS', 'LF', 'CF', 'RF', 'DH']\n",
    "    summary_data = []\n",
    "\n",
    "    # Calculate statistics for the lineup\n",
    "    total_lineup_raa,lineup_sd, percentile_25, percentile_75 = calculate_lineup_statistics(optimized_lineup, player_data, pitcher_hand, n_simulations= 1000)\n",
    "\n",
    "    for position in positions_ordered:\n",
    "        player = optimized_lineup[optimized_lineup['Position'] == position].iloc[0]\n",
    "        offensive_raa = player[bat_column]\n",
    "        defensive_raa = player[position] if position != 'DH' else 0\n",
    "        total_raa = offensive_raa + defensive_raa\n",
    "        summary_data.append([position, player['Name'], offensive_raa, defensive_raa, total_raa])\n",
    "\n",
    "\n",
    "    # Create DataFrame with the necessary columns\n",
    "    summary_df = pd.DataFrame(summary_data, columns=['Position', 'Player', 'Offensive RAA', 'Defensive RAA', 'Total RAA'])\n",
    "\n",
    "    return summary_df, lineup_sd, total_lineup_raa, percentile_25, percentile_75\n",
    "\n",
    "def create_styled_plotly_table(summary_table, title, color_scheme):\n",
    "    # Drop any existing total row to avoid duplication\n",
    "    summary_table = summary_table[summary_table['Position'] != 'Total'].copy()\n",
    "    # Calculate the total RAA for the lineup and round to two decimal places\n",
    "    total_raa = round(summary_table['Total RAA'].sum(), 2)\n",
    "    # Add a total row at the end of the dataframe\n",
    "    summary_table.loc['Total'] = ['Total', '', '', '', total_raa]\n",
    "\n",
    "    # Round all numeric values to two decimal places\n",
    "    for col in ['Offensive RAA', 'Defensive RAA', 'Total RAA']:\n",
    "        summary_table[col] = summary_table[col].apply(lambda x: round(x, 2) if isinstance(x, (int, float)) else x)\n",
    "\n",
    "    # Create the table figure\n",
    "    table_fig = go.Figure(data=[go.Table(\n",
    "        header=dict(values=list(summary_table.columns),\n",
    "                    fill_color=color_scheme['header'],\n",
    "                    align='center',\n",
    "                    font=dict(family=\"Helvetica\", size=14, color=color_scheme['text'])),\n",
    "        cells=dict(values=[summary_table[k].tolist() for k in summary_table.columns],\n",
    "                   fill_color=color_scheme['cell'],\n",
    "                   align='center',\n",
    "                   font=dict(family=\"Helvetica\", size=13, color=color_scheme['text']),\n",
    "                   height=30)\n",
    "    )])\n",
    "\n",
    "    # Update the layout of the figure to set the title and adjust the view\n",
    "    table_fig.update_layout(\n",
    "        title_text=title,\n",
    "        title_font=dict(family=\"Helvetica\", size=20, color=color_scheme['title_text']),\n",
    "        title_x=0.5,\n",
    "        title_y=0.95,\n",
    "        title_xanchor='center',\n",
    "        title_yanchor='top',\n",
    "        paper_bgcolor=color_scheme['background'],\n",
    "        margin=dict(l=5, r=5, t=50, b=5),\n",
    "        width=800,  # Adjust width to reduce column width\n",
    "        height=100 + 30 * len(summary_table)  # Adjust height based on the number of rows\n",
    "    )\n",
    "\n",
    "    return table_fig\n",
    "\n"
   ]
  },
  {
   "cell_type": "code",
   "execution_count": 39,
   "metadata": {},
   "outputs": [
    {
     "data": {
      "application/vnd.plotly.v1+json": {
       "config": {
        "plotlyServerURL": "https://plot.ly"
       },
       "data": [
        {
         "cells": {
          "align": "center",
          "fill": {
           "color": [
            "white",
            "#FFA500"
           ]
          },
          "font": {
           "color": "black",
           "family": "Helvetica",
           "size": 13
          },
          "height": 30,
          "values": [
           [
            "C",
            "1B",
            "2B",
            "3B",
            "SS",
            "LF",
            "CF",
            "RF",
            "DH",
            "Total"
           ],
           [
            "Adley Rutschman",
            "Ryan O'Hearn",
            "Joey Ortiz",
            "Gunnar Henderson",
            "Jackson Holliday",
            "Cedric Mullins",
            "Colton Cowser",
            "Sam Hilliard",
            "Anthony Santander",
            ""
           ],
           [
            27.2,
            10.2,
            -4.6,
            33.4,
            13.3,
            12.7,
            9.3,
            8,
            14,
            ""
           ],
           [
            12,
            -3,
            15,
            10,
            5,
            15,
            1,
            2,
            0,
            ""
           ],
           [
            39.2,
            7.2,
            10.4,
            43.4,
            18.3,
            27.7,
            10.3,
            10,
            14,
            180.5
           ]
          ]
         },
         "header": {
          "align": "center",
          "fill": {
           "color": "white"
          },
          "font": {
           "color": "black",
           "family": "Helvetica",
           "size": 14
          },
          "values": [
           "Position",
           "Player",
           "Offensive RAA",
           "Defensive RAA",
           "Total RAA"
          ]
         },
         "type": "table"
        }
       ],
       "layout": {
        "height": 400,
        "margin": {
         "b": 5,
         "l": 5,
         "r": 5,
         "t": 50
        },
        "paper_bgcolor": "white",
        "template": {
         "data": {
          "bar": [
           {
            "error_x": {
             "color": "#2a3f5f"
            },
            "error_y": {
             "color": "#2a3f5f"
            },
            "marker": {
             "line": {
              "color": "#E5ECF6",
              "width": 0.5
             },
             "pattern": {
              "fillmode": "overlay",
              "size": 10,
              "solidity": 0.2
             }
            },
            "type": "bar"
           }
          ],
          "barpolar": [
           {
            "marker": {
             "line": {
              "color": "#E5ECF6",
              "width": 0.5
             },
             "pattern": {
              "fillmode": "overlay",
              "size": 10,
              "solidity": 0.2
             }
            },
            "type": "barpolar"
           }
          ],
          "carpet": [
           {
            "aaxis": {
             "endlinecolor": "#2a3f5f",
             "gridcolor": "white",
             "linecolor": "white",
             "minorgridcolor": "white",
             "startlinecolor": "#2a3f5f"
            },
            "baxis": {
             "endlinecolor": "#2a3f5f",
             "gridcolor": "white",
             "linecolor": "white",
             "minorgridcolor": "white",
             "startlinecolor": "#2a3f5f"
            },
            "type": "carpet"
           }
          ],
          "choropleth": [
           {
            "colorbar": {
             "outlinewidth": 0,
             "ticks": ""
            },
            "type": "choropleth"
           }
          ],
          "contour": [
           {
            "colorbar": {
             "outlinewidth": 0,
             "ticks": ""
            },
            "colorscale": [
             [
              0,
              "#0d0887"
             ],
             [
              0.1111111111111111,
              "#46039f"
             ],
             [
              0.2222222222222222,
              "#7201a8"
             ],
             [
              0.3333333333333333,
              "#9c179e"
             ],
             [
              0.4444444444444444,
              "#bd3786"
             ],
             [
              0.5555555555555556,
              "#d8576b"
             ],
             [
              0.6666666666666666,
              "#ed7953"
             ],
             [
              0.7777777777777778,
              "#fb9f3a"
             ],
             [
              0.8888888888888888,
              "#fdca26"
             ],
             [
              1,
              "#f0f921"
             ]
            ],
            "type": "contour"
           }
          ],
          "contourcarpet": [
           {
            "colorbar": {
             "outlinewidth": 0,
             "ticks": ""
            },
            "type": "contourcarpet"
           }
          ],
          "heatmap": [
           {
            "colorbar": {
             "outlinewidth": 0,
             "ticks": ""
            },
            "colorscale": [
             [
              0,
              "#0d0887"
             ],
             [
              0.1111111111111111,
              "#46039f"
             ],
             [
              0.2222222222222222,
              "#7201a8"
             ],
             [
              0.3333333333333333,
              "#9c179e"
             ],
             [
              0.4444444444444444,
              "#bd3786"
             ],
             [
              0.5555555555555556,
              "#d8576b"
             ],
             [
              0.6666666666666666,
              "#ed7953"
             ],
             [
              0.7777777777777778,
              "#fb9f3a"
             ],
             [
              0.8888888888888888,
              "#fdca26"
             ],
             [
              1,
              "#f0f921"
             ]
            ],
            "type": "heatmap"
           }
          ],
          "heatmapgl": [
           {
            "colorbar": {
             "outlinewidth": 0,
             "ticks": ""
            },
            "colorscale": [
             [
              0,
              "#0d0887"
             ],
             [
              0.1111111111111111,
              "#46039f"
             ],
             [
              0.2222222222222222,
              "#7201a8"
             ],
             [
              0.3333333333333333,
              "#9c179e"
             ],
             [
              0.4444444444444444,
              "#bd3786"
             ],
             [
              0.5555555555555556,
              "#d8576b"
             ],
             [
              0.6666666666666666,
              "#ed7953"
             ],
             [
              0.7777777777777778,
              "#fb9f3a"
             ],
             [
              0.8888888888888888,
              "#fdca26"
             ],
             [
              1,
              "#f0f921"
             ]
            ],
            "type": "heatmapgl"
           }
          ],
          "histogram": [
           {
            "marker": {
             "pattern": {
              "fillmode": "overlay",
              "size": 10,
              "solidity": 0.2
             }
            },
            "type": "histogram"
           }
          ],
          "histogram2d": [
           {
            "colorbar": {
             "outlinewidth": 0,
             "ticks": ""
            },
            "colorscale": [
             [
              0,
              "#0d0887"
             ],
             [
              0.1111111111111111,
              "#46039f"
             ],
             [
              0.2222222222222222,
              "#7201a8"
             ],
             [
              0.3333333333333333,
              "#9c179e"
             ],
             [
              0.4444444444444444,
              "#bd3786"
             ],
             [
              0.5555555555555556,
              "#d8576b"
             ],
             [
              0.6666666666666666,
              "#ed7953"
             ],
             [
              0.7777777777777778,
              "#fb9f3a"
             ],
             [
              0.8888888888888888,
              "#fdca26"
             ],
             [
              1,
              "#f0f921"
             ]
            ],
            "type": "histogram2d"
           }
          ],
          "histogram2dcontour": [
           {
            "colorbar": {
             "outlinewidth": 0,
             "ticks": ""
            },
            "colorscale": [
             [
              0,
              "#0d0887"
             ],
             [
              0.1111111111111111,
              "#46039f"
             ],
             [
              0.2222222222222222,
              "#7201a8"
             ],
             [
              0.3333333333333333,
              "#9c179e"
             ],
             [
              0.4444444444444444,
              "#bd3786"
             ],
             [
              0.5555555555555556,
              "#d8576b"
             ],
             [
              0.6666666666666666,
              "#ed7953"
             ],
             [
              0.7777777777777778,
              "#fb9f3a"
             ],
             [
              0.8888888888888888,
              "#fdca26"
             ],
             [
              1,
              "#f0f921"
             ]
            ],
            "type": "histogram2dcontour"
           }
          ],
          "mesh3d": [
           {
            "colorbar": {
             "outlinewidth": 0,
             "ticks": ""
            },
            "type": "mesh3d"
           }
          ],
          "parcoords": [
           {
            "line": {
             "colorbar": {
              "outlinewidth": 0,
              "ticks": ""
             }
            },
            "type": "parcoords"
           }
          ],
          "pie": [
           {
            "automargin": true,
            "type": "pie"
           }
          ],
          "scatter": [
           {
            "fillpattern": {
             "fillmode": "overlay",
             "size": 10,
             "solidity": 0.2
            },
            "type": "scatter"
           }
          ],
          "scatter3d": [
           {
            "line": {
             "colorbar": {
              "outlinewidth": 0,
              "ticks": ""
             }
            },
            "marker": {
             "colorbar": {
              "outlinewidth": 0,
              "ticks": ""
             }
            },
            "type": "scatter3d"
           }
          ],
          "scattercarpet": [
           {
            "marker": {
             "colorbar": {
              "outlinewidth": 0,
              "ticks": ""
             }
            },
            "type": "scattercarpet"
           }
          ],
          "scattergeo": [
           {
            "marker": {
             "colorbar": {
              "outlinewidth": 0,
              "ticks": ""
             }
            },
            "type": "scattergeo"
           }
          ],
          "scattergl": [
           {
            "marker": {
             "colorbar": {
              "outlinewidth": 0,
              "ticks": ""
             }
            },
            "type": "scattergl"
           }
          ],
          "scattermapbox": [
           {
            "marker": {
             "colorbar": {
              "outlinewidth": 0,
              "ticks": ""
             }
            },
            "type": "scattermapbox"
           }
          ],
          "scatterpolar": [
           {
            "marker": {
             "colorbar": {
              "outlinewidth": 0,
              "ticks": ""
             }
            },
            "type": "scatterpolar"
           }
          ],
          "scatterpolargl": [
           {
            "marker": {
             "colorbar": {
              "outlinewidth": 0,
              "ticks": ""
             }
            },
            "type": "scatterpolargl"
           }
          ],
          "scatterternary": [
           {
            "marker": {
             "colorbar": {
              "outlinewidth": 0,
              "ticks": ""
             }
            },
            "type": "scatterternary"
           }
          ],
          "surface": [
           {
            "colorbar": {
             "outlinewidth": 0,
             "ticks": ""
            },
            "colorscale": [
             [
              0,
              "#0d0887"
             ],
             [
              0.1111111111111111,
              "#46039f"
             ],
             [
              0.2222222222222222,
              "#7201a8"
             ],
             [
              0.3333333333333333,
              "#9c179e"
             ],
             [
              0.4444444444444444,
              "#bd3786"
             ],
             [
              0.5555555555555556,
              "#d8576b"
             ],
             [
              0.6666666666666666,
              "#ed7953"
             ],
             [
              0.7777777777777778,
              "#fb9f3a"
             ],
             [
              0.8888888888888888,
              "#fdca26"
             ],
             [
              1,
              "#f0f921"
             ]
            ],
            "type": "surface"
           }
          ],
          "table": [
           {
            "cells": {
             "fill": {
              "color": "#EBF0F8"
             },
             "line": {
              "color": "white"
             }
            },
            "header": {
             "fill": {
              "color": "#C8D4E3"
             },
             "line": {
              "color": "white"
             }
            },
            "type": "table"
           }
          ]
         },
         "layout": {
          "annotationdefaults": {
           "arrowcolor": "#2a3f5f",
           "arrowhead": 0,
           "arrowwidth": 1
          },
          "autotypenumbers": "strict",
          "coloraxis": {
           "colorbar": {
            "outlinewidth": 0,
            "ticks": ""
           }
          },
          "colorscale": {
           "diverging": [
            [
             0,
             "#8e0152"
            ],
            [
             0.1,
             "#c51b7d"
            ],
            [
             0.2,
             "#de77ae"
            ],
            [
             0.3,
             "#f1b6da"
            ],
            [
             0.4,
             "#fde0ef"
            ],
            [
             0.5,
             "#f7f7f7"
            ],
            [
             0.6,
             "#e6f5d0"
            ],
            [
             0.7,
             "#b8e186"
            ],
            [
             0.8,
             "#7fbc41"
            ],
            [
             0.9,
             "#4d9221"
            ],
            [
             1,
             "#276419"
            ]
           ],
           "sequential": [
            [
             0,
             "#0d0887"
            ],
            [
             0.1111111111111111,
             "#46039f"
            ],
            [
             0.2222222222222222,
             "#7201a8"
            ],
            [
             0.3333333333333333,
             "#9c179e"
            ],
            [
             0.4444444444444444,
             "#bd3786"
            ],
            [
             0.5555555555555556,
             "#d8576b"
            ],
            [
             0.6666666666666666,
             "#ed7953"
            ],
            [
             0.7777777777777778,
             "#fb9f3a"
            ],
            [
             0.8888888888888888,
             "#fdca26"
            ],
            [
             1,
             "#f0f921"
            ]
           ],
           "sequentialminus": [
            [
             0,
             "#0d0887"
            ],
            [
             0.1111111111111111,
             "#46039f"
            ],
            [
             0.2222222222222222,
             "#7201a8"
            ],
            [
             0.3333333333333333,
             "#9c179e"
            ],
            [
             0.4444444444444444,
             "#bd3786"
            ],
            [
             0.5555555555555556,
             "#d8576b"
            ],
            [
             0.6666666666666666,
             "#ed7953"
            ],
            [
             0.7777777777777778,
             "#fb9f3a"
            ],
            [
             0.8888888888888888,
             "#fdca26"
            ],
            [
             1,
             "#f0f921"
            ]
           ]
          },
          "colorway": [
           "#636efa",
           "#EF553B",
           "#00cc96",
           "#ab63fa",
           "#FFA15A",
           "#19d3f3",
           "#FF6692",
           "#B6E880",
           "#FF97FF",
           "#FECB52"
          ],
          "font": {
           "color": "#2a3f5f"
          },
          "geo": {
           "bgcolor": "white",
           "lakecolor": "white",
           "landcolor": "#E5ECF6",
           "showlakes": true,
           "showland": true,
           "subunitcolor": "white"
          },
          "hoverlabel": {
           "align": "left"
          },
          "hovermode": "closest",
          "mapbox": {
           "style": "light"
          },
          "paper_bgcolor": "white",
          "plot_bgcolor": "#E5ECF6",
          "polar": {
           "angularaxis": {
            "gridcolor": "white",
            "linecolor": "white",
            "ticks": ""
           },
           "bgcolor": "#E5ECF6",
           "radialaxis": {
            "gridcolor": "white",
            "linecolor": "white",
            "ticks": ""
           }
          },
          "scene": {
           "xaxis": {
            "backgroundcolor": "#E5ECF6",
            "gridcolor": "white",
            "gridwidth": 2,
            "linecolor": "white",
            "showbackground": true,
            "ticks": "",
            "zerolinecolor": "white"
           },
           "yaxis": {
            "backgroundcolor": "#E5ECF6",
            "gridcolor": "white",
            "gridwidth": 2,
            "linecolor": "white",
            "showbackground": true,
            "ticks": "",
            "zerolinecolor": "white"
           },
           "zaxis": {
            "backgroundcolor": "#E5ECF6",
            "gridcolor": "white",
            "gridwidth": 2,
            "linecolor": "white",
            "showbackground": true,
            "ticks": "",
            "zerolinecolor": "white"
           }
          },
          "shapedefaults": {
           "line": {
            "color": "#2a3f5f"
           }
          },
          "ternary": {
           "aaxis": {
            "gridcolor": "white",
            "linecolor": "white",
            "ticks": ""
           },
           "baxis": {
            "gridcolor": "white",
            "linecolor": "white",
            "ticks": ""
           },
           "bgcolor": "#E5ECF6",
           "caxis": {
            "gridcolor": "white",
            "linecolor": "white",
            "ticks": ""
           }
          },
          "title": {
           "x": 0.05
          },
          "xaxis": {
           "automargin": true,
           "gridcolor": "white",
           "linecolor": "white",
           "ticks": "",
           "title": {
            "standoff": 15
           },
           "zerolinecolor": "white",
           "zerolinewidth": 2
          },
          "yaxis": {
           "automargin": true,
           "gridcolor": "white",
           "linecolor": "white",
           "ticks": "",
           "title": {
            "standoff": 15
           },
           "zerolinecolor": "white",
           "zerolinewidth": 2
          }
         }
        },
        "title": {
         "font": {
          "color": "black",
          "family": "Helvetica",
          "size": 20
         },
         "text": "Lineup vs. RHP - Mean RAA: 182.93<br>SD: 46.08, 25th Percentile: 151.85, 75th Percentile: 213.44",
         "x": 0.5,
         "xanchor": "center",
         "y": 0.95,
         "yanchor": "top"
        },
        "width": 800
       }
      }
     },
     "metadata": {},
     "output_type": "display_data"
    },
    {
     "data": {
      "application/vnd.plotly.v1+json": {
       "config": {
        "plotlyServerURL": "https://plot.ly"
       },
       "data": [
        {
         "cells": {
          "align": "center",
          "fill": {
           "color": [
            "white",
            "#FFA500"
           ]
          },
          "font": {
           "color": "black",
           "family": "Helvetica",
           "size": 13
          },
          "height": 30,
          "values": [
           [
            "C",
            "1B",
            "2B",
            "3B",
            "SS",
            "LF",
            "CF",
            "RF",
            "DH",
            "Total"
           ],
           [
            "Adley Rutschman",
            "Ryan Mountcastle",
            "Joey Ortiz",
            "Jordan Westburg",
            "Gunnar Henderson",
            "Cedric Mullins",
            "Colton Cowser",
            "Austin Hays",
            "Anthony Santander",
            ""
           ],
           [
            17.2,
            15.5,
            4.4,
            6.5,
            8.4,
            -5.3,
            -8.7,
            5.3,
            7,
            ""
           ],
           [
            12,
            -1,
            15,
            3,
            5,
            15,
            1,
            8,
            0,
            ""
           ],
           [
            29.2,
            14.5,
            19.4,
            9.5,
            13.4,
            9.7,
            -7.7,
            13.3,
            7,
            108.3
           ]
          ]
         },
         "header": {
          "align": "center",
          "fill": {
           "color": "white"
          },
          "font": {
           "color": "black",
           "family": "Helvetica",
           "size": 14
          },
          "values": [
           "Position",
           "Player",
           "Offensive RAA",
           "Defensive RAA",
           "Total RAA"
          ]
         },
         "type": "table"
        }
       ],
       "layout": {
        "height": 400,
        "margin": {
         "b": 5,
         "l": 5,
         "r": 5,
         "t": 50
        },
        "paper_bgcolor": "white",
        "template": {
         "data": {
          "bar": [
           {
            "error_x": {
             "color": "#2a3f5f"
            },
            "error_y": {
             "color": "#2a3f5f"
            },
            "marker": {
             "line": {
              "color": "#E5ECF6",
              "width": 0.5
             },
             "pattern": {
              "fillmode": "overlay",
              "size": 10,
              "solidity": 0.2
             }
            },
            "type": "bar"
           }
          ],
          "barpolar": [
           {
            "marker": {
             "line": {
              "color": "#E5ECF6",
              "width": 0.5
             },
             "pattern": {
              "fillmode": "overlay",
              "size": 10,
              "solidity": 0.2
             }
            },
            "type": "barpolar"
           }
          ],
          "carpet": [
           {
            "aaxis": {
             "endlinecolor": "#2a3f5f",
             "gridcolor": "white",
             "linecolor": "white",
             "minorgridcolor": "white",
             "startlinecolor": "#2a3f5f"
            },
            "baxis": {
             "endlinecolor": "#2a3f5f",
             "gridcolor": "white",
             "linecolor": "white",
             "minorgridcolor": "white",
             "startlinecolor": "#2a3f5f"
            },
            "type": "carpet"
           }
          ],
          "choropleth": [
           {
            "colorbar": {
             "outlinewidth": 0,
             "ticks": ""
            },
            "type": "choropleth"
           }
          ],
          "contour": [
           {
            "colorbar": {
             "outlinewidth": 0,
             "ticks": ""
            },
            "colorscale": [
             [
              0,
              "#0d0887"
             ],
             [
              0.1111111111111111,
              "#46039f"
             ],
             [
              0.2222222222222222,
              "#7201a8"
             ],
             [
              0.3333333333333333,
              "#9c179e"
             ],
             [
              0.4444444444444444,
              "#bd3786"
             ],
             [
              0.5555555555555556,
              "#d8576b"
             ],
             [
              0.6666666666666666,
              "#ed7953"
             ],
             [
              0.7777777777777778,
              "#fb9f3a"
             ],
             [
              0.8888888888888888,
              "#fdca26"
             ],
             [
              1,
              "#f0f921"
             ]
            ],
            "type": "contour"
           }
          ],
          "contourcarpet": [
           {
            "colorbar": {
             "outlinewidth": 0,
             "ticks": ""
            },
            "type": "contourcarpet"
           }
          ],
          "heatmap": [
           {
            "colorbar": {
             "outlinewidth": 0,
             "ticks": ""
            },
            "colorscale": [
             [
              0,
              "#0d0887"
             ],
             [
              0.1111111111111111,
              "#46039f"
             ],
             [
              0.2222222222222222,
              "#7201a8"
             ],
             [
              0.3333333333333333,
              "#9c179e"
             ],
             [
              0.4444444444444444,
              "#bd3786"
             ],
             [
              0.5555555555555556,
              "#d8576b"
             ],
             [
              0.6666666666666666,
              "#ed7953"
             ],
             [
              0.7777777777777778,
              "#fb9f3a"
             ],
             [
              0.8888888888888888,
              "#fdca26"
             ],
             [
              1,
              "#f0f921"
             ]
            ],
            "type": "heatmap"
           }
          ],
          "heatmapgl": [
           {
            "colorbar": {
             "outlinewidth": 0,
             "ticks": ""
            },
            "colorscale": [
             [
              0,
              "#0d0887"
             ],
             [
              0.1111111111111111,
              "#46039f"
             ],
             [
              0.2222222222222222,
              "#7201a8"
             ],
             [
              0.3333333333333333,
              "#9c179e"
             ],
             [
              0.4444444444444444,
              "#bd3786"
             ],
             [
              0.5555555555555556,
              "#d8576b"
             ],
             [
              0.6666666666666666,
              "#ed7953"
             ],
             [
              0.7777777777777778,
              "#fb9f3a"
             ],
             [
              0.8888888888888888,
              "#fdca26"
             ],
             [
              1,
              "#f0f921"
             ]
            ],
            "type": "heatmapgl"
           }
          ],
          "histogram": [
           {
            "marker": {
             "pattern": {
              "fillmode": "overlay",
              "size": 10,
              "solidity": 0.2
             }
            },
            "type": "histogram"
           }
          ],
          "histogram2d": [
           {
            "colorbar": {
             "outlinewidth": 0,
             "ticks": ""
            },
            "colorscale": [
             [
              0,
              "#0d0887"
             ],
             [
              0.1111111111111111,
              "#46039f"
             ],
             [
              0.2222222222222222,
              "#7201a8"
             ],
             [
              0.3333333333333333,
              "#9c179e"
             ],
             [
              0.4444444444444444,
              "#bd3786"
             ],
             [
              0.5555555555555556,
              "#d8576b"
             ],
             [
              0.6666666666666666,
              "#ed7953"
             ],
             [
              0.7777777777777778,
              "#fb9f3a"
             ],
             [
              0.8888888888888888,
              "#fdca26"
             ],
             [
              1,
              "#f0f921"
             ]
            ],
            "type": "histogram2d"
           }
          ],
          "histogram2dcontour": [
           {
            "colorbar": {
             "outlinewidth": 0,
             "ticks": ""
            },
            "colorscale": [
             [
              0,
              "#0d0887"
             ],
             [
              0.1111111111111111,
              "#46039f"
             ],
             [
              0.2222222222222222,
              "#7201a8"
             ],
             [
              0.3333333333333333,
              "#9c179e"
             ],
             [
              0.4444444444444444,
              "#bd3786"
             ],
             [
              0.5555555555555556,
              "#d8576b"
             ],
             [
              0.6666666666666666,
              "#ed7953"
             ],
             [
              0.7777777777777778,
              "#fb9f3a"
             ],
             [
              0.8888888888888888,
              "#fdca26"
             ],
             [
              1,
              "#f0f921"
             ]
            ],
            "type": "histogram2dcontour"
           }
          ],
          "mesh3d": [
           {
            "colorbar": {
             "outlinewidth": 0,
             "ticks": ""
            },
            "type": "mesh3d"
           }
          ],
          "parcoords": [
           {
            "line": {
             "colorbar": {
              "outlinewidth": 0,
              "ticks": ""
             }
            },
            "type": "parcoords"
           }
          ],
          "pie": [
           {
            "automargin": true,
            "type": "pie"
           }
          ],
          "scatter": [
           {
            "fillpattern": {
             "fillmode": "overlay",
             "size": 10,
             "solidity": 0.2
            },
            "type": "scatter"
           }
          ],
          "scatter3d": [
           {
            "line": {
             "colorbar": {
              "outlinewidth": 0,
              "ticks": ""
             }
            },
            "marker": {
             "colorbar": {
              "outlinewidth": 0,
              "ticks": ""
             }
            },
            "type": "scatter3d"
           }
          ],
          "scattercarpet": [
           {
            "marker": {
             "colorbar": {
              "outlinewidth": 0,
              "ticks": ""
             }
            },
            "type": "scattercarpet"
           }
          ],
          "scattergeo": [
           {
            "marker": {
             "colorbar": {
              "outlinewidth": 0,
              "ticks": ""
             }
            },
            "type": "scattergeo"
           }
          ],
          "scattergl": [
           {
            "marker": {
             "colorbar": {
              "outlinewidth": 0,
              "ticks": ""
             }
            },
            "type": "scattergl"
           }
          ],
          "scattermapbox": [
           {
            "marker": {
             "colorbar": {
              "outlinewidth": 0,
              "ticks": ""
             }
            },
            "type": "scattermapbox"
           }
          ],
          "scatterpolar": [
           {
            "marker": {
             "colorbar": {
              "outlinewidth": 0,
              "ticks": ""
             }
            },
            "type": "scatterpolar"
           }
          ],
          "scatterpolargl": [
           {
            "marker": {
             "colorbar": {
              "outlinewidth": 0,
              "ticks": ""
             }
            },
            "type": "scatterpolargl"
           }
          ],
          "scatterternary": [
           {
            "marker": {
             "colorbar": {
              "outlinewidth": 0,
              "ticks": ""
             }
            },
            "type": "scatterternary"
           }
          ],
          "surface": [
           {
            "colorbar": {
             "outlinewidth": 0,
             "ticks": ""
            },
            "colorscale": [
             [
              0,
              "#0d0887"
             ],
             [
              0.1111111111111111,
              "#46039f"
             ],
             [
              0.2222222222222222,
              "#7201a8"
             ],
             [
              0.3333333333333333,
              "#9c179e"
             ],
             [
              0.4444444444444444,
              "#bd3786"
             ],
             [
              0.5555555555555556,
              "#d8576b"
             ],
             [
              0.6666666666666666,
              "#ed7953"
             ],
             [
              0.7777777777777778,
              "#fb9f3a"
             ],
             [
              0.8888888888888888,
              "#fdca26"
             ],
             [
              1,
              "#f0f921"
             ]
            ],
            "type": "surface"
           }
          ],
          "table": [
           {
            "cells": {
             "fill": {
              "color": "#EBF0F8"
             },
             "line": {
              "color": "white"
             }
            },
            "header": {
             "fill": {
              "color": "#C8D4E3"
             },
             "line": {
              "color": "white"
             }
            },
            "type": "table"
           }
          ]
         },
         "layout": {
          "annotationdefaults": {
           "arrowcolor": "#2a3f5f",
           "arrowhead": 0,
           "arrowwidth": 1
          },
          "autotypenumbers": "strict",
          "coloraxis": {
           "colorbar": {
            "outlinewidth": 0,
            "ticks": ""
           }
          },
          "colorscale": {
           "diverging": [
            [
             0,
             "#8e0152"
            ],
            [
             0.1,
             "#c51b7d"
            ],
            [
             0.2,
             "#de77ae"
            ],
            [
             0.3,
             "#f1b6da"
            ],
            [
             0.4,
             "#fde0ef"
            ],
            [
             0.5,
             "#f7f7f7"
            ],
            [
             0.6,
             "#e6f5d0"
            ],
            [
             0.7,
             "#b8e186"
            ],
            [
             0.8,
             "#7fbc41"
            ],
            [
             0.9,
             "#4d9221"
            ],
            [
             1,
             "#276419"
            ]
           ],
           "sequential": [
            [
             0,
             "#0d0887"
            ],
            [
             0.1111111111111111,
             "#46039f"
            ],
            [
             0.2222222222222222,
             "#7201a8"
            ],
            [
             0.3333333333333333,
             "#9c179e"
            ],
            [
             0.4444444444444444,
             "#bd3786"
            ],
            [
             0.5555555555555556,
             "#d8576b"
            ],
            [
             0.6666666666666666,
             "#ed7953"
            ],
            [
             0.7777777777777778,
             "#fb9f3a"
            ],
            [
             0.8888888888888888,
             "#fdca26"
            ],
            [
             1,
             "#f0f921"
            ]
           ],
           "sequentialminus": [
            [
             0,
             "#0d0887"
            ],
            [
             0.1111111111111111,
             "#46039f"
            ],
            [
             0.2222222222222222,
             "#7201a8"
            ],
            [
             0.3333333333333333,
             "#9c179e"
            ],
            [
             0.4444444444444444,
             "#bd3786"
            ],
            [
             0.5555555555555556,
             "#d8576b"
            ],
            [
             0.6666666666666666,
             "#ed7953"
            ],
            [
             0.7777777777777778,
             "#fb9f3a"
            ],
            [
             0.8888888888888888,
             "#fdca26"
            ],
            [
             1,
             "#f0f921"
            ]
           ]
          },
          "colorway": [
           "#636efa",
           "#EF553B",
           "#00cc96",
           "#ab63fa",
           "#FFA15A",
           "#19d3f3",
           "#FF6692",
           "#B6E880",
           "#FF97FF",
           "#FECB52"
          ],
          "font": {
           "color": "#2a3f5f"
          },
          "geo": {
           "bgcolor": "white",
           "lakecolor": "white",
           "landcolor": "#E5ECF6",
           "showlakes": true,
           "showland": true,
           "subunitcolor": "white"
          },
          "hoverlabel": {
           "align": "left"
          },
          "hovermode": "closest",
          "mapbox": {
           "style": "light"
          },
          "paper_bgcolor": "white",
          "plot_bgcolor": "#E5ECF6",
          "polar": {
           "angularaxis": {
            "gridcolor": "white",
            "linecolor": "white",
            "ticks": ""
           },
           "bgcolor": "#E5ECF6",
           "radialaxis": {
            "gridcolor": "white",
            "linecolor": "white",
            "ticks": ""
           }
          },
          "scene": {
           "xaxis": {
            "backgroundcolor": "#E5ECF6",
            "gridcolor": "white",
            "gridwidth": 2,
            "linecolor": "white",
            "showbackground": true,
            "ticks": "",
            "zerolinecolor": "white"
           },
           "yaxis": {
            "backgroundcolor": "#E5ECF6",
            "gridcolor": "white",
            "gridwidth": 2,
            "linecolor": "white",
            "showbackground": true,
            "ticks": "",
            "zerolinecolor": "white"
           },
           "zaxis": {
            "backgroundcolor": "#E5ECF6",
            "gridcolor": "white",
            "gridwidth": 2,
            "linecolor": "white",
            "showbackground": true,
            "ticks": "",
            "zerolinecolor": "white"
           }
          },
          "shapedefaults": {
           "line": {
            "color": "#2a3f5f"
           }
          },
          "ternary": {
           "aaxis": {
            "gridcolor": "white",
            "linecolor": "white",
            "ticks": ""
           },
           "baxis": {
            "gridcolor": "white",
            "linecolor": "white",
            "ticks": ""
           },
           "bgcolor": "#E5ECF6",
           "caxis": {
            "gridcolor": "white",
            "linecolor": "white",
            "ticks": ""
           }
          },
          "title": {
           "x": 0.05
          },
          "xaxis": {
           "automargin": true,
           "gridcolor": "white",
           "linecolor": "white",
           "ticks": "",
           "title": {
            "standoff": 15
           },
           "zerolinecolor": "white",
           "zerolinewidth": 2
          },
          "yaxis": {
           "automargin": true,
           "gridcolor": "white",
           "linecolor": "white",
           "ticks": "",
           "title": {
            "standoff": 15
           },
           "zerolinecolor": "white",
           "zerolinewidth": 2
          }
         }
        },
        "title": {
         "font": {
          "color": "black",
          "family": "Helvetica",
          "size": 20
         },
         "text": "Lineup vs. LHP - Mean RAA: 107.26<br>SD: 44.13, 25th Percentile: 77.55, 75th Percentile: 137.59",
         "x": 0.5,
         "xanchor": "center",
         "y": 0.95,
         "yanchor": "top"
        },
        "width": 800
       }
      }
     },
     "metadata": {},
     "output_type": "display_data"
    }
   ],
   "source": [
    "# There is some variance in the mean value observed in a simulation, but the mean is always indicated in the bottom corner. \n",
    "create_and_display_lineup_visual(optimized_rhp_lineup, player_data, \"RHP\")\n",
    "create_and_display_lineup_visual(optimized_lhp_lineup, player_data, \"LHP\")"
   ]
  },
  {
   "cell_type": "code",
   "execution_count": 8,
   "metadata": {},
   "outputs": [
    {
     "data": {
      "text/html": [
       "<div>\n",
       "<style scoped>\n",
       "    .dataframe tbody tr th:only-of-type {\n",
       "        vertical-align: middle;\n",
       "    }\n",
       "\n",
       "    .dataframe tbody tr th {\n",
       "        vertical-align: top;\n",
       "    }\n",
       "\n",
       "    .dataframe thead th {\n",
       "        text-align: right;\n",
       "    }\n",
       "</style>\n",
       "<table border=\"1\" class=\"dataframe\">\n",
       "  <thead>\n",
       "    <tr style=\"text-align: right;\">\n",
       "      <th></th>\n",
       "      <th>Game (# = Opp. LHS)</th>\n",
       "      <th>C</th>\n",
       "      <th>1B</th>\n",
       "      <th>2B</th>\n",
       "      <th>3B</th>\n",
       "      <th>SS</th>\n",
       "      <th>LF</th>\n",
       "      <th>CF</th>\n",
       "      <th>RF</th>\n",
       "      <th>P</th>\n",
       "      <th>DH</th>\n",
       "    </tr>\n",
       "  </thead>\n",
       "  <tbody>\n",
       "    <tr>\n",
       "      <th>0</th>\n",
       "      <td>1. Thu,3/30 at BOS W (10-9)</td>\n",
       "      <td>Rutschman</td>\n",
       "      <td>Mountcastle</td>\n",
       "      <td>Frazier</td>\n",
       "      <td>Urías</td>\n",
       "      <td>Mateo</td>\n",
       "      <td>Santander</td>\n",
       "      <td>Mullins</td>\n",
       "      <td>Hays</td>\n",
       "      <td>Gibson</td>\n",
       "      <td>Henderson</td>\n",
       "    </tr>\n",
       "    <tr>\n",
       "      <th>1</th>\n",
       "      <td>3. Sun,4/2 at BOS L (5-9)</td>\n",
       "      <td>Rutschman</td>\n",
       "      <td>Mountcastle</td>\n",
       "      <td>Frazier</td>\n",
       "      <td>Urías</td>\n",
       "      <td>Henderson</td>\n",
       "      <td>Vavra</td>\n",
       "      <td>Mullins</td>\n",
       "      <td>Hays</td>\n",
       "      <td>Irvin</td>\n",
       "      <td>Santander</td>\n",
       "    </tr>\n",
       "    <tr>\n",
       "      <th>2</th>\n",
       "      <td>4. Mon,4/3 at TEX W (2-0)</td>\n",
       "      <td>Bemboom</td>\n",
       "      <td>Mountcastle</td>\n",
       "      <td>Frazier</td>\n",
       "      <td>Henderson</td>\n",
       "      <td>Mateo</td>\n",
       "      <td>Stowers</td>\n",
       "      <td>Mullins</td>\n",
       "      <td>Santander</td>\n",
       "      <td>Bradish</td>\n",
       "      <td>Rutschman</td>\n",
       "    </tr>\n",
       "    <tr>\n",
       "      <th>3</th>\n",
       "      <td>6. Wed,4/5 at TEX L (2-5)</td>\n",
       "      <td>Rutschman</td>\n",
       "      <td>Mountcastle</td>\n",
       "      <td>Frazier</td>\n",
       "      <td>Henderson</td>\n",
       "      <td>Mateo</td>\n",
       "      <td>Hays</td>\n",
       "      <td>Mullins</td>\n",
       "      <td>Santander</td>\n",
       "      <td>Rodriguez</td>\n",
       "      <td>Vavra</td>\n",
       "    </tr>\n",
       "    <tr>\n",
       "      <th>4</th>\n",
       "      <td>7. Fri,4/7 vs NYY W (7-6)</td>\n",
       "      <td>Rutschman</td>\n",
       "      <td>Mountcastle</td>\n",
       "      <td>Frazier</td>\n",
       "      <td>Urías</td>\n",
       "      <td>Mateo</td>\n",
       "      <td>Hays</td>\n",
       "      <td>Mullins</td>\n",
       "      <td>Santander</td>\n",
       "      <td>Kremer</td>\n",
       "      <td>Henderson</td>\n",
       "    </tr>\n",
       "  </tbody>\n",
       "</table>\n",
       "</div>"
      ],
      "text/plain": [
       "           Game (# = Opp. LHS)          C           1B       2B         3B  \\\n",
       "0  1. Thu,3/30 at BOS W (10-9)  Rutschman  Mountcastle  Frazier      Urías   \n",
       "1    3. Sun,4/2 at BOS L (5-9)  Rutschman  Mountcastle  Frazier      Urías   \n",
       "2    4. Mon,4/3 at TEX W (2-0)    Bemboom  Mountcastle  Frazier  Henderson   \n",
       "3    6. Wed,4/5 at TEX L (2-5)  Rutschman  Mountcastle  Frazier  Henderson   \n",
       "4    7. Fri,4/7 vs NYY W (7-6)  Rutschman  Mountcastle  Frazier      Urías   \n",
       "\n",
       "          SS         LF       CF         RF          P         DH  \n",
       "0      Mateo  Santander  Mullins       Hays     Gibson  Henderson  \n",
       "1  Henderson      Vavra  Mullins       Hays      Irvin  Santander  \n",
       "2      Mateo    Stowers  Mullins  Santander    Bradish  Rutschman  \n",
       "3      Mateo       Hays  Mullins  Santander  Rodriguez      Vavra  \n",
       "4      Mateo       Hays  Mullins  Santander     Kremer  Henderson  "
      ]
     },
     "execution_count": 8,
     "metadata": {},
     "output_type": "execute_result"
    }
   ],
   "source": [
    "# Using Historic Lineups from baseball reference\n",
    "\n",
    "file_path_RHP = 'data/historical_lineups_orioles.csv'\n",
    "historical_lineups_RHP = pd.read_csv(file_path_RHP)\n",
    "file_path_LHP = 'data/orioles_historical_lineups_LHP.csv'\n",
    "historical_lineups_LHP = pd.read_csv(file_path_LHP)\n",
    "\n",
    "historical_lineups_RHP.head()\n",
    "historical_lineups_LHP.head()"
   ]
  },
  {
   "cell_type": "code",
   "execution_count": 9,
   "metadata": {},
   "outputs": [
    {
     "data": {
      "text/plain": [
       "[{'C': 'Adley Rutschman',\n",
       "  '1B': 'Ryan Mountcastle',\n",
       "  '2B': 'Adam Frazier',\n",
       "  '3B': 'Ramón Urías',\n",
       "  'SS': 'Jorge Mateo',\n",
       "  'LF': 'Anthony Santander',\n",
       "  'CF': 'Cedric Mullins',\n",
       "  'RF': 'Austin Hays',\n",
       "  'DH': 'Gunnar Henderson'},\n",
       " {'C': 'Adley Rutschman',\n",
       "  '1B': 'Ryan Mountcastle',\n",
       "  '2B': 'Adam Frazier',\n",
       "  '3B': 'Ramón Urías',\n",
       "  'SS': 'Gunnar Henderson',\n",
       "  'LF': 'Terrin Vavra',\n",
       "  'CF': 'Cedric Mullins',\n",
       "  'RF': 'Austin Hays',\n",
       "  'DH': 'Anthony Santander'},\n",
       " {'1B': 'Ryan Mountcastle',\n",
       "  '2B': 'Adam Frazier',\n",
       "  '3B': 'Gunnar Henderson',\n",
       "  'SS': 'Jorge Mateo',\n",
       "  'LF': 'Kyle Stowers',\n",
       "  'CF': 'Cedric Mullins',\n",
       "  'RF': 'Anthony Santander',\n",
       "  'DH': 'Adley Rutschman'},\n",
       " {'C': 'Adley Rutschman',\n",
       "  '1B': 'Ryan Mountcastle',\n",
       "  '2B': 'Adam Frazier',\n",
       "  '3B': 'Gunnar Henderson',\n",
       "  'SS': 'Jorge Mateo',\n",
       "  'LF': 'Austin Hays',\n",
       "  'CF': 'Cedric Mullins',\n",
       "  'RF': 'Anthony Santander',\n",
       "  'DH': 'Terrin Vavra'},\n",
       " {'C': 'Adley Rutschman',\n",
       "  '1B': 'Ryan Mountcastle',\n",
       "  '2B': 'Adam Frazier',\n",
       "  '3B': 'Ramón Urías',\n",
       "  'SS': 'Jorge Mateo',\n",
       "  'LF': 'Austin Hays',\n",
       "  'CF': 'Cedric Mullins',\n",
       "  'RF': 'Anthony Santander',\n",
       "  'DH': 'Gunnar Henderson'},\n",
       " {'C': 'Adley Rutschman',\n",
       "  '1B': 'Ryan Mountcastle',\n",
       "  '2B': 'Adam Frazier',\n",
       "  '3B': 'Ramón Urías',\n",
       "  'SS': 'Gunnar Henderson',\n",
       "  'LF': 'Austin Hays',\n",
       "  'CF': 'Cedric Mullins',\n",
       "  'RF': 'Terrin Vavra',\n",
       "  'DH': 'Anthony Santander'},\n",
       " {'C': 'Adley Rutschman',\n",
       "  '1B': \"Ryan O'Hearn\",\n",
       "  '2B': 'Adam Frazier',\n",
       "  '3B': 'Gunnar Henderson',\n",
       "  'SS': 'Jorge Mateo',\n",
       "  'LF': 'Austin Hays',\n",
       "  'CF': 'Cedric Mullins',\n",
       "  'RF': 'Terrin Vavra',\n",
       "  'DH': 'Ryan Mountcastle'},\n",
       " {'C': 'Adley Rutschman',\n",
       "  '1B': 'Ryan Mountcastle',\n",
       "  '2B': 'Adam Frazier',\n",
       "  '3B': 'Ramón Urías',\n",
       "  'SS': 'Gunnar Henderson',\n",
       "  'LF': 'Austin Hays',\n",
       "  'CF': 'Cedric Mullins',\n",
       "  'RF': 'Terrin Vavra',\n",
       "  'DH': 'Anthony Santander'},\n",
       " {'C': 'James McCann',\n",
       "  '1B': 'Ryan Mountcastle',\n",
       "  '2B': 'Adam Frazier',\n",
       "  '3B': 'Ramón Urías',\n",
       "  'SS': 'Jorge Mateo',\n",
       "  'LF': 'Austin Hays',\n",
       "  'CF': 'Cedric Mullins',\n",
       "  'RF': 'Anthony Santander',\n",
       "  'DH': 'Adley Rutschman'},\n",
       " {'C': 'Adley Rutschman',\n",
       "  '1B': 'Ryan Mountcastle',\n",
       "  '2B': 'Adam Frazier',\n",
       "  '3B': 'Gunnar Henderson',\n",
       "  'SS': 'Jorge Mateo',\n",
       "  'LF': 'Austin Hays',\n",
       "  'CF': 'Cedric Mullins',\n",
       "  'RF': 'Terrin Vavra',\n",
       "  'DH': 'Anthony Santander'},\n",
       " {'C': 'Adley Rutschman',\n",
       "  '1B': \"Ryan O'Hearn\",\n",
       "  '2B': 'Adam Frazier',\n",
       "  '3B': 'Gunnar Henderson',\n",
       "  'SS': 'Jorge Mateo',\n",
       "  'LF': 'Austin Hays',\n",
       "  'CF': 'Cedric Mullins',\n",
       "  'RF': 'Anthony Santander',\n",
       "  'DH': 'Ryan Mountcastle'},\n",
       " {'C': 'Adley Rutschman',\n",
       "  '1B': 'Ryan Mountcastle',\n",
       "  '2B': 'Adam Frazier',\n",
       "  '3B': 'Ramón Urías',\n",
       "  'SS': 'Gunnar Henderson',\n",
       "  'LF': 'Austin Hays',\n",
       "  'CF': 'Cedric Mullins',\n",
       "  'RF': 'Terrin Vavra',\n",
       "  'DH': 'Anthony Santander'},\n",
       " {'C': 'Adley Rutschman',\n",
       "  '1B': 'Ryan Mountcastle',\n",
       "  '2B': 'Ramón Urías',\n",
       "  '3B': 'Gunnar Henderson',\n",
       "  'SS': 'Jorge Mateo',\n",
       "  'LF': 'Austin Hays',\n",
       "  'CF': 'Cedric Mullins',\n",
       "  'RF': 'Adam Frazier',\n",
       "  'DH': 'Anthony Santander'},\n",
       " {'C': 'Adley Rutschman',\n",
       "  '1B': \"Ryan O'Hearn\",\n",
       "  '2B': 'Adam Frazier',\n",
       "  '3B': 'Ramón Urías',\n",
       "  'SS': 'Gunnar Henderson',\n",
       "  'LF': 'Terrin Vavra',\n",
       "  'CF': 'Cedric Mullins',\n",
       "  'RF': 'Anthony Santander',\n",
       "  'DH': 'Ryan Mountcastle'},\n",
       " {'C': 'Adley Rutschman',\n",
       "  '1B': 'Ryan Mountcastle',\n",
       "  '2B': 'Adam Frazier',\n",
       "  '3B': 'Gunnar Henderson',\n",
       "  'SS': 'Jorge Mateo',\n",
       "  'LF': 'Austin Hays',\n",
       "  'CF': 'Cedric Mullins',\n",
       "  'RF': 'Kyle Stowers',\n",
       "  'DH': \"Ryan O'Hearn\"},\n",
       " {'C': 'Adley Rutschman',\n",
       "  '1B': \"Ryan O'Hearn\",\n",
       "  '2B': 'Adam Frazier',\n",
       "  '3B': 'Ramón Urías',\n",
       "  'SS': 'Jorge Mateo',\n",
       "  'LF': 'Kyle Stowers',\n",
       "  'CF': 'Cedric Mullins',\n",
       "  'RF': 'Anthony Santander',\n",
       "  'DH': 'Ryan Mountcastle'},\n",
       " {'C': 'James McCann',\n",
       "  '1B': 'Ryan Mountcastle',\n",
       "  '2B': 'Adam Frazier',\n",
       "  '3B': 'Gunnar Henderson',\n",
       "  'SS': 'Jorge Mateo',\n",
       "  'LF': 'Kyle Stowers',\n",
       "  'CF': 'Cedric Mullins',\n",
       "  'RF': 'Anthony Santander',\n",
       "  'DH': 'Adley Rutschman'},\n",
       " {'C': 'Adley Rutschman',\n",
       "  '1B': 'Ramón Urías',\n",
       "  '2B': 'Adam Frazier',\n",
       "  '3B': 'Gunnar Henderson',\n",
       "  'SS': 'Jorge Mateo',\n",
       "  'LF': 'Kyle Stowers',\n",
       "  'CF': 'Cedric Mullins',\n",
       "  'RF': 'Anthony Santander',\n",
       "  'DH': 'Ryan Mountcastle'},\n",
       " {'C': 'James McCann',\n",
       "  '1B': 'Ryan Mountcastle',\n",
       "  '2B': 'Adam Frazier',\n",
       "  '3B': 'Ramón Urías',\n",
       "  'SS': 'Gunnar Henderson',\n",
       "  'LF': 'Austin Hays',\n",
       "  'CF': 'Cedric Mullins',\n",
       "  'RF': 'Kyle Stowers',\n",
       "  'DH': 'Anthony Santander'},\n",
       " {'C': 'Adley Rutschman',\n",
       "  '1B': 'Ryan Mountcastle',\n",
       "  '2B': 'Adam Frazier',\n",
       "  '3B': 'Gunnar Henderson',\n",
       "  'SS': 'Jorge Mateo',\n",
       "  'LF': 'Austin Hays',\n",
       "  'CF': 'Cedric Mullins',\n",
       "  'RF': 'Kyle Stowers',\n",
       "  'DH': 'Anthony Santander'},\n",
       " {'C': 'Adley Rutschman',\n",
       "  '1B': 'Ryan Mountcastle',\n",
       "  '2B': 'Adam Frazier',\n",
       "  '3B': 'Gunnar Henderson',\n",
       "  'SS': 'Jorge Mateo',\n",
       "  'LF': 'Austin Hays',\n",
       "  'CF': 'Cedric Mullins',\n",
       "  'RF': 'Kyle Stowers',\n",
       "  'DH': 'Anthony Santander'},\n",
       " {'C': 'Adley Rutschman',\n",
       "  '1B': 'Ryan Mountcastle',\n",
       "  '2B': 'Adam Frazier',\n",
       "  '3B': 'Gunnar Henderson',\n",
       "  'SS': 'Jorge Mateo',\n",
       "  'LF': 'Austin Hays',\n",
       "  'CF': 'Cedric Mullins',\n",
       "  'RF': 'Anthony Santander',\n",
       "  'DH': \"Ryan O'Hearn\"},\n",
       " {'C': 'James McCann',\n",
       "  '1B': 'Ryan Mountcastle',\n",
       "  '2B': 'Adam Frazier',\n",
       "  '3B': 'Gunnar Henderson',\n",
       "  'SS': 'Joey Ortiz',\n",
       "  'LF': 'Austin Hays',\n",
       "  'CF': 'Cedric Mullins',\n",
       "  'RF': 'Kyle Stowers',\n",
       "  'DH': 'Anthony Santander'},\n",
       " {'C': 'Adley Rutschman',\n",
       "  '1B': 'Anthony Santander',\n",
       "  '2B': 'Adam Frazier',\n",
       "  '3B': 'Gunnar Henderson',\n",
       "  'SS': 'Jorge Mateo',\n",
       "  'LF': 'Austin Hays',\n",
       "  'CF': 'Cedric Mullins',\n",
       "  'RF': 'Terrin Vavra',\n",
       "  'DH': 'Ryan Mountcastle'},\n",
       " {'C': 'Adley Rutschman',\n",
       "  '1B': 'Anthony Santander',\n",
       "  '2B': 'Adam Frazier',\n",
       "  '3B': 'Gunnar Henderson',\n",
       "  'SS': 'Jorge Mateo',\n",
       "  'LF': 'Austin Hays',\n",
       "  'CF': 'Cedric Mullins',\n",
       "  'RF': 'Terrin Vavra',\n",
       "  'DH': \"Ryan O'Hearn\"},\n",
       " {'C': 'Adley Rutschman',\n",
       "  '1B': 'Ryan Mountcastle',\n",
       "  '2B': 'Adam Frazier',\n",
       "  '3B': 'Gunnar Henderson',\n",
       "  'SS': 'Joey Ortiz',\n",
       "  'LF': 'Austin Hays',\n",
       "  'CF': 'Cedric Mullins',\n",
       "  'RF': 'Terrin Vavra',\n",
       "  'DH': 'Anthony Santander'},\n",
       " {'C': 'Adley Rutschman',\n",
       "  '1B': 'Ryan Mountcastle',\n",
       "  '2B': 'Adam Frazier',\n",
       "  '3B': 'Gunnar Henderson',\n",
       "  'SS': 'Jorge Mateo',\n",
       "  'LF': 'Terrin Vavra',\n",
       "  'CF': 'Cedric Mullins',\n",
       "  'RF': 'Anthony Santander',\n",
       "  'DH': \"Ryan O'Hearn\"},\n",
       " {'C': 'James McCann',\n",
       "  '1B': 'Ryan Mountcastle',\n",
       "  '2B': 'Adam Frazier',\n",
       "  '3B': 'Gunnar Henderson',\n",
       "  'SS': 'Joey Ortiz',\n",
       "  'LF': 'Austin Hays',\n",
       "  'CF': 'Cedric Mullins',\n",
       "  'RF': 'Anthony Santander',\n",
       "  'DH': 'Adley Rutschman'},\n",
       " {'C': 'Adley Rutschman',\n",
       "  '1B': 'Ryan Mountcastle',\n",
       "  '2B': 'Adam Frazier',\n",
       "  '3B': 'Gunnar Henderson',\n",
       "  'SS': 'Jorge Mateo',\n",
       "  'LF': 'Austin Hays',\n",
       "  'CF': 'Cedric Mullins',\n",
       "  'RF': 'Terrin Vavra',\n",
       "  'DH': 'Anthony Santander'},\n",
       " {'C': 'Adley Rutschman',\n",
       "  '1B': \"Ryan O'Hearn\",\n",
       "  '2B': 'Adam Frazier',\n",
       "  '3B': 'Gunnar Henderson',\n",
       "  'SS': 'Jorge Mateo',\n",
       "  'LF': 'Austin Hays',\n",
       "  'CF': 'Ryan McKenna',\n",
       "  'RF': 'Anthony Santander',\n",
       "  'DH': 'Ryan Mountcastle'},\n",
       " {'C': 'Adley Rutschman',\n",
       "  '1B': 'Ryan Mountcastle',\n",
       "  '2B': 'Adam Frazier',\n",
       "  '3B': 'Gunnar Henderson',\n",
       "  'SS': 'Jorge Mateo',\n",
       "  'LF': 'Austin Hays',\n",
       "  'CF': 'Cedric Mullins',\n",
       "  'RF': 'Anthony Santander',\n",
       "  'DH': \"Ryan O'Hearn\"},\n",
       " {'C': 'Adley Rutschman',\n",
       "  '1B': 'Ryan Mountcastle',\n",
       "  '2B': 'Adam Frazier',\n",
       "  '3B': 'Ramón Urías',\n",
       "  'SS': 'Jorge Mateo',\n",
       "  'LF': 'Terrin Vavra',\n",
       "  'CF': 'Austin Hays',\n",
       "  'RF': 'Anthony Santander',\n",
       "  'DH': 'Gunnar Henderson'},\n",
       " {'C': 'Adley Rutschman',\n",
       "  '1B': 'Ryan Mountcastle',\n",
       "  '2B': 'Adam Frazier',\n",
       "  '3B': 'Gunnar Henderson',\n",
       "  'SS': 'Jorge Mateo',\n",
       "  'LF': 'Ryan McKenna',\n",
       "  'CF': 'Aaron Hicks',\n",
       "  'RF': \"Ryan O'Hearn\",\n",
       "  'DH': 'Anthony Santander'},\n",
       " {'C': 'Adley Rutschman',\n",
       "  '1B': \"Ryan O'Hearn\",\n",
       "  '2B': 'Adam Frazier',\n",
       "  '3B': 'Ramón Urías',\n",
       "  'SS': 'Jorge Mateo',\n",
       "  'LF': 'Austin Hays',\n",
       "  'CF': 'Aaron Hicks',\n",
       "  'RF': 'Anthony Santander',\n",
       "  'DH': 'Gunnar Henderson'},\n",
       " {'C': 'Adley Rutschman',\n",
       "  '1B': 'Ryan Mountcastle',\n",
       "  '2B': 'Adam Frazier',\n",
       "  '3B': 'Gunnar Henderson',\n",
       "  'SS': 'Jorge Mateo',\n",
       "  'LF': 'Austin Hays',\n",
       "  'CF': 'Aaron Hicks',\n",
       "  'RF': \"Ryan O'Hearn\",\n",
       "  'DH': 'Anthony Santander'},\n",
       " {'C': 'James McCann',\n",
       "  '1B': 'Ryan Mountcastle',\n",
       "  '2B': 'Adam Frazier',\n",
       "  'SS': 'Jorge Mateo',\n",
       "  'LF': 'Austin Hays',\n",
       "  'CF': 'Aaron Hicks',\n",
       "  'RF': 'Anthony Santander',\n",
       "  'DH': 'Adley Rutschman'},\n",
       " {'C': 'Adley Rutschman',\n",
       "  '1B': 'Ryan Mountcastle',\n",
       "  '2B': 'Adam Frazier',\n",
       "  '3B': 'Ramón Urías',\n",
       "  'SS': 'Jorge Mateo',\n",
       "  'LF': 'Austin Hays',\n",
       "  'CF': 'Aaron Hicks',\n",
       "  'RF': 'Anthony Santander',\n",
       "  'DH': \"Ryan O'Hearn\"},\n",
       " {'C': 'Adley Rutschman',\n",
       "  '1B': \"Ryan O'Hearn\",\n",
       "  '2B': 'Adam Frazier',\n",
       "  '3B': 'Gunnar Henderson',\n",
       "  'SS': 'Jorge Mateo',\n",
       "  'LF': 'Austin Hays',\n",
       "  'CF': 'Aaron Hicks',\n",
       "  'RF': 'Anthony Santander'},\n",
       " {'C': 'James McCann',\n",
       "  '1B': 'Ryan Mountcastle',\n",
       "  '2B': 'Adam Frazier',\n",
       "  '3B': 'Ramón Urías',\n",
       "  'SS': 'Gunnar Henderson',\n",
       "  'LF': \"Ryan O'Hearn\",\n",
       "  'CF': 'Austin Hays',\n",
       "  'RF': 'Anthony Santander',\n",
       "  'DH': 'Adley Rutschman'},\n",
       " {'C': 'Adley Rutschman',\n",
       "  '1B': \"Ryan O'Hearn\",\n",
       "  '2B': 'Adam Frazier',\n",
       "  '3B': 'Gunnar Henderson',\n",
       "  'SS': 'Jorge Mateo',\n",
       "  'LF': 'Austin Hays',\n",
       "  'CF': 'Aaron Hicks',\n",
       "  'RF': 'Anthony Santander'},\n",
       " {'C': 'James McCann',\n",
       "  '2B': 'Adam Frazier',\n",
       "  '3B': 'Ramón Urías',\n",
       "  'SS': 'Gunnar Henderson',\n",
       "  'LF': 'Austin Hays',\n",
       "  'CF': 'Aaron Hicks',\n",
       "  'RF': \"Ryan O'Hearn\",\n",
       "  'DH': 'Anthony Santander'},\n",
       " {'C': 'Adley Rutschman',\n",
       "  '1B': \"Ryan O'Hearn\",\n",
       "  '2B': 'Adam Frazier',\n",
       "  '3B': 'Ramón Urías',\n",
       "  'SS': 'Jorge Mateo',\n",
       "  'LF': 'Austin Hays',\n",
       "  'CF': 'Aaron Hicks',\n",
       "  'RF': 'Anthony Santander',\n",
       "  'DH': 'Gunnar Henderson'},\n",
       " {'C': 'Adley Rutschman',\n",
       "  '2B': 'Adam Frazier',\n",
       "  '3B': 'Ramón Urías',\n",
       "  'SS': 'Gunnar Henderson',\n",
       "  'LF': 'Austin Hays',\n",
       "  'CF': 'Aaron Hicks',\n",
       "  'RF': \"Ryan O'Hearn\",\n",
       "  'DH': 'Anthony Santander'},\n",
       " {'C': 'Adley Rutschman',\n",
       "  '1B': \"Ryan O'Hearn\",\n",
       "  '2B': 'Adam Frazier',\n",
       "  '3B': 'Gunnar Henderson',\n",
       "  'SS': 'Jorge Mateo',\n",
       "  'LF': 'Austin Hays',\n",
       "  'CF': 'Aaron Hicks',\n",
       "  'RF': 'Anthony Santander',\n",
       "  'DH': 'Ramón Urías'},\n",
       " {'C': 'Adley Rutschman',\n",
       "  '2B': 'Adam Frazier',\n",
       "  '3B': 'Ramón Urías',\n",
       "  'SS': 'Jorge Mateo',\n",
       "  'LF': 'Austin Hays',\n",
       "  'CF': 'Aaron Hicks',\n",
       "  'RF': \"Ryan O'Hearn\",\n",
       "  'DH': 'Anthony Santander'},\n",
       " {'C': 'Adley Rutschman',\n",
       "  '1B': \"Ryan O'Hearn\",\n",
       "  '2B': 'Adam Frazier',\n",
       "  '3B': 'Ramón Urías',\n",
       "  'SS': 'Jorge Mateo',\n",
       "  'LF': 'Austin Hays',\n",
       "  'CF': 'Aaron Hicks',\n",
       "  'RF': 'Anthony Santander',\n",
       "  'DH': 'Gunnar Henderson'},\n",
       " {'C': 'Adley Rutschman',\n",
       "  '1B': 'Ramón Urías',\n",
       "  '2B': 'Adam Frazier',\n",
       "  '3B': 'Gunnar Henderson',\n",
       "  'SS': 'Jorge Mateo',\n",
       "  'LF': 'Austin Hays',\n",
       "  'CF': 'Aaron Hicks',\n",
       "  'RF': 'Anthony Santander',\n",
       "  'DH': \"Ryan O'Hearn\"},\n",
       " {'C': 'Adley Rutschman',\n",
       "  '1B': \"Ryan O'Hearn\",\n",
       "  '2B': 'Adam Frazier',\n",
       "  '3B': 'Ramón Urías',\n",
       "  'SS': 'Jorge Mateo',\n",
       "  'LF': 'Austin Hays',\n",
       "  'CF': 'Aaron Hicks',\n",
       "  'RF': 'Anthony Santander',\n",
       "  'DH': 'Gunnar Henderson'},\n",
       " {'C': 'Adley Rutschman',\n",
       "  '1B': \"Ryan O'Hearn\",\n",
       "  '2B': 'Adam Frazier',\n",
       "  '3B': 'Ramón Urías',\n",
       "  'SS': 'Gunnar Henderson',\n",
       "  'LF': 'Austin Hays',\n",
       "  'CF': 'Aaron Hicks',\n",
       "  'RF': 'Anthony Santander',\n",
       "  'DH': 'Cedric Mullins'},\n",
       " {'1B': \"Ryan O'Hearn\",\n",
       "  '2B': 'Adam Frazier',\n",
       "  '3B': 'Gunnar Henderson',\n",
       "  'SS': 'Jorge Mateo',\n",
       "  'LF': 'Austin Hays',\n",
       "  'CF': 'Cedric Mullins',\n",
       "  'RF': 'Anthony Santander',\n",
       "  'DH': 'Aaron Hicks'},\n",
       " {'C': 'Adley Rutschman',\n",
       "  '1B': \"Ryan O'Hearn\",\n",
       "  '2B': 'Adam Frazier',\n",
       "  '3B': 'Jordan Westburg',\n",
       "  'SS': 'Gunnar Henderson',\n",
       "  'LF': 'Austin Hays',\n",
       "  'CF': 'Cedric Mullins',\n",
       "  'RF': 'Anthony Santander',\n",
       "  'DH': 'Aaron Hicks'},\n",
       " {'1B': \"Ryan O'Hearn\",\n",
       "  '2B': 'Adam Frazier',\n",
       "  '3B': 'Ramón Urías',\n",
       "  'SS': 'Gunnar Henderson',\n",
       "  'LF': 'Austin Hays',\n",
       "  'CF': 'Cedric Mullins',\n",
       "  'RF': 'Anthony Santander',\n",
       "  'DH': 'Adley Rutschman'},\n",
       " {'C': 'Adley Rutschman',\n",
       "  '1B': \"Ryan O'Hearn\",\n",
       "  '2B': 'Adam Frazier',\n",
       "  '3B': 'Jordan Westburg',\n",
       "  'SS': 'Gunnar Henderson',\n",
       "  'LF': 'Austin Hays',\n",
       "  'CF': 'Cedric Mullins',\n",
       "  'RF': 'Aaron Hicks',\n",
       "  'DH': 'Anthony Santander'},\n",
       " {'1B': 'Ramón Urías',\n",
       "  '2B': 'Jordan Westburg',\n",
       "  '3B': 'Gunnar Henderson',\n",
       "  'SS': 'Jorge Mateo',\n",
       "  'LF': 'Austin Hays',\n",
       "  'CF': 'Cedric Mullins',\n",
       "  'RF': 'Anthony Santander',\n",
       "  'DH': 'Adley Rutschman'},\n",
       " {'C': 'Adley Rutschman',\n",
       "  '1B': \"Ryan O'Hearn\",\n",
       "  '2B': 'Ramón Urías',\n",
       "  '3B': 'Gunnar Henderson',\n",
       "  'SS': 'Jorge Mateo',\n",
       "  'LF': 'Aaron Hicks',\n",
       "  'CF': 'Cedric Mullins',\n",
       "  'RF': 'Adam Frazier',\n",
       "  'DH': 'Anthony Santander'},\n",
       " {'C': 'James McCann',\n",
       "  '1B': \"Ryan O'Hearn\",\n",
       "  '2B': 'Adam Frazier',\n",
       "  '3B': 'Jordan Westburg',\n",
       "  'SS': 'Gunnar Henderson',\n",
       "  'LF': 'Aaron Hicks',\n",
       "  'CF': 'Cedric Mullins',\n",
       "  'RF': 'Anthony Santander',\n",
       "  'DH': 'Adley Rutschman'},\n",
       " {'C': 'Adley Rutschman',\n",
       "  '1B': \"Ryan O'Hearn\",\n",
       "  '2B': 'Adam Frazier',\n",
       "  '3B': 'Jordan Westburg',\n",
       "  'SS': 'Gunnar Henderson',\n",
       "  'LF': 'Colton Cowser',\n",
       "  'CF': 'Cedric Mullins',\n",
       "  'RF': 'Anthony Santander',\n",
       "  'DH': 'Aaron Hicks'},\n",
       " {'C': 'Adley Rutschman',\n",
       "  '1B': \"Ryan O'Hearn\",\n",
       "  '2B': 'Jordan Westburg',\n",
       "  '3B': 'Ramón Urías',\n",
       "  'SS': 'Gunnar Henderson',\n",
       "  'LF': 'Adam Frazier',\n",
       "  'CF': 'Colton Cowser',\n",
       "  'RF': 'Anthony Santander',\n",
       "  'DH': 'Cedric Mullins'},\n",
       " {'C': 'James McCann',\n",
       "  '1B': 'Ramón Urías',\n",
       "  '2B': 'Jordan Westburg',\n",
       "  '3B': 'Gunnar Henderson',\n",
       "  'SS': 'Jorge Mateo',\n",
       "  'LF': 'Colton Cowser',\n",
       "  'CF': 'Cedric Mullins',\n",
       "  'RF': 'Anthony Santander',\n",
       "  'DH': \"Ryan O'Hearn\"},\n",
       " {'C': 'Adley Rutschman',\n",
       "  '1B': \"Ryan O'Hearn\",\n",
       "  '2B': 'Adam Frazier',\n",
       "  '3B': 'Ramón Urías',\n",
       "  'SS': 'Gunnar Henderson',\n",
       "  'LF': 'Austin Hays',\n",
       "  'CF': 'Aaron Hicks',\n",
       "  'RF': 'Colton Cowser',\n",
       "  'DH': 'Anthony Santander'},\n",
       " {'C': 'Adley Rutschman',\n",
       "  '1B': \"Ryan O'Hearn\",\n",
       "  '2B': 'Jordan Westburg',\n",
       "  '3B': 'Ramón Urías',\n",
       "  'SS': 'Gunnar Henderson',\n",
       "  'LF': 'Austin Hays',\n",
       "  'CF': 'Cedric Mullins',\n",
       "  'RF': 'Anthony Santander',\n",
       "  'DH': 'Aaron Hicks'},\n",
       " {'C': 'Adley Rutschman',\n",
       "  '1B': \"Ryan O'Hearn\",\n",
       "  '2B': 'Adam Frazier',\n",
       "  '3B': 'Jordan Westburg',\n",
       "  'SS': 'Gunnar Henderson',\n",
       "  'LF': 'Austin Hays',\n",
       "  'CF': 'Cedric Mullins',\n",
       "  'RF': 'Aaron Hicks',\n",
       "  'DH': 'Anthony Santander'},\n",
       " {'C': 'Adley Rutschman',\n",
       "  '1B': \"Ryan O'Hearn\",\n",
       "  '2B': 'Adam Frazier',\n",
       "  '3B': 'Ramón Urías',\n",
       "  'SS': 'Gunnar Henderson',\n",
       "  'LF': 'Colton Cowser',\n",
       "  'CF': 'Aaron Hicks',\n",
       "  'RF': 'Anthony Santander',\n",
       "  'DH': 'Ryan Mountcastle'},\n",
       " {'C': 'Adley Rutschman',\n",
       "  '1B': \"Ryan O'Hearn\",\n",
       "  '2B': 'Adam Frazier',\n",
       "  '3B': 'Jordan Westburg',\n",
       "  'SS': 'Gunnar Henderson',\n",
       "  'LF': 'Austin Hays',\n",
       "  'CF': 'Aaron Hicks',\n",
       "  'RF': 'Colton Cowser',\n",
       "  'DH': 'Anthony Santander'},\n",
       " {'C': 'Adley Rutschman',\n",
       "  '1B': 'Anthony Santander',\n",
       "  '2B': 'Ramón Urías',\n",
       "  '3B': 'Gunnar Henderson',\n",
       "  'SS': 'Jorge Mateo',\n",
       "  'LF': 'Austin Hays',\n",
       "  'CF': 'Aaron Hicks',\n",
       "  'RF': 'Colton Cowser',\n",
       "  'DH': \"Ryan O'Hearn\"},\n",
       " {'C': 'Adley Rutschman',\n",
       "  '1B': \"Ryan O'Hearn\",\n",
       "  '2B': 'Adam Frazier',\n",
       "  '3B': 'Jordan Westburg',\n",
       "  'SS': 'Gunnar Henderson',\n",
       "  'LF': 'Austin Hays',\n",
       "  'CF': 'Colton Cowser',\n",
       "  'RF': 'Anthony Santander',\n",
       "  'DH': 'Ryan Mountcastle'},\n",
       " {'C': 'Adley Rutschman',\n",
       "  '1B': \"Ryan O'Hearn\",\n",
       "  '2B': 'Adam Frazier',\n",
       "  '3B': 'Ramón Urías',\n",
       "  'SS': 'Gunnar Henderson',\n",
       "  'LF': 'Austin Hays',\n",
       "  'CF': 'Aaron Hicks',\n",
       "  'RF': 'Colton Cowser',\n",
       "  'DH': 'Anthony Santander'},\n",
       " {'C': 'Adley Rutschman',\n",
       "  '1B': \"Ryan O'Hearn\",\n",
       "  '2B': 'Adam Frazier',\n",
       "  '3B': 'Jordan Westburg',\n",
       "  'SS': 'Gunnar Henderson',\n",
       "  'LF': 'Austin Hays',\n",
       "  'CF': 'Colton Cowser',\n",
       "  'RF': 'Anthony Santander',\n",
       "  'DH': 'Ryan Mountcastle'},\n",
       " {'C': 'Adley Rutschman',\n",
       "  '1B': \"Ryan O'Hearn\",\n",
       "  '2B': 'Adam Frazier',\n",
       "  '3B': 'Ramón Urías',\n",
       "  'SS': 'Gunnar Henderson',\n",
       "  'LF': 'Austin Hays',\n",
       "  'CF': 'Colton Cowser',\n",
       "  'RF': 'Anthony Santander',\n",
       "  'DH': 'Ryan Mountcastle'},\n",
       " {'C': 'Adley Rutschman',\n",
       "  '1B': \"Ryan O'Hearn\",\n",
       "  '2B': 'Adam Frazier',\n",
       "  '3B': 'Ramón Urías',\n",
       "  'SS': 'Gunnar Henderson',\n",
       "  'LF': 'Austin Hays',\n",
       "  'CF': 'Colton Cowser',\n",
       "  'RF': 'Anthony Santander',\n",
       "  'DH': 'Ryan Mountcastle'},\n",
       " {'C': 'James McCann',\n",
       "  '1B': \"Ryan O'Hearn\",\n",
       "  '2B': 'Jordan Westburg',\n",
       "  '3B': 'Ramón Urías',\n",
       "  'SS': 'Gunnar Henderson',\n",
       "  'LF': 'Adam Frazier',\n",
       "  'CF': 'Austin Hays',\n",
       "  'RF': 'Anthony Santander',\n",
       "  'DH': 'Adley Rutschman'},\n",
       " {'C': 'Adley Rutschman',\n",
       "  '1B': \"Ryan O'Hearn\",\n",
       "  '2B': 'Adam Frazier',\n",
       "  '3B': 'Gunnar Henderson',\n",
       "  'SS': 'Jorge Mateo',\n",
       "  'LF': 'Austin Hays',\n",
       "  'CF': 'Colton Cowser',\n",
       "  'RF': 'Anthony Santander',\n",
       "  'DH': 'Ryan Mountcastle'},\n",
       " {'C': 'Adley Rutschman',\n",
       "  '1B': 'Ryan Mountcastle',\n",
       "  '2B': 'Adam Frazier',\n",
       "  '3B': 'Ramón Urías',\n",
       "  'SS': 'Gunnar Henderson',\n",
       "  'LF': 'Austin Hays',\n",
       "  'CF': 'Ryan McKenna',\n",
       "  'RF': \"Ryan O'Hearn\",\n",
       "  'DH': 'Anthony Santander'},\n",
       " {'C': 'Adley Rutschman',\n",
       "  '1B': 'Ryan Mountcastle',\n",
       "  '2B': 'Jordan Westburg',\n",
       "  '3B': 'Ramón Urías',\n",
       "  'SS': 'Gunnar Henderson',\n",
       "  'LF': 'Colton Cowser',\n",
       "  'CF': 'Ryan McKenna',\n",
       "  'RF': \"Ryan O'Hearn\",\n",
       "  'DH': 'Anthony Santander'},\n",
       " {'C': 'Adley Rutschman',\n",
       "  '1B': \"Ryan O'Hearn\",\n",
       "  '2B': 'Adam Frazier',\n",
       "  '3B': 'Jordan Westburg',\n",
       "  'SS': 'Gunnar Henderson',\n",
       "  'LF': 'Austin Hays',\n",
       "  'CF': 'Colton Cowser',\n",
       "  'RF': 'Anthony Santander',\n",
       "  'DH': 'Ryan Mountcastle'},\n",
       " {'C': 'James McCann',\n",
       "  '1B': 'Ryan Mountcastle',\n",
       "  '2B': 'Adam Frazier',\n",
       "  '3B': 'Ramón Urías',\n",
       "  'SS': 'Gunnar Henderson',\n",
       "  'LF': \"Ryan O'Hearn\",\n",
       "  'CF': 'Austin Hays',\n",
       "  'RF': 'Anthony Santander',\n",
       "  'DH': 'Adley Rutschman'},\n",
       " {'C': 'Adley Rutschman',\n",
       "  '1B': 'Ryan Mountcastle',\n",
       "  '2B': 'Adam Frazier',\n",
       "  '3B': 'Ramón Urías',\n",
       "  'SS': 'Gunnar Henderson',\n",
       "  'LF': 'Colton Cowser',\n",
       "  'CF': 'Cedric Mullins',\n",
       "  'RF': \"Ryan O'Hearn\",\n",
       "  'DH': 'Anthony Santander'},\n",
       " {'C': 'Adley Rutschman',\n",
       "  '1B': \"Ryan O'Hearn\",\n",
       "  '2B': 'Adam Frazier',\n",
       "  '3B': 'Jordan Westburg',\n",
       "  'SS': 'Jorge Mateo',\n",
       "  'LF': 'Austin Hays',\n",
       "  'CF': 'Cedric Mullins',\n",
       "  'RF': 'Anthony Santander',\n",
       "  'DH': 'Ryan Mountcastle'},\n",
       " {'C': 'James McCann',\n",
       "  '1B': 'Ryan Mountcastle',\n",
       "  '2B': 'Adam Frazier',\n",
       "  '3B': 'Jordan Westburg',\n",
       "  'SS': 'Gunnar Henderson',\n",
       "  'LF': \"Ryan O'Hearn\",\n",
       "  'CF': 'Austin Hays',\n",
       "  'RF': 'Anthony Santander',\n",
       "  'DH': 'Adley Rutschman'},\n",
       " {'C': 'Adley Rutschman',\n",
       "  '1B': \"Ryan O'Hearn\",\n",
       "  '2B': 'Jordan Westburg',\n",
       "  '3B': 'Ramón Urías',\n",
       "  'SS': 'Gunnar Henderson',\n",
       "  'LF': 'Aaron Hicks',\n",
       "  'CF': 'Cedric Mullins',\n",
       "  'RF': 'Anthony Santander',\n",
       "  'DH': 'Ryan Mountcastle'},\n",
       " {'C': 'Adley Rutschman',\n",
       "  '1B': \"Ryan O'Hearn\",\n",
       "  '2B': 'Adam Frazier',\n",
       "  '3B': 'Ramón Urías',\n",
       "  'SS': 'Gunnar Henderson',\n",
       "  'LF': 'Austin Hays',\n",
       "  'CF': 'Cedric Mullins',\n",
       "  'RF': 'Anthony Santander',\n",
       "  'DH': 'Ryan Mountcastle'},\n",
       " {'C': 'Adley Rutschman',\n",
       "  '1B': \"Ryan O'Hearn\",\n",
       "  '2B': 'Jordan Westburg',\n",
       "  '3B': 'Ramón Urías',\n",
       "  'SS': 'Gunnar Henderson',\n",
       "  'LF': 'Austin Hays',\n",
       "  'CF': 'Cedric Mullins',\n",
       "  'RF': 'Anthony Santander',\n",
       "  'DH': 'Ryan Mountcastle'},\n",
       " {'C': 'Adley Rutschman',\n",
       "  '1B': \"Ryan O'Hearn\",\n",
       "  '2B': 'Adam Frazier',\n",
       "  '3B': 'Ramón Urías',\n",
       "  'SS': 'Gunnar Henderson',\n",
       "  'LF': 'Austin Hays',\n",
       "  'CF': 'Cedric Mullins',\n",
       "  'RF': 'Anthony Santander',\n",
       "  'DH': 'Ryan Mountcastle'},\n",
       " {'C': 'Adley Rutschman',\n",
       "  '1B': 'Ryan Mountcastle',\n",
       "  '2B': 'Adam Frazier',\n",
       "  '3B': 'Ramón Urías',\n",
       "  'SS': 'Gunnar Henderson',\n",
       "  'LF': 'Austin Hays',\n",
       "  'CF': 'Cedric Mullins',\n",
       "  'RF': \"Ryan O'Hearn\",\n",
       "  'DH': 'Anthony Santander'},\n",
       " {'C': 'Adley Rutschman',\n",
       "  '1B': 'Ryan Mountcastle',\n",
       "  '2B': 'Adam Frazier',\n",
       "  '3B': 'Ramón Urías',\n",
       "  'SS': 'Gunnar Henderson',\n",
       "  'LF': 'Ryan McKenna',\n",
       "  'CF': 'Cedric Mullins',\n",
       "  'RF': \"Ryan O'Hearn\",\n",
       "  'DH': 'Anthony Santander'},\n",
       " {'C': 'Adley Rutschman',\n",
       "  '1B': 'Ryan Mountcastle',\n",
       "  '2B': 'Adam Frazier',\n",
       "  '3B': 'Ramón Urías',\n",
       "  'SS': 'Gunnar Henderson',\n",
       "  'LF': 'Austin Hays',\n",
       "  'CF': 'Cedric Mullins',\n",
       "  'RF': \"Ryan O'Hearn\",\n",
       "  'DH': 'Anthony Santander'},\n",
       " {'C': 'James McCann',\n",
       "  '1B': \"Ryan O'Hearn\",\n",
       "  '2B': 'Jordan Westburg',\n",
       "  '3B': 'Gunnar Henderson',\n",
       "  'SS': 'Jorge Mateo',\n",
       "  'LF': 'Adam Frazier',\n",
       "  'CF': 'Cedric Mullins',\n",
       "  'RF': 'Anthony Santander',\n",
       "  'DH': 'Ryan Mountcastle'},\n",
       " {'C': 'Adley Rutschman',\n",
       "  '1B': \"Ryan O'Hearn\",\n",
       "  '2B': 'Adam Frazier',\n",
       "  '3B': 'Ramón Urías',\n",
       "  'SS': 'Gunnar Henderson',\n",
       "  'LF': 'Austin Hays',\n",
       "  'CF': 'Cedric Mullins',\n",
       "  'RF': 'Anthony Santander',\n",
       "  'DH': 'Jordan Westburg'},\n",
       " {'C': 'James McCann',\n",
       "  '1B': \"Ryan O'Hearn\",\n",
       "  '2B': 'Adam Frazier',\n",
       "  '3B': 'Ramón Urías',\n",
       "  'SS': 'Gunnar Henderson',\n",
       "  'LF': 'Austin Hays',\n",
       "  'CF': 'Cedric Mullins',\n",
       "  'RF': 'Anthony Santander',\n",
       "  'DH': 'Adley Rutschman'},\n",
       " {'C': 'Adley Rutschman',\n",
       "  '1B': 'Ryan Mountcastle',\n",
       "  '2B': 'Adam Frazier',\n",
       "  '3B': 'Ramón Urías',\n",
       "  'SS': 'Gunnar Henderson',\n",
       "  'LF': 'Aaron Hicks',\n",
       "  'CF': 'Cedric Mullins',\n",
       "  'RF': \"Ryan O'Hearn\",\n",
       "  'DH': 'Anthony Santander'},\n",
       " {'C': 'Adley Rutschman',\n",
       "  '1B': 'Ryan Mountcastle',\n",
       "  '2B': 'Adam Frazier',\n",
       "  '3B': 'Ramón Urías',\n",
       "  'SS': 'Gunnar Henderson',\n",
       "  'LF': 'Austin Hays',\n",
       "  'CF': 'Cedric Mullins',\n",
       "  'RF': 'Anthony Santander',\n",
       "  'DH': \"Ryan O'Hearn\"},\n",
       " {'C': 'Adley Rutschman',\n",
       "  '1B': \"Ryan O'Hearn\",\n",
       "  '2B': 'Adam Frazier',\n",
       "  '3B': 'Ramón Urías',\n",
       "  'SS': 'Gunnar Henderson',\n",
       "  'LF': 'Austin Hays',\n",
       "  'CF': 'Cedric Mullins',\n",
       "  'RF': 'Aaron Hicks',\n",
       "  'DH': 'Anthony Santander'},\n",
       " {'C': 'Adley Rutschman',\n",
       "  '1B': 'Ryan Mountcastle',\n",
       "  '2B': 'Adam Frazier',\n",
       "  '3B': 'Ramón Urías',\n",
       "  'SS': 'Gunnar Henderson',\n",
       "  'LF': 'Aaron Hicks',\n",
       "  'CF': 'Cedric Mullins',\n",
       "  'RF': \"Ryan O'Hearn\",\n",
       "  'DH': 'Anthony Santander'},\n",
       " {'C': 'James McCann',\n",
       "  '1B': \"Ryan O'Hearn\",\n",
       "  '2B': 'Adam Frazier',\n",
       "  '3B': 'Jordan Westburg',\n",
       "  'SS': 'Gunnar Henderson',\n",
       "  'LF': 'Austin Hays',\n",
       "  'CF': 'Cedric Mullins',\n",
       "  'RF': 'Anthony Santander',\n",
       "  'DH': 'Adley Rutschman'},\n",
       " {'C': 'Adley Rutschman',\n",
       "  '1B': \"Ryan O'Hearn\",\n",
       "  '2B': 'Adam Frazier',\n",
       "  '3B': 'Jordan Westburg',\n",
       "  'SS': 'Gunnar Henderson',\n",
       "  'LF': 'Austin Hays',\n",
       "  'CF': 'Cedric Mullins',\n",
       "  'RF': 'Aaron Hicks',\n",
       "  'DH': 'Anthony Santander'},\n",
       " {'C': 'Adley Rutschman',\n",
       "  '1B': \"Ryan O'Hearn\",\n",
       "  '2B': 'Adam Frazier',\n",
       "  '3B': 'Jordan Westburg',\n",
       "  'SS': 'Gunnar Henderson',\n",
       "  'LF': 'Aaron Hicks',\n",
       "  'CF': 'Cedric Mullins',\n",
       "  'RF': 'Anthony Santander',\n",
       "  'DH': 'Heston Kjerstad'},\n",
       " {'C': 'Adley Rutschman',\n",
       "  '1B': \"Ryan O'Hearn\",\n",
       "  '2B': 'Adam Frazier',\n",
       "  '3B': 'Ramón Urías',\n",
       "  'SS': 'Gunnar Henderson',\n",
       "  'LF': 'Austin Hays',\n",
       "  'CF': 'Cedric Mullins',\n",
       "  'RF': 'Aaron Hicks',\n",
       "  'DH': 'Anthony Santander'},\n",
       " {'C': 'James McCann',\n",
       "  '1B': \"Ryan O'Hearn\",\n",
       "  '2B': 'Adam Frazier',\n",
       "  '3B': 'Ramón Urías',\n",
       "  'SS': 'Gunnar Henderson',\n",
       "  'LF': 'Austin Hays',\n",
       "  'CF': 'Cedric Mullins',\n",
       "  'RF': 'Anthony Santander',\n",
       "  'DH': 'Adley Rutschman'},\n",
       " {'C': 'Adley Rutschman',\n",
       "  '1B': \"Ryan O'Hearn\",\n",
       "  '2B': 'Jordan Westburg',\n",
       "  '3B': 'Gunnar Henderson',\n",
       "  'SS': 'Jorge Mateo',\n",
       "  'LF': 'Austin Hays',\n",
       "  'CF': 'Cedric Mullins',\n",
       "  'RF': 'Aaron Hicks',\n",
       "  'DH': 'Heston Kjerstad'},\n",
       " {'C': 'James McCann',\n",
       "  '1B': \"Ryan O'Hearn\",\n",
       "  '2B': 'Adam Frazier',\n",
       "  '3B': 'Gunnar Henderson',\n",
       "  'SS': 'Jorge Mateo',\n",
       "  'LF': 'Austin Hays',\n",
       "  'CF': 'Cedric Mullins',\n",
       "  'RF': 'Anthony Santander',\n",
       "  'DH': 'Heston Kjerstad'},\n",
       " {'C': 'Adley Rutschman',\n",
       "  '1B': \"Ryan O'Hearn\",\n",
       "  '2B': 'Adam Frazier',\n",
       "  '3B': 'Ramón Urías',\n",
       "  'SS': 'Gunnar Henderson',\n",
       "  'LF': 'Austin Hays',\n",
       "  'CF': 'Cedric Mullins',\n",
       "  'RF': 'Anthony Santander',\n",
       "  'DH': 'Heston Kjerstad'},\n",
       " {'C': 'Adley Rutschman',\n",
       "  '1B': \"Ryan O'Hearn\",\n",
       "  '2B': 'Adam Frazier',\n",
       "  '3B': 'Jordan Westburg',\n",
       "  'SS': 'Gunnar Henderson',\n",
       "  'LF': 'Austin Hays',\n",
       "  'CF': 'Cedric Mullins',\n",
       "  'RF': 'Aaron Hicks',\n",
       "  'DH': 'Anthony Santander'},\n",
       " {'C': 'Adley Rutschman',\n",
       "  '1B': \"Ryan O'Hearn\",\n",
       "  '2B': 'Jordan Westburg',\n",
       "  '3B': 'Ramón Urías',\n",
       "  'SS': 'Gunnar Henderson',\n",
       "  'LF': 'Austin Hays',\n",
       "  'CF': 'Aaron Hicks',\n",
       "  'RF': 'Anthony Santander',\n",
       "  'DH': 'Heston Kjerstad'},\n",
       " {'C': 'James McCann',\n",
       "  '1B': \"Ryan O'Hearn\",\n",
       "  '2B': 'Adam Frazier',\n",
       "  '3B': 'Ramón Urías',\n",
       "  'SS': 'Gunnar Henderson',\n",
       "  'LF': 'Aaron Hicks',\n",
       "  'CF': 'Cedric Mullins',\n",
       "  'RF': 'Anthony Santander',\n",
       "  'DH': 'Adley Rutschman'},\n",
       " {'C': 'Adley Rutschman',\n",
       "  '1B': \"Ryan O'Hearn\",\n",
       "  '2B': 'Jordan Westburg',\n",
       "  '3B': 'Gunnar Henderson',\n",
       "  'SS': 'Jorge Mateo',\n",
       "  'LF': 'Austin Hays',\n",
       "  'CF': 'Cedric Mullins',\n",
       "  'RF': 'Anthony Santander',\n",
       "  'DH': 'Heston Kjerstad'},\n",
       " {'C': 'Adley Rutschman',\n",
       "  '1B': \"Ryan O'Hearn\",\n",
       "  '2B': 'Adam Frazier',\n",
       "  '3B': 'Ramón Urías',\n",
       "  'SS': 'Gunnar Henderson',\n",
       "  'LF': 'Austin Hays',\n",
       "  'CF': 'Cedric Mullins',\n",
       "  'RF': 'Aaron Hicks',\n",
       "  'DH': 'Anthony Santander'},\n",
       " {'C': 'James McCann',\n",
       "  '1B': 'Ryan Mountcastle',\n",
       "  '2B': 'Adam Frazier',\n",
       "  '3B': 'Jordan Westburg',\n",
       "  'SS': 'Jorge Mateo',\n",
       "  'LF': 'Austin Hays',\n",
       "  'CF': 'Cedric Mullins',\n",
       "  'RF': 'Heston Kjerstad',\n",
       "  'DH': \"Ryan O'Hearn\"},\n",
       " {'C': 'Adley Rutschman',\n",
       "  '1B': 'Ryan Mountcastle',\n",
       "  '2B': 'Adam Frazier',\n",
       "  '3B': 'Ramón Urías',\n",
       "  'SS': 'Gunnar Henderson',\n",
       "  'LF': 'Aaron Hicks',\n",
       "  'CF': 'Cedric Mullins',\n",
       "  'RF': \"Ryan O'Hearn\",\n",
       "  'DH': 'Anthony Santander'},\n",
       " {'C': 'James McCann',\n",
       "  '1B': \"Ryan O'Hearn\",\n",
       "  '2B': 'Adam Frazier',\n",
       "  '3B': 'Jordan Westburg',\n",
       "  'SS': 'Gunnar Henderson',\n",
       "  'LF': 'Heston Kjerstad',\n",
       "  'CF': 'Cedric Mullins',\n",
       "  'RF': 'Anthony Santander',\n",
       "  'DH': 'Adley Rutschman'},\n",
       " {},\n",
       " {}]"
      ]
     },
     "execution_count": 9,
     "metadata": {},
     "output_type": "execute_result"
    }
   ],
   "source": [
    "\n",
    "# Extracting the last names from the current player data for matching\n",
    "player_data['Last Name'] = player_data['Name'].apply(lambda name: name.split()[-1])\n",
    "\n",
    "# Function to match last names from historical lineups to full names in current data\n",
    "def match_full_names(lineup, current_data):\n",
    "    full_name_lineup = {}\n",
    "    for position, last_name in lineup.items():\n",
    "        matched_player = current_data[current_data['Last Name'] == last_name]\n",
    "        if not matched_player.empty:\n",
    "            full_name = matched_player['Name'].iloc[0]\n",
    "            full_name_lineup[position] = full_name\n",
    "    return full_name_lineup\n",
    "\n",
    "# Processing each historical lineup to match full names\n",
    "processed_lineups_RHP = []\n",
    "for _, row in historical_lineups_RHP.iterrows():\n",
    "    lineup = row[1:].to_dict()  # Convert row to dictionary, excluding the game column\n",
    "    matched_lineup = match_full_names(lineup, player_data)\n",
    "    processed_lineups_RHP.append(matched_lineup)\n",
    "\n",
    "processed_lineups_LHP = []\n",
    "for _, row in historical_lineups_LHP.iterrows():\n",
    "    lineup = row[1:].to_dict()  # Convert row to dictionary, excluding the game column\n",
    "    matched_lineup = match_full_names(lineup, player_data)\n",
    "    processed_lineups_LHP.append(matched_lineup)\n",
    "\n",
    "processed_lineups_LHP"
   ]
  },
  {
   "cell_type": "code",
   "execution_count": 10,
   "metadata": {},
   "outputs": [],
   "source": [
    "def create_lineup_dataframe(processed_lineup, player_data):\n",
    "    lineup_data = []\n",
    "    for position, player_name in processed_lineup.items():\n",
    "        player_stats = player_data[player_data['Name'] == player_name]\n",
    "        if not player_stats.empty:\n",
    "            player_info = player_stats.iloc[0].to_dict()\n",
    "            player_info['Position'] = position  # Adding the position to the player's info\n",
    "            lineup_data.append(player_info)\n",
    "    return pd.DataFrame(lineup_data)\n",
    "\n",
    "# Transforming the first few processed lineups into DataFrames\n",
    "lineup_dataframes_RHP = [create_lineup_dataframe(lineup, player_data) for lineup in  processed_lineups_RHP]\n",
    "lineup_dataframes_LHP = [create_lineup_dataframe(lineup, player_data) for lineup in  processed_lineups_LHP]\n"
   ]
  },
  {
   "cell_type": "code",
   "execution_count": 12,
   "metadata": {},
   "outputs": [
    {
     "name": "stdout",
     "output_type": "stream",
     "text": [
      "Processed 5/55 lineups.\n",
      "Processed 10/55 lineups.\n",
      "Processed 15/55 lineups.\n",
      "Processed 20/55 lineups.\n",
      "Processed 25/55 lineups.\n",
      "Processed 30/55 lineups.\n",
      "Processed 35/55 lineups.\n",
      "Processed 40/55 lineups.\n",
      "Processed 45/55 lineups.\n",
      "Processed 50/55 lineups.\n",
      "Error processing lineup 54: 'Position'\n",
      "Error processing lineup 55: 'Position'\n",
      "Processed 55/55 lineups.\n"
     ]
    },
    {
     "data": {
      "text/plain": [
       "[{'Lineup':     id               Name bats   bat  bat_sd  plat  bat_vsRHP  bat_vsLHP  \\\n",
       "  0  BAL    Adley Rutschman    S  22.2       9    10       27.2       17.2   \n",
       "  1  BAL   Ryan Mountcastle    R  10.0      22   -11        4.5       15.5   \n",
       "  2  BAL        Ramón Urías    R  -2.0      13    -4       -4.0    -1000.0   \n",
       "  3  BAL   Gunnar Henderson    L  20.9      19    25       33.4        8.4   \n",
       "  4  BAL        Jorge Mateo    R  -1.8      20    -8       -5.8    -1000.0   \n",
       "  5  BAL       Ryan McKenna    R  -1.0      21    -3       -2.5    -1000.0   \n",
       "  6  BAL     Cedric Mullins    L   3.7      19    18       12.7       -5.3   \n",
       "  7  BAL        Austin Hays    R   1.3       9    -8       -2.7        5.3   \n",
       "  8  BAL  Anthony Santander    S  10.5      14     7       14.0        7.0   \n",
       "  \n",
       "          C      1B      2B      3B      SS      LF      CF      RF  \\\n",
       "  0    12.0    -6.0 -1000.0 -1000.0 -1000.0 -1000.0 -1000.0 -1000.0   \n",
       "  1 -1000.0    -1.0 -1000.0 -1000.0 -1000.0 -1000.0 -1000.0 -1000.0   \n",
       "  2 -1000.0     5.0     4.0    12.0    -8.0 -1000.0 -1000.0 -1000.0   \n",
       "  3 -1000.0     5.0     0.0    10.0     5.0 -1000.0 -1000.0 -1000.0   \n",
       "  4 -1000.0 -1000.0     9.0     4.0    13.0     2.0    -3.0     0.0   \n",
       "  5 -1000.0 -1000.0 -1000.0 -1000.0 -1000.0     7.0     3.0     4.0   \n",
       "  6 -1000.0 -1000.0 -1000.0 -1000.0 -1000.0    15.0     8.0    13.0   \n",
       "  7 -1000.0 -1000.0 -1000.0 -1000.0 -1000.0     6.0    -4.0     8.0   \n",
       "  8 -1000.0    -4.0 -1000.0 -1000.0 -1000.0    -8.0 -1000.0   -10.0   \n",
       "  \n",
       "       Last Name Position  \n",
       "  0    Rutschman        C  \n",
       "  1  Mountcastle       1B  \n",
       "  2        Urías       2B  \n",
       "  3    Henderson       3B  \n",
       "  4        Mateo       SS  \n",
       "  5      McKenna       LF  \n",
       "  6      Mullins       CF  \n",
       "  7         Hays       RF  \n",
       "  8    Santander       DH  ,\n",
       "  'Mean Total RAA': 137.27040123686663,\n",
       "  'Lineup SD': 50.68112010323664,\n",
       "  '25th Percentile': 100.93812736472148,\n",
       "  '75th Percentile': 172.80002827023586},\n",
       " {'Lineup':     id               Name bats   bat  bat_sd  plat  bat_vsRHP  bat_vsLHP  \\\n",
       "  0  BAL    Adley Rutschman    S  22.2       9    10       27.2       17.2   \n",
       "  1  BAL   Ryan Mountcastle    R  10.0      22   -11        4.5       15.5   \n",
       "  2  BAL       Adam Frazier    L  -4.4      13    18        4.6      -13.4   \n",
       "  3  BAL        Ramón Urías    R  -2.0      13    -4       -4.0    -1000.0   \n",
       "  4  BAL        Jorge Mateo    R  -1.8      20    -8       -5.8    -1000.0   \n",
       "  5  BAL       Ryan McKenna    R  -1.0      21    -3       -2.5    -1000.0   \n",
       "  6  BAL     Cedric Mullins    L   3.7      19    18       12.7       -5.3   \n",
       "  7  BAL        Austin Hays    R   1.3       9    -8       -2.7        5.3   \n",
       "  8  BAL  Anthony Santander    S  10.5      14     7       14.0        7.0   \n",
       "  \n",
       "          C      1B      2B      3B      SS      LF      CF      RF  \\\n",
       "  0    12.0    -6.0 -1000.0 -1000.0 -1000.0 -1000.0 -1000.0 -1000.0   \n",
       "  1 -1000.0    -1.0 -1000.0 -1000.0 -1000.0 -1000.0 -1000.0 -1000.0   \n",
       "  2 -1000.0 -1000.0    -9.0 -1000.0 -1000.0     0.0 -1000.0    -6.0   \n",
       "  3 -1000.0     5.0     4.0    12.0    -8.0 -1000.0 -1000.0 -1000.0   \n",
       "  4 -1000.0 -1000.0     9.0     4.0    13.0     2.0    -3.0     0.0   \n",
       "  5 -1000.0 -1000.0 -1000.0 -1000.0 -1000.0     7.0     3.0     4.0   \n",
       "  6 -1000.0 -1000.0 -1000.0 -1000.0 -1000.0    15.0     8.0    13.0   \n",
       "  7 -1000.0 -1000.0 -1000.0 -1000.0 -1000.0     6.0    -4.0     8.0   \n",
       "  8 -1000.0    -4.0 -1000.0 -1000.0 -1000.0    -8.0 -1000.0   -10.0   \n",
       "  \n",
       "       Last Name Position  \n",
       "  0    Rutschman        C  \n",
       "  1  Mountcastle       1B  \n",
       "  2      Frazier       2B  \n",
       "  3        Urías       3B  \n",
       "  4        Mateo       SS  \n",
       "  5      McKenna       LF  \n",
       "  6      Mullins       CF  \n",
       "  7         Hays       RF  \n",
       "  8    Santander       DH  ,\n",
       "  'Mean Total RAA': 97.37972402603118,\n",
       "  'Lineup SD': 51.65345619154928,\n",
       "  '25th Percentile': 62.80930471861865,\n",
       "  '75th Percentile': 131.82393549370022},\n",
       " {'Lineup':     id               Name bats   bat  bat_sd  plat  bat_vsRHP  bat_vsLHP  \\\n",
       "  0  BAL       James McCann    R  -3.6      13   -10       -8.6        1.4   \n",
       "  1  BAL   Ryan Mountcastle    R  10.0      22   -11        4.5       15.5   \n",
       "  2  BAL        Ramón Urías    R  -2.0      13    -4       -4.0    -1000.0   \n",
       "  3  BAL   Gunnar Henderson    L  20.9      19    25       33.4        8.4   \n",
       "  4  BAL        Jorge Mateo    R  -1.8      20    -8       -5.8    -1000.0   \n",
       "  5  BAL        Austin Hays    R   1.3       9    -8       -2.7        5.3   \n",
       "  6  BAL     Cedric Mullins    L   3.7      19    18       12.7       -5.3   \n",
       "  7  BAL  Anthony Santander    S  10.5      14     7       14.0        7.0   \n",
       "  8  BAL    Adley Rutschman    S  22.2       9    10       27.2       17.2   \n",
       "  \n",
       "          C      1B      2B      3B      SS      LF      CF      RF  \\\n",
       "  0    -1.0    -6.0 -1000.0 -1000.0 -1000.0 -1000.0 -1000.0 -1000.0   \n",
       "  1 -1000.0    -1.0 -1000.0 -1000.0 -1000.0 -1000.0 -1000.0 -1000.0   \n",
       "  2 -1000.0     5.0     4.0    12.0    -8.0 -1000.0 -1000.0 -1000.0   \n",
       "  3 -1000.0     5.0     0.0    10.0     5.0 -1000.0 -1000.0 -1000.0   \n",
       "  4 -1000.0 -1000.0     9.0     4.0    13.0     2.0    -3.0     0.0   \n",
       "  5 -1000.0 -1000.0 -1000.0 -1000.0 -1000.0     6.0    -4.0     8.0   \n",
       "  6 -1000.0 -1000.0 -1000.0 -1000.0 -1000.0    15.0     8.0    13.0   \n",
       "  7 -1000.0    -4.0 -1000.0 -1000.0 -1000.0    -8.0 -1000.0   -10.0   \n",
       "  8    12.0    -6.0 -1000.0 -1000.0 -1000.0 -1000.0 -1000.0 -1000.0   \n",
       "  \n",
       "       Last Name Position  \n",
       "  0       McCann        C  \n",
       "  1  Mountcastle       1B  \n",
       "  2        Urías       2B  \n",
       "  3    Henderson       3B  \n",
       "  4        Mateo       SS  \n",
       "  5         Hays       LF  \n",
       "  6      Mullins       CF  \n",
       "  7    Santander       RF  \n",
       "  8    Rutschman       DH  ,\n",
       "  'Mean Total RAA': 100.8187079491676,\n",
       "  'Lineup SD': 52.114772645099066,\n",
       "  '25th Percentile': 65.02767410436238,\n",
       "  '75th Percentile': 134.83926397086935},\n",
       " {'Lineup':     id               Name bats   bat  bat_sd  plat  bat_vsRHP  bat_vsLHP  \\\n",
       "  0  BAL    Adley Rutschman    S  22.2       9    10       27.2       17.2   \n",
       "  1  BAL   Ryan Mountcastle    R  10.0      22   -11        4.5       15.5   \n",
       "  2  BAL       Adam Frazier    L  -4.4      13    18        4.6      -13.4   \n",
       "  3  BAL        Ramón Urías    R  -2.0      13    -4       -4.0    -1000.0   \n",
       "  4  BAL        Jorge Mateo    R  -1.8      20    -8       -5.8    -1000.0   \n",
       "  5  BAL        Austin Hays    R   1.3       9    -8       -2.7        5.3   \n",
       "  6  BAL     Cedric Mullins    L   3.7      19    18       12.7       -5.3   \n",
       "  7  BAL       Ryan McKenna    R  -1.0      21    -3       -2.5    -1000.0   \n",
       "  8  BAL  Anthony Santander    S  10.5      14     7       14.0        7.0   \n",
       "  \n",
       "          C      1B      2B      3B      SS      LF      CF      RF  \\\n",
       "  0    12.0    -6.0 -1000.0 -1000.0 -1000.0 -1000.0 -1000.0 -1000.0   \n",
       "  1 -1000.0    -1.0 -1000.0 -1000.0 -1000.0 -1000.0 -1000.0 -1000.0   \n",
       "  2 -1000.0 -1000.0    -9.0 -1000.0 -1000.0     0.0 -1000.0    -6.0   \n",
       "  3 -1000.0     5.0     4.0    12.0    -8.0 -1000.0 -1000.0 -1000.0   \n",
       "  4 -1000.0 -1000.0     9.0     4.0    13.0     2.0    -3.0     0.0   \n",
       "  5 -1000.0 -1000.0 -1000.0 -1000.0 -1000.0     6.0    -4.0     8.0   \n",
       "  6 -1000.0 -1000.0 -1000.0 -1000.0 -1000.0    15.0     8.0    13.0   \n",
       "  7 -1000.0 -1000.0 -1000.0 -1000.0 -1000.0     7.0     3.0     4.0   \n",
       "  8 -1000.0    -4.0 -1000.0 -1000.0 -1000.0    -8.0 -1000.0   -10.0   \n",
       "  \n",
       "       Last Name Position  \n",
       "  0    Rutschman        C  \n",
       "  1  Mountcastle       1B  \n",
       "  2      Frazier       2B  \n",
       "  3        Urías       3B  \n",
       "  4        Mateo       SS  \n",
       "  5         Hays       LF  \n",
       "  6      Mullins       CF  \n",
       "  7      McKenna       RF  \n",
       "  8    Santander       DH  ,\n",
       "  'Mean Total RAA': 93.90303285396365,\n",
       "  'Lineup SD': 50.80643717378797,\n",
       "  '25th Percentile': 60.03461595323904,\n",
       "  '75th Percentile': 127.92885724877394},\n",
       " {'Lineup':     id               Name bats   bat  bat_sd  plat  bat_vsRHP  bat_vsLHP  \\\n",
       "  0  BAL    Adley Rutschman    S  22.2       9    10       27.2       17.2   \n",
       "  1  BAL   Ryan Mountcastle    R  10.0      22   -11        4.5       15.5   \n",
       "  2  BAL        Ramón Urías    R  -2.0      13    -4       -4.0    -1000.0   \n",
       "  3  BAL   Gunnar Henderson    L  20.9      19    25       33.4        8.4   \n",
       "  4  BAL        Jorge Mateo    R  -1.8      20    -8       -5.8    -1000.0   \n",
       "  5  BAL        Austin Hays    R   1.3       9    -8       -2.7        5.3   \n",
       "  6  BAL     Cedric Mullins    L   3.7      19    18       12.7       -5.3   \n",
       "  7  BAL  Anthony Santander    S  10.5      14     7       14.0        7.0   \n",
       "  8  BAL       James McCann    R  -3.6      13   -10       -8.6        1.4   \n",
       "  \n",
       "          C      1B      2B      3B      SS      LF      CF      RF  \\\n",
       "  0    12.0    -6.0 -1000.0 -1000.0 -1000.0 -1000.0 -1000.0 -1000.0   \n",
       "  1 -1000.0    -1.0 -1000.0 -1000.0 -1000.0 -1000.0 -1000.0 -1000.0   \n",
       "  2 -1000.0     5.0     4.0    12.0    -8.0 -1000.0 -1000.0 -1000.0   \n",
       "  3 -1000.0     5.0     0.0    10.0     5.0 -1000.0 -1000.0 -1000.0   \n",
       "  4 -1000.0 -1000.0     9.0     4.0    13.0     2.0    -3.0     0.0   \n",
       "  5 -1000.0 -1000.0 -1000.0 -1000.0 -1000.0     6.0    -4.0     8.0   \n",
       "  6 -1000.0 -1000.0 -1000.0 -1000.0 -1000.0    15.0     8.0    13.0   \n",
       "  7 -1000.0    -4.0 -1000.0 -1000.0 -1000.0    -8.0 -1000.0   -10.0   \n",
       "  8    -1.0    -6.0 -1000.0 -1000.0 -1000.0 -1000.0 -1000.0 -1000.0   \n",
       "  \n",
       "       Last Name Position  \n",
       "  0    Rutschman        C  \n",
       "  1  Mountcastle       1B  \n",
       "  2        Urías       2B  \n",
       "  3    Henderson       3B  \n",
       "  4        Mateo       SS  \n",
       "  5         Hays       LF  \n",
       "  6      Mullins       CF  \n",
       "  7    Santander       RF  \n",
       "  8       McCann       DH  ,\n",
       "  'Mean Total RAA': 111.94317308109015,\n",
       "  'Lineup SD': 50.83470423309685,\n",
       "  '25th Percentile': 78.40441219813724,\n",
       "  '75th Percentile': 147.46230620451738},\n",
       " {'Lineup':     id              Name bats   bat  bat_sd  plat  bat_vsRHP  bat_vsLHP  \\\n",
       "  0  BAL      James McCann    R  -3.6      13   -10       -8.6        1.4   \n",
       "  1  BAL  Ryan Mountcastle    R  10.0      22   -11        4.5       15.5   \n",
       "  2  BAL       Ramón Urías    R  -2.0      13    -4       -4.0    -1000.0   \n",
       "  3  BAL  Gunnar Henderson    L  20.9      19    25       33.4        8.4   \n",
       "  4  BAL       Jorge Mateo    R  -1.8      20    -8       -5.8    -1000.0   \n",
       "  5  BAL       Austin Hays    R   1.3       9    -8       -2.7        5.3   \n",
       "  6  BAL      Ryan McKenna    R  -1.0      21    -3       -2.5    -1000.0   \n",
       "  7  BAL      Adam Frazier    L  -4.4      13    18        4.6      -13.4   \n",
       "  8  BAL   Adley Rutschman    S  22.2       9    10       27.2       17.2   \n",
       "  \n",
       "          C      1B      2B      3B      SS      LF      CF      RF  \\\n",
       "  0    -1.0    -6.0 -1000.0 -1000.0 -1000.0 -1000.0 -1000.0 -1000.0   \n",
       "  1 -1000.0    -1.0 -1000.0 -1000.0 -1000.0 -1000.0 -1000.0 -1000.0   \n",
       "  2 -1000.0     5.0     4.0    12.0    -8.0 -1000.0 -1000.0 -1000.0   \n",
       "  3 -1000.0     5.0     0.0    10.0     5.0 -1000.0 -1000.0 -1000.0   \n",
       "  4 -1000.0 -1000.0     9.0     4.0    13.0     2.0    -3.0     0.0   \n",
       "  5 -1000.0 -1000.0 -1000.0 -1000.0 -1000.0     6.0    -4.0     8.0   \n",
       "  6 -1000.0 -1000.0 -1000.0 -1000.0 -1000.0     7.0     3.0     4.0   \n",
       "  7 -1000.0 -1000.0    -9.0 -1000.0 -1000.0     0.0 -1000.0    -6.0   \n",
       "  8    12.0    -6.0 -1000.0 -1000.0 -1000.0 -1000.0 -1000.0 -1000.0   \n",
       "  \n",
       "       Last Name Position  \n",
       "  0       McCann        C  \n",
       "  1  Mountcastle       1B  \n",
       "  2        Urías       2B  \n",
       "  3    Henderson       3B  \n",
       "  4        Mateo       SS  \n",
       "  5         Hays       LF  \n",
       "  6      McKenna       CF  \n",
       "  7      Frazier       RF  \n",
       "  8    Rutschman       DH  ,\n",
       "  'Mean Total RAA': 76.06227707543952,\n",
       "  'Lineup SD': 51.91601852580012,\n",
       "  '25th Percentile': 40.73443692615041,\n",
       "  '75th Percentile': 111.38622738915608},\n",
       " {'Lineup':     id               Name bats   bat  bat_sd  plat  bat_vsRHP  bat_vsLHP  \\\n",
       "  0  BAL       James McCann    R  -3.6      13   -10       -8.6        1.4   \n",
       "  1  BAL   Ryan Mountcastle    R  10.0      22   -11        4.5       15.5   \n",
       "  2  BAL        Ramón Urías    R  -2.0      13    -4       -4.0    -1000.0   \n",
       "  3  BAL   Gunnar Henderson    L  20.9      19    25       33.4        8.4   \n",
       "  4  BAL        Jorge Mateo    R  -1.8      20    -8       -5.8    -1000.0   \n",
       "  5  BAL        Austin Hays    R   1.3       9    -8       -2.7        5.3   \n",
       "  6  BAL     Cedric Mullins    L   3.7      19    18       12.7       -5.3   \n",
       "  7  BAL  Anthony Santander    S  10.5      14     7       14.0        7.0   \n",
       "  8  BAL    Adley Rutschman    S  22.2       9    10       27.2       17.2   \n",
       "  \n",
       "          C      1B      2B      3B      SS      LF      CF      RF  \\\n",
       "  0    -1.0    -6.0 -1000.0 -1000.0 -1000.0 -1000.0 -1000.0 -1000.0   \n",
       "  1 -1000.0    -1.0 -1000.0 -1000.0 -1000.0 -1000.0 -1000.0 -1000.0   \n",
       "  2 -1000.0     5.0     4.0    12.0    -8.0 -1000.0 -1000.0 -1000.0   \n",
       "  3 -1000.0     5.0     0.0    10.0     5.0 -1000.0 -1000.0 -1000.0   \n",
       "  4 -1000.0 -1000.0     9.0     4.0    13.0     2.0    -3.0     0.0   \n",
       "  5 -1000.0 -1000.0 -1000.0 -1000.0 -1000.0     6.0    -4.0     8.0   \n",
       "  6 -1000.0 -1000.0 -1000.0 -1000.0 -1000.0    15.0     8.0    13.0   \n",
       "  7 -1000.0    -4.0 -1000.0 -1000.0 -1000.0    -8.0 -1000.0   -10.0   \n",
       "  8    12.0    -6.0 -1000.0 -1000.0 -1000.0 -1000.0 -1000.0 -1000.0   \n",
       "  \n",
       "       Last Name Position  \n",
       "  0       McCann        C  \n",
       "  1  Mountcastle       1B  \n",
       "  2        Urías       2B  \n",
       "  3    Henderson       3B  \n",
       "  4        Mateo       SS  \n",
       "  5         Hays       LF  \n",
       "  6      Mullins       CF  \n",
       "  7    Santander       RF  \n",
       "  8    Rutschman       DH  ,\n",
       "  'Mean Total RAA': 99.32812386509175,\n",
       "  'Lineup SD': 50.53227454127979,\n",
       "  '25th Percentile': 66.51469102949078,\n",
       "  '75th Percentile': 132.84425868317555},\n",
       " {'Lineup':     id               Name bats   bat  bat_sd  plat  bat_vsRHP  bat_vsLHP  \\\n",
       "  0  BAL       James McCann    R  -3.6      13   -10       -8.6        1.4   \n",
       "  1  BAL   Ryan Mountcastle    R  10.0      22   -11        4.5       15.5   \n",
       "  2  BAL       Adam Frazier    L  -4.4      13    18        4.6      -13.4   \n",
       "  3  BAL        Ramón Urías    R  -2.0      13    -4       -4.0    -1000.0   \n",
       "  4  BAL   Gunnar Henderson    L  20.9      19    25       33.4        8.4   \n",
       "  5  BAL        Austin Hays    R   1.3       9    -8       -2.7        5.3   \n",
       "  6  BAL     Cedric Mullins    L   3.7      19    18       12.7       -5.3   \n",
       "  7  BAL  Anthony Santander    S  10.5      14     7       14.0        7.0   \n",
       "  8  BAL    Adley Rutschman    S  22.2       9    10       27.2       17.2   \n",
       "  \n",
       "          C      1B      2B      3B      SS      LF      CF      RF  \\\n",
       "  0    -1.0    -6.0 -1000.0 -1000.0 -1000.0 -1000.0 -1000.0 -1000.0   \n",
       "  1 -1000.0    -1.0 -1000.0 -1000.0 -1000.0 -1000.0 -1000.0 -1000.0   \n",
       "  2 -1000.0 -1000.0    -9.0 -1000.0 -1000.0     0.0 -1000.0    -6.0   \n",
       "  3 -1000.0     5.0     4.0    12.0    -8.0 -1000.0 -1000.0 -1000.0   \n",
       "  4 -1000.0     5.0     0.0    10.0     5.0 -1000.0 -1000.0 -1000.0   \n",
       "  5 -1000.0 -1000.0 -1000.0 -1000.0 -1000.0     6.0    -4.0     8.0   \n",
       "  6 -1000.0 -1000.0 -1000.0 -1000.0 -1000.0    15.0     8.0    13.0   \n",
       "  7 -1000.0    -4.0 -1000.0 -1000.0 -1000.0    -8.0 -1000.0   -10.0   \n",
       "  8    12.0    -6.0 -1000.0 -1000.0 -1000.0 -1000.0 -1000.0 -1000.0   \n",
       "  \n",
       "       Last Name Position  \n",
       "  0       McCann        C  \n",
       "  1  Mountcastle       1B  \n",
       "  2      Frazier       2B  \n",
       "  3        Urías       3B  \n",
       "  4    Henderson       SS  \n",
       "  5         Hays       LF  \n",
       "  6      Mullins       CF  \n",
       "  7    Santander       RF  \n",
       "  8    Rutschman       DH  ,\n",
       "  'Mean Total RAA': 90.37366465616284,\n",
       "  'Lineup SD': 49.63140832488047,\n",
       "  '25th Percentile': 56.774806764684094,\n",
       "  '75th Percentile': 123.82259039724491},\n",
       " {'Lineup':     id              Name bats   bat  bat_sd  plat  bat_vsRHP  bat_vsLHP  \\\n",
       "  0  BAL   Adley Rutschman    S  22.2       9    10       27.2       17.2   \n",
       "  1  BAL  Ryan Mountcastle    R  10.0      22   -11        4.5       15.5   \n",
       "  2  BAL       Ramón Urías    R  -2.0      13    -4       -4.0    -1000.0   \n",
       "  3  BAL  Gunnar Henderson    L  20.9      19    25       33.4        8.4   \n",
       "  4  BAL       Jorge Mateo    R  -1.8      20    -8       -5.8    -1000.0   \n",
       "  5  BAL       Austin Hays    R   1.3       9    -8       -2.7        5.3   \n",
       "  6  BAL    Cedric Mullins    L   3.7      19    18       12.7       -5.3   \n",
       "  7  BAL      Ryan McKenna    R  -1.0      21    -3       -2.5    -1000.0   \n",
       "  8  BAL      James McCann    R  -3.6      13   -10       -8.6        1.4   \n",
       "  \n",
       "          C      1B      2B      3B      SS      LF      CF      RF  \\\n",
       "  0    12.0    -6.0 -1000.0 -1000.0 -1000.0 -1000.0 -1000.0 -1000.0   \n",
       "  1 -1000.0    -1.0 -1000.0 -1000.0 -1000.0 -1000.0 -1000.0 -1000.0   \n",
       "  2 -1000.0     5.0     4.0    12.0    -8.0 -1000.0 -1000.0 -1000.0   \n",
       "  3 -1000.0     5.0     0.0    10.0     5.0 -1000.0 -1000.0 -1000.0   \n",
       "  4 -1000.0 -1000.0     9.0     4.0    13.0     2.0    -3.0     0.0   \n",
       "  5 -1000.0 -1000.0 -1000.0 -1000.0 -1000.0     6.0    -4.0     8.0   \n",
       "  6 -1000.0 -1000.0 -1000.0 -1000.0 -1000.0    15.0     8.0    13.0   \n",
       "  7 -1000.0 -1000.0 -1000.0 -1000.0 -1000.0     7.0     3.0     4.0   \n",
       "  8    -1.0    -6.0 -1000.0 -1000.0 -1000.0 -1000.0 -1000.0 -1000.0   \n",
       "  \n",
       "       Last Name Position  \n",
       "  0    Rutschman        C  \n",
       "  1  Mountcastle       1B  \n",
       "  2        Urías       2B  \n",
       "  3    Henderson       3B  \n",
       "  4        Mateo       SS  \n",
       "  5         Hays       LF  \n",
       "  6      Mullins       CF  \n",
       "  7      McKenna       RF  \n",
       "  8       McCann       DH  ,\n",
       "  'Mean Total RAA': 110.07345290607496,\n",
       "  'Lineup SD': 51.287123862159355,\n",
       "  '25th Percentile': 74.73148605528328,\n",
       "  '75th Percentile': 146.45454302568695},\n",
       " {'Lineup':     id               Name bats   bat  bat_sd  plat  bat_vsRHP  bat_vsLHP  \\\n",
       "  0  BAL       James McCann    R  -3.6      13   -10       -8.6        1.4   \n",
       "  1  BAL   Ryan Mountcastle    R  10.0      22   -11        4.5       15.5   \n",
       "  2  BAL       Adam Frazier    L  -4.4      13    18        4.6      -13.4   \n",
       "  3  BAL        Ramón Urías    R  -2.0      13    -4       -4.0    -1000.0   \n",
       "  4  BAL        Jorge Mateo    R  -1.8      20    -8       -5.8    -1000.0   \n",
       "  5  BAL        Austin Hays    R   1.3       9    -8       -2.7        5.3   \n",
       "  6  BAL     Cedric Mullins    L   3.7      19    18       12.7       -5.3   \n",
       "  7  BAL  Anthony Santander    S  10.5      14     7       14.0        7.0   \n",
       "  8  BAL    Adley Rutschman    S  22.2       9    10       27.2       17.2   \n",
       "  \n",
       "          C      1B      2B      3B      SS      LF      CF      RF  \\\n",
       "  0    -1.0    -6.0 -1000.0 -1000.0 -1000.0 -1000.0 -1000.0 -1000.0   \n",
       "  1 -1000.0    -1.0 -1000.0 -1000.0 -1000.0 -1000.0 -1000.0 -1000.0   \n",
       "  2 -1000.0 -1000.0    -9.0 -1000.0 -1000.0     0.0 -1000.0    -6.0   \n",
       "  3 -1000.0     5.0     4.0    12.0    -8.0 -1000.0 -1000.0 -1000.0   \n",
       "  4 -1000.0 -1000.0     9.0     4.0    13.0     2.0    -3.0     0.0   \n",
       "  5 -1000.0 -1000.0 -1000.0 -1000.0 -1000.0     6.0    -4.0     8.0   \n",
       "  6 -1000.0 -1000.0 -1000.0 -1000.0 -1000.0    15.0     8.0    13.0   \n",
       "  7 -1000.0    -4.0 -1000.0 -1000.0 -1000.0    -8.0 -1000.0   -10.0   \n",
       "  8    12.0    -6.0 -1000.0 -1000.0 -1000.0 -1000.0 -1000.0 -1000.0   \n",
       "  \n",
       "       Last Name Position  \n",
       "  0       McCann        C  \n",
       "  1  Mountcastle       1B  \n",
       "  2      Frazier       2B  \n",
       "  3        Urías       3B  \n",
       "  4        Mateo       SS  \n",
       "  5         Hays       LF  \n",
       "  6      Mullins       CF  \n",
       "  7    Santander       RF  \n",
       "  8    Rutschman       DH  ,\n",
       "  'Mean Total RAA': 60.753919311615626,\n",
       "  'Lineup SD': 51.50806604342722,\n",
       "  '25th Percentile': 25.387907543803806,\n",
       "  '75th Percentile': 95.96881206422933},\n",
       " {'Lineup':     id               Name bats   bat  bat_sd  plat  bat_vsRHP  bat_vsLHP  \\\n",
       "  0  BAL    Adley Rutschman    S  22.2       9    10       27.2       17.2   \n",
       "  1  BAL   Ryan Mountcastle    R  10.0      22   -11        4.5       15.5   \n",
       "  2  BAL         Joey Ortiz    R  -0.1      14    -9       -4.6        4.4   \n",
       "  3  BAL        Ramón Urías    R  -2.0      13    -4       -4.0    -1000.0   \n",
       "  4  BAL        Jorge Mateo    R  -1.8      20    -8       -5.8    -1000.0   \n",
       "  5  BAL       Ryan McKenna    R  -1.0      21    -3       -2.5    -1000.0   \n",
       "  6  BAL     Cedric Mullins    L   3.7      19    18       12.7       -5.3   \n",
       "  7  BAL       Adam Frazier    L  -4.4      13    18        4.6      -13.4   \n",
       "  8  BAL  Anthony Santander    S  10.5      14     7       14.0        7.0   \n",
       "  \n",
       "          C      1B      2B      3B      SS      LF      CF      RF  \\\n",
       "  0    12.0    -6.0 -1000.0 -1000.0 -1000.0 -1000.0 -1000.0 -1000.0   \n",
       "  1 -1000.0    -1.0 -1000.0 -1000.0 -1000.0 -1000.0 -1000.0 -1000.0   \n",
       "  2 -1000.0     7.0    15.0    13.0    11.0 -1000.0 -1000.0 -1000.0   \n",
       "  3 -1000.0     5.0     4.0    12.0    -8.0 -1000.0 -1000.0 -1000.0   \n",
       "  4 -1000.0 -1000.0     9.0     4.0    13.0     2.0    -3.0     0.0   \n",
       "  5 -1000.0 -1000.0 -1000.0 -1000.0 -1000.0     7.0     3.0     4.0   \n",
       "  6 -1000.0 -1000.0 -1000.0 -1000.0 -1000.0    15.0     8.0    13.0   \n",
       "  7 -1000.0 -1000.0    -9.0 -1000.0 -1000.0     0.0 -1000.0    -6.0   \n",
       "  8 -1000.0    -4.0 -1000.0 -1000.0 -1000.0    -8.0 -1000.0   -10.0   \n",
       "  \n",
       "       Last Name Position  \n",
       "  0    Rutschman        C  \n",
       "  1  Mountcastle       1B  \n",
       "  2        Ortiz       2B  \n",
       "  3        Urías       3B  \n",
       "  4        Mateo       SS  \n",
       "  5      McKenna       LF  \n",
       "  6      Mullins       CF  \n",
       "  7      Frazier       RF  \n",
       "  8    Santander       DH  ,\n",
       "  'Mean Total RAA': 106.07382772695374,\n",
       "  'Lineup SD': 50.93216088169368,\n",
       "  '25th Percentile': 71.0454838985066,\n",
       "  '75th Percentile': 141.14210835081502},\n",
       " {'Lineup':     id               Name bats   bat  bat_sd  plat  bat_vsRHP  bat_vsLHP  \\\n",
       "  0  BAL       James McCann    R  -3.6      13   -10       -8.6        1.4   \n",
       "  1  BAL   Ryan Mountcastle    R  10.0      22   -11        4.5       15.5   \n",
       "  2  BAL         Joey Ortiz    R  -0.1      14    -9       -4.6        4.4   \n",
       "  3  BAL        Ramón Urías    R  -2.0      13    -4       -4.0    -1000.0   \n",
       "  4  BAL        Jorge Mateo    R  -1.8      20    -8       -5.8    -1000.0   \n",
       "  5  BAL        Austin Hays    R   1.3       9    -8       -2.7        5.3   \n",
       "  6  BAL     Cedric Mullins    L   3.7      19    18       12.7       -5.3   \n",
       "  7  BAL       Ryan McKenna    R  -1.0      21    -3       -2.5    -1000.0   \n",
       "  8  BAL  Anthony Santander    S  10.5      14     7       14.0        7.0   \n",
       "  \n",
       "          C      1B      2B      3B      SS      LF      CF      RF  \\\n",
       "  0    -1.0    -6.0 -1000.0 -1000.0 -1000.0 -1000.0 -1000.0 -1000.0   \n",
       "  1 -1000.0    -1.0 -1000.0 -1000.0 -1000.0 -1000.0 -1000.0 -1000.0   \n",
       "  2 -1000.0     7.0    15.0    13.0    11.0 -1000.0 -1000.0 -1000.0   \n",
       "  3 -1000.0     5.0     4.0    12.0    -8.0 -1000.0 -1000.0 -1000.0   \n",
       "  4 -1000.0 -1000.0     9.0     4.0    13.0     2.0    -3.0     0.0   \n",
       "  5 -1000.0 -1000.0 -1000.0 -1000.0 -1000.0     6.0    -4.0     8.0   \n",
       "  6 -1000.0 -1000.0 -1000.0 -1000.0 -1000.0    15.0     8.0    13.0   \n",
       "  7 -1000.0 -1000.0 -1000.0 -1000.0 -1000.0     7.0     3.0     4.0   \n",
       "  8 -1000.0    -4.0 -1000.0 -1000.0 -1000.0    -8.0 -1000.0   -10.0   \n",
       "  \n",
       "       Last Name Position  \n",
       "  0       McCann        C  \n",
       "  1  Mountcastle       1B  \n",
       "  2        Ortiz       2B  \n",
       "  3        Urías       3B  \n",
       "  4        Mateo       SS  \n",
       "  5         Hays       LF  \n",
       "  6      Mullins       CF  \n",
       "  7      McKenna       RF  \n",
       "  8    Santander       DH  ,\n",
       "  'Mean Total RAA': 60.9815488037723,\n",
       "  'Lineup SD': 50.98593900779808,\n",
       "  '25th Percentile': 26.549796528552278,\n",
       "  '75th Percentile': 94.74600844990093},\n",
       " {'Lineup':     id               Name bats   bat  bat_sd  plat  bat_vsRHP  bat_vsLHP  \\\n",
       "  0  BAL    Adley Rutschman    S  22.2       9    10       27.2       17.2   \n",
       "  1  BAL   Ryan Mountcastle    R  10.0      22   -11        4.5       15.5   \n",
       "  2  BAL         Joey Ortiz    R  -0.1      14    -9       -4.6        4.4   \n",
       "  3  BAL   Gunnar Henderson    L  20.9      19    25       33.4        8.4   \n",
       "  4  BAL        Jorge Mateo    R  -1.8      20    -8       -5.8    -1000.0   \n",
       "  5  BAL        Austin Hays    R   1.3       9    -8       -2.7        5.3   \n",
       "  6  BAL       Ryan McKenna    R  -1.0      21    -3       -2.5    -1000.0   \n",
       "  7  BAL  Anthony Santander    S  10.5      14     7       14.0        7.0   \n",
       "  8  BAL       James McCann    R  -3.6      13   -10       -8.6        1.4   \n",
       "  \n",
       "          C      1B      2B      3B      SS      LF      CF      RF  \\\n",
       "  0    12.0    -6.0 -1000.0 -1000.0 -1000.0 -1000.0 -1000.0 -1000.0   \n",
       "  1 -1000.0    -1.0 -1000.0 -1000.0 -1000.0 -1000.0 -1000.0 -1000.0   \n",
       "  2 -1000.0     7.0    15.0    13.0    11.0 -1000.0 -1000.0 -1000.0   \n",
       "  3 -1000.0     5.0     0.0    10.0     5.0 -1000.0 -1000.0 -1000.0   \n",
       "  4 -1000.0 -1000.0     9.0     4.0    13.0     2.0    -3.0     0.0   \n",
       "  5 -1000.0 -1000.0 -1000.0 -1000.0 -1000.0     6.0    -4.0     8.0   \n",
       "  6 -1000.0 -1000.0 -1000.0 -1000.0 -1000.0     7.0     3.0     4.0   \n",
       "  7 -1000.0    -4.0 -1000.0 -1000.0 -1000.0    -8.0 -1000.0   -10.0   \n",
       "  8    -1.0    -6.0 -1000.0 -1000.0 -1000.0 -1000.0 -1000.0 -1000.0   \n",
       "  \n",
       "       Last Name Position  \n",
       "  0    Rutschman        C  \n",
       "  1  Mountcastle       1B  \n",
       "  2        Ortiz       2B  \n",
       "  3    Henderson       3B  \n",
       "  4        Mateo       SS  \n",
       "  5         Hays       LF  \n",
       "  6      McKenna       CF  \n",
       "  7    Santander       RF  \n",
       "  8       McCann       DH  ,\n",
       "  'Mean Total RAA': 102.96063419936755,\n",
       "  'Lineup SD': 50.80117335985619,\n",
       "  '25th Percentile': 69.46564529731772,\n",
       "  '75th Percentile': 137.29361416401747},\n",
       " {'Lineup':     id               Name bats   bat  bat_sd  plat  bat_vsRHP  bat_vsLHP  \\\n",
       "  0  BAL    Adley Rutschman    S  22.2       9    10       27.2       17.2   \n",
       "  1  BAL   Ryan Mountcastle    R  10.0      22   -11        4.5       15.5   \n",
       "  2  BAL        Ramón Urías    R  -2.0      13    -4       -4.0    -1000.0   \n",
       "  3  BAL   Gunnar Henderson    L  20.9      19    25       33.4        8.4   \n",
       "  4  BAL        Jorge Mateo    R  -1.8      20    -8       -5.8    -1000.0   \n",
       "  5  BAL        Austin Hays    R   1.3       9    -8       -2.7        5.3   \n",
       "  6  BAL     Cedric Mullins    L   3.7      19    18       12.7       -5.3   \n",
       "  7  BAL  Anthony Santander    S  10.5      14     7       14.0        7.0   \n",
       "  8  BAL       James McCann    R  -3.6      13   -10       -8.6        1.4   \n",
       "  \n",
       "          C      1B      2B      3B      SS      LF      CF      RF  \\\n",
       "  0    12.0    -6.0 -1000.0 -1000.0 -1000.0 -1000.0 -1000.0 -1000.0   \n",
       "  1 -1000.0    -1.0 -1000.0 -1000.0 -1000.0 -1000.0 -1000.0 -1000.0   \n",
       "  2 -1000.0     5.0     4.0    12.0    -8.0 -1000.0 -1000.0 -1000.0   \n",
       "  3 -1000.0     5.0     0.0    10.0     5.0 -1000.0 -1000.0 -1000.0   \n",
       "  4 -1000.0 -1000.0     9.0     4.0    13.0     2.0    -3.0     0.0   \n",
       "  5 -1000.0 -1000.0 -1000.0 -1000.0 -1000.0     6.0    -4.0     8.0   \n",
       "  6 -1000.0 -1000.0 -1000.0 -1000.0 -1000.0    15.0     8.0    13.0   \n",
       "  7 -1000.0    -4.0 -1000.0 -1000.0 -1000.0    -8.0 -1000.0   -10.0   \n",
       "  8    -1.0    -6.0 -1000.0 -1000.0 -1000.0 -1000.0 -1000.0 -1000.0   \n",
       "  \n",
       "       Last Name Position  \n",
       "  0    Rutschman        C  \n",
       "  1  Mountcastle       1B  \n",
       "  2        Urías       2B  \n",
       "  3    Henderson       3B  \n",
       "  4        Mateo       SS  \n",
       "  5         Hays       LF  \n",
       "  6      Mullins       CF  \n",
       "  7    Santander       RF  \n",
       "  8       McCann       DH  ,\n",
       "  'Mean Total RAA': 111.55721002389753,\n",
       "  'Lineup SD': 51.97632425783929,\n",
       "  '25th Percentile': 76.2588660278073,\n",
       "  '75th Percentile': 146.32846283252823},\n",
       " {'Lineup':     id               Name bats   bat  bat_sd  plat  bat_vsRHP  bat_vsLHP  \\\n",
       "  0  BAL    Adley Rutschman    S  22.2       9    10       27.2       17.2   \n",
       "  1  BAL   Ryan Mountcastle    R  10.0      22   -11        4.5       15.5   \n",
       "  2  BAL        Ramón Urías    R  -2.0      13    -4       -4.0    -1000.0   \n",
       "  3  BAL   Gunnar Henderson    L  20.9      19    25       33.4        8.4   \n",
       "  4  BAL        Jorge Mateo    R  -1.8      20    -8       -5.8    -1000.0   \n",
       "  5  BAL       Ryan McKenna    R  -1.0      21    -3       -2.5    -1000.0   \n",
       "  6  BAL     Cedric Mullins    L   3.7      19    18       12.7       -5.3   \n",
       "  7  BAL  Anthony Santander    S  10.5      14     7       14.0        7.0   \n",
       "  8  BAL       James McCann    R  -3.6      13   -10       -8.6        1.4   \n",
       "  \n",
       "          C      1B      2B      3B      SS      LF      CF      RF  \\\n",
       "  0    12.0    -6.0 -1000.0 -1000.0 -1000.0 -1000.0 -1000.0 -1000.0   \n",
       "  1 -1000.0    -1.0 -1000.0 -1000.0 -1000.0 -1000.0 -1000.0 -1000.0   \n",
       "  2 -1000.0     5.0     4.0    12.0    -8.0 -1000.0 -1000.0 -1000.0   \n",
       "  3 -1000.0     5.0     0.0    10.0     5.0 -1000.0 -1000.0 -1000.0   \n",
       "  4 -1000.0 -1000.0     9.0     4.0    13.0     2.0    -3.0     0.0   \n",
       "  5 -1000.0 -1000.0 -1000.0 -1000.0 -1000.0     7.0     3.0     4.0   \n",
       "  6 -1000.0 -1000.0 -1000.0 -1000.0 -1000.0    15.0     8.0    13.0   \n",
       "  7 -1000.0    -4.0 -1000.0 -1000.0 -1000.0    -8.0 -1000.0   -10.0   \n",
       "  8    -1.0    -6.0 -1000.0 -1000.0 -1000.0 -1000.0 -1000.0 -1000.0   \n",
       "  \n",
       "       Last Name Position  \n",
       "  0    Rutschman        C  \n",
       "  1  Mountcastle       1B  \n",
       "  2        Urías       2B  \n",
       "  3    Henderson       3B  \n",
       "  4        Mateo       SS  \n",
       "  5      McKenna       LF  \n",
       "  6      Mullins       CF  \n",
       "  7    Santander       RF  \n",
       "  8       McCann       DH  ,\n",
       "  'Mean Total RAA': 112.39627498771952,\n",
       "  'Lineup SD': 51.6199485918256,\n",
       "  '25th Percentile': 77.16002674578581,\n",
       "  '75th Percentile': 149.51165624724786},\n",
       " {'Lineup':     id               Name bats   bat  bat_sd  plat  bat_vsRHP  bat_vsLHP  \\\n",
       "  0  BAL       James McCann    R  -3.6      13   -10       -8.6        1.4   \n",
       "  1  BAL   Ryan Mountcastle    R  10.0      22   -11        4.5       15.5   \n",
       "  2  BAL       Adam Frazier    L  -4.4      13    18        4.6      -13.4   \n",
       "  3  BAL        Ramón Urías    R  -2.0      13    -4       -4.0    -1000.0   \n",
       "  4  BAL        Jorge Mateo    R  -1.8      20    -8       -5.8    -1000.0   \n",
       "  5  BAL        Austin Hays    R   1.3       9    -8       -2.7        5.3   \n",
       "  6  BAL       Ryan McKenna    R  -1.0      21    -3       -2.5    -1000.0   \n",
       "  7  BAL  Anthony Santander    S  10.5      14     7       14.0        7.0   \n",
       "  8  BAL    Adley Rutschman    S  22.2       9    10       27.2       17.2   \n",
       "  \n",
       "          C      1B      2B      3B      SS      LF      CF      RF  \\\n",
       "  0    -1.0    -6.0 -1000.0 -1000.0 -1000.0 -1000.0 -1000.0 -1000.0   \n",
       "  1 -1000.0    -1.0 -1000.0 -1000.0 -1000.0 -1000.0 -1000.0 -1000.0   \n",
       "  2 -1000.0 -1000.0    -9.0 -1000.0 -1000.0     0.0 -1000.0    -6.0   \n",
       "  3 -1000.0     5.0     4.0    12.0    -8.0 -1000.0 -1000.0 -1000.0   \n",
       "  4 -1000.0 -1000.0     9.0     4.0    13.0     2.0    -3.0     0.0   \n",
       "  5 -1000.0 -1000.0 -1000.0 -1000.0 -1000.0     6.0    -4.0     8.0   \n",
       "  6 -1000.0 -1000.0 -1000.0 -1000.0 -1000.0     7.0     3.0     4.0   \n",
       "  7 -1000.0    -4.0 -1000.0 -1000.0 -1000.0    -8.0 -1000.0   -10.0   \n",
       "  8    12.0    -6.0 -1000.0 -1000.0 -1000.0 -1000.0 -1000.0 -1000.0   \n",
       "  \n",
       "       Last Name Position  \n",
       "  0       McCann        C  \n",
       "  1  Mountcastle       1B  \n",
       "  2      Frazier       2B  \n",
       "  3        Urías       3B  \n",
       "  4        Mateo       SS  \n",
       "  5         Hays       LF  \n",
       "  6      McKenna       CF  \n",
       "  7    Santander       RF  \n",
       "  8    Rutschman       DH  ,\n",
       "  'Mean Total RAA': 38.00611907723648,\n",
       "  'Lineup SD': 52.202144201070325,\n",
       "  '25th Percentile': 3.275874431849229,\n",
       "  '75th Percentile': 71.77879179375473},\n",
       " {'Lineup':     id               Name bats   bat  bat_sd  plat  bat_vsRHP  bat_vsLHP  \\\n",
       "  0  BAL    Adley Rutschman    S  22.2       9    10       27.2       17.2   \n",
       "  1  BAL   Ryan Mountcastle    R  10.0      22   -11        4.5       15.5   \n",
       "  2  BAL       Adam Frazier    L  -4.4      13    18        4.6      -13.4   \n",
       "  3  BAL   Gunnar Henderson    L  20.9      19    25       33.4        8.4   \n",
       "  4  BAL        Jorge Mateo    R  -1.8      20    -8       -5.8    -1000.0   \n",
       "  5  BAL        Austin Hays    R   1.3       9    -8       -2.7        5.3   \n",
       "  6  BAL     Cedric Mullins    L   3.7      19    18       12.7       -5.3   \n",
       "  7  BAL  Anthony Santander    S  10.5      14     7       14.0        7.0   \n",
       "  8  BAL       Ryan O'Hearn    L   1.2      22    18       10.2       -7.8   \n",
       "  \n",
       "          C      1B      2B      3B      SS      LF      CF      RF  \\\n",
       "  0    12.0    -6.0 -1000.0 -1000.0 -1000.0 -1000.0 -1000.0 -1000.0   \n",
       "  1 -1000.0    -1.0 -1000.0 -1000.0 -1000.0 -1000.0 -1000.0 -1000.0   \n",
       "  2 -1000.0 -1000.0    -9.0 -1000.0 -1000.0     0.0 -1000.0    -6.0   \n",
       "  3 -1000.0     5.0     0.0    10.0     5.0 -1000.0 -1000.0 -1000.0   \n",
       "  4 -1000.0 -1000.0     9.0     4.0    13.0     2.0    -3.0     0.0   \n",
       "  5 -1000.0 -1000.0 -1000.0 -1000.0 -1000.0     6.0    -4.0     8.0   \n",
       "  6 -1000.0 -1000.0 -1000.0 -1000.0 -1000.0    15.0     8.0    13.0   \n",
       "  7 -1000.0    -4.0 -1000.0 -1000.0 -1000.0    -8.0 -1000.0   -10.0   \n",
       "  8 -1000.0    -3.0 -1000.0 -1000.0 -1000.0    -6.0 -1000.0   -11.0   \n",
       "  \n",
       "       Last Name Position  \n",
       "  0    Rutschman        C  \n",
       "  1  Mountcastle       1B  \n",
       "  2      Frazier       2B  \n",
       "  3    Henderson       3B  \n",
       "  4        Mateo       SS  \n",
       "  5         Hays       LF  \n",
       "  6      Mullins       CF  \n",
       "  7    Santander       RF  \n",
       "  8      O'Hearn       DH  ,\n",
       "  'Mean Total RAA': 126.72044478077925,\n",
       "  'Lineup SD': 51.65419476961799,\n",
       "  '25th Percentile': 93.33428773894893,\n",
       "  '75th Percentile': 160.35173980957572},\n",
       " {'Lineup':     id               Name bats   bat  bat_sd  plat  bat_vsRHP  bat_vsLHP  \\\n",
       "  0  BAL       James McCann    R  -3.6      13   -10       -8.6        1.4   \n",
       "  1  BAL   Ryan Mountcastle    R  10.0      22   -11        4.5       15.5   \n",
       "  2  BAL         Joey Ortiz    R  -0.1      14    -9       -4.6        4.4   \n",
       "  3  BAL   Gunnar Henderson    L  20.9      19    25       33.4        8.4   \n",
       "  4  BAL        Jorge Mateo    R  -1.8      20    -8       -5.8    -1000.0   \n",
       "  5  BAL        Austin Hays    R   1.3       9    -8       -2.7        5.3   \n",
       "  6  BAL       Ryan McKenna    R  -1.0      21    -3       -2.5    -1000.0   \n",
       "  7  BAL  Anthony Santander    S  10.5      14     7       14.0        7.0   \n",
       "  8  BAL    Adley Rutschman    S  22.2       9    10       27.2       17.2   \n",
       "  \n",
       "          C      1B      2B      3B      SS      LF      CF      RF  \\\n",
       "  0    -1.0    -6.0 -1000.0 -1000.0 -1000.0 -1000.0 -1000.0 -1000.0   \n",
       "  1 -1000.0    -1.0 -1000.0 -1000.0 -1000.0 -1000.0 -1000.0 -1000.0   \n",
       "  2 -1000.0     7.0    15.0    13.0    11.0 -1000.0 -1000.0 -1000.0   \n",
       "  3 -1000.0     5.0     0.0    10.0     5.0 -1000.0 -1000.0 -1000.0   \n",
       "  4 -1000.0 -1000.0     9.0     4.0    13.0     2.0    -3.0     0.0   \n",
       "  5 -1000.0 -1000.0 -1000.0 -1000.0 -1000.0     6.0    -4.0     8.0   \n",
       "  6 -1000.0 -1000.0 -1000.0 -1000.0 -1000.0     7.0     3.0     4.0   \n",
       "  7 -1000.0    -4.0 -1000.0 -1000.0 -1000.0    -8.0 -1000.0   -10.0   \n",
       "  8    12.0    -6.0 -1000.0 -1000.0 -1000.0 -1000.0 -1000.0 -1000.0   \n",
       "  \n",
       "       Last Name Position  \n",
       "  0       McCann        C  \n",
       "  1  Mountcastle       1B  \n",
       "  2        Ortiz       2B  \n",
       "  3    Henderson       3B  \n",
       "  4        Mateo       SS  \n",
       "  5         Hays       LF  \n",
       "  6      McKenna       CF  \n",
       "  7    Santander       RF  \n",
       "  8    Rutschman       DH  ,\n",
       "  'Mean Total RAA': 90.96171775726627,\n",
       "  'Lineup SD': 51.926555905079944,\n",
       "  '25th Percentile': 56.91668075980305,\n",
       "  '75th Percentile': 125.9026882932546},\n",
       " {'Lineup':     id               Name bats   bat  bat_sd  plat  bat_vsRHP  bat_vsLHP  \\\n",
       "  0  BAL    Adley Rutschman    S  22.2       9    10       27.2       17.2   \n",
       "  1  BAL   Ryan Mountcastle    R  10.0      22   -11        4.5       15.5   \n",
       "  2  BAL       Adam Frazier    L  -4.4      13    18        4.6      -13.4   \n",
       "  3  BAL         Joey Ortiz    R  -0.1      14    -9       -4.6        4.4   \n",
       "  4  BAL        Jorge Mateo    R  -1.8      20    -8       -5.8    -1000.0   \n",
       "  5  BAL        Austin Hays    R   1.3       9    -8       -2.7        5.3   \n",
       "  6  BAL     Cedric Mullins    L   3.7      19    18       12.7       -5.3   \n",
       "  7  BAL       Ryan McKenna    R  -1.0      21    -3       -2.5    -1000.0   \n",
       "  8  BAL  Anthony Santander    S  10.5      14     7       14.0        7.0   \n",
       "  \n",
       "          C      1B      2B      3B      SS      LF      CF      RF  \\\n",
       "  0    12.0    -6.0 -1000.0 -1000.0 -1000.0 -1000.0 -1000.0 -1000.0   \n",
       "  1 -1000.0    -1.0 -1000.0 -1000.0 -1000.0 -1000.0 -1000.0 -1000.0   \n",
       "  2 -1000.0 -1000.0    -9.0 -1000.0 -1000.0     0.0 -1000.0    -6.0   \n",
       "  3 -1000.0     7.0    15.0    13.0    11.0 -1000.0 -1000.0 -1000.0   \n",
       "  4 -1000.0 -1000.0     9.0     4.0    13.0     2.0    -3.0     0.0   \n",
       "  5 -1000.0 -1000.0 -1000.0 -1000.0 -1000.0     6.0    -4.0     8.0   \n",
       "  6 -1000.0 -1000.0 -1000.0 -1000.0 -1000.0    15.0     8.0    13.0   \n",
       "  7 -1000.0 -1000.0 -1000.0 -1000.0 -1000.0     7.0     3.0     4.0   \n",
       "  8 -1000.0    -4.0 -1000.0 -1000.0 -1000.0    -8.0 -1000.0   -10.0   \n",
       "  \n",
       "       Last Name Position  \n",
       "  0    Rutschman        C  \n",
       "  1  Mountcastle       1B  \n",
       "  2      Frazier       2B  \n",
       "  3        Ortiz       3B  \n",
       "  4        Mateo       SS  \n",
       "  5         Hays       LF  \n",
       "  6      Mullins       CF  \n",
       "  7      McKenna       RF  \n",
       "  8    Santander       DH  ,\n",
       "  'Mean Total RAA': 95.35459477166805,\n",
       "  'Lineup SD': 51.97860585637389,\n",
       "  '25th Percentile': 59.06059736097536,\n",
       "  '75th Percentile': 131.73065772552292},\n",
       " {'Lineup':     id               Name bats   bat  bat_sd  plat  bat_vsRHP  bat_vsLHP  \\\n",
       "  0  BAL       James McCann    R  -3.6      13   -10       -8.6        1.4   \n",
       "  1  BAL   Ryan Mountcastle    R  10.0      22   -11        4.5       15.5   \n",
       "  2  BAL       Adam Frazier    L  -4.4      13    18        4.6      -13.4   \n",
       "  3  BAL         Joey Ortiz    R  -0.1      14    -9       -4.6        4.4   \n",
       "  4  BAL        Jorge Mateo    R  -1.8      20    -8       -5.8    -1000.0   \n",
       "  5  BAL        Austin Hays    R   1.3       9    -8       -2.7        5.3   \n",
       "  6  BAL     Cedric Mullins    L   3.7      19    18       12.7       -5.3   \n",
       "  7  BAL  Anthony Santander    S  10.5      14     7       14.0        7.0   \n",
       "  8  BAL    Adley Rutschman    S  22.2       9    10       27.2       17.2   \n",
       "  \n",
       "          C      1B      2B      3B      SS      LF      CF      RF  \\\n",
       "  0    -1.0    -6.0 -1000.0 -1000.0 -1000.0 -1000.0 -1000.0 -1000.0   \n",
       "  1 -1000.0    -1.0 -1000.0 -1000.0 -1000.0 -1000.0 -1000.0 -1000.0   \n",
       "  2 -1000.0 -1000.0    -9.0 -1000.0 -1000.0     0.0 -1000.0    -6.0   \n",
       "  3 -1000.0     7.0    15.0    13.0    11.0 -1000.0 -1000.0 -1000.0   \n",
       "  4 -1000.0 -1000.0     9.0     4.0    13.0     2.0    -3.0     0.0   \n",
       "  5 -1000.0 -1000.0 -1000.0 -1000.0 -1000.0     6.0    -4.0     8.0   \n",
       "  6 -1000.0 -1000.0 -1000.0 -1000.0 -1000.0    15.0     8.0    13.0   \n",
       "  7 -1000.0    -4.0 -1000.0 -1000.0 -1000.0    -8.0 -1000.0   -10.0   \n",
       "  8    12.0    -6.0 -1000.0 -1000.0 -1000.0 -1000.0 -1000.0 -1000.0   \n",
       "  \n",
       "       Last Name Position  \n",
       "  0       McCann        C  \n",
       "  1  Mountcastle       1B  \n",
       "  2      Frazier       2B  \n",
       "  3        Ortiz       3B  \n",
       "  4        Mateo       SS  \n",
       "  5         Hays       LF  \n",
       "  6      Mullins       CF  \n",
       "  7    Santander       RF  \n",
       "  8    Rutschman       DH  ,\n",
       "  'Mean Total RAA': 61.63162954947641,\n",
       "  'Lineup SD': 51.6747585717986,\n",
       "  '25th Percentile': 26.086318642385944,\n",
       "  '75th Percentile': 96.67884437159687},\n",
       " {'Lineup':     id              Name bats   bat  bat_sd  plat  bat_vsRHP  bat_vsLHP  \\\n",
       "  0  BAL      James McCann    R  -3.6      13   -10       -8.6        1.4   \n",
       "  1  BAL  Ryan Mountcastle    R  10.0      22   -11        4.5       15.5   \n",
       "  2  BAL      Adam Frazier    L  -4.4      13    18        4.6      -13.4   \n",
       "  3  BAL       Ramón Urías    R  -2.0      13    -4       -4.0    -1000.0   \n",
       "  4  BAL       Jorge Mateo    R  -1.8      20    -8       -5.8    -1000.0   \n",
       "  5  BAL       Austin Hays    R   1.3       9    -8       -2.7        5.3   \n",
       "  6  BAL    Cedric Mullins    L   3.7      19    18       12.7       -5.3   \n",
       "  7  BAL      Ryan McKenna    R  -1.0      21    -3       -2.5    -1000.0   \n",
       "  8  BAL   Adley Rutschman    S  22.2       9    10       27.2       17.2   \n",
       "  \n",
       "          C      1B      2B      3B      SS      LF      CF      RF  \\\n",
       "  0    -1.0    -6.0 -1000.0 -1000.0 -1000.0 -1000.0 -1000.0 -1000.0   \n",
       "  1 -1000.0    -1.0 -1000.0 -1000.0 -1000.0 -1000.0 -1000.0 -1000.0   \n",
       "  2 -1000.0 -1000.0    -9.0 -1000.0 -1000.0     0.0 -1000.0    -6.0   \n",
       "  3 -1000.0     5.0     4.0    12.0    -8.0 -1000.0 -1000.0 -1000.0   \n",
       "  4 -1000.0 -1000.0     9.0     4.0    13.0     2.0    -3.0     0.0   \n",
       "  5 -1000.0 -1000.0 -1000.0 -1000.0 -1000.0     6.0    -4.0     8.0   \n",
       "  6 -1000.0 -1000.0 -1000.0 -1000.0 -1000.0    15.0     8.0    13.0   \n",
       "  7 -1000.0 -1000.0 -1000.0 -1000.0 -1000.0     7.0     3.0     4.0   \n",
       "  8    12.0    -6.0 -1000.0 -1000.0 -1000.0 -1000.0 -1000.0 -1000.0   \n",
       "  \n",
       "       Last Name Position  \n",
       "  0       McCann        C  \n",
       "  1  Mountcastle       1B  \n",
       "  2      Frazier       2B  \n",
       "  3        Urías       3B  \n",
       "  4        Mateo       SS  \n",
       "  5         Hays       LF  \n",
       "  6      Mullins       CF  \n",
       "  7      McKenna       RF  \n",
       "  8    Rutschman       DH  ,\n",
       "  'Mean Total RAA': 58.37560961274532,\n",
       "  'Lineup SD': 50.77206837033498,\n",
       "  '25th Percentile': 24.075418959444658,\n",
       "  '75th Percentile': 91.59635782787956},\n",
       " {'Lineup':     id               Name bats   bat  bat_sd  plat  bat_vsRHP  bat_vsLHP  \\\n",
       "  0  BAL    Adley Rutschman    S  22.2       9    10       27.2       17.2   \n",
       "  1  BAL   Ryan Mountcastle    R  10.0      22   -11        4.5       15.5   \n",
       "  2  BAL        Ramón Urías    R  -2.0      13    -4       -4.0    -1000.0   \n",
       "  3  BAL   Gunnar Henderson    L  20.9      19    25       33.4        8.4   \n",
       "  4  BAL        Jorge Mateo    R  -1.8      20    -8       -5.8    -1000.0   \n",
       "  5  BAL        Austin Hays    R   1.3       9    -8       -2.7        5.3   \n",
       "  6  BAL     Cedric Mullins    L   3.7      19    18       12.7       -5.3   \n",
       "  7  BAL  Anthony Santander    S  10.5      14     7       14.0        7.0   \n",
       "  8  BAL       James McCann    R  -3.6      13   -10       -8.6        1.4   \n",
       "  \n",
       "          C      1B      2B      3B      SS      LF      CF      RF  \\\n",
       "  0    12.0    -6.0 -1000.0 -1000.0 -1000.0 -1000.0 -1000.0 -1000.0   \n",
       "  1 -1000.0    -1.0 -1000.0 -1000.0 -1000.0 -1000.0 -1000.0 -1000.0   \n",
       "  2 -1000.0     5.0     4.0    12.0    -8.0 -1000.0 -1000.0 -1000.0   \n",
       "  3 -1000.0     5.0     0.0    10.0     5.0 -1000.0 -1000.0 -1000.0   \n",
       "  4 -1000.0 -1000.0     9.0     4.0    13.0     2.0    -3.0     0.0   \n",
       "  5 -1000.0 -1000.0 -1000.0 -1000.0 -1000.0     6.0    -4.0     8.0   \n",
       "  6 -1000.0 -1000.0 -1000.0 -1000.0 -1000.0    15.0     8.0    13.0   \n",
       "  7 -1000.0    -4.0 -1000.0 -1000.0 -1000.0    -8.0 -1000.0   -10.0   \n",
       "  8    -1.0    -6.0 -1000.0 -1000.0 -1000.0 -1000.0 -1000.0 -1000.0   \n",
       "  \n",
       "       Last Name Position  \n",
       "  0    Rutschman        C  \n",
       "  1  Mountcastle       1B  \n",
       "  2        Urías       2B  \n",
       "  3    Henderson       3B  \n",
       "  4        Mateo       SS  \n",
       "  5         Hays       LF  \n",
       "  6      Mullins       CF  \n",
       "  7    Santander       RF  \n",
       "  8       McCann       DH  ,\n",
       "  'Mean Total RAA': 112.6411642575667,\n",
       "  'Lineup SD': 52.62295533867443,\n",
       "  '25th Percentile': 78.39852330938933,\n",
       "  '75th Percentile': 147.84284574075096},\n",
       " {'Lineup':     id               Name bats   bat  bat_sd  plat  bat_vsRHP  bat_vsLHP  \\\n",
       "  0  BAL       James McCann    R  -3.6      13   -10       -8.6        1.4   \n",
       "  1  BAL   Ryan Mountcastle    R  10.0      22   -11        4.5       15.5   \n",
       "  2  BAL       Adam Frazier    L  -4.4      13    18        4.6      -13.4   \n",
       "  3  BAL        Ramón Urías    R  -2.0      13    -4       -4.0    -1000.0   \n",
       "  4  BAL        Jorge Mateo    R  -1.8      20    -8       -5.8    -1000.0   \n",
       "  5  BAL        Austin Hays    R   1.3       9    -8       -2.7        5.3   \n",
       "  6  BAL     Cedric Mullins    L   3.7      19    18       12.7       -5.3   \n",
       "  7  BAL       Ryan McKenna    R  -1.0      21    -3       -2.5    -1000.0   \n",
       "  8  BAL  Anthony Santander    S  10.5      14     7       14.0        7.0   \n",
       "  \n",
       "          C      1B      2B      3B      SS      LF      CF      RF  \\\n",
       "  0    -1.0    -6.0 -1000.0 -1000.0 -1000.0 -1000.0 -1000.0 -1000.0   \n",
       "  1 -1000.0    -1.0 -1000.0 -1000.0 -1000.0 -1000.0 -1000.0 -1000.0   \n",
       "  2 -1000.0 -1000.0    -9.0 -1000.0 -1000.0     0.0 -1000.0    -6.0   \n",
       "  3 -1000.0     5.0     4.0    12.0    -8.0 -1000.0 -1000.0 -1000.0   \n",
       "  4 -1000.0 -1000.0     9.0     4.0    13.0     2.0    -3.0     0.0   \n",
       "  5 -1000.0 -1000.0 -1000.0 -1000.0 -1000.0     6.0    -4.0     8.0   \n",
       "  6 -1000.0 -1000.0 -1000.0 -1000.0 -1000.0    15.0     8.0    13.0   \n",
       "  7 -1000.0 -1000.0 -1000.0 -1000.0 -1000.0     7.0     3.0     4.0   \n",
       "  8 -1000.0    -4.0 -1000.0 -1000.0 -1000.0    -8.0 -1000.0   -10.0   \n",
       "  \n",
       "       Last Name Position  \n",
       "  0       McCann        C  \n",
       "  1  Mountcastle       1B  \n",
       "  2      Frazier       2B  \n",
       "  3        Urías       3B  \n",
       "  4        Mateo       SS  \n",
       "  5         Hays       LF  \n",
       "  6      Mullins       CF  \n",
       "  7      McKenna       RF  \n",
       "  8    Santander       DH  ,\n",
       "  'Mean Total RAA': 44.50221816324972,\n",
       "  'Lineup SD': 50.88802289435303,\n",
       "  '25th Percentile': 8.920765592416336,\n",
       "  '75th Percentile': 78.43830300237607},\n",
       " {'Lineup':     id               Name bats   bat  bat_sd  plat  bat_vsRHP  bat_vsLHP  \\\n",
       "  0  BAL    Adley Rutschman    S  22.2       9    10       27.2       17.2   \n",
       "  1  BAL  Anthony Santander    S  10.5      14     7       14.0        7.0   \n",
       "  2  BAL        Ramón Urías    R  -2.0      13    -4       -4.0    -1000.0   \n",
       "  3  BAL   Gunnar Henderson    L  20.9      19    25       33.4        8.4   \n",
       "  4  BAL        Jorge Mateo    R  -1.8      20    -8       -5.8    -1000.0   \n",
       "  5  BAL        Austin Hays    R   1.3       9    -8       -2.7        5.3   \n",
       "  6  BAL        Aaron Hicks    S  -2.4      19     4       -0.4    -1000.0   \n",
       "  7  BAL       Ryan McKenna    R  -1.0      21    -3       -2.5    -1000.0   \n",
       "  8  BAL       James McCann    R  -3.6      13   -10       -8.6        1.4   \n",
       "  \n",
       "          C      1B      2B      3B      SS      LF      CF      RF  Last Name  \\\n",
       "  0    12.0    -6.0 -1000.0 -1000.0 -1000.0 -1000.0 -1000.0 -1000.0  Rutschman   \n",
       "  1 -1000.0    -4.0 -1000.0 -1000.0 -1000.0    -8.0 -1000.0   -10.0  Santander   \n",
       "  2 -1000.0     5.0     4.0    12.0    -8.0 -1000.0 -1000.0 -1000.0      Urías   \n",
       "  3 -1000.0     5.0     0.0    10.0     5.0 -1000.0 -1000.0 -1000.0  Henderson   \n",
       "  4 -1000.0 -1000.0     9.0     4.0    13.0     2.0    -3.0     0.0      Mateo   \n",
       "  5 -1000.0 -1000.0 -1000.0 -1000.0 -1000.0     6.0    -4.0     8.0       Hays   \n",
       "  6 -1000.0 -1000.0 -1000.0 -1000.0 -1000.0     4.0    -3.0     3.0      Hicks   \n",
       "  7 -1000.0 -1000.0 -1000.0 -1000.0 -1000.0     7.0     3.0     4.0    McKenna   \n",
       "  8    -1.0    -6.0 -1000.0 -1000.0 -1000.0 -1000.0 -1000.0 -1000.0     McCann   \n",
       "  \n",
       "    Position  \n",
       "  0        C  \n",
       "  1       1B  \n",
       "  2       2B  \n",
       "  3       3B  \n",
       "  4       SS  \n",
       "  5       LF  \n",
       "  6       CF  \n",
       "  7       RF  \n",
       "  8       DH  ,\n",
       "  'Mean Total RAA': 92.45135666203498,\n",
       "  'Lineup SD': 50.90275433808851,\n",
       "  '25th Percentile': 57.89308251673809,\n",
       "  '75th Percentile': 125.61018477686653},\n",
       " {'Lineup':     id               Name bats   bat  bat_sd  plat  bat_vsRHP  bat_vsLHP  \\\n",
       "  0  BAL       James McCann    R  -3.6      13   -10       -8.6        1.4   \n",
       "  1  BAL        Ramón Urías    R  -2.0      13    -4       -4.0    -1000.0   \n",
       "  2  BAL         Joey Ortiz    R  -0.1      14    -9       -4.6        4.4   \n",
       "  3  BAL   Gunnar Henderson    L  20.9      19    25       33.4        8.4   \n",
       "  4  BAL        Jorge Mateo    R  -1.8      20    -8       -5.8    -1000.0   \n",
       "  5  BAL        Austin Hays    R   1.3       9    -8       -2.7        5.3   \n",
       "  6  BAL       Ryan McKenna    R  -1.0      21    -3       -2.5    -1000.0   \n",
       "  7  BAL  Anthony Santander    S  10.5      14     7       14.0        7.0   \n",
       "  8  BAL    Adley Rutschman    S  22.2       9    10       27.2       17.2   \n",
       "  \n",
       "          C      1B      2B      3B      SS      LF      CF      RF  Last Name  \\\n",
       "  0    -1.0    -6.0 -1000.0 -1000.0 -1000.0 -1000.0 -1000.0 -1000.0     McCann   \n",
       "  1 -1000.0     5.0     4.0    12.0    -8.0 -1000.0 -1000.0 -1000.0      Urías   \n",
       "  2 -1000.0     7.0    15.0    13.0    11.0 -1000.0 -1000.0 -1000.0      Ortiz   \n",
       "  3 -1000.0     5.0     0.0    10.0     5.0 -1000.0 -1000.0 -1000.0  Henderson   \n",
       "  4 -1000.0 -1000.0     9.0     4.0    13.0     2.0    -3.0     0.0      Mateo   \n",
       "  5 -1000.0 -1000.0 -1000.0 -1000.0 -1000.0     6.0    -4.0     8.0       Hays   \n",
       "  6 -1000.0 -1000.0 -1000.0 -1000.0 -1000.0     7.0     3.0     4.0    McKenna   \n",
       "  7 -1000.0    -4.0 -1000.0 -1000.0 -1000.0    -8.0 -1000.0   -10.0  Santander   \n",
       "  8    12.0    -6.0 -1000.0 -1000.0 -1000.0 -1000.0 -1000.0 -1000.0  Rutschman   \n",
       "  \n",
       "    Position  \n",
       "  0        C  \n",
       "  1       1B  \n",
       "  2       2B  \n",
       "  3       3B  \n",
       "  4       SS  \n",
       "  5       LF  \n",
       "  6       CF  \n",
       "  7       RF  \n",
       "  8       DH  ,\n",
       "  'Mean Total RAA': 86.9097959861559,\n",
       "  'Lineup SD': 52.48902891261108,\n",
       "  '25th Percentile': 51.09501811891735,\n",
       "  '75th Percentile': 121.41056199871238},\n",
       " {'Lineup':     id               Name bats   bat  bat_sd  plat  bat_vsRHP  bat_vsLHP  \\\n",
       "  0  BAL       James McCann    R  -3.6      13   -10       -8.6        1.4   \n",
       "  1  BAL        Ramón Urías    R  -2.0      13    -4       -4.0    -1000.0   \n",
       "  2  BAL         Joey Ortiz    R  -0.1      14    -9       -4.6        4.4   \n",
       "  3  BAL   Gunnar Henderson    L  20.9      19    25       33.4        8.4   \n",
       "  4  BAL        Jorge Mateo    R  -1.8      20    -8       -5.8    -1000.0   \n",
       "  5  BAL        Austin Hays    R   1.3       9    -8       -2.7        5.3   \n",
       "  6  BAL        Aaron Hicks    S  -2.4      19     4       -0.4    -1000.0   \n",
       "  7  BAL  Anthony Santander    S  10.5      14     7       14.0        7.0   \n",
       "  8  BAL    Adley Rutschman    S  22.2       9    10       27.2       17.2   \n",
       "  \n",
       "          C      1B      2B      3B      SS      LF      CF      RF  Last Name  \\\n",
       "  0    -1.0    -6.0 -1000.0 -1000.0 -1000.0 -1000.0 -1000.0 -1000.0     McCann   \n",
       "  1 -1000.0     5.0     4.0    12.0    -8.0 -1000.0 -1000.0 -1000.0      Urías   \n",
       "  2 -1000.0     7.0    15.0    13.0    11.0 -1000.0 -1000.0 -1000.0      Ortiz   \n",
       "  3 -1000.0     5.0     0.0    10.0     5.0 -1000.0 -1000.0 -1000.0  Henderson   \n",
       "  4 -1000.0 -1000.0     9.0     4.0    13.0     2.0    -3.0     0.0      Mateo   \n",
       "  5 -1000.0 -1000.0 -1000.0 -1000.0 -1000.0     6.0    -4.0     8.0       Hays   \n",
       "  6 -1000.0 -1000.0 -1000.0 -1000.0 -1000.0     4.0    -3.0     3.0      Hicks   \n",
       "  7 -1000.0    -4.0 -1000.0 -1000.0 -1000.0    -8.0 -1000.0   -10.0  Santander   \n",
       "  8    12.0    -6.0 -1000.0 -1000.0 -1000.0 -1000.0 -1000.0 -1000.0  Rutschman   \n",
       "  \n",
       "    Position  \n",
       "  0        C  \n",
       "  1       1B  \n",
       "  2       2B  \n",
       "  3       3B  \n",
       "  4       SS  \n",
       "  5       LF  \n",
       "  6       CF  \n",
       "  7       RF  \n",
       "  8       DH  ,\n",
       "  'Mean Total RAA': 83.52856687072605,\n",
       "  'Lineup SD': 49.564380532942806,\n",
       "  '25th Percentile': 50.266569778721426,\n",
       "  '75th Percentile': 117.73261327259168},\n",
       " {'Lineup':     id               Name bats   bat  bat_sd  plat  bat_vsRHP  bat_vsLHP  \\\n",
       "  0  BAL    Adley Rutschman    S  22.2       9    10       27.2       17.2   \n",
       "  1  BAL  Anthony Santander    S  10.5      14     7       14.0        7.0   \n",
       "  2  BAL    Jordan Westburg    R   3.0      14    -7       -0.5        6.5   \n",
       "  3  BAL        Ramón Urías    R  -2.0      13    -4       -4.0    -1000.0   \n",
       "  4  BAL        Jorge Mateo    R  -1.8      20    -8       -5.8    -1000.0   \n",
       "  5  BAL       Ryan McKenna    R  -1.0      21    -3       -2.5    -1000.0   \n",
       "  6  BAL     Cedric Mullins    L   3.7      19    18       12.7       -5.3   \n",
       "  7  BAL        Aaron Hicks    S  -2.4      19     4       -0.4    -1000.0   \n",
       "  8  BAL        Austin Hays    R   1.3       9    -8       -2.7        5.3   \n",
       "  \n",
       "          C      1B      2B      3B      SS      LF      CF      RF  Last Name  \\\n",
       "  0    12.0    -6.0 -1000.0 -1000.0 -1000.0 -1000.0 -1000.0 -1000.0  Rutschman   \n",
       "  1 -1000.0    -4.0 -1000.0 -1000.0 -1000.0    -8.0 -1000.0   -10.0  Santander   \n",
       "  2 -1000.0 -1000.0    -2.0     3.0   -10.0 -1000.0 -1000.0 -1000.0   Westburg   \n",
       "  3 -1000.0     5.0     4.0    12.0    -8.0 -1000.0 -1000.0 -1000.0      Urías   \n",
       "  4 -1000.0 -1000.0     9.0     4.0    13.0     2.0    -3.0     0.0      Mateo   \n",
       "  5 -1000.0 -1000.0 -1000.0 -1000.0 -1000.0     7.0     3.0     4.0    McKenna   \n",
       "  6 -1000.0 -1000.0 -1000.0 -1000.0 -1000.0    15.0     8.0    13.0    Mullins   \n",
       "  7 -1000.0 -1000.0 -1000.0 -1000.0 -1000.0     4.0    -3.0     3.0      Hicks   \n",
       "  8 -1000.0 -1000.0 -1000.0 -1000.0 -1000.0     6.0    -4.0     8.0       Hays   \n",
       "  \n",
       "    Position  \n",
       "  0        C  \n",
       "  1       1B  \n",
       "  2       2B  \n",
       "  3       3B  \n",
       "  4       SS  \n",
       "  5       LF  \n",
       "  6       CF  \n",
       "  7       RF  \n",
       "  8       DH  ,\n",
       "  'Mean Total RAA': 86.8533637435402,\n",
       "  'Lineup SD': 51.76379700417082,\n",
       "  '25th Percentile': 50.24240016114523,\n",
       "  '75th Percentile': 123.61676769413064},\n",
       " {'Lineup':     id               Name bats   bat  bat_sd  plat  bat_vsRHP  bat_vsLHP  \\\n",
       "  0  BAL    Adley Rutschman    S  22.2       9    10       27.2       17.2   \n",
       "  1  BAL        Ramón Urías    R  -2.0      13    -4       -4.0    -1000.0   \n",
       "  2  BAL    Jordan Westburg    R   3.0      14    -7       -0.5        6.5   \n",
       "  3  BAL   Gunnar Henderson    L  20.9      19    25       33.4        8.4   \n",
       "  4  BAL        Jorge Mateo    R  -1.8      20    -8       -5.8    -1000.0   \n",
       "  5  BAL        Austin Hays    R   1.3       9    -8       -2.7        5.3   \n",
       "  6  BAL        Aaron Hicks    S  -2.4      19     4       -0.4    -1000.0   \n",
       "  7  BAL       Ryan McKenna    R  -1.0      21    -3       -2.5    -1000.0   \n",
       "  8  BAL  Anthony Santander    S  10.5      14     7       14.0        7.0   \n",
       "  \n",
       "          C      1B      2B      3B      SS      LF      CF      RF  Last Name  \\\n",
       "  0    12.0    -6.0 -1000.0 -1000.0 -1000.0 -1000.0 -1000.0 -1000.0  Rutschman   \n",
       "  1 -1000.0     5.0     4.0    12.0    -8.0 -1000.0 -1000.0 -1000.0      Urías   \n",
       "  2 -1000.0 -1000.0    -2.0     3.0   -10.0 -1000.0 -1000.0 -1000.0   Westburg   \n",
       "  3 -1000.0     5.0     0.0    10.0     5.0 -1000.0 -1000.0 -1000.0  Henderson   \n",
       "  4 -1000.0 -1000.0     9.0     4.0    13.0     2.0    -3.0     0.0      Mateo   \n",
       "  5 -1000.0 -1000.0 -1000.0 -1000.0 -1000.0     6.0    -4.0     8.0       Hays   \n",
       "  6 -1000.0 -1000.0 -1000.0 -1000.0 -1000.0     4.0    -3.0     3.0      Hicks   \n",
       "  7 -1000.0 -1000.0 -1000.0 -1000.0 -1000.0     7.0     3.0     4.0    McKenna   \n",
       "  8 -1000.0    -4.0 -1000.0 -1000.0 -1000.0    -8.0 -1000.0   -10.0  Santander   \n",
       "  \n",
       "    Position  \n",
       "  0        C  \n",
       "  1       1B  \n",
       "  2       2B  \n",
       "  3       3B  \n",
       "  4       SS  \n",
       "  5       LF  \n",
       "  6       CF  \n",
       "  7       RF  \n",
       "  8       DH  ,\n",
       "  'Mean Total RAA': 102.86482876897362,\n",
       "  'Lineup SD': 50.4317158257797,\n",
       "  '25th Percentile': 67.59070885584411,\n",
       "  '75th Percentile': 136.57316919649986},\n",
       " {'Lineup':     id               Name bats   bat  bat_sd  plat  bat_vsRHP  bat_vsLHP  \\\n",
       "  0  BAL    Adley Rutschman    S  22.2       9    10       27.2       17.2   \n",
       "  1  BAL  Anthony Santander    S  10.5      14     7       14.0        7.0   \n",
       "  2  BAL    Jordan Westburg    R   3.0      14    -7       -0.5        6.5   \n",
       "  3  BAL   Gunnar Henderson    L  20.9      19    25       33.4        8.4   \n",
       "  4  BAL        Jorge Mateo    R  -1.8      20    -8       -5.8    -1000.0   \n",
       "  5  BAL        Austin Hays    R   1.3       9    -8       -2.7        5.3   \n",
       "  6  BAL     Cedric Mullins    L   3.7      19    18       12.7       -5.3   \n",
       "  7  BAL        Aaron Hicks    S  -2.4      19     4       -0.4    -1000.0   \n",
       "  8  BAL   Ryan Mountcastle    R  10.0      22   -11        4.5       15.5   \n",
       "  \n",
       "          C      1B      2B      3B      SS      LF      CF      RF  \\\n",
       "  0    12.0    -6.0 -1000.0 -1000.0 -1000.0 -1000.0 -1000.0 -1000.0   \n",
       "  1 -1000.0    -4.0 -1000.0 -1000.0 -1000.0    -8.0 -1000.0   -10.0   \n",
       "  2 -1000.0 -1000.0    -2.0     3.0   -10.0 -1000.0 -1000.0 -1000.0   \n",
       "  3 -1000.0     5.0     0.0    10.0     5.0 -1000.0 -1000.0 -1000.0   \n",
       "  4 -1000.0 -1000.0     9.0     4.0    13.0     2.0    -3.0     0.0   \n",
       "  5 -1000.0 -1000.0 -1000.0 -1000.0 -1000.0     6.0    -4.0     8.0   \n",
       "  6 -1000.0 -1000.0 -1000.0 -1000.0 -1000.0    15.0     8.0    13.0   \n",
       "  7 -1000.0 -1000.0 -1000.0 -1000.0 -1000.0     4.0    -3.0     3.0   \n",
       "  8 -1000.0    -1.0 -1000.0 -1000.0 -1000.0 -1000.0 -1000.0 -1000.0   \n",
       "  \n",
       "       Last Name Position  \n",
       "  0    Rutschman        C  \n",
       "  1    Santander       1B  \n",
       "  2     Westburg       2B  \n",
       "  3    Henderson       3B  \n",
       "  4        Mateo       SS  \n",
       "  5         Hays       LF  \n",
       "  6      Mullins       CF  \n",
       "  7        Hicks       RF  \n",
       "  8  Mountcastle       DH  ,\n",
       "  'Mean Total RAA': 127.98075184134773,\n",
       "  'Lineup SD': 52.17956931475103,\n",
       "  '25th Percentile': 92.33857497019328,\n",
       "  '75th Percentile': 164.44335993296932},\n",
       " {'Lineup':     id               Name bats   bat  bat_sd  plat  bat_vsRHP  bat_vsLHP  \\\n",
       "  0  BAL       James McCann    R  -3.6      13   -10       -8.6        1.4   \n",
       "  1  BAL       Ryan O'Hearn    L   1.2      22    18       10.2       -7.8   \n",
       "  2  BAL       Adam Frazier    L  -4.4      13    18        4.6      -13.4   \n",
       "  3  BAL        Ramón Urías    R  -2.0      13    -4       -4.0    -1000.0   \n",
       "  4  BAL   Gunnar Henderson    L  20.9      19    25       33.4        8.4   \n",
       "  5  BAL        Austin Hays    R   1.3       9    -8       -2.7        5.3   \n",
       "  6  BAL      Colton Cowser    L   0.3      11    18        9.3       -8.7   \n",
       "  7  BAL  Anthony Santander    S  10.5      14     7       14.0        7.0   \n",
       "  8  BAL    Adley Rutschman    S  22.2       9    10       27.2       17.2   \n",
       "  \n",
       "          C      1B      2B      3B      SS      LF      CF      RF  Last Name  \\\n",
       "  0    -1.0    -6.0 -1000.0 -1000.0 -1000.0 -1000.0 -1000.0 -1000.0     McCann   \n",
       "  1 -1000.0    -3.0 -1000.0 -1000.0 -1000.0    -6.0 -1000.0   -11.0    O'Hearn   \n",
       "  2 -1000.0 -1000.0    -9.0 -1000.0 -1000.0     0.0 -1000.0    -6.0    Frazier   \n",
       "  3 -1000.0     5.0     4.0    12.0    -8.0 -1000.0 -1000.0 -1000.0      Urías   \n",
       "  4 -1000.0     5.0     0.0    10.0     5.0 -1000.0 -1000.0 -1000.0  Henderson   \n",
       "  5 -1000.0 -1000.0 -1000.0 -1000.0 -1000.0     6.0    -4.0     8.0       Hays   \n",
       "  6 -1000.0 -1000.0 -1000.0 -1000.0 -1000.0     7.0     1.0     5.0     Cowser   \n",
       "  7 -1000.0    -4.0 -1000.0 -1000.0 -1000.0    -8.0 -1000.0   -10.0  Santander   \n",
       "  8    12.0    -6.0 -1000.0 -1000.0 -1000.0 -1000.0 -1000.0 -1000.0  Rutschman   \n",
       "  \n",
       "    Position  \n",
       "  0        C  \n",
       "  1       1B  \n",
       "  2       2B  \n",
       "  3       3B  \n",
       "  4       SS  \n",
       "  5       LF  \n",
       "  6       CF  \n",
       "  7       RF  \n",
       "  8       DH  ,\n",
       "  'Mean Total RAA': 85.23533227232825,\n",
       "  'Lineup SD': 50.60214761007848,\n",
       "  '25th Percentile': 51.71128107823356,\n",
       "  '75th Percentile': 120.03867265316842},\n",
       " {'Lineup':     id               Name bats   bat  bat_sd  plat  bat_vsRHP  bat_vsLHP  \\\n",
       "  0  BAL       James McCann    R  -3.6      13   -10       -8.6        1.4   \n",
       "  1  BAL   Ryan Mountcastle    R  10.0      22   -11        4.5       15.5   \n",
       "  2  BAL    Jordan Westburg    R   3.0      14    -7       -0.5        6.5   \n",
       "  3  BAL        Ramón Urías    R  -2.0      13    -4       -4.0    -1000.0   \n",
       "  4  BAL        Jorge Mateo    R  -1.8      20    -8       -5.8    -1000.0   \n",
       "  5  BAL        Austin Hays    R   1.3       9    -8       -2.7        5.3   \n",
       "  6  BAL        Aaron Hicks    S  -2.4      19     4       -0.4    -1000.0   \n",
       "  7  BAL  Anthony Santander    S  10.5      14     7       14.0        7.0   \n",
       "  8  BAL   Gunnar Henderson    L  20.9      19    25       33.4        8.4   \n",
       "  \n",
       "          C      1B      2B      3B      SS      LF      CF      RF  \\\n",
       "  0    -1.0    -6.0 -1000.0 -1000.0 -1000.0 -1000.0 -1000.0 -1000.0   \n",
       "  1 -1000.0    -1.0 -1000.0 -1000.0 -1000.0 -1000.0 -1000.0 -1000.0   \n",
       "  2 -1000.0 -1000.0    -2.0     3.0   -10.0 -1000.0 -1000.0 -1000.0   \n",
       "  3 -1000.0     5.0     4.0    12.0    -8.0 -1000.0 -1000.0 -1000.0   \n",
       "  4 -1000.0 -1000.0     9.0     4.0    13.0     2.0    -3.0     0.0   \n",
       "  5 -1000.0 -1000.0 -1000.0 -1000.0 -1000.0     6.0    -4.0     8.0   \n",
       "  6 -1000.0 -1000.0 -1000.0 -1000.0 -1000.0     4.0    -3.0     3.0   \n",
       "  7 -1000.0    -4.0 -1000.0 -1000.0 -1000.0    -8.0 -1000.0   -10.0   \n",
       "  8 -1000.0     5.0     0.0    10.0     5.0 -1000.0 -1000.0 -1000.0   \n",
       "  \n",
       "       Last Name Position  \n",
       "  0       McCann        C  \n",
       "  1  Mountcastle       1B  \n",
       "  2     Westburg       2B  \n",
       "  3        Urías       3B  \n",
       "  4        Mateo       SS  \n",
       "  5         Hays       LF  \n",
       "  6        Hicks       CF  \n",
       "  7    Santander       RF  \n",
       "  8    Henderson       DH  ,\n",
       "  'Mean Total RAA': 43.87327778905991,\n",
       "  'Lineup SD': 51.39383427181763,\n",
       "  '25th Percentile': 8.719379161087812,\n",
       "  '75th Percentile': 79.23661645305506},\n",
       " {'Lineup':     id               Name bats   bat  bat_sd  plat  bat_vsRHP  bat_vsLHP  \\\n",
       "  0  BAL       James McCann    R  -3.6      13   -10       -8.6        1.4   \n",
       "  1  BAL   Ryan Mountcastle    R  10.0      22   -11        4.5       15.5   \n",
       "  2  BAL        Ramón Urías    R  -2.0      13    -4       -4.0    -1000.0   \n",
       "  3  BAL   Gunnar Henderson    L  20.9      19    25       33.4        8.4   \n",
       "  4  BAL        Jorge Mateo    R  -1.8      20    -8       -5.8    -1000.0   \n",
       "  5  BAL        Austin Hays    R   1.3       9    -8       -2.7        5.3   \n",
       "  6  BAL        Aaron Hicks    S  -2.4      19     4       -0.4    -1000.0   \n",
       "  7  BAL  Anthony Santander    S  10.5      14     7       14.0        7.0   \n",
       "  8  BAL    Adley Rutschman    S  22.2       9    10       27.2       17.2   \n",
       "  \n",
       "          C      1B      2B      3B      SS      LF      CF      RF  \\\n",
       "  0    -1.0    -6.0 -1000.0 -1000.0 -1000.0 -1000.0 -1000.0 -1000.0   \n",
       "  1 -1000.0    -1.0 -1000.0 -1000.0 -1000.0 -1000.0 -1000.0 -1000.0   \n",
       "  2 -1000.0     5.0     4.0    12.0    -8.0 -1000.0 -1000.0 -1000.0   \n",
       "  3 -1000.0     5.0     0.0    10.0     5.0 -1000.0 -1000.0 -1000.0   \n",
       "  4 -1000.0 -1000.0     9.0     4.0    13.0     2.0    -3.0     0.0   \n",
       "  5 -1000.0 -1000.0 -1000.0 -1000.0 -1000.0     6.0    -4.0     8.0   \n",
       "  6 -1000.0 -1000.0 -1000.0 -1000.0 -1000.0     4.0    -3.0     3.0   \n",
       "  7 -1000.0    -4.0 -1000.0 -1000.0 -1000.0    -8.0 -1000.0   -10.0   \n",
       "  8    12.0    -6.0 -1000.0 -1000.0 -1000.0 -1000.0 -1000.0 -1000.0   \n",
       "  \n",
       "       Last Name Position  \n",
       "  0       McCann        C  \n",
       "  1  Mountcastle       1B  \n",
       "  2        Urías       2B  \n",
       "  3    Henderson       3B  \n",
       "  4        Mateo       SS  \n",
       "  5         Hays       LF  \n",
       "  6        Hicks       CF  \n",
       "  7    Santander       RF  \n",
       "  8    Rutschman       DH  ,\n",
       "  'Mean Total RAA': 74.78259627802261,\n",
       "  'Lineup SD': 51.468641873785536,\n",
       "  '25th Percentile': 39.606961625420396,\n",
       "  '75th Percentile': 110.31908981010268},\n",
       " {'Lineup':     id               Name bats   bat  bat_sd  plat  bat_vsRHP  bat_vsLHP  \\\n",
       "  0  BAL       James McCann    R  -3.6      13   -10       -8.6        1.4   \n",
       "  1  BAL   Ryan Mountcastle    R  10.0      22   -11        4.5       15.5   \n",
       "  2  BAL    Jordan Westburg    R   3.0      14    -7       -0.5        6.5   \n",
       "  3  BAL        Ramón Urías    R  -2.0      13    -4       -4.0    -1000.0   \n",
       "  4  BAL        Jorge Mateo    R  -1.8      20    -8       -5.8    -1000.0   \n",
       "  5  BAL        Austin Hays    R   1.3       9    -8       -2.7        5.3   \n",
       "  6  BAL        Aaron Hicks    S  -2.4      19     4       -0.4    -1000.0   \n",
       "  7  BAL  Anthony Santander    S  10.5      14     7       14.0        7.0   \n",
       "  8  BAL   Gunnar Henderson    L  20.9      19    25       33.4        8.4   \n",
       "  \n",
       "          C      1B      2B      3B      SS      LF      CF      RF  \\\n",
       "  0    -1.0    -6.0 -1000.0 -1000.0 -1000.0 -1000.0 -1000.0 -1000.0   \n",
       "  1 -1000.0    -1.0 -1000.0 -1000.0 -1000.0 -1000.0 -1000.0 -1000.0   \n",
       "  2 -1000.0 -1000.0    -2.0     3.0   -10.0 -1000.0 -1000.0 -1000.0   \n",
       "  3 -1000.0     5.0     4.0    12.0    -8.0 -1000.0 -1000.0 -1000.0   \n",
       "  4 -1000.0 -1000.0     9.0     4.0    13.0     2.0    -3.0     0.0   \n",
       "  5 -1000.0 -1000.0 -1000.0 -1000.0 -1000.0     6.0    -4.0     8.0   \n",
       "  6 -1000.0 -1000.0 -1000.0 -1000.0 -1000.0     4.0    -3.0     3.0   \n",
       "  7 -1000.0    -4.0 -1000.0 -1000.0 -1000.0    -8.0 -1000.0   -10.0   \n",
       "  8 -1000.0     5.0     0.0    10.0     5.0 -1000.0 -1000.0 -1000.0   \n",
       "  \n",
       "       Last Name Position  \n",
       "  0       McCann        C  \n",
       "  1  Mountcastle       1B  \n",
       "  2     Westburg       2B  \n",
       "  3        Urías       3B  \n",
       "  4        Mateo       SS  \n",
       "  5         Hays       LF  \n",
       "  6        Hicks       CF  \n",
       "  7    Santander       RF  \n",
       "  8    Henderson       DH  ,\n",
       "  'Mean Total RAA': 42.97449198358444,\n",
       "  'Lineup SD': 51.995301959538715,\n",
       "  '25th Percentile': 8.421093310807597,\n",
       "  '75th Percentile': 76.88288635503591},\n",
       " {'Lineup':     id               Name bats   bat  bat_sd  plat  bat_vsRHP  bat_vsLHP  \\\n",
       "  0  BAL       James McCann    R  -3.6      13   -10       -8.6        1.4   \n",
       "  1  BAL   Ryan Mountcastle    R  10.0      22   -11        4.5       15.5   \n",
       "  2  BAL    Jordan Westburg    R   3.0      14    -7       -0.5        6.5   \n",
       "  3  BAL        Ramón Urías    R  -2.0      13    -4       -4.0    -1000.0   \n",
       "  4  BAL        Jorge Mateo    R  -1.8      20    -8       -5.8    -1000.0   \n",
       "  5  BAL        Austin Hays    R   1.3       9    -8       -2.7        5.3   \n",
       "  6  BAL       Ryan McKenna    R  -1.0      21    -3       -2.5    -1000.0   \n",
       "  7  BAL  Anthony Santander    S  10.5      14     7       14.0        7.0   \n",
       "  8  BAL    Adley Rutschman    S  22.2       9    10       27.2       17.2   \n",
       "  \n",
       "          C      1B      2B      3B      SS      LF      CF      RF  \\\n",
       "  0    -1.0    -6.0 -1000.0 -1000.0 -1000.0 -1000.0 -1000.0 -1000.0   \n",
       "  1 -1000.0    -1.0 -1000.0 -1000.0 -1000.0 -1000.0 -1000.0 -1000.0   \n",
       "  2 -1000.0 -1000.0    -2.0     3.0   -10.0 -1000.0 -1000.0 -1000.0   \n",
       "  3 -1000.0     5.0     4.0    12.0    -8.0 -1000.0 -1000.0 -1000.0   \n",
       "  4 -1000.0 -1000.0     9.0     4.0    13.0     2.0    -3.0     0.0   \n",
       "  5 -1000.0 -1000.0 -1000.0 -1000.0 -1000.0     6.0    -4.0     8.0   \n",
       "  6 -1000.0 -1000.0 -1000.0 -1000.0 -1000.0     7.0     3.0     4.0   \n",
       "  7 -1000.0    -4.0 -1000.0 -1000.0 -1000.0    -8.0 -1000.0   -10.0   \n",
       "  8    12.0    -6.0 -1000.0 -1000.0 -1000.0 -1000.0 -1000.0 -1000.0   \n",
       "  \n",
       "       Last Name Position  \n",
       "  0       McCann        C  \n",
       "  1  Mountcastle       1B  \n",
       "  2     Westburg       2B  \n",
       "  3        Urías       3B  \n",
       "  4        Mateo       SS  \n",
       "  5         Hays       LF  \n",
       "  6      McKenna       CF  \n",
       "  7    Santander       RF  \n",
       "  8    Rutschman       DH  ,\n",
       "  'Mean Total RAA': 42.32332924140392,\n",
       "  'Lineup SD': 52.08009305290429,\n",
       "  '25th Percentile': 7.986089750482986,\n",
       "  '75th Percentile': 76.84346819974436},\n",
       " {'Lineup':     id               Name bats   bat  bat_sd  plat  bat_vsRHP  bat_vsLHP  \\\n",
       "  0  BAL    Adley Rutschman    S  22.2       9    10       27.2       17.2   \n",
       "  1  BAL   Ryan Mountcastle    R  10.0      22   -11        4.5       15.5   \n",
       "  2  BAL    Jordan Westburg    R   3.0      14    -7       -0.5        6.5   \n",
       "  3  BAL        Ramón Urías    R  -2.0      13    -4       -4.0    -1000.0   \n",
       "  4  BAL        Jorge Mateo    R  -1.8      20    -8       -5.8    -1000.0   \n",
       "  5  BAL        Austin Hays    R   1.3       9    -8       -2.7        5.3   \n",
       "  6  BAL       Ryan McKenna    R  -1.0      21    -3       -2.5    -1000.0   \n",
       "  7  BAL  Anthony Santander    S  10.5      14     7       14.0        7.0   \n",
       "  8  BAL   Gunnar Henderson    L  20.9      19    25       33.4        8.4   \n",
       "  \n",
       "          C      1B      2B      3B      SS      LF      CF      RF  \\\n",
       "  0    12.0    -6.0 -1000.0 -1000.0 -1000.0 -1000.0 -1000.0 -1000.0   \n",
       "  1 -1000.0    -1.0 -1000.0 -1000.0 -1000.0 -1000.0 -1000.0 -1000.0   \n",
       "  2 -1000.0 -1000.0    -2.0     3.0   -10.0 -1000.0 -1000.0 -1000.0   \n",
       "  3 -1000.0     5.0     4.0    12.0    -8.0 -1000.0 -1000.0 -1000.0   \n",
       "  4 -1000.0 -1000.0     9.0     4.0    13.0     2.0    -3.0     0.0   \n",
       "  5 -1000.0 -1000.0 -1000.0 -1000.0 -1000.0     6.0    -4.0     8.0   \n",
       "  6 -1000.0 -1000.0 -1000.0 -1000.0 -1000.0     7.0     3.0     4.0   \n",
       "  7 -1000.0    -4.0 -1000.0 -1000.0 -1000.0    -8.0 -1000.0   -10.0   \n",
       "  8 -1000.0     5.0     0.0    10.0     5.0 -1000.0 -1000.0 -1000.0   \n",
       "  \n",
       "       Last Name Position  \n",
       "  0    Rutschman        C  \n",
       "  1  Mountcastle       1B  \n",
       "  2     Westburg       2B  \n",
       "  3        Urías       3B  \n",
       "  4        Mateo       SS  \n",
       "  5         Hays       LF  \n",
       "  6      McKenna       CF  \n",
       "  7    Santander       RF  \n",
       "  8    Henderson       DH  ,\n",
       "  'Mean Total RAA': 96.64695848820328,\n",
       "  'Lineup SD': 51.44407207776637,\n",
       "  '25th Percentile': 62.76123488652619,\n",
       "  '75th Percentile': 130.16160272072614},\n",
       " {'Lineup':     id               Name bats   bat  bat_sd  plat  bat_vsRHP  bat_vsLHP  \\\n",
       "  0  BAL       James McCann    R  -3.6      13   -10       -8.6        1.4   \n",
       "  1  BAL   Ryan Mountcastle    R  10.0      22   -11        4.5       15.5   \n",
       "  2  BAL    Jordan Westburg    R   3.0      14    -7       -0.5        6.5   \n",
       "  3  BAL   Gunnar Henderson    L  20.9      19    25       33.4        8.4   \n",
       "  4  BAL        Jorge Mateo    R  -1.8      20    -8       -5.8    -1000.0   \n",
       "  5  BAL        Austin Hays    R   1.3       9    -8       -2.7        5.3   \n",
       "  6  BAL       Ryan McKenna    R  -1.0      21    -3       -2.5    -1000.0   \n",
       "  7  BAL  Anthony Santander    S  10.5      14     7       14.0        7.0   \n",
       "  8  BAL    Adley Rutschman    S  22.2       9    10       27.2       17.2   \n",
       "  \n",
       "          C      1B      2B      3B      SS      LF      CF      RF  \\\n",
       "  0    -1.0    -6.0 -1000.0 -1000.0 -1000.0 -1000.0 -1000.0 -1000.0   \n",
       "  1 -1000.0    -1.0 -1000.0 -1000.0 -1000.0 -1000.0 -1000.0 -1000.0   \n",
       "  2 -1000.0 -1000.0    -2.0     3.0   -10.0 -1000.0 -1000.0 -1000.0   \n",
       "  3 -1000.0     5.0     0.0    10.0     5.0 -1000.0 -1000.0 -1000.0   \n",
       "  4 -1000.0 -1000.0     9.0     4.0    13.0     2.0    -3.0     0.0   \n",
       "  5 -1000.0 -1000.0 -1000.0 -1000.0 -1000.0     6.0    -4.0     8.0   \n",
       "  6 -1000.0 -1000.0 -1000.0 -1000.0 -1000.0     7.0     3.0     4.0   \n",
       "  7 -1000.0    -4.0 -1000.0 -1000.0 -1000.0    -8.0 -1000.0   -10.0   \n",
       "  8    12.0    -6.0 -1000.0 -1000.0 -1000.0 -1000.0 -1000.0 -1000.0   \n",
       "  \n",
       "       Last Name Position  \n",
       "  0       McCann        C  \n",
       "  1  Mountcastle       1B  \n",
       "  2     Westburg       2B  \n",
       "  3    Henderson       3B  \n",
       "  4        Mateo       SS  \n",
       "  5         Hays       LF  \n",
       "  6      McKenna       CF  \n",
       "  7    Santander       RF  \n",
       "  8    Rutschman       DH  ,\n",
       "  'Mean Total RAA': 77.62054413312191,\n",
       "  'Lineup SD': 50.85175445452041,\n",
       "  '25th Percentile': 45.282208382631936,\n",
       "  '75th Percentile': 111.44829322744236},\n",
       " {'Lineup':     id              Name bats   bat  bat_sd  plat  bat_vsRHP  bat_vsLHP  \\\n",
       "  0  BAL      James McCann    R  -3.6      13   -10       -8.6        1.4   \n",
       "  1  BAL  Ryan Mountcastle    R  10.0      22   -11        4.5       15.5   \n",
       "  2  BAL   Jordan Westburg    R   3.0      14    -7       -0.5        6.5   \n",
       "  3  BAL       Ramón Urías    R  -2.0      13    -4       -4.0    -1000.0   \n",
       "  4  BAL  Gunnar Henderson    L  20.9      19    25       33.4        8.4   \n",
       "  5  BAL       Austin Hays    R   1.3       9    -8       -2.7        5.3   \n",
       "  6  BAL      Ryan McKenna    R  -1.0      21    -3       -2.5    -1000.0   \n",
       "  7  BAL      Ryan O'Hearn    L   1.2      22    18       10.2       -7.8   \n",
       "  8  BAL   Adley Rutschman    S  22.2       9    10       27.2       17.2   \n",
       "  \n",
       "          C      1B      2B      3B      SS      LF      CF      RF  \\\n",
       "  0    -1.0    -6.0 -1000.0 -1000.0 -1000.0 -1000.0 -1000.0 -1000.0   \n",
       "  1 -1000.0    -1.0 -1000.0 -1000.0 -1000.0 -1000.0 -1000.0 -1000.0   \n",
       "  2 -1000.0 -1000.0    -2.0     3.0   -10.0 -1000.0 -1000.0 -1000.0   \n",
       "  3 -1000.0     5.0     4.0    12.0    -8.0 -1000.0 -1000.0 -1000.0   \n",
       "  4 -1000.0     5.0     0.0    10.0     5.0 -1000.0 -1000.0 -1000.0   \n",
       "  5 -1000.0 -1000.0 -1000.0 -1000.0 -1000.0     6.0    -4.0     8.0   \n",
       "  6 -1000.0 -1000.0 -1000.0 -1000.0 -1000.0     7.0     3.0     4.0   \n",
       "  7 -1000.0    -3.0 -1000.0 -1000.0 -1000.0    -6.0 -1000.0   -11.0   \n",
       "  8    12.0    -6.0 -1000.0 -1000.0 -1000.0 -1000.0 -1000.0 -1000.0   \n",
       "  \n",
       "       Last Name Position  \n",
       "  0       McCann        C  \n",
       "  1  Mountcastle       1B  \n",
       "  2     Westburg       2B  \n",
       "  3        Urías       3B  \n",
       "  4    Henderson       SS  \n",
       "  5         Hays       LF  \n",
       "  6      McKenna       CF  \n",
       "  7      O'Hearn       RF  \n",
       "  8    Rutschman       DH  ,\n",
       "  'Mean Total RAA': 66.843102365944,\n",
       "  'Lineup SD': 51.934349188475466,\n",
       "  '25th Percentile': 31.206122746163064,\n",
       "  '75th Percentile': 101.9008332141761},\n",
       " {'Lineup':     id               Name bats   bat  bat_sd  plat  bat_vsRHP  bat_vsLHP  \\\n",
       "  0  BAL       James McCann    R  -3.6      13   -10       -8.6        1.4   \n",
       "  1  BAL   Ryan Mountcastle    R  10.0      22   -11        4.5       15.5   \n",
       "  2  BAL    Jordan Westburg    R   3.0      14    -7       -0.5        6.5   \n",
       "  3  BAL        Ramón Urías    R  -2.0      13    -4       -4.0    -1000.0   \n",
       "  4  BAL   Gunnar Henderson    L  20.9      19    25       33.4        8.4   \n",
       "  5  BAL       Ryan McKenna    R  -1.0      21    -3       -2.5    -1000.0   \n",
       "  6  BAL        Jorge Mateo    R  -1.8      20    -8       -5.8    -1000.0   \n",
       "  7  BAL  Anthony Santander    S  10.5      14     7       14.0        7.0   \n",
       "  8  BAL    Adley Rutschman    S  22.2       9    10       27.2       17.2   \n",
       "  \n",
       "          C      1B      2B      3B      SS      LF      CF      RF  \\\n",
       "  0    -1.0    -6.0 -1000.0 -1000.0 -1000.0 -1000.0 -1000.0 -1000.0   \n",
       "  1 -1000.0    -1.0 -1000.0 -1000.0 -1000.0 -1000.0 -1000.0 -1000.0   \n",
       "  2 -1000.0 -1000.0    -2.0     3.0   -10.0 -1000.0 -1000.0 -1000.0   \n",
       "  3 -1000.0     5.0     4.0    12.0    -8.0 -1000.0 -1000.0 -1000.0   \n",
       "  4 -1000.0     5.0     0.0    10.0     5.0 -1000.0 -1000.0 -1000.0   \n",
       "  5 -1000.0 -1000.0 -1000.0 -1000.0 -1000.0     7.0     3.0     4.0   \n",
       "  6 -1000.0 -1000.0     9.0     4.0    13.0     2.0    -3.0     0.0   \n",
       "  7 -1000.0    -4.0 -1000.0 -1000.0 -1000.0    -8.0 -1000.0   -10.0   \n",
       "  8    12.0    -6.0 -1000.0 -1000.0 -1000.0 -1000.0 -1000.0 -1000.0   \n",
       "  \n",
       "       Last Name Position  \n",
       "  0       McCann        C  \n",
       "  1  Mountcastle       1B  \n",
       "  2     Westburg       2B  \n",
       "  3        Urías       3B  \n",
       "  4    Henderson       SS  \n",
       "  5      McKenna       LF  \n",
       "  6        Mateo       CF  \n",
       "  7    Santander       RF  \n",
       "  8    Rutschman       DH  ,\n",
       "  'Mean Total RAA': 64.37458924093879,\n",
       "  'Lineup SD': 52.20883459049184,\n",
       "  '25th Percentile': 29.493843034314217,\n",
       "  '75th Percentile': 100.09717568494308},\n",
       " {'Lineup':     id               Name bats   bat  bat_sd  plat  bat_vsRHP  bat_vsLHP  \\\n",
       "  0  BAL       James McCann    R  -3.6      13   -10       -8.6        1.4   \n",
       "  1  BAL   Ryan Mountcastle    R  10.0      22   -11        4.5       15.5   \n",
       "  2  BAL    Jordan Westburg    R   3.0      14    -7       -0.5        6.5   \n",
       "  3  BAL        Ramón Urías    R  -2.0      13    -4       -4.0    -1000.0   \n",
       "  4  BAL   Gunnar Henderson    L  20.9      19    25       33.4        8.4   \n",
       "  5  BAL        Austin Hays    R   1.3       9    -8       -2.7        5.3   \n",
       "  6  BAL        Jorge Mateo    R  -1.8      20    -8       -5.8    -1000.0   \n",
       "  7  BAL  Anthony Santander    S  10.5      14     7       14.0        7.0   \n",
       "  8  BAL    Adley Rutschman    S  22.2       9    10       27.2       17.2   \n",
       "  \n",
       "          C      1B      2B      3B      SS      LF      CF      RF  \\\n",
       "  0    -1.0    -6.0 -1000.0 -1000.0 -1000.0 -1000.0 -1000.0 -1000.0   \n",
       "  1 -1000.0    -1.0 -1000.0 -1000.0 -1000.0 -1000.0 -1000.0 -1000.0   \n",
       "  2 -1000.0 -1000.0    -2.0     3.0   -10.0 -1000.0 -1000.0 -1000.0   \n",
       "  3 -1000.0     5.0     4.0    12.0    -8.0 -1000.0 -1000.0 -1000.0   \n",
       "  4 -1000.0     5.0     0.0    10.0     5.0 -1000.0 -1000.0 -1000.0   \n",
       "  5 -1000.0 -1000.0 -1000.0 -1000.0 -1000.0     6.0    -4.0     8.0   \n",
       "  6 -1000.0 -1000.0     9.0     4.0    13.0     2.0    -3.0     0.0   \n",
       "  7 -1000.0    -4.0 -1000.0 -1000.0 -1000.0    -8.0 -1000.0   -10.0   \n",
       "  8    12.0    -6.0 -1000.0 -1000.0 -1000.0 -1000.0 -1000.0 -1000.0   \n",
       "  \n",
       "       Last Name Position  \n",
       "  0       McCann        C  \n",
       "  1  Mountcastle       1B  \n",
       "  2     Westburg       2B  \n",
       "  3        Urías       3B  \n",
       "  4    Henderson       SS  \n",
       "  5         Hays       LF  \n",
       "  6        Mateo       CF  \n",
       "  7    Santander       RF  \n",
       "  8    Rutschman       DH  ,\n",
       "  'Mean Total RAA': 65.54606274047777,\n",
       "  'Lineup SD': 50.226492217244214,\n",
       "  '25th Percentile': 31.72382264898659,\n",
       "  '75th Percentile': 98.14868114062003},\n",
       " {'Lineup':     id               Name bats   bat  bat_sd  plat  bat_vsRHP  bat_vsLHP  \\\n",
       "  0  BAL       James McCann    R  -3.6      13   -10       -8.6        1.4   \n",
       "  1  BAL   Ryan Mountcastle    R  10.0      22   -11        4.5       15.5   \n",
       "  2  BAL    Jordan Westburg    R   3.0      14    -7       -0.5        6.5   \n",
       "  3  BAL   Gunnar Henderson    L  20.9      19    25       33.4        8.4   \n",
       "  4  BAL        Jorge Mateo    R  -1.8      20    -8       -5.8    -1000.0   \n",
       "  5  BAL        Austin Hays    R   1.3       9    -8       -2.7        5.3   \n",
       "  6  BAL     Cedric Mullins    L   3.7      19    18       12.7       -5.3   \n",
       "  7  BAL  Anthony Santander    S  10.5      14     7       14.0        7.0   \n",
       "  8  BAL    Adley Rutschman    S  22.2       9    10       27.2       17.2   \n",
       "  \n",
       "          C      1B      2B      3B      SS      LF      CF      RF  \\\n",
       "  0    -1.0    -6.0 -1000.0 -1000.0 -1000.0 -1000.0 -1000.0 -1000.0   \n",
       "  1 -1000.0    -1.0 -1000.0 -1000.0 -1000.0 -1000.0 -1000.0 -1000.0   \n",
       "  2 -1000.0 -1000.0    -2.0     3.0   -10.0 -1000.0 -1000.0 -1000.0   \n",
       "  3 -1000.0     5.0     0.0    10.0     5.0 -1000.0 -1000.0 -1000.0   \n",
       "  4 -1000.0 -1000.0     9.0     4.0    13.0     2.0    -3.0     0.0   \n",
       "  5 -1000.0 -1000.0 -1000.0 -1000.0 -1000.0     6.0    -4.0     8.0   \n",
       "  6 -1000.0 -1000.0 -1000.0 -1000.0 -1000.0    15.0     8.0    13.0   \n",
       "  7 -1000.0    -4.0 -1000.0 -1000.0 -1000.0    -8.0 -1000.0   -10.0   \n",
       "  8    12.0    -6.0 -1000.0 -1000.0 -1000.0 -1000.0 -1000.0 -1000.0   \n",
       "  \n",
       "       Last Name Position  \n",
       "  0       McCann        C  \n",
       "  1  Mountcastle       1B  \n",
       "  2     Westburg       2B  \n",
       "  3    Henderson       3B  \n",
       "  4        Mateo       SS  \n",
       "  5         Hays       LF  \n",
       "  6      Mullins       CF  \n",
       "  7    Santander       RF  \n",
       "  8    Rutschman       DH  ,\n",
       "  'Mean Total RAA': 96.99777879953177,\n",
       "  'Lineup SD': 50.62154421047412,\n",
       "  '25th Percentile': 62.80616016757968,\n",
       "  '75th Percentile': 130.7712442633207},\n",
       " {'Lineup':     id               Name bats   bat  bat_sd  plat  bat_vsRHP  bat_vsLHP  \\\n",
       "  0  BAL    Adley Rutschman    S  22.2       9    10       27.2       17.2   \n",
       "  1  BAL       Ryan O'Hearn    L   1.2      22    18       10.2       -7.8   \n",
       "  2  BAL       Adam Frazier    L  -4.4      13    18        4.6      -13.4   \n",
       "  3  BAL    Jordan Westburg    R   3.0      14    -7       -0.5        6.5   \n",
       "  4  BAL   Gunnar Henderson    L  20.9      19    25       33.4        8.4   \n",
       "  5  BAL        Austin Hays    R   1.3       9    -8       -2.7        5.3   \n",
       "  6  BAL     Cedric Mullins    L   3.7      19    18       12.7       -5.3   \n",
       "  7  BAL  Anthony Santander    S  10.5      14     7       14.0        7.0   \n",
       "  8  BAL   Ryan Mountcastle    R  10.0      22   -11        4.5       15.5   \n",
       "  \n",
       "          C      1B      2B      3B      SS      LF      CF      RF  \\\n",
       "  0    12.0    -6.0 -1000.0 -1000.0 -1000.0 -1000.0 -1000.0 -1000.0   \n",
       "  1 -1000.0    -3.0 -1000.0 -1000.0 -1000.0    -6.0 -1000.0   -11.0   \n",
       "  2 -1000.0 -1000.0    -9.0 -1000.0 -1000.0     0.0 -1000.0    -6.0   \n",
       "  3 -1000.0 -1000.0    -2.0     3.0   -10.0 -1000.0 -1000.0 -1000.0   \n",
       "  4 -1000.0     5.0     0.0    10.0     5.0 -1000.0 -1000.0 -1000.0   \n",
       "  5 -1000.0 -1000.0 -1000.0 -1000.0 -1000.0     6.0    -4.0     8.0   \n",
       "  6 -1000.0 -1000.0 -1000.0 -1000.0 -1000.0    15.0     8.0    13.0   \n",
       "  7 -1000.0    -4.0 -1000.0 -1000.0 -1000.0    -8.0 -1000.0   -10.0   \n",
       "  8 -1000.0    -1.0 -1000.0 -1000.0 -1000.0 -1000.0 -1000.0 -1000.0   \n",
       "  \n",
       "       Last Name Position  \n",
       "  0    Rutschman        C  \n",
       "  1      O'Hearn       1B  \n",
       "  2      Frazier       2B  \n",
       "  3     Westburg       3B  \n",
       "  4    Henderson       SS  \n",
       "  5         Hays       LF  \n",
       "  6      Mullins       CF  \n",
       "  7    Santander       RF  \n",
       "  8  Mountcastle       DH  ,\n",
       "  'Mean Total RAA': 116.55628306478123,\n",
       "  'Lineup SD': 51.20838429469687,\n",
       "  '25th Percentile': 83.10219484451994,\n",
       "  '75th Percentile': 151.38128355454933},\n",
       " {'Lineup':     id              Name bats   bat  bat_sd  plat  bat_vsRHP  bat_vsLHP  \\\n",
       "  0  BAL      James McCann    R  -3.6      13   -10       -8.6        1.4   \n",
       "  1  BAL  Ryan Mountcastle    R  10.0      22   -11        4.5       15.5   \n",
       "  2  BAL   Jordan Westburg    R   3.0      14    -7       -0.5        6.5   \n",
       "  3  BAL  Gunnar Henderson    L  20.9      19    25       33.4        8.4   \n",
       "  4  BAL       Jorge Mateo    R  -1.8      20    -8       -5.8    -1000.0   \n",
       "  5  BAL       Austin Hays    R   1.3       9    -8       -2.7        5.3   \n",
       "  6  BAL    Cedric Mullins    L   3.7      19    18       12.7       -5.3   \n",
       "  7  BAL      Ryan McKenna    R  -1.0      21    -3       -2.5    -1000.0   \n",
       "  8  BAL   Adley Rutschman    S  22.2       9    10       27.2       17.2   \n",
       "  \n",
       "          C      1B      2B      3B      SS      LF      CF      RF  \\\n",
       "  0    -1.0    -6.0 -1000.0 -1000.0 -1000.0 -1000.0 -1000.0 -1000.0   \n",
       "  1 -1000.0    -1.0 -1000.0 -1000.0 -1000.0 -1000.0 -1000.0 -1000.0   \n",
       "  2 -1000.0 -1000.0    -2.0     3.0   -10.0 -1000.0 -1000.0 -1000.0   \n",
       "  3 -1000.0     5.0     0.0    10.0     5.0 -1000.0 -1000.0 -1000.0   \n",
       "  4 -1000.0 -1000.0     9.0     4.0    13.0     2.0    -3.0     0.0   \n",
       "  5 -1000.0 -1000.0 -1000.0 -1000.0 -1000.0     6.0    -4.0     8.0   \n",
       "  6 -1000.0 -1000.0 -1000.0 -1000.0 -1000.0    15.0     8.0    13.0   \n",
       "  7 -1000.0 -1000.0 -1000.0 -1000.0 -1000.0     7.0     3.0     4.0   \n",
       "  8    12.0    -6.0 -1000.0 -1000.0 -1000.0 -1000.0 -1000.0 -1000.0   \n",
       "  \n",
       "       Last Name Position  \n",
       "  0       McCann        C  \n",
       "  1  Mountcastle       1B  \n",
       "  2     Westburg       2B  \n",
       "  3    Henderson       3B  \n",
       "  4        Mateo       SS  \n",
       "  5         Hays       LF  \n",
       "  6      Mullins       CF  \n",
       "  7      McKenna       RF  \n",
       "  8    Rutschman       DH  ,\n",
       "  'Mean Total RAA': 96.40502187487012,\n",
       "  'Lineup SD': 51.5517402695207,\n",
       "  '25th Percentile': 61.440992541326835,\n",
       "  '75th Percentile': 131.03625716319348},\n",
       " {'Lineup':     id              Name bats   bat  bat_sd  plat  bat_vsRHP  bat_vsLHP  \\\n",
       "  0  BAL   Adley Rutschman    S  22.2       9    10       27.2       17.2   \n",
       "  1  BAL  Ryan Mountcastle    R  10.0      22   -11        4.5       15.5   \n",
       "  2  BAL   Jordan Westburg    R   3.0      14    -7       -0.5        6.5   \n",
       "  3  BAL       Ramón Urías    R  -2.0      13    -4       -4.0    -1000.0   \n",
       "  4  BAL       Jorge Mateo    R  -1.8      20    -8       -5.8    -1000.0   \n",
       "  5  BAL       Austin Hays    R   1.3       9    -8       -2.7        5.3   \n",
       "  6  BAL    Cedric Mullins    L   3.7      19    18       12.7       -5.3   \n",
       "  7  BAL      Ryan McKenna    R  -1.0      21    -3       -2.5    -1000.0   \n",
       "  8  BAL  Gunnar Henderson    L  20.9      19    25       33.4        8.4   \n",
       "  \n",
       "          C      1B      2B      3B      SS      LF      CF      RF  \\\n",
       "  0    12.0    -6.0 -1000.0 -1000.0 -1000.0 -1000.0 -1000.0 -1000.0   \n",
       "  1 -1000.0    -1.0 -1000.0 -1000.0 -1000.0 -1000.0 -1000.0 -1000.0   \n",
       "  2 -1000.0 -1000.0    -2.0     3.0   -10.0 -1000.0 -1000.0 -1000.0   \n",
       "  3 -1000.0     5.0     4.0    12.0    -8.0 -1000.0 -1000.0 -1000.0   \n",
       "  4 -1000.0 -1000.0     9.0     4.0    13.0     2.0    -3.0     0.0   \n",
       "  5 -1000.0 -1000.0 -1000.0 -1000.0 -1000.0     6.0    -4.0     8.0   \n",
       "  6 -1000.0 -1000.0 -1000.0 -1000.0 -1000.0    15.0     8.0    13.0   \n",
       "  7 -1000.0 -1000.0 -1000.0 -1000.0 -1000.0     7.0     3.0     4.0   \n",
       "  8 -1000.0     5.0     0.0    10.0     5.0 -1000.0 -1000.0 -1000.0   \n",
       "  \n",
       "       Last Name Position  \n",
       "  0    Rutschman        C  \n",
       "  1  Mountcastle       1B  \n",
       "  2     Westburg       2B  \n",
       "  3        Urías       3B  \n",
       "  4        Mateo       SS  \n",
       "  5         Hays       LF  \n",
       "  6      Mullins       CF  \n",
       "  7      McKenna       RF  \n",
       "  8    Henderson       DH  ,\n",
       "  'Mean Total RAA': 114.4652263176977,\n",
       "  'Lineup SD': 52.78075834761963,\n",
       "  '25th Percentile': 77.4687465484449,\n",
       "  '75th Percentile': 150.73555030146406},\n",
       " {'Lineup':     id              Name bats   bat  bat_sd  plat  bat_vsRHP  bat_vsLHP  \\\n",
       "  0  BAL      James McCann    R  -3.6      13   -10       -8.6        1.4   \n",
       "  1  BAL  Ryan Mountcastle    R  10.0      22   -11        4.5       15.5   \n",
       "  2  BAL   Jordan Westburg    R   3.0      14    -7       -0.5        6.5   \n",
       "  3  BAL  Gunnar Henderson    L  20.9      19    25       33.4        8.4   \n",
       "  4  BAL       Jorge Mateo    R  -1.8      20    -8       -5.8    -1000.0   \n",
       "  5  BAL       Austin Hays    R   1.3       9    -8       -2.7        5.3   \n",
       "  6  BAL    Cedric Mullins    L   3.7      19    18       12.7       -5.3   \n",
       "  7  BAL      Ryan McKenna    R  -1.0      21    -3       -2.5    -1000.0   \n",
       "  8  BAL   Adley Rutschman    S  22.2       9    10       27.2       17.2   \n",
       "  \n",
       "          C      1B      2B      3B      SS      LF      CF      RF  \\\n",
       "  0    -1.0    -6.0 -1000.0 -1000.0 -1000.0 -1000.0 -1000.0 -1000.0   \n",
       "  1 -1000.0    -1.0 -1000.0 -1000.0 -1000.0 -1000.0 -1000.0 -1000.0   \n",
       "  2 -1000.0 -1000.0    -2.0     3.0   -10.0 -1000.0 -1000.0 -1000.0   \n",
       "  3 -1000.0     5.0     0.0    10.0     5.0 -1000.0 -1000.0 -1000.0   \n",
       "  4 -1000.0 -1000.0     9.0     4.0    13.0     2.0    -3.0     0.0   \n",
       "  5 -1000.0 -1000.0 -1000.0 -1000.0 -1000.0     6.0    -4.0     8.0   \n",
       "  6 -1000.0 -1000.0 -1000.0 -1000.0 -1000.0    15.0     8.0    13.0   \n",
       "  7 -1000.0 -1000.0 -1000.0 -1000.0 -1000.0     7.0     3.0     4.0   \n",
       "  8    12.0    -6.0 -1000.0 -1000.0 -1000.0 -1000.0 -1000.0 -1000.0   \n",
       "  \n",
       "       Last Name Position  \n",
       "  0       McCann        C  \n",
       "  1  Mountcastle       1B  \n",
       "  2     Westburg       2B  \n",
       "  3    Henderson       3B  \n",
       "  4        Mateo       SS  \n",
       "  5         Hays       LF  \n",
       "  6      Mullins       CF  \n",
       "  7      McKenna       RF  \n",
       "  8    Rutschman       DH  ,\n",
       "  'Mean Total RAA': 96.207482954576,\n",
       "  'Lineup SD': 51.87646284656247,\n",
       "  '25th Percentile': 61.736970747102575,\n",
       "  '75th Percentile': 129.44462357809613},\n",
       " {'Lineup':     id               Name bats   bat  bat_sd  plat  bat_vsRHP  bat_vsLHP  \\\n",
       "  0  BAL       James McCann    R  -3.6      13   -10       -8.6        1.4   \n",
       "  1  BAL   Ryan Mountcastle    R  10.0      22   -11        4.5       15.5   \n",
       "  2  BAL    Jordan Westburg    R   3.0      14    -7       -0.5        6.5   \n",
       "  3  BAL   Gunnar Henderson    L  20.9      19    25       33.4        8.4   \n",
       "  4  BAL        Jorge Mateo    R  -1.8      20    -8       -5.8    -1000.0   \n",
       "  5  BAL        Austin Hays    R   1.3       9    -8       -2.7        5.3   \n",
       "  6  BAL       Ryan McKenna    R  -1.0      21    -3       -2.5    -1000.0   \n",
       "  7  BAL  Anthony Santander    S  10.5      14     7       14.0        7.0   \n",
       "  8  BAL    Adley Rutschman    S  22.2       9    10       27.2       17.2   \n",
       "  \n",
       "          C      1B      2B      3B      SS      LF      CF      RF  \\\n",
       "  0    -1.0    -6.0 -1000.0 -1000.0 -1000.0 -1000.0 -1000.0 -1000.0   \n",
       "  1 -1000.0    -1.0 -1000.0 -1000.0 -1000.0 -1000.0 -1000.0 -1000.0   \n",
       "  2 -1000.0 -1000.0    -2.0     3.0   -10.0 -1000.0 -1000.0 -1000.0   \n",
       "  3 -1000.0     5.0     0.0    10.0     5.0 -1000.0 -1000.0 -1000.0   \n",
       "  4 -1000.0 -1000.0     9.0     4.0    13.0     2.0    -3.0     0.0   \n",
       "  5 -1000.0 -1000.0 -1000.0 -1000.0 -1000.0     6.0    -4.0     8.0   \n",
       "  6 -1000.0 -1000.0 -1000.0 -1000.0 -1000.0     7.0     3.0     4.0   \n",
       "  7 -1000.0    -4.0 -1000.0 -1000.0 -1000.0    -8.0 -1000.0   -10.0   \n",
       "  8    12.0    -6.0 -1000.0 -1000.0 -1000.0 -1000.0 -1000.0 -1000.0   \n",
       "  \n",
       "       Last Name Position  \n",
       "  0       McCann        C  \n",
       "  1  Mountcastle       1B  \n",
       "  2     Westburg       2B  \n",
       "  3    Henderson       3B  \n",
       "  4        Mateo       SS  \n",
       "  5         Hays       LF  \n",
       "  6      McKenna       CF  \n",
       "  7    Santander       RF  \n",
       "  8    Rutschman       DH  ,\n",
       "  'Mean Total RAA': 77.2014795880225,\n",
       "  'Lineup SD': 50.58452458694838,\n",
       "  '25th Percentile': 42.28890362578324,\n",
       "  '75th Percentile': 111.46705634403291},\n",
       " {'Lineup':     id               Name bats   bat  bat_sd  plat  bat_vsRHP  bat_vsLHP  \\\n",
       "  0  BAL       James McCann    R  -3.6      13   -10       -8.6        1.4   \n",
       "  1  BAL   Ryan Mountcastle    R  10.0      22   -11        4.5       15.5   \n",
       "  2  BAL    Jordan Westburg    R   3.0      14    -7       -0.5        6.5   \n",
       "  3  BAL   Gunnar Henderson    L  20.9      19    25       33.4        8.4   \n",
       "  4  BAL        Jorge Mateo    R  -1.8      20    -8       -5.8    -1000.0   \n",
       "  5  BAL        Austin Hays    R   1.3       9    -8       -2.7        5.3   \n",
       "  6  BAL     Cedric Mullins    L   3.7      19    18       12.7       -5.3   \n",
       "  7  BAL  Anthony Santander    S  10.5      14     7       14.0        7.0   \n",
       "  8  BAL    Adley Rutschman    S  22.2       9    10       27.2       17.2   \n",
       "  \n",
       "          C      1B      2B      3B      SS      LF      CF      RF  \\\n",
       "  0    -1.0    -6.0 -1000.0 -1000.0 -1000.0 -1000.0 -1000.0 -1000.0   \n",
       "  1 -1000.0    -1.0 -1000.0 -1000.0 -1000.0 -1000.0 -1000.0 -1000.0   \n",
       "  2 -1000.0 -1000.0    -2.0     3.0   -10.0 -1000.0 -1000.0 -1000.0   \n",
       "  3 -1000.0     5.0     0.0    10.0     5.0 -1000.0 -1000.0 -1000.0   \n",
       "  4 -1000.0 -1000.0     9.0     4.0    13.0     2.0    -3.0     0.0   \n",
       "  5 -1000.0 -1000.0 -1000.0 -1000.0 -1000.0     6.0    -4.0     8.0   \n",
       "  6 -1000.0 -1000.0 -1000.0 -1000.0 -1000.0    15.0     8.0    13.0   \n",
       "  7 -1000.0    -4.0 -1000.0 -1000.0 -1000.0    -8.0 -1000.0   -10.0   \n",
       "  8    12.0    -6.0 -1000.0 -1000.0 -1000.0 -1000.0 -1000.0 -1000.0   \n",
       "  \n",
       "       Last Name Position  \n",
       "  0       McCann        C  \n",
       "  1  Mountcastle       1B  \n",
       "  2     Westburg       2B  \n",
       "  3    Henderson       3B  \n",
       "  4        Mateo       SS  \n",
       "  5         Hays       LF  \n",
       "  6      Mullins       CF  \n",
       "  7    Santander       RF  \n",
       "  8    Rutschman       DH  ,\n",
       "  'Mean Total RAA': 95.58323611241393,\n",
       "  'Lineup SD': 51.659907860695675,\n",
       "  '25th Percentile': 61.01632023228774,\n",
       "  '75th Percentile': 131.61071458278755},\n",
       " {'Lineup':     id               Name bats   bat  bat_sd  plat  bat_vsRHP  bat_vsLHP  \\\n",
       "  0  BAL       James McCann    R  -3.6      13   -10       -8.6        1.4   \n",
       "  1  BAL   Ryan Mountcastle    R  10.0      22   -11        4.5       15.5   \n",
       "  2  BAL    Jordan Westburg    R   3.0      14    -7       -0.5        6.5   \n",
       "  3  BAL   Gunnar Henderson    L  20.9      19    25       33.4        8.4   \n",
       "  4  BAL        Jorge Mateo    R  -1.8      20    -8       -5.8    -1000.0   \n",
       "  5  BAL        Austin Hays    R   1.3       9    -8       -2.7        5.3   \n",
       "  6  BAL     Cedric Mullins    L   3.7      19    18       12.7       -5.3   \n",
       "  7  BAL        Aaron Hicks    S  -2.4      19     4       -0.4    -1000.0   \n",
       "  8  BAL  Anthony Santander    S  10.5      14     7       14.0        7.0   \n",
       "  \n",
       "          C      1B      2B      3B      SS      LF      CF      RF  \\\n",
       "  0    -1.0    -6.0 -1000.0 -1000.0 -1000.0 -1000.0 -1000.0 -1000.0   \n",
       "  1 -1000.0    -1.0 -1000.0 -1000.0 -1000.0 -1000.0 -1000.0 -1000.0   \n",
       "  2 -1000.0 -1000.0    -2.0     3.0   -10.0 -1000.0 -1000.0 -1000.0   \n",
       "  3 -1000.0     5.0     0.0    10.0     5.0 -1000.0 -1000.0 -1000.0   \n",
       "  4 -1000.0 -1000.0     9.0     4.0    13.0     2.0    -3.0     0.0   \n",
       "  5 -1000.0 -1000.0 -1000.0 -1000.0 -1000.0     6.0    -4.0     8.0   \n",
       "  6 -1000.0 -1000.0 -1000.0 -1000.0 -1000.0    15.0     8.0    13.0   \n",
       "  7 -1000.0 -1000.0 -1000.0 -1000.0 -1000.0     4.0    -3.0     3.0   \n",
       "  8 -1000.0    -4.0 -1000.0 -1000.0 -1000.0    -8.0 -1000.0   -10.0   \n",
       "  \n",
       "       Last Name Position  \n",
       "  0       McCann        C  \n",
       "  1  Mountcastle       1B  \n",
       "  2     Westburg       2B  \n",
       "  3    Henderson       3B  \n",
       "  4        Mateo       SS  \n",
       "  5         Hays       LF  \n",
       "  6      Mullins       CF  \n",
       "  7        Hicks       RF  \n",
       "  8    Santander       DH  ,\n",
       "  'Mean Total RAA': 82.41636733277521,\n",
       "  'Lineup SD': 51.6399039731785,\n",
       "  '25th Percentile': 46.93013852237307,\n",
       "  '75th Percentile': 116.41131248182745},\n",
       " {'Lineup':     id               Name bats   bat  bat_sd  plat  bat_vsRHP  bat_vsLHP  \\\n",
       "  0  BAL    Adley Rutschman    S  22.2       9    10       27.2       17.2   \n",
       "  1  BAL   Ryan Mountcastle    R  10.0      22   -11        4.5       15.5   \n",
       "  2  BAL    Jordan Westburg    R   3.0      14    -7       -0.5        6.5   \n",
       "  3  BAL   Gunnar Henderson    L  20.9      19    25       33.4        8.4   \n",
       "  4  BAL        Jorge Mateo    R  -1.8      20    -8       -5.8    -1000.0   \n",
       "  5  BAL        Austin Hays    R   1.3       9    -8       -2.7        5.3   \n",
       "  6  BAL       Ryan McKenna    R  -1.0      21    -3       -2.5    -1000.0   \n",
       "  7  BAL        Aaron Hicks    S  -2.4      19     4       -0.4    -1000.0   \n",
       "  8  BAL  Anthony Santander    S  10.5      14     7       14.0        7.0   \n",
       "  \n",
       "          C      1B      2B      3B      SS      LF      CF      RF  \\\n",
       "  0    12.0    -6.0 -1000.0 -1000.0 -1000.0 -1000.0 -1000.0 -1000.0   \n",
       "  1 -1000.0    -1.0 -1000.0 -1000.0 -1000.0 -1000.0 -1000.0 -1000.0   \n",
       "  2 -1000.0 -1000.0    -2.0     3.0   -10.0 -1000.0 -1000.0 -1000.0   \n",
       "  3 -1000.0     5.0     0.0    10.0     5.0 -1000.0 -1000.0 -1000.0   \n",
       "  4 -1000.0 -1000.0     9.0     4.0    13.0     2.0    -3.0     0.0   \n",
       "  5 -1000.0 -1000.0 -1000.0 -1000.0 -1000.0     6.0    -4.0     8.0   \n",
       "  6 -1000.0 -1000.0 -1000.0 -1000.0 -1000.0     7.0     3.0     4.0   \n",
       "  7 -1000.0 -1000.0 -1000.0 -1000.0 -1000.0     4.0    -3.0     3.0   \n",
       "  8 -1000.0    -4.0 -1000.0 -1000.0 -1000.0    -8.0 -1000.0   -10.0   \n",
       "  \n",
       "       Last Name Position  \n",
       "  0    Rutschman        C  \n",
       "  1  Mountcastle       1B  \n",
       "  2     Westburg       2B  \n",
       "  3    Henderson       3B  \n",
       "  4        Mateo       SS  \n",
       "  5         Hays       LF  \n",
       "  6      McKenna       CF  \n",
       "  7        Hicks       RF  \n",
       "  8    Santander       DH  ,\n",
       "  'Mean Total RAA': 112.28711361072978,\n",
       "  'Lineup SD': 51.75040525826821,\n",
       "  '25th Percentile': 78.0537586220913,\n",
       "  '75th Percentile': 147.1452509761696},\n",
       " {'Lineup':     id               Name bats   bat  bat_sd  plat  bat_vsRHP  bat_vsLHP  \\\n",
       "  0  BAL       James McCann    R  -3.6      13   -10       -8.6        1.4   \n",
       "  1  BAL   Ryan Mountcastle    R  10.0      22   -11        4.5       15.5   \n",
       "  2  BAL        Ramón Urías    R  -2.0      13    -4       -4.0    -1000.0   \n",
       "  3  BAL   Gunnar Henderson    L  20.9      19    25       33.4        8.4   \n",
       "  4  BAL        Jorge Mateo    R  -1.8      20    -8       -5.8    -1000.0   \n",
       "  5  BAL        Austin Hays    R   1.3       9    -8       -2.7        5.3   \n",
       "  6  BAL        Aaron Hicks    S  -2.4      19     4       -0.4    -1000.0   \n",
       "  7  BAL  Anthony Santander    S  10.5      14     7       14.0        7.0   \n",
       "  8  BAL    Adley Rutschman    S  22.2       9    10       27.2       17.2   \n",
       "  \n",
       "          C      1B      2B      3B      SS      LF      CF      RF  \\\n",
       "  0    -1.0    -6.0 -1000.0 -1000.0 -1000.0 -1000.0 -1000.0 -1000.0   \n",
       "  1 -1000.0    -1.0 -1000.0 -1000.0 -1000.0 -1000.0 -1000.0 -1000.0   \n",
       "  2 -1000.0     5.0     4.0    12.0    -8.0 -1000.0 -1000.0 -1000.0   \n",
       "  3 -1000.0     5.0     0.0    10.0     5.0 -1000.0 -1000.0 -1000.0   \n",
       "  4 -1000.0 -1000.0     9.0     4.0    13.0     2.0    -3.0     0.0   \n",
       "  5 -1000.0 -1000.0 -1000.0 -1000.0 -1000.0     6.0    -4.0     8.0   \n",
       "  6 -1000.0 -1000.0 -1000.0 -1000.0 -1000.0     4.0    -3.0     3.0   \n",
       "  7 -1000.0    -4.0 -1000.0 -1000.0 -1000.0    -8.0 -1000.0   -10.0   \n",
       "  8    12.0    -6.0 -1000.0 -1000.0 -1000.0 -1000.0 -1000.0 -1000.0   \n",
       "  \n",
       "       Last Name Position  \n",
       "  0       McCann        C  \n",
       "  1  Mountcastle       1B  \n",
       "  2        Urías       2B  \n",
       "  3    Henderson       3B  \n",
       "  4        Mateo       SS  \n",
       "  5         Hays       LF  \n",
       "  6        Hicks       CF  \n",
       "  7    Santander       RF  \n",
       "  8    Rutschman       DH  ,\n",
       "  'Mean Total RAA': 74.56154072239202,\n",
       "  'Lineup SD': 53.06856410364376,\n",
       "  '25th Percentile': 39.5255315740483,\n",
       "  '75th Percentile': 110.04600338587602},\n",
       " {'Lineup':     id               Name bats   bat  bat_sd  plat  bat_vsRHP  bat_vsLHP  \\\n",
       "  0  BAL       James McCann    R  -3.6      13   -10       -8.6        1.4   \n",
       "  1  BAL   Ryan Mountcastle    R  10.0      22   -11        4.5       15.5   \n",
       "  2  BAL    Jordan Westburg    R   3.0      14    -7       -0.5        6.5   \n",
       "  3  BAL   Gunnar Henderson    L  20.9      19    25       33.4        8.4   \n",
       "  4  BAL        Jorge Mateo    R  -1.8      20    -8       -5.8    -1000.0   \n",
       "  5  BAL        Austin Hays    R   1.3       9    -8       -2.7        5.3   \n",
       "  6  BAL        Aaron Hicks    S  -2.4      19     4       -0.4    -1000.0   \n",
       "  7  BAL  Anthony Santander    S  10.5      14     7       14.0        7.0   \n",
       "  8  BAL    Adley Rutschman    S  22.2       9    10       27.2       17.2   \n",
       "  \n",
       "          C      1B      2B      3B      SS      LF      CF      RF  \\\n",
       "  0    -1.0    -6.0 -1000.0 -1000.0 -1000.0 -1000.0 -1000.0 -1000.0   \n",
       "  1 -1000.0    -1.0 -1000.0 -1000.0 -1000.0 -1000.0 -1000.0 -1000.0   \n",
       "  2 -1000.0 -1000.0    -2.0     3.0   -10.0 -1000.0 -1000.0 -1000.0   \n",
       "  3 -1000.0     5.0     0.0    10.0     5.0 -1000.0 -1000.0 -1000.0   \n",
       "  4 -1000.0 -1000.0     9.0     4.0    13.0     2.0    -3.0     0.0   \n",
       "  5 -1000.0 -1000.0 -1000.0 -1000.0 -1000.0     6.0    -4.0     8.0   \n",
       "  6 -1000.0 -1000.0 -1000.0 -1000.0 -1000.0     4.0    -3.0     3.0   \n",
       "  7 -1000.0    -4.0 -1000.0 -1000.0 -1000.0    -8.0 -1000.0   -10.0   \n",
       "  8    12.0    -6.0 -1000.0 -1000.0 -1000.0 -1000.0 -1000.0 -1000.0   \n",
       "  \n",
       "       Last Name Position  \n",
       "  0       McCann        C  \n",
       "  1  Mountcastle       1B  \n",
       "  2     Westburg       2B  \n",
       "  3    Henderson       3B  \n",
       "  4        Mateo       SS  \n",
       "  5         Hays       LF  \n",
       "  6        Hicks       CF  \n",
       "  7    Santander       RF  \n",
       "  8    Rutschman       DH  ,\n",
       "  'Mean Total RAA': 71.36034189310924,\n",
       "  'Lineup SD': 52.23199481816777,\n",
       "  '25th Percentile': 36.00263279153232,\n",
       "  '75th Percentile': 108.65560049476264},\n",
       " {'Lineup':     id               Name bats   bat  bat_sd  plat  bat_vsRHP  bat_vsLHP  \\\n",
       "  0  BAL       James McCann    R  -3.6      13   -10       -8.6        1.4   \n",
       "  1  BAL   Ryan Mountcastle    R  10.0      22   -11        4.5       15.5   \n",
       "  2  BAL    Jordan Westburg    R   3.0      14    -7       -0.5        6.5   \n",
       "  3  BAL   Gunnar Henderson    L  20.9      19    25       33.4        8.4   \n",
       "  4  BAL        Jorge Mateo    R  -1.8      20    -8       -5.8    -1000.0   \n",
       "  5  BAL        Austin Hays    R   1.3       9    -8       -2.7        5.3   \n",
       "  6  BAL        Aaron Hicks    S  -2.4      19     4       -0.4    -1000.0   \n",
       "  7  BAL  Anthony Santander    S  10.5      14     7       14.0        7.0   \n",
       "  8  BAL    Adley Rutschman    S  22.2       9    10       27.2       17.2   \n",
       "  \n",
       "          C      1B      2B      3B      SS      LF      CF      RF  \\\n",
       "  0    -1.0    -6.0 -1000.0 -1000.0 -1000.0 -1000.0 -1000.0 -1000.0   \n",
       "  1 -1000.0    -1.0 -1000.0 -1000.0 -1000.0 -1000.0 -1000.0 -1000.0   \n",
       "  2 -1000.0 -1000.0    -2.0     3.0   -10.0 -1000.0 -1000.0 -1000.0   \n",
       "  3 -1000.0     5.0     0.0    10.0     5.0 -1000.0 -1000.0 -1000.0   \n",
       "  4 -1000.0 -1000.0     9.0     4.0    13.0     2.0    -3.0     0.0   \n",
       "  5 -1000.0 -1000.0 -1000.0 -1000.0 -1000.0     6.0    -4.0     8.0   \n",
       "  6 -1000.0 -1000.0 -1000.0 -1000.0 -1000.0     4.0    -3.0     3.0   \n",
       "  7 -1000.0    -4.0 -1000.0 -1000.0 -1000.0    -8.0 -1000.0   -10.0   \n",
       "  8    12.0    -6.0 -1000.0 -1000.0 -1000.0 -1000.0 -1000.0 -1000.0   \n",
       "  \n",
       "       Last Name Position  \n",
       "  0       McCann        C  \n",
       "  1  Mountcastle       1B  \n",
       "  2     Westburg       2B  \n",
       "  3    Henderson       3B  \n",
       "  4        Mateo       SS  \n",
       "  5         Hays       LF  \n",
       "  6        Hicks       CF  \n",
       "  7    Santander       RF  \n",
       "  8    Rutschman       DH  ,\n",
       "  'Mean Total RAA': 75.80750453066815,\n",
       "  'Lineup SD': 51.351576096943056,\n",
       "  '25th Percentile': 40.64009737853587,\n",
       "  '75th Percentile': 110.18779263825205},\n",
       " {'Lineup':     id               Name bats   bat  bat_sd  plat  bat_vsRHP  bat_vsLHP  \\\n",
       "  0  BAL       James McCann    R  -3.6      13   -10       -8.6        1.4   \n",
       "  1  BAL  Anthony Santander    S  10.5      14     7       14.0        7.0   \n",
       "  2  BAL    Jordan Westburg    R   3.0      14    -7       -0.5        6.5   \n",
       "  3  BAL   Gunnar Henderson    L  20.9      19    25       33.4        8.4   \n",
       "  4  BAL        Jorge Mateo    R  -1.8      20    -8       -5.8    -1000.0   \n",
       "  5  BAL        Austin Hays    R   1.3       9    -8       -2.7        5.3   \n",
       "  6  BAL     Cedric Mullins    L   3.7      19    18       12.7       -5.3   \n",
       "  7  BAL        Aaron Hicks    S  -2.4      19     4       -0.4    -1000.0   \n",
       "  8  BAL    Adley Rutschman    S  22.2       9    10       27.2       17.2   \n",
       "  \n",
       "          C      1B      2B      3B      SS      LF      CF      RF  Last Name  \\\n",
       "  0    -1.0    -6.0 -1000.0 -1000.0 -1000.0 -1000.0 -1000.0 -1000.0     McCann   \n",
       "  1 -1000.0    -4.0 -1000.0 -1000.0 -1000.0    -8.0 -1000.0   -10.0  Santander   \n",
       "  2 -1000.0 -1000.0    -2.0     3.0   -10.0 -1000.0 -1000.0 -1000.0   Westburg   \n",
       "  3 -1000.0     5.0     0.0    10.0     5.0 -1000.0 -1000.0 -1000.0  Henderson   \n",
       "  4 -1000.0 -1000.0     9.0     4.0    13.0     2.0    -3.0     0.0      Mateo   \n",
       "  5 -1000.0 -1000.0 -1000.0 -1000.0 -1000.0     6.0    -4.0     8.0       Hays   \n",
       "  6 -1000.0 -1000.0 -1000.0 -1000.0 -1000.0    15.0     8.0    13.0    Mullins   \n",
       "  7 -1000.0 -1000.0 -1000.0 -1000.0 -1000.0     4.0    -3.0     3.0      Hicks   \n",
       "  8    12.0    -6.0 -1000.0 -1000.0 -1000.0 -1000.0 -1000.0 -1000.0  Rutschman   \n",
       "  \n",
       "    Position  \n",
       "  0        C  \n",
       "  1       1B  \n",
       "  2       2B  \n",
       "  3       3B  \n",
       "  4       SS  \n",
       "  5       LF  \n",
       "  6       CF  \n",
       "  7       RF  \n",
       "  8       DH  ,\n",
       "  'Mean Total RAA': 104.22228445094538,\n",
       "  'Lineup SD': 52.35712445233078,\n",
       "  '25th Percentile': 68.83322761386407,\n",
       "  '75th Percentile': 140.63921550738957},\n",
       " {'Lineup':     id               Name bats   bat  bat_sd  plat  bat_vsRHP  bat_vsLHP  \\\n",
       "  0  BAL       James McCann    R  -3.6      13   -10       -8.6        1.4   \n",
       "  1  BAL   Ryan Mountcastle    R  10.0      22   -11        4.5       15.5   \n",
       "  2  BAL    Jordan Westburg    R   3.0      14    -7       -0.5        6.5   \n",
       "  3  BAL   Gunnar Henderson    L  20.9      19    25       33.4        8.4   \n",
       "  4  BAL        Jorge Mateo    R  -1.8      20    -8       -5.8    -1000.0   \n",
       "  5  BAL        Austin Hays    R   1.3       9    -8       -2.7        5.3   \n",
       "  6  BAL        Aaron Hicks    S  -2.4      19     4       -0.4    -1000.0   \n",
       "  7  BAL  Anthony Santander    S  10.5      14     7       14.0        7.0   \n",
       "  8  BAL    Adley Rutschman    S  22.2       9    10       27.2       17.2   \n",
       "  \n",
       "          C      1B      2B      3B      SS      LF      CF      RF  \\\n",
       "  0    -1.0    -6.0 -1000.0 -1000.0 -1000.0 -1000.0 -1000.0 -1000.0   \n",
       "  1 -1000.0    -1.0 -1000.0 -1000.0 -1000.0 -1000.0 -1000.0 -1000.0   \n",
       "  2 -1000.0 -1000.0    -2.0     3.0   -10.0 -1000.0 -1000.0 -1000.0   \n",
       "  3 -1000.0     5.0     0.0    10.0     5.0 -1000.0 -1000.0 -1000.0   \n",
       "  4 -1000.0 -1000.0     9.0     4.0    13.0     2.0    -3.0     0.0   \n",
       "  5 -1000.0 -1000.0 -1000.0 -1000.0 -1000.0     6.0    -4.0     8.0   \n",
       "  6 -1000.0 -1000.0 -1000.0 -1000.0 -1000.0     4.0    -3.0     3.0   \n",
       "  7 -1000.0    -4.0 -1000.0 -1000.0 -1000.0    -8.0 -1000.0   -10.0   \n",
       "  8    12.0    -6.0 -1000.0 -1000.0 -1000.0 -1000.0 -1000.0 -1000.0   \n",
       "  \n",
       "       Last Name Position  \n",
       "  0       McCann        C  \n",
       "  1  Mountcastle       1B  \n",
       "  2     Westburg       2B  \n",
       "  3    Henderson       3B  \n",
       "  4        Mateo       SS  \n",
       "  5         Hays       LF  \n",
       "  6        Hicks       CF  \n",
       "  7    Santander       RF  \n",
       "  8    Rutschman       DH  ,\n",
       "  'Mean Total RAA': 74.22151675871974,\n",
       "  'Lineup SD': 50.413925431279395,\n",
       "  '25th Percentile': 40.813107527806345,\n",
       "  '75th Percentile': 108.39842981950247}]"
      ]
     },
     "execution_count": 12,
     "metadata": {},
     "output_type": "execute_result"
    }
   ],
   "source": [
    "\n",
    "lineup_stats_RHP = []\n",
    "total_lineups = len(lineup_dataframes_RHP)\n",
    "progress_interval = 5  # Change this number to adjust how frequently progress is reported\n",
    "\n",
    "for index, lineup_df in enumerate(lineup_dataframes_RHP):\n",
    "    try:\n",
    "        # Calculate statistics for the lineup\n",
    "        mean_total_lineup_raa, lineup_sd, percentile_25, percentile_75 = calculate_lineup_statistics(\n",
    "            lineup_df, player_data, \"RHP\", n_simulations=2000)\n",
    "        \n",
    "        lineup_stats_RHP.append({\n",
    "            'Lineup': lineup_df,\n",
    "            'Mean Total RAA': mean_total_lineup_raa,\n",
    "            'Lineup SD': lineup_sd,\n",
    "            '25th Percentile': percentile_25,\n",
    "            '75th Percentile': percentile_75\n",
    "        })\n",
    "    except Exception as e:\n",
    "        print(f\"Error processing lineup {index + 1}: {e}\")\n",
    "    # Progress tracking\n",
    "    if (index + 1) % progress_interval == 0 or index == total_lineups - 1:\n",
    "        print(f\"Processed {index + 1}/{total_lineups} lineups.\")\n",
    "\n",
    "# Displaying the evaluation results for the example lineups\n",
    "lineup_stats_RHP"
   ]
  },
  {
   "cell_type": "code",
   "execution_count": 14,
   "metadata": {},
   "outputs": [
    {
     "name": "stdout",
     "output_type": "stream",
     "text": [
      "Error processing lineup 3: single positional indexer is out-of-bounds\n",
      "Processed 5/111 lineups.\n",
      "Processed 10/111 lineups.\n",
      "Processed 15/111 lineups.\n",
      "Processed 20/111 lineups.\n",
      "Processed 25/111 lineups.\n",
      "Processed 30/111 lineups.\n",
      "Processed 35/111 lineups.\n",
      "Error processing lineup 36: single positional indexer is out-of-bounds\n",
      "Error processing lineup 38: single positional indexer is out-of-bounds\n",
      "Error processing lineup 40: single positional indexer is out-of-bounds\n",
      "Processed 40/111 lineups.\n",
      "Error processing lineup 41: single positional indexer is out-of-bounds\n",
      "Error processing lineup 43: single positional indexer is out-of-bounds\n",
      "Error processing lineup 45: single positional indexer is out-of-bounds\n",
      "Processed 45/111 lineups.\n",
      "Error processing lineup 50: single positional indexer is out-of-bounds\n",
      "Processed 50/111 lineups.\n",
      "Error processing lineup 52: single positional indexer is out-of-bounds\n",
      "Error processing lineup 54: single positional indexer is out-of-bounds\n",
      "Processed 55/111 lineups.\n",
      "Processed 60/111 lineups.\n",
      "Processed 65/111 lineups.\n",
      "Processed 70/111 lineups.\n",
      "Processed 75/111 lineups.\n",
      "Processed 80/111 lineups.\n",
      "Processed 85/111 lineups.\n",
      "Processed 90/111 lineups.\n",
      "Processed 95/111 lineups.\n",
      "Processed 100/111 lineups.\n",
      "Processed 105/111 lineups.\n",
      "Error processing lineup 110: 'Position'\n",
      "Processed 110/111 lineups.\n",
      "Error processing lineup 111: 'Position'\n",
      "Processed 111/111 lineups.\n"
     ]
    },
    {
     "data": {
      "text/plain": [
       "[{'Lineup':     id               Name bats   bat  bat_sd  plat  bat_vsRHP  bat_vsLHP  \\\n",
       "  0  BAL    Adley Rutschman    S  22.2       9    10       27.2       17.2   \n",
       "  1  BAL   Ryan Mountcastle    R  10.0      22   -11        4.5       15.5   \n",
       "  2  BAL       Adam Frazier    L  -4.4      13    18        4.6      -13.4   \n",
       "  3  BAL        Ramón Urías    R  -2.0      13    -4       -4.0    -1000.0   \n",
       "  4  BAL        Jorge Mateo    R  -1.8      20    -8       -5.8    -1000.0   \n",
       "  5  BAL  Anthony Santander    S  10.5      14     7       14.0        7.0   \n",
       "  6  BAL     Cedric Mullins    L   3.7      19    18       12.7       -5.3   \n",
       "  7  BAL        Austin Hays    R   1.3       9    -8       -2.7        5.3   \n",
       "  8  BAL   Gunnar Henderson    L  20.9      19    25       33.4        8.4   \n",
       "  \n",
       "          C      1B      2B      3B      SS      LF      CF      RF  \\\n",
       "  0    12.0    -6.0 -1000.0 -1000.0 -1000.0 -1000.0 -1000.0 -1000.0   \n",
       "  1 -1000.0    -1.0 -1000.0 -1000.0 -1000.0 -1000.0 -1000.0 -1000.0   \n",
       "  2 -1000.0 -1000.0    -9.0 -1000.0 -1000.0     0.0 -1000.0    -6.0   \n",
       "  3 -1000.0     5.0     4.0    12.0    -8.0 -1000.0 -1000.0 -1000.0   \n",
       "  4 -1000.0 -1000.0     9.0     4.0    13.0     2.0    -3.0     0.0   \n",
       "  5 -1000.0    -4.0 -1000.0 -1000.0 -1000.0    -8.0 -1000.0   -10.0   \n",
       "  6 -1000.0 -1000.0 -1000.0 -1000.0 -1000.0    15.0     8.0    13.0   \n",
       "  7 -1000.0 -1000.0 -1000.0 -1000.0 -1000.0     6.0    -4.0     8.0   \n",
       "  8 -1000.0     5.0     0.0    10.0     5.0 -1000.0 -1000.0 -1000.0   \n",
       "  \n",
       "       Last Name Position  \n",
       "  0    Rutschman        C  \n",
       "  1  Mountcastle       1B  \n",
       "  2      Frazier       2B  \n",
       "  3        Urías       3B  \n",
       "  4        Mateo       SS  \n",
       "  5    Santander       LF  \n",
       "  6      Mullins       CF  \n",
       "  7         Hays       RF  \n",
       "  8    Henderson       DH  ,\n",
       "  'Mean Total RAA': -1931.2241954297806,\n",
       "  'Lineup SD': 51.40762049704858,\n",
       "  '25th Percentile': -1967.305116651285,\n",
       "  '75th Percentile': -1896.1145843827533},\n",
       " {'Lineup':     id               Name bats   bat  bat_sd  plat  bat_vsRHP  bat_vsLHP  \\\n",
       "  0  BAL    Adley Rutschman    S  22.2       9    10       27.2       17.2   \n",
       "  1  BAL   Ryan Mountcastle    R  10.0      22   -11        4.5       15.5   \n",
       "  2  BAL       Adam Frazier    L  -4.4      13    18        4.6      -13.4   \n",
       "  3  BAL        Ramón Urías    R  -2.0      13    -4       -4.0    -1000.0   \n",
       "  4  BAL   Gunnar Henderson    L  20.9      19    25       33.4        8.4   \n",
       "  5  BAL       Terrin Vavra    R   0.0      10    18        9.0       -9.0   \n",
       "  6  BAL     Cedric Mullins    L   3.7      19    18       12.7       -5.3   \n",
       "  7  BAL        Austin Hays    R   1.3       9    -8       -2.7        5.3   \n",
       "  8  BAL  Anthony Santander    S  10.5      14     7       14.0        7.0   \n",
       "  \n",
       "          C      1B      2B      3B      SS      LF      CF      RF  \\\n",
       "  0    12.0    -6.0 -1000.0 -1000.0 -1000.0 -1000.0 -1000.0 -1000.0   \n",
       "  1 -1000.0    -1.0 -1000.0 -1000.0 -1000.0 -1000.0 -1000.0 -1000.0   \n",
       "  2 -1000.0 -1000.0    -9.0 -1000.0 -1000.0     0.0 -1000.0    -6.0   \n",
       "  3 -1000.0     5.0     4.0    12.0    -8.0 -1000.0 -1000.0 -1000.0   \n",
       "  4 -1000.0     5.0     0.0    10.0     5.0 -1000.0 -1000.0 -1000.0   \n",
       "  5 -1000.0 -1000.0    -5.0    -8.0 -1000.0     2.0    -9.0    -1.0   \n",
       "  6 -1000.0 -1000.0 -1000.0 -1000.0 -1000.0    15.0     8.0    13.0   \n",
       "  7 -1000.0 -1000.0 -1000.0 -1000.0 -1000.0     6.0    -4.0     8.0   \n",
       "  8 -1000.0    -4.0 -1000.0 -1000.0 -1000.0    -8.0 -1000.0   -10.0   \n",
       "  \n",
       "       Last Name Position  \n",
       "  0    Rutschman        C  \n",
       "  1  Mountcastle       1B  \n",
       "  2      Frazier       2B  \n",
       "  3        Urías       3B  \n",
       "  4    Henderson       SS  \n",
       "  5        Vavra       LF  \n",
       "  6      Mullins       CF  \n",
       "  7         Hays       RF  \n",
       "  8    Santander       DH  ,\n",
       "  'Mean Total RAA': -937.8540702539113,\n",
       "  'Lineup SD': 51.584773815734515,\n",
       "  '25th Percentile': -972.599853580187,\n",
       "  '75th Percentile': -902.5975221570546},\n",
       " {'Lineup':     id               Name bats   bat  bat_sd  plat  bat_vsRHP  bat_vsLHP  \\\n",
       "  0  BAL    Adley Rutschman    S  22.2       9    10       27.2       17.2   \n",
       "  1  BAL   Ryan Mountcastle    R  10.0      22   -11        4.5       15.5   \n",
       "  2  BAL       Adam Frazier    L  -4.4      13    18        4.6      -13.4   \n",
       "  3  BAL   Gunnar Henderson    L  20.9      19    25       33.4        8.4   \n",
       "  4  BAL        Jorge Mateo    R  -1.8      20    -8       -5.8    -1000.0   \n",
       "  5  BAL        Austin Hays    R   1.3       9    -8       -2.7        5.3   \n",
       "  6  BAL     Cedric Mullins    L   3.7      19    18       12.7       -5.3   \n",
       "  7  BAL  Anthony Santander    S  10.5      14     7       14.0        7.0   \n",
       "  8  BAL       Terrin Vavra    R   0.0      10    18        9.0       -9.0   \n",
       "  \n",
       "          C      1B      2B      3B      SS      LF      CF      RF  \\\n",
       "  0    12.0    -6.0 -1000.0 -1000.0 -1000.0 -1000.0 -1000.0 -1000.0   \n",
       "  1 -1000.0    -1.0 -1000.0 -1000.0 -1000.0 -1000.0 -1000.0 -1000.0   \n",
       "  2 -1000.0 -1000.0    -9.0 -1000.0 -1000.0     0.0 -1000.0    -6.0   \n",
       "  3 -1000.0     5.0     0.0    10.0     5.0 -1000.0 -1000.0 -1000.0   \n",
       "  4 -1000.0 -1000.0     9.0     4.0    13.0     2.0    -3.0     0.0   \n",
       "  5 -1000.0 -1000.0 -1000.0 -1000.0 -1000.0     6.0    -4.0     8.0   \n",
       "  6 -1000.0 -1000.0 -1000.0 -1000.0 -1000.0    15.0     8.0    13.0   \n",
       "  7 -1000.0    -4.0 -1000.0 -1000.0 -1000.0    -8.0 -1000.0   -10.0   \n",
       "  8 -1000.0 -1000.0    -5.0    -8.0 -1000.0     2.0    -9.0    -1.0   \n",
       "  \n",
       "       Last Name Position  \n",
       "  0    Rutschman        C  \n",
       "  1  Mountcastle       1B  \n",
       "  2      Frazier       2B  \n",
       "  3    Henderson       3B  \n",
       "  4        Mateo       SS  \n",
       "  5         Hays       LF  \n",
       "  6      Mullins       CF  \n",
       "  7    Santander       RF  \n",
       "  8        Vavra       DH  ,\n",
       "  'Mean Total RAA': -944.6059027536448,\n",
       "  'Lineup SD': 49.04421008536998,\n",
       "  '25th Percentile': -977.9740709095619,\n",
       "  '75th Percentile': -911.6302192191073},\n",
       " {'Lineup':     id               Name bats   bat  bat_sd  plat  bat_vsRHP  bat_vsLHP  \\\n",
       "  0  BAL    Adley Rutschman    S  22.2       9    10       27.2       17.2   \n",
       "  1  BAL   Ryan Mountcastle    R  10.0      22   -11        4.5       15.5   \n",
       "  2  BAL       Adam Frazier    L  -4.4      13    18        4.6      -13.4   \n",
       "  3  BAL        Ramón Urías    R  -2.0      13    -4       -4.0    -1000.0   \n",
       "  4  BAL        Jorge Mateo    R  -1.8      20    -8       -5.8    -1000.0   \n",
       "  5  BAL        Austin Hays    R   1.3       9    -8       -2.7        5.3   \n",
       "  6  BAL     Cedric Mullins    L   3.7      19    18       12.7       -5.3   \n",
       "  7  BAL  Anthony Santander    S  10.5      14     7       14.0        7.0   \n",
       "  8  BAL   Gunnar Henderson    L  20.9      19    25       33.4        8.4   \n",
       "  \n",
       "          C      1B      2B      3B      SS      LF      CF      RF  \\\n",
       "  0    12.0    -6.0 -1000.0 -1000.0 -1000.0 -1000.0 -1000.0 -1000.0   \n",
       "  1 -1000.0    -1.0 -1000.0 -1000.0 -1000.0 -1000.0 -1000.0 -1000.0   \n",
       "  2 -1000.0 -1000.0    -9.0 -1000.0 -1000.0     0.0 -1000.0    -6.0   \n",
       "  3 -1000.0     5.0     4.0    12.0    -8.0 -1000.0 -1000.0 -1000.0   \n",
       "  4 -1000.0 -1000.0     9.0     4.0    13.0     2.0    -3.0     0.0   \n",
       "  5 -1000.0 -1000.0 -1000.0 -1000.0 -1000.0     6.0    -4.0     8.0   \n",
       "  6 -1000.0 -1000.0 -1000.0 -1000.0 -1000.0    15.0     8.0    13.0   \n",
       "  7 -1000.0    -4.0 -1000.0 -1000.0 -1000.0    -8.0 -1000.0   -10.0   \n",
       "  8 -1000.0     5.0     0.0    10.0     5.0 -1000.0 -1000.0 -1000.0   \n",
       "  \n",
       "       Last Name Position  \n",
       "  0    Rutschman        C  \n",
       "  1  Mountcastle       1B  \n",
       "  2      Frazier       2B  \n",
       "  3        Urías       3B  \n",
       "  4        Mateo       SS  \n",
       "  5         Hays       LF  \n",
       "  6      Mullins       CF  \n",
       "  7    Santander       RF  \n",
       "  8    Henderson       DH  ,\n",
       "  'Mean Total RAA': -1934.4996860129265,\n",
       "  'Lineup SD': 51.94779718949367,\n",
       "  '25th Percentile': -1969.2074226131226,\n",
       "  '75th Percentile': -1899.9574916522392},\n",
       " {'Lineup':     id               Name bats   bat  bat_sd  plat  bat_vsRHP  bat_vsLHP  \\\n",
       "  0  BAL    Adley Rutschman    S  22.2       9    10       27.2       17.2   \n",
       "  1  BAL   Ryan Mountcastle    R  10.0      22   -11        4.5       15.5   \n",
       "  2  BAL       Adam Frazier    L  -4.4      13    18        4.6      -13.4   \n",
       "  3  BAL        Ramón Urías    R  -2.0      13    -4       -4.0    -1000.0   \n",
       "  4  BAL   Gunnar Henderson    L  20.9      19    25       33.4        8.4   \n",
       "  5  BAL        Austin Hays    R   1.3       9    -8       -2.7        5.3   \n",
       "  6  BAL     Cedric Mullins    L   3.7      19    18       12.7       -5.3   \n",
       "  7  BAL       Terrin Vavra    R   0.0      10    18        9.0       -9.0   \n",
       "  8  BAL  Anthony Santander    S  10.5      14     7       14.0        7.0   \n",
       "  \n",
       "          C      1B      2B      3B      SS      LF      CF      RF  \\\n",
       "  0    12.0    -6.0 -1000.0 -1000.0 -1000.0 -1000.0 -1000.0 -1000.0   \n",
       "  1 -1000.0    -1.0 -1000.0 -1000.0 -1000.0 -1000.0 -1000.0 -1000.0   \n",
       "  2 -1000.0 -1000.0    -9.0 -1000.0 -1000.0     0.0 -1000.0    -6.0   \n",
       "  3 -1000.0     5.0     4.0    12.0    -8.0 -1000.0 -1000.0 -1000.0   \n",
       "  4 -1000.0     5.0     0.0    10.0     5.0 -1000.0 -1000.0 -1000.0   \n",
       "  5 -1000.0 -1000.0 -1000.0 -1000.0 -1000.0     6.0    -4.0     8.0   \n",
       "  6 -1000.0 -1000.0 -1000.0 -1000.0 -1000.0    15.0     8.0    13.0   \n",
       "  7 -1000.0 -1000.0    -5.0    -8.0 -1000.0     2.0    -9.0    -1.0   \n",
       "  8 -1000.0    -4.0 -1000.0 -1000.0 -1000.0    -8.0 -1000.0   -10.0   \n",
       "  \n",
       "       Last Name Position  \n",
       "  0    Rutschman        C  \n",
       "  1  Mountcastle       1B  \n",
       "  2      Frazier       2B  \n",
       "  3        Urías       3B  \n",
       "  4    Henderson       SS  \n",
       "  5         Hays       LF  \n",
       "  6      Mullins       CF  \n",
       "  7        Vavra       RF  \n",
       "  8    Santander       DH  ,\n",
       "  'Mean Total RAA': -940.0888251273494,\n",
       "  'Lineup SD': 52.575480783494925,\n",
       "  '25th Percentile': -974.8951822925172,\n",
       "  '75th Percentile': -905.504821837917},\n",
       " {'Lineup':     id              Name bats   bat  bat_sd  plat  bat_vsRHP  bat_vsLHP  \\\n",
       "  0  BAL   Adley Rutschman    S  22.2       9    10       27.2       17.2   \n",
       "  1  BAL      Ryan O'Hearn    L   1.2      22    18       10.2       -7.8   \n",
       "  2  BAL      Adam Frazier    L  -4.4      13    18        4.6      -13.4   \n",
       "  3  BAL  Gunnar Henderson    L  20.9      19    25       33.4        8.4   \n",
       "  4  BAL       Jorge Mateo    R  -1.8      20    -8       -5.8    -1000.0   \n",
       "  5  BAL       Austin Hays    R   1.3       9    -8       -2.7        5.3   \n",
       "  6  BAL    Cedric Mullins    L   3.7      19    18       12.7       -5.3   \n",
       "  7  BAL      Terrin Vavra    R   0.0      10    18        9.0       -9.0   \n",
       "  8  BAL  Ryan Mountcastle    R  10.0      22   -11        4.5       15.5   \n",
       "  \n",
       "          C      1B      2B      3B      SS      LF      CF      RF  \\\n",
       "  0    12.0    -6.0 -1000.0 -1000.0 -1000.0 -1000.0 -1000.0 -1000.0   \n",
       "  1 -1000.0    -3.0 -1000.0 -1000.0 -1000.0    -6.0 -1000.0   -11.0   \n",
       "  2 -1000.0 -1000.0    -9.0 -1000.0 -1000.0     0.0 -1000.0    -6.0   \n",
       "  3 -1000.0     5.0     0.0    10.0     5.0 -1000.0 -1000.0 -1000.0   \n",
       "  4 -1000.0 -1000.0     9.0     4.0    13.0     2.0    -3.0     0.0   \n",
       "  5 -1000.0 -1000.0 -1000.0 -1000.0 -1000.0     6.0    -4.0     8.0   \n",
       "  6 -1000.0 -1000.0 -1000.0 -1000.0 -1000.0    15.0     8.0    13.0   \n",
       "  7 -1000.0 -1000.0    -5.0    -8.0 -1000.0     2.0    -9.0    -1.0   \n",
       "  8 -1000.0    -1.0 -1000.0 -1000.0 -1000.0 -1000.0 -1000.0 -1000.0   \n",
       "  \n",
       "       Last Name Position  \n",
       "  0    Rutschman        C  \n",
       "  1      O'Hearn       1B  \n",
       "  2      Frazier       2B  \n",
       "  3    Henderson       3B  \n",
       "  4        Mateo       SS  \n",
       "  5         Hays       LF  \n",
       "  6      Mullins       CF  \n",
       "  7        Vavra       RF  \n",
       "  8  Mountcastle       DH  ,\n",
       "  'Mean Total RAA': -953.4153270139611,\n",
       "  'Lineup SD': 52.13711221175238,\n",
       "  '25th Percentile': -987.7186263791531,\n",
       "  '75th Percentile': -917.9722337026296},\n",
       " {'Lineup':     id               Name bats   bat  bat_sd  plat  bat_vsRHP  bat_vsLHP  \\\n",
       "  0  BAL    Adley Rutschman    S  22.2       9    10       27.2       17.2   \n",
       "  1  BAL   Ryan Mountcastle    R  10.0      22   -11        4.5       15.5   \n",
       "  2  BAL       Adam Frazier    L  -4.4      13    18        4.6      -13.4   \n",
       "  3  BAL        Ramón Urías    R  -2.0      13    -4       -4.0    -1000.0   \n",
       "  4  BAL   Gunnar Henderson    L  20.9      19    25       33.4        8.4   \n",
       "  5  BAL        Austin Hays    R   1.3       9    -8       -2.7        5.3   \n",
       "  6  BAL     Cedric Mullins    L   3.7      19    18       12.7       -5.3   \n",
       "  7  BAL       Terrin Vavra    R   0.0      10    18        9.0       -9.0   \n",
       "  8  BAL  Anthony Santander    S  10.5      14     7       14.0        7.0   \n",
       "  \n",
       "          C      1B      2B      3B      SS      LF      CF      RF  \\\n",
       "  0    12.0    -6.0 -1000.0 -1000.0 -1000.0 -1000.0 -1000.0 -1000.0   \n",
       "  1 -1000.0    -1.0 -1000.0 -1000.0 -1000.0 -1000.0 -1000.0 -1000.0   \n",
       "  2 -1000.0 -1000.0    -9.0 -1000.0 -1000.0     0.0 -1000.0    -6.0   \n",
       "  3 -1000.0     5.0     4.0    12.0    -8.0 -1000.0 -1000.0 -1000.0   \n",
       "  4 -1000.0     5.0     0.0    10.0     5.0 -1000.0 -1000.0 -1000.0   \n",
       "  5 -1000.0 -1000.0 -1000.0 -1000.0 -1000.0     6.0    -4.0     8.0   \n",
       "  6 -1000.0 -1000.0 -1000.0 -1000.0 -1000.0    15.0     8.0    13.0   \n",
       "  7 -1000.0 -1000.0    -5.0    -8.0 -1000.0     2.0    -9.0    -1.0   \n",
       "  8 -1000.0    -4.0 -1000.0 -1000.0 -1000.0    -8.0 -1000.0   -10.0   \n",
       "  \n",
       "       Last Name Position  \n",
       "  0    Rutschman        C  \n",
       "  1  Mountcastle       1B  \n",
       "  2      Frazier       2B  \n",
       "  3        Urías       3B  \n",
       "  4    Henderson       SS  \n",
       "  5         Hays       LF  \n",
       "  6      Mullins       CF  \n",
       "  7        Vavra       RF  \n",
       "  8    Santander       DH  ,\n",
       "  'Mean Total RAA': -942.9156073872373,\n",
       "  'Lineup SD': 51.158035620243815,\n",
       "  '25th Percentile': -978.2821153711484,\n",
       "  '75th Percentile': -907.6444287558124},\n",
       " {'Lineup':     id               Name bats   bat  bat_sd  plat  bat_vsRHP  bat_vsLHP  \\\n",
       "  0  BAL       James McCann    R  -3.6      13   -10       -8.6        1.4   \n",
       "  1  BAL   Ryan Mountcastle    R  10.0      22   -11        4.5       15.5   \n",
       "  2  BAL       Adam Frazier    L  -4.4      13    18        4.6      -13.4   \n",
       "  3  BAL        Ramón Urías    R  -2.0      13    -4       -4.0    -1000.0   \n",
       "  4  BAL        Jorge Mateo    R  -1.8      20    -8       -5.8    -1000.0   \n",
       "  5  BAL        Austin Hays    R   1.3       9    -8       -2.7        5.3   \n",
       "  6  BAL     Cedric Mullins    L   3.7      19    18       12.7       -5.3   \n",
       "  7  BAL  Anthony Santander    S  10.5      14     7       14.0        7.0   \n",
       "  8  BAL    Adley Rutschman    S  22.2       9    10       27.2       17.2   \n",
       "  \n",
       "          C      1B      2B      3B      SS      LF      CF      RF  \\\n",
       "  0    -1.0    -6.0 -1000.0 -1000.0 -1000.0 -1000.0 -1000.0 -1000.0   \n",
       "  1 -1000.0    -1.0 -1000.0 -1000.0 -1000.0 -1000.0 -1000.0 -1000.0   \n",
       "  2 -1000.0 -1000.0    -9.0 -1000.0 -1000.0     0.0 -1000.0    -6.0   \n",
       "  3 -1000.0     5.0     4.0    12.0    -8.0 -1000.0 -1000.0 -1000.0   \n",
       "  4 -1000.0 -1000.0     9.0     4.0    13.0     2.0    -3.0     0.0   \n",
       "  5 -1000.0 -1000.0 -1000.0 -1000.0 -1000.0     6.0    -4.0     8.0   \n",
       "  6 -1000.0 -1000.0 -1000.0 -1000.0 -1000.0    15.0     8.0    13.0   \n",
       "  7 -1000.0    -4.0 -1000.0 -1000.0 -1000.0    -8.0 -1000.0   -10.0   \n",
       "  8    12.0    -6.0 -1000.0 -1000.0 -1000.0 -1000.0 -1000.0 -1000.0   \n",
       "  \n",
       "       Last Name Position  \n",
       "  0       McCann        C  \n",
       "  1  Mountcastle       1B  \n",
       "  2      Frazier       2B  \n",
       "  3        Urías       3B  \n",
       "  4        Mateo       SS  \n",
       "  5         Hays       LF  \n",
       "  6      Mullins       CF  \n",
       "  7    Santander       RF  \n",
       "  8    Rutschman       DH  ,\n",
       "  'Mean Total RAA': -1955.3349422908602,\n",
       "  'Lineup SD': 50.38247470392189,\n",
       "  '25th Percentile': -1989.0370264933556,\n",
       "  '75th Percentile': -1921.378886054997},\n",
       " {'Lineup':     id               Name bats   bat  bat_sd  plat  bat_vsRHP  bat_vsLHP  \\\n",
       "  0  BAL    Adley Rutschman    S  22.2       9    10       27.2       17.2   \n",
       "  1  BAL   Ryan Mountcastle    R  10.0      22   -11        4.5       15.5   \n",
       "  2  BAL       Adam Frazier    L  -4.4      13    18        4.6      -13.4   \n",
       "  3  BAL   Gunnar Henderson    L  20.9      19    25       33.4        8.4   \n",
       "  4  BAL        Jorge Mateo    R  -1.8      20    -8       -5.8    -1000.0   \n",
       "  5  BAL        Austin Hays    R   1.3       9    -8       -2.7        5.3   \n",
       "  6  BAL     Cedric Mullins    L   3.7      19    18       12.7       -5.3   \n",
       "  7  BAL       Terrin Vavra    R   0.0      10    18        9.0       -9.0   \n",
       "  8  BAL  Anthony Santander    S  10.5      14     7       14.0        7.0   \n",
       "  \n",
       "          C      1B      2B      3B      SS      LF      CF      RF  \\\n",
       "  0    12.0    -6.0 -1000.0 -1000.0 -1000.0 -1000.0 -1000.0 -1000.0   \n",
       "  1 -1000.0    -1.0 -1000.0 -1000.0 -1000.0 -1000.0 -1000.0 -1000.0   \n",
       "  2 -1000.0 -1000.0    -9.0 -1000.0 -1000.0     0.0 -1000.0    -6.0   \n",
       "  3 -1000.0     5.0     0.0    10.0     5.0 -1000.0 -1000.0 -1000.0   \n",
       "  4 -1000.0 -1000.0     9.0     4.0    13.0     2.0    -3.0     0.0   \n",
       "  5 -1000.0 -1000.0 -1000.0 -1000.0 -1000.0     6.0    -4.0     8.0   \n",
       "  6 -1000.0 -1000.0 -1000.0 -1000.0 -1000.0    15.0     8.0    13.0   \n",
       "  7 -1000.0 -1000.0    -5.0    -8.0 -1000.0     2.0    -9.0    -1.0   \n",
       "  8 -1000.0    -4.0 -1000.0 -1000.0 -1000.0    -8.0 -1000.0   -10.0   \n",
       "  \n",
       "       Last Name Position  \n",
       "  0    Rutschman        C  \n",
       "  1  Mountcastle       1B  \n",
       "  2      Frazier       2B  \n",
       "  3    Henderson       3B  \n",
       "  4        Mateo       SS  \n",
       "  5         Hays       LF  \n",
       "  6      Mullins       CF  \n",
       "  7        Vavra       RF  \n",
       "  8    Santander       DH  ,\n",
       "  'Mean Total RAA': -936.3437264497853,\n",
       "  'Lineup SD': 50.643608693556985,\n",
       "  '25th Percentile': -971.9485776469653,\n",
       "  '75th Percentile': -902.9213519399211},\n",
       " {'Lineup':     id               Name bats   bat  bat_sd  plat  bat_vsRHP  bat_vsLHP  \\\n",
       "  0  BAL    Adley Rutschman    S  22.2       9    10       27.2       17.2   \n",
       "  1  BAL       Ryan O'Hearn    L   1.2      22    18       10.2       -7.8   \n",
       "  2  BAL       Adam Frazier    L  -4.4      13    18        4.6      -13.4   \n",
       "  3  BAL   Gunnar Henderson    L  20.9      19    25       33.4        8.4   \n",
       "  4  BAL        Jorge Mateo    R  -1.8      20    -8       -5.8    -1000.0   \n",
       "  5  BAL        Austin Hays    R   1.3       9    -8       -2.7        5.3   \n",
       "  6  BAL     Cedric Mullins    L   3.7      19    18       12.7       -5.3   \n",
       "  7  BAL  Anthony Santander    S  10.5      14     7       14.0        7.0   \n",
       "  8  BAL   Ryan Mountcastle    R  10.0      22   -11        4.5       15.5   \n",
       "  \n",
       "          C      1B      2B      3B      SS      LF      CF      RF  \\\n",
       "  0    12.0    -6.0 -1000.0 -1000.0 -1000.0 -1000.0 -1000.0 -1000.0   \n",
       "  1 -1000.0    -3.0 -1000.0 -1000.0 -1000.0    -6.0 -1000.0   -11.0   \n",
       "  2 -1000.0 -1000.0    -9.0 -1000.0 -1000.0     0.0 -1000.0    -6.0   \n",
       "  3 -1000.0     5.0     0.0    10.0     5.0 -1000.0 -1000.0 -1000.0   \n",
       "  4 -1000.0 -1000.0     9.0     4.0    13.0     2.0    -3.0     0.0   \n",
       "  5 -1000.0 -1000.0 -1000.0 -1000.0 -1000.0     6.0    -4.0     8.0   \n",
       "  6 -1000.0 -1000.0 -1000.0 -1000.0 -1000.0    15.0     8.0    13.0   \n",
       "  7 -1000.0    -4.0 -1000.0 -1000.0 -1000.0    -8.0 -1000.0   -10.0   \n",
       "  8 -1000.0    -1.0 -1000.0 -1000.0 -1000.0 -1000.0 -1000.0 -1000.0   \n",
       "  \n",
       "       Last Name Position  \n",
       "  0    Rutschman        C  \n",
       "  1      O'Hearn       1B  \n",
       "  2      Frazier       2B  \n",
       "  3    Henderson       3B  \n",
       "  4        Mateo       SS  \n",
       "  5         Hays       LF  \n",
       "  6      Mullins       CF  \n",
       "  7    Santander       RF  \n",
       "  8  Mountcastle       DH  ,\n",
       "  'Mean Total RAA': -947.1455621927641,\n",
       "  'Lineup SD': 51.53477669717312,\n",
       "  '25th Percentile': -981.6270143724289,\n",
       "  '75th Percentile': -913.1468375155384},\n",
       " {'Lineup':     id               Name bats   bat  bat_sd  plat  bat_vsRHP  bat_vsLHP  \\\n",
       "  0  BAL    Adley Rutschman    S  22.2       9    10       27.2       17.2   \n",
       "  1  BAL   Ryan Mountcastle    R  10.0      22   -11        4.5       15.5   \n",
       "  2  BAL       Adam Frazier    L  -4.4      13    18        4.6      -13.4   \n",
       "  3  BAL        Ramón Urías    R  -2.0      13    -4       -4.0    -1000.0   \n",
       "  4  BAL   Gunnar Henderson    L  20.9      19    25       33.4        8.4   \n",
       "  5  BAL        Austin Hays    R   1.3       9    -8       -2.7        5.3   \n",
       "  6  BAL     Cedric Mullins    L   3.7      19    18       12.7       -5.3   \n",
       "  7  BAL       Terrin Vavra    R   0.0      10    18        9.0       -9.0   \n",
       "  8  BAL  Anthony Santander    S  10.5      14     7       14.0        7.0   \n",
       "  \n",
       "          C      1B      2B      3B      SS      LF      CF      RF  \\\n",
       "  0    12.0    -6.0 -1000.0 -1000.0 -1000.0 -1000.0 -1000.0 -1000.0   \n",
       "  1 -1000.0    -1.0 -1000.0 -1000.0 -1000.0 -1000.0 -1000.0 -1000.0   \n",
       "  2 -1000.0 -1000.0    -9.0 -1000.0 -1000.0     0.0 -1000.0    -6.0   \n",
       "  3 -1000.0     5.0     4.0    12.0    -8.0 -1000.0 -1000.0 -1000.0   \n",
       "  4 -1000.0     5.0     0.0    10.0     5.0 -1000.0 -1000.0 -1000.0   \n",
       "  5 -1000.0 -1000.0 -1000.0 -1000.0 -1000.0     6.0    -4.0     8.0   \n",
       "  6 -1000.0 -1000.0 -1000.0 -1000.0 -1000.0    15.0     8.0    13.0   \n",
       "  7 -1000.0 -1000.0    -5.0    -8.0 -1000.0     2.0    -9.0    -1.0   \n",
       "  8 -1000.0    -4.0 -1000.0 -1000.0 -1000.0    -8.0 -1000.0   -10.0   \n",
       "  \n",
       "       Last Name Position  \n",
       "  0    Rutschman        C  \n",
       "  1  Mountcastle       1B  \n",
       "  2      Frazier       2B  \n",
       "  3        Urías       3B  \n",
       "  4    Henderson       SS  \n",
       "  5         Hays       LF  \n",
       "  6      Mullins       CF  \n",
       "  7        Vavra       RF  \n",
       "  8    Santander       DH  ,\n",
       "  'Mean Total RAA': -942.3159391601345,\n",
       "  'Lineup SD': 50.8347985819541,\n",
       "  '25th Percentile': -977.6643644181096,\n",
       "  '75th Percentile': -906.7489357269634},\n",
       " {'Lineup':     id               Name bats   bat  bat_sd  plat  bat_vsRHP  bat_vsLHP  \\\n",
       "  0  BAL    Adley Rutschman    S  22.2       9    10       27.2       17.2   \n",
       "  1  BAL   Ryan Mountcastle    R  10.0      22   -11        4.5       15.5   \n",
       "  2  BAL        Ramón Urías    R  -2.0      13    -4       -4.0    -1000.0   \n",
       "  3  BAL   Gunnar Henderson    L  20.9      19    25       33.4        8.4   \n",
       "  4  BAL        Jorge Mateo    R  -1.8      20    -8       -5.8    -1000.0   \n",
       "  5  BAL        Austin Hays    R   1.3       9    -8       -2.7        5.3   \n",
       "  6  BAL     Cedric Mullins    L   3.7      19    18       12.7       -5.3   \n",
       "  7  BAL       Adam Frazier    L  -4.4      13    18        4.6      -13.4   \n",
       "  8  BAL  Anthony Santander    S  10.5      14     7       14.0        7.0   \n",
       "  \n",
       "          C      1B      2B      3B      SS      LF      CF      RF  \\\n",
       "  0    12.0    -6.0 -1000.0 -1000.0 -1000.0 -1000.0 -1000.0 -1000.0   \n",
       "  1 -1000.0    -1.0 -1000.0 -1000.0 -1000.0 -1000.0 -1000.0 -1000.0   \n",
       "  2 -1000.0     5.0     4.0    12.0    -8.0 -1000.0 -1000.0 -1000.0   \n",
       "  3 -1000.0     5.0     0.0    10.0     5.0 -1000.0 -1000.0 -1000.0   \n",
       "  4 -1000.0 -1000.0     9.0     4.0    13.0     2.0    -3.0     0.0   \n",
       "  5 -1000.0 -1000.0 -1000.0 -1000.0 -1000.0     6.0    -4.0     8.0   \n",
       "  6 -1000.0 -1000.0 -1000.0 -1000.0 -1000.0    15.0     8.0    13.0   \n",
       "  7 -1000.0 -1000.0    -9.0 -1000.0 -1000.0     0.0 -1000.0    -6.0   \n",
       "  8 -1000.0    -4.0 -1000.0 -1000.0 -1000.0    -8.0 -1000.0   -10.0   \n",
       "  \n",
       "       Last Name Position  \n",
       "  0    Rutschman        C  \n",
       "  1  Mountcastle       1B  \n",
       "  2        Urías       2B  \n",
       "  3    Henderson       3B  \n",
       "  4        Mateo       SS  \n",
       "  5         Hays       LF  \n",
       "  6      Mullins       CF  \n",
       "  7      Frazier       RF  \n",
       "  8    Santander       DH  ,\n",
       "  'Mean Total RAA': -1919.632935691653,\n",
       "  'Lineup SD': 51.23706219813193,\n",
       "  '25th Percentile': -1954.9088633219142,\n",
       "  '75th Percentile': -1886.1544592361065},\n",
       " {'Lineup':     id               Name bats   bat  bat_sd  plat  bat_vsRHP  bat_vsLHP  \\\n",
       "  0  BAL    Adley Rutschman    S  22.2       9    10       27.2       17.2   \n",
       "  1  BAL       Ryan O'Hearn    L   1.2      22    18       10.2       -7.8   \n",
       "  2  BAL       Adam Frazier    L  -4.4      13    18        4.6      -13.4   \n",
       "  3  BAL        Ramón Urías    R  -2.0      13    -4       -4.0    -1000.0   \n",
       "  4  BAL   Gunnar Henderson    L  20.9      19    25       33.4        8.4   \n",
       "  5  BAL       Terrin Vavra    R   0.0      10    18        9.0       -9.0   \n",
       "  6  BAL     Cedric Mullins    L   3.7      19    18       12.7       -5.3   \n",
       "  7  BAL  Anthony Santander    S  10.5      14     7       14.0        7.0   \n",
       "  8  BAL   Ryan Mountcastle    R  10.0      22   -11        4.5       15.5   \n",
       "  \n",
       "          C      1B      2B      3B      SS      LF      CF      RF  \\\n",
       "  0    12.0    -6.0 -1000.0 -1000.0 -1000.0 -1000.0 -1000.0 -1000.0   \n",
       "  1 -1000.0    -3.0 -1000.0 -1000.0 -1000.0    -6.0 -1000.0   -11.0   \n",
       "  2 -1000.0 -1000.0    -9.0 -1000.0 -1000.0     0.0 -1000.0    -6.0   \n",
       "  3 -1000.0     5.0     4.0    12.0    -8.0 -1000.0 -1000.0 -1000.0   \n",
       "  4 -1000.0     5.0     0.0    10.0     5.0 -1000.0 -1000.0 -1000.0   \n",
       "  5 -1000.0 -1000.0    -5.0    -8.0 -1000.0     2.0    -9.0    -1.0   \n",
       "  6 -1000.0 -1000.0 -1000.0 -1000.0 -1000.0    15.0     8.0    13.0   \n",
       "  7 -1000.0    -4.0 -1000.0 -1000.0 -1000.0    -8.0 -1000.0   -10.0   \n",
       "  8 -1000.0    -1.0 -1000.0 -1000.0 -1000.0 -1000.0 -1000.0 -1000.0   \n",
       "  \n",
       "       Last Name Position  \n",
       "  0    Rutschman        C  \n",
       "  1      O'Hearn       1B  \n",
       "  2      Frazier       2B  \n",
       "  3        Urías       3B  \n",
       "  4    Henderson       SS  \n",
       "  5        Vavra       LF  \n",
       "  6      Mullins       CF  \n",
       "  7    Santander       RF  \n",
       "  8  Mountcastle       DH  ,\n",
       "  'Mean Total RAA': -971.2454246796563,\n",
       "  'Lineup SD': 50.812698419668926,\n",
       "  '25th Percentile': -1005.6539253637552,\n",
       "  '75th Percentile': -936.9841340628781},\n",
       " {'Lineup':     id              Name bats   bat  bat_sd  plat  bat_vsRHP  bat_vsLHP  \\\n",
       "  0  BAL   Adley Rutschman    S  22.2       9    10       27.2       17.2   \n",
       "  1  BAL  Ryan Mountcastle    R  10.0      22   -11        4.5       15.5   \n",
       "  2  BAL      Adam Frazier    L  -4.4      13    18        4.6      -13.4   \n",
       "  3  BAL  Gunnar Henderson    L  20.9      19    25       33.4        8.4   \n",
       "  4  BAL       Jorge Mateo    R  -1.8      20    -8       -5.8    -1000.0   \n",
       "  5  BAL       Austin Hays    R   1.3       9    -8       -2.7        5.3   \n",
       "  6  BAL    Cedric Mullins    L   3.7      19    18       12.7       -5.3   \n",
       "  7  BAL      Kyle Stowers    R   0.0      19    10        5.0       -5.0   \n",
       "  8  BAL      Ryan O'Hearn    L   1.2      22    18       10.2       -7.8   \n",
       "  \n",
       "          C      1B      2B      3B      SS      LF      CF      RF  \\\n",
       "  0    12.0    -6.0 -1000.0 -1000.0 -1000.0 -1000.0 -1000.0 -1000.0   \n",
       "  1 -1000.0    -1.0 -1000.0 -1000.0 -1000.0 -1000.0 -1000.0 -1000.0   \n",
       "  2 -1000.0 -1000.0    -9.0 -1000.0 -1000.0     0.0 -1000.0    -6.0   \n",
       "  3 -1000.0     5.0     0.0    10.0     5.0 -1000.0 -1000.0 -1000.0   \n",
       "  4 -1000.0 -1000.0     9.0     4.0    13.0     2.0    -3.0     0.0   \n",
       "  5 -1000.0 -1000.0 -1000.0 -1000.0 -1000.0     6.0    -4.0     8.0   \n",
       "  6 -1000.0 -1000.0 -1000.0 -1000.0 -1000.0    15.0     8.0    13.0   \n",
       "  7 -1000.0 -1000.0 -1000.0 -1000.0 -1000.0     0.0   -10.0     2.0   \n",
       "  8 -1000.0    -3.0 -1000.0 -1000.0 -1000.0    -6.0 -1000.0   -11.0   \n",
       "  \n",
       "       Last Name Position  \n",
       "  0    Rutschman        C  \n",
       "  1  Mountcastle       1B  \n",
       "  2      Frazier       2B  \n",
       "  3    Henderson       3B  \n",
       "  4        Mateo       SS  \n",
       "  5         Hays       LF  \n",
       "  6      Mullins       CF  \n",
       "  7      Stowers       RF  \n",
       "  8      O'Hearn       DH  ,\n",
       "  'Mean Total RAA': -944.405779305321,\n",
       "  'Lineup SD': 52.258063116005104,\n",
       "  '25th Percentile': -980.4722271318112,\n",
       "  '75th Percentile': -909.8304985329728},\n",
       " {'Lineup':     id               Name bats   bat  bat_sd  plat  bat_vsRHP  bat_vsLHP  \\\n",
       "  0  BAL    Adley Rutschman    S  22.2       9    10       27.2       17.2   \n",
       "  1  BAL       Ryan O'Hearn    L   1.2      22    18       10.2       -7.8   \n",
       "  2  BAL       Adam Frazier    L  -4.4      13    18        4.6      -13.4   \n",
       "  3  BAL        Ramón Urías    R  -2.0      13    -4       -4.0    -1000.0   \n",
       "  4  BAL        Jorge Mateo    R  -1.8      20    -8       -5.8    -1000.0   \n",
       "  5  BAL       Kyle Stowers    R   0.0      19    10        5.0       -5.0   \n",
       "  6  BAL     Cedric Mullins    L   3.7      19    18       12.7       -5.3   \n",
       "  7  BAL  Anthony Santander    S  10.5      14     7       14.0        7.0   \n",
       "  8  BAL   Ryan Mountcastle    R  10.0      22   -11        4.5       15.5   \n",
       "  \n",
       "          C      1B      2B      3B      SS      LF      CF      RF  \\\n",
       "  0    12.0    -6.0 -1000.0 -1000.0 -1000.0 -1000.0 -1000.0 -1000.0   \n",
       "  1 -1000.0    -3.0 -1000.0 -1000.0 -1000.0    -6.0 -1000.0   -11.0   \n",
       "  2 -1000.0 -1000.0    -9.0 -1000.0 -1000.0     0.0 -1000.0    -6.0   \n",
       "  3 -1000.0     5.0     4.0    12.0    -8.0 -1000.0 -1000.0 -1000.0   \n",
       "  4 -1000.0 -1000.0     9.0     4.0    13.0     2.0    -3.0     0.0   \n",
       "  5 -1000.0 -1000.0 -1000.0 -1000.0 -1000.0     0.0   -10.0     2.0   \n",
       "  6 -1000.0 -1000.0 -1000.0 -1000.0 -1000.0    15.0     8.0    13.0   \n",
       "  7 -1000.0    -4.0 -1000.0 -1000.0 -1000.0    -8.0 -1000.0   -10.0   \n",
       "  8 -1000.0    -1.0 -1000.0 -1000.0 -1000.0 -1000.0 -1000.0 -1000.0   \n",
       "  \n",
       "       Last Name Position  \n",
       "  0    Rutschman        C  \n",
       "  1      O'Hearn       1B  \n",
       "  2      Frazier       2B  \n",
       "  3        Urías       3B  \n",
       "  4        Mateo       SS  \n",
       "  5      Stowers       LF  \n",
       "  6      Mullins       CF  \n",
       "  7    Santander       RF  \n",
       "  8  Mountcastle       DH  ,\n",
       "  'Mean Total RAA': -1968.5965527995943,\n",
       "  'Lineup SD': 50.96832480106607,\n",
       "  '25th Percentile': -2002.9715905295554,\n",
       "  '75th Percentile': -1934.5189232961748},\n",
       " {'Lineup':     id               Name bats   bat  bat_sd  plat  bat_vsRHP  bat_vsLHP  \\\n",
       "  0  BAL       James McCann    R  -3.6      13   -10       -8.6        1.4   \n",
       "  1  BAL   Ryan Mountcastle    R  10.0      22   -11        4.5       15.5   \n",
       "  2  BAL       Adam Frazier    L  -4.4      13    18        4.6      -13.4   \n",
       "  3  BAL   Gunnar Henderson    L  20.9      19    25       33.4        8.4   \n",
       "  4  BAL        Jorge Mateo    R  -1.8      20    -8       -5.8    -1000.0   \n",
       "  5  BAL       Kyle Stowers    R   0.0      19    10        5.0       -5.0   \n",
       "  6  BAL     Cedric Mullins    L   3.7      19    18       12.7       -5.3   \n",
       "  7  BAL  Anthony Santander    S  10.5      14     7       14.0        7.0   \n",
       "  8  BAL    Adley Rutschman    S  22.2       9    10       27.2       17.2   \n",
       "  \n",
       "          C      1B      2B      3B      SS      LF      CF      RF  \\\n",
       "  0    -1.0    -6.0 -1000.0 -1000.0 -1000.0 -1000.0 -1000.0 -1000.0   \n",
       "  1 -1000.0    -1.0 -1000.0 -1000.0 -1000.0 -1000.0 -1000.0 -1000.0   \n",
       "  2 -1000.0 -1000.0    -9.0 -1000.0 -1000.0     0.0 -1000.0    -6.0   \n",
       "  3 -1000.0     5.0     0.0    10.0     5.0 -1000.0 -1000.0 -1000.0   \n",
       "  4 -1000.0 -1000.0     9.0     4.0    13.0     2.0    -3.0     0.0   \n",
       "  5 -1000.0 -1000.0 -1000.0 -1000.0 -1000.0     0.0   -10.0     2.0   \n",
       "  6 -1000.0 -1000.0 -1000.0 -1000.0 -1000.0    15.0     8.0    13.0   \n",
       "  7 -1000.0    -4.0 -1000.0 -1000.0 -1000.0    -8.0 -1000.0   -10.0   \n",
       "  8    12.0    -6.0 -1000.0 -1000.0 -1000.0 -1000.0 -1000.0 -1000.0   \n",
       "  \n",
       "       Last Name Position  \n",
       "  0       McCann        C  \n",
       "  1  Mountcastle       1B  \n",
       "  2      Frazier       2B  \n",
       "  3    Henderson       3B  \n",
       "  4        Mateo       SS  \n",
       "  5      Stowers       LF  \n",
       "  6      Mullins       CF  \n",
       "  7    Santander       RF  \n",
       "  8    Rutschman       DH  ,\n",
       "  'Mean Total RAA': -963.5989608635916,\n",
       "  'Lineup SD': 50.955037966368536,\n",
       "  '25th Percentile': -998.2509998255248,\n",
       "  '75th Percentile': -929.4552641823327},\n",
       " {'Lineup':     id               Name bats   bat  bat_sd  plat  bat_vsRHP  bat_vsLHP  \\\n",
       "  0  BAL    Adley Rutschman    S  22.2       9    10       27.2       17.2   \n",
       "  1  BAL        Ramón Urías    R  -2.0      13    -4       -4.0    -1000.0   \n",
       "  2  BAL       Adam Frazier    L  -4.4      13    18        4.6      -13.4   \n",
       "  3  BAL   Gunnar Henderson    L  20.9      19    25       33.4        8.4   \n",
       "  4  BAL        Jorge Mateo    R  -1.8      20    -8       -5.8    -1000.0   \n",
       "  5  BAL       Kyle Stowers    R   0.0      19    10        5.0       -5.0   \n",
       "  6  BAL     Cedric Mullins    L   3.7      19    18       12.7       -5.3   \n",
       "  7  BAL  Anthony Santander    S  10.5      14     7       14.0        7.0   \n",
       "  8  BAL   Ryan Mountcastle    R  10.0      22   -11        4.5       15.5   \n",
       "  \n",
       "          C      1B      2B      3B      SS      LF      CF      RF  \\\n",
       "  0    12.0    -6.0 -1000.0 -1000.0 -1000.0 -1000.0 -1000.0 -1000.0   \n",
       "  1 -1000.0     5.0     4.0    12.0    -8.0 -1000.0 -1000.0 -1000.0   \n",
       "  2 -1000.0 -1000.0    -9.0 -1000.0 -1000.0     0.0 -1000.0    -6.0   \n",
       "  3 -1000.0     5.0     0.0    10.0     5.0 -1000.0 -1000.0 -1000.0   \n",
       "  4 -1000.0 -1000.0     9.0     4.0    13.0     2.0    -3.0     0.0   \n",
       "  5 -1000.0 -1000.0 -1000.0 -1000.0 -1000.0     0.0   -10.0     2.0   \n",
       "  6 -1000.0 -1000.0 -1000.0 -1000.0 -1000.0    15.0     8.0    13.0   \n",
       "  7 -1000.0    -4.0 -1000.0 -1000.0 -1000.0    -8.0 -1000.0   -10.0   \n",
       "  8 -1000.0    -1.0 -1000.0 -1000.0 -1000.0 -1000.0 -1000.0 -1000.0   \n",
       "  \n",
       "       Last Name Position  \n",
       "  0    Rutschman        C  \n",
       "  1        Urías       1B  \n",
       "  2      Frazier       2B  \n",
       "  3    Henderson       3B  \n",
       "  4        Mateo       SS  \n",
       "  5      Stowers       LF  \n",
       "  6      Mullins       CF  \n",
       "  7    Santander       RF  \n",
       "  8  Mountcastle       DH  ,\n",
       "  'Mean Total RAA': -1947.65069188551,\n",
       "  'Lineup SD': 52.66416182663539,\n",
       "  '25th Percentile': -1983.8220912539894,\n",
       "  '75th Percentile': -1912.4079078805032},\n",
       " {'Lineup':     id               Name bats   bat  bat_sd  plat  bat_vsRHP  bat_vsLHP  \\\n",
       "  0  BAL       James McCann    R  -3.6      13   -10       -8.6        1.4   \n",
       "  1  BAL   Ryan Mountcastle    R  10.0      22   -11        4.5       15.5   \n",
       "  2  BAL       Adam Frazier    L  -4.4      13    18        4.6      -13.4   \n",
       "  3  BAL        Ramón Urías    R  -2.0      13    -4       -4.0    -1000.0   \n",
       "  4  BAL   Gunnar Henderson    L  20.9      19    25       33.4        8.4   \n",
       "  5  BAL        Austin Hays    R   1.3       9    -8       -2.7        5.3   \n",
       "  6  BAL     Cedric Mullins    L   3.7      19    18       12.7       -5.3   \n",
       "  7  BAL       Kyle Stowers    R   0.0      19    10        5.0       -5.0   \n",
       "  8  BAL  Anthony Santander    S  10.5      14     7       14.0        7.0   \n",
       "  \n",
       "          C      1B      2B      3B      SS      LF      CF      RF  \\\n",
       "  0    -1.0    -6.0 -1000.0 -1000.0 -1000.0 -1000.0 -1000.0 -1000.0   \n",
       "  1 -1000.0    -1.0 -1000.0 -1000.0 -1000.0 -1000.0 -1000.0 -1000.0   \n",
       "  2 -1000.0 -1000.0    -9.0 -1000.0 -1000.0     0.0 -1000.0    -6.0   \n",
       "  3 -1000.0     5.0     4.0    12.0    -8.0 -1000.0 -1000.0 -1000.0   \n",
       "  4 -1000.0     5.0     0.0    10.0     5.0 -1000.0 -1000.0 -1000.0   \n",
       "  5 -1000.0 -1000.0 -1000.0 -1000.0 -1000.0     6.0    -4.0     8.0   \n",
       "  6 -1000.0 -1000.0 -1000.0 -1000.0 -1000.0    15.0     8.0    13.0   \n",
       "  7 -1000.0 -1000.0 -1000.0 -1000.0 -1000.0     0.0   -10.0     2.0   \n",
       "  8 -1000.0    -4.0 -1000.0 -1000.0 -1000.0    -8.0 -1000.0   -10.0   \n",
       "  \n",
       "       Last Name Position  \n",
       "  0       McCann        C  \n",
       "  1  Mountcastle       1B  \n",
       "  2      Frazier       2B  \n",
       "  3        Urías       3B  \n",
       "  4    Henderson       SS  \n",
       "  5         Hays       LF  \n",
       "  6      Mullins       CF  \n",
       "  7      Stowers       RF  \n",
       "  8    Santander       DH  ,\n",
       "  'Mean Total RAA': -965.7356222056724,\n",
       "  'Lineup SD': 52.21498219861031,\n",
       "  '25th Percentile': -1001.5843986243316,\n",
       "  '75th Percentile': -928.9213340764169},\n",
       " {'Lineup':     id               Name bats   bat  bat_sd  plat  bat_vsRHP  bat_vsLHP  \\\n",
       "  0  BAL    Adley Rutschman    S  22.2       9    10       27.2       17.2   \n",
       "  1  BAL   Ryan Mountcastle    R  10.0      22   -11        4.5       15.5   \n",
       "  2  BAL       Adam Frazier    L  -4.4      13    18        4.6      -13.4   \n",
       "  3  BAL   Gunnar Henderson    L  20.9      19    25       33.4        8.4   \n",
       "  4  BAL        Jorge Mateo    R  -1.8      20    -8       -5.8    -1000.0   \n",
       "  5  BAL        Austin Hays    R   1.3       9    -8       -2.7        5.3   \n",
       "  6  BAL     Cedric Mullins    L   3.7      19    18       12.7       -5.3   \n",
       "  7  BAL       Kyle Stowers    R   0.0      19    10        5.0       -5.0   \n",
       "  8  BAL  Anthony Santander    S  10.5      14     7       14.0        7.0   \n",
       "  \n",
       "          C      1B      2B      3B      SS      LF      CF      RF  \\\n",
       "  0    12.0    -6.0 -1000.0 -1000.0 -1000.0 -1000.0 -1000.0 -1000.0   \n",
       "  1 -1000.0    -1.0 -1000.0 -1000.0 -1000.0 -1000.0 -1000.0 -1000.0   \n",
       "  2 -1000.0 -1000.0    -9.0 -1000.0 -1000.0     0.0 -1000.0    -6.0   \n",
       "  3 -1000.0     5.0     0.0    10.0     5.0 -1000.0 -1000.0 -1000.0   \n",
       "  4 -1000.0 -1000.0     9.0     4.0    13.0     2.0    -3.0     0.0   \n",
       "  5 -1000.0 -1000.0 -1000.0 -1000.0 -1000.0     6.0    -4.0     8.0   \n",
       "  6 -1000.0 -1000.0 -1000.0 -1000.0 -1000.0    15.0     8.0    13.0   \n",
       "  7 -1000.0 -1000.0 -1000.0 -1000.0 -1000.0     0.0   -10.0     2.0   \n",
       "  8 -1000.0    -4.0 -1000.0 -1000.0 -1000.0    -8.0 -1000.0   -10.0   \n",
       "  \n",
       "       Last Name Position  \n",
       "  0    Rutschman        C  \n",
       "  1  Mountcastle       1B  \n",
       "  2      Frazier       2B  \n",
       "  3    Henderson       3B  \n",
       "  4        Mateo       SS  \n",
       "  5         Hays       LF  \n",
       "  6      Mullins       CF  \n",
       "  7      Stowers       RF  \n",
       "  8    Santander       DH  ,\n",
       "  'Mean Total RAA': -928.2260859535447,\n",
       "  'Lineup SD': 51.544695839464886,\n",
       "  '25th Percentile': -961.6278813833278,\n",
       "  '75th Percentile': -894.0354386990343},\n",
       " {'Lineup':     id               Name bats   bat  bat_sd  plat  bat_vsRHP  bat_vsLHP  \\\n",
       "  0  BAL    Adley Rutschman    S  22.2       9    10       27.2       17.2   \n",
       "  1  BAL   Ryan Mountcastle    R  10.0      22   -11        4.5       15.5   \n",
       "  2  BAL       Adam Frazier    L  -4.4      13    18        4.6      -13.4   \n",
       "  3  BAL   Gunnar Henderson    L  20.9      19    25       33.4        8.4   \n",
       "  4  BAL        Jorge Mateo    R  -1.8      20    -8       -5.8    -1000.0   \n",
       "  5  BAL        Austin Hays    R   1.3       9    -8       -2.7        5.3   \n",
       "  6  BAL     Cedric Mullins    L   3.7      19    18       12.7       -5.3   \n",
       "  7  BAL       Kyle Stowers    R   0.0      19    10        5.0       -5.0   \n",
       "  8  BAL  Anthony Santander    S  10.5      14     7       14.0        7.0   \n",
       "  \n",
       "          C      1B      2B      3B      SS      LF      CF      RF  \\\n",
       "  0    12.0    -6.0 -1000.0 -1000.0 -1000.0 -1000.0 -1000.0 -1000.0   \n",
       "  1 -1000.0    -1.0 -1000.0 -1000.0 -1000.0 -1000.0 -1000.0 -1000.0   \n",
       "  2 -1000.0 -1000.0    -9.0 -1000.0 -1000.0     0.0 -1000.0    -6.0   \n",
       "  3 -1000.0     5.0     0.0    10.0     5.0 -1000.0 -1000.0 -1000.0   \n",
       "  4 -1000.0 -1000.0     9.0     4.0    13.0     2.0    -3.0     0.0   \n",
       "  5 -1000.0 -1000.0 -1000.0 -1000.0 -1000.0     6.0    -4.0     8.0   \n",
       "  6 -1000.0 -1000.0 -1000.0 -1000.0 -1000.0    15.0     8.0    13.0   \n",
       "  7 -1000.0 -1000.0 -1000.0 -1000.0 -1000.0     0.0   -10.0     2.0   \n",
       "  8 -1000.0    -4.0 -1000.0 -1000.0 -1000.0    -8.0 -1000.0   -10.0   \n",
       "  \n",
       "       Last Name Position  \n",
       "  0    Rutschman        C  \n",
       "  1  Mountcastle       1B  \n",
       "  2      Frazier       2B  \n",
       "  3    Henderson       3B  \n",
       "  4        Mateo       SS  \n",
       "  5         Hays       LF  \n",
       "  6      Mullins       CF  \n",
       "  7      Stowers       RF  \n",
       "  8    Santander       DH  ,\n",
       "  'Mean Total RAA': -929.5815301101809,\n",
       "  'Lineup SD': 51.511571317132166,\n",
       "  '25th Percentile': -965.44840348155,\n",
       "  '75th Percentile': -894.1864358838188},\n",
       " {'Lineup':     id               Name bats   bat  bat_sd  plat  bat_vsRHP  bat_vsLHP  \\\n",
       "  0  BAL    Adley Rutschman    S  22.2       9    10       27.2       17.2   \n",
       "  1  BAL   Ryan Mountcastle    R  10.0      22   -11        4.5       15.5   \n",
       "  2  BAL       Adam Frazier    L  -4.4      13    18        4.6      -13.4   \n",
       "  3  BAL   Gunnar Henderson    L  20.9      19    25       33.4        8.4   \n",
       "  4  BAL        Jorge Mateo    R  -1.8      20    -8       -5.8    -1000.0   \n",
       "  5  BAL        Austin Hays    R   1.3       9    -8       -2.7        5.3   \n",
       "  6  BAL     Cedric Mullins    L   3.7      19    18       12.7       -5.3   \n",
       "  7  BAL  Anthony Santander    S  10.5      14     7       14.0        7.0   \n",
       "  8  BAL       Ryan O'Hearn    L   1.2      22    18       10.2       -7.8   \n",
       "  \n",
       "          C      1B      2B      3B      SS      LF      CF      RF  \\\n",
       "  0    12.0    -6.0 -1000.0 -1000.0 -1000.0 -1000.0 -1000.0 -1000.0   \n",
       "  1 -1000.0    -1.0 -1000.0 -1000.0 -1000.0 -1000.0 -1000.0 -1000.0   \n",
       "  2 -1000.0 -1000.0    -9.0 -1000.0 -1000.0     0.0 -1000.0    -6.0   \n",
       "  3 -1000.0     5.0     0.0    10.0     5.0 -1000.0 -1000.0 -1000.0   \n",
       "  4 -1000.0 -1000.0     9.0     4.0    13.0     2.0    -3.0     0.0   \n",
       "  5 -1000.0 -1000.0 -1000.0 -1000.0 -1000.0     6.0    -4.0     8.0   \n",
       "  6 -1000.0 -1000.0 -1000.0 -1000.0 -1000.0    15.0     8.0    13.0   \n",
       "  7 -1000.0    -4.0 -1000.0 -1000.0 -1000.0    -8.0 -1000.0   -10.0   \n",
       "  8 -1000.0    -3.0 -1000.0 -1000.0 -1000.0    -6.0 -1000.0   -11.0   \n",
       "  \n",
       "       Last Name Position  \n",
       "  0    Rutschman        C  \n",
       "  1  Mountcastle       1B  \n",
       "  2      Frazier       2B  \n",
       "  3    Henderson       3B  \n",
       "  4        Mateo       SS  \n",
       "  5         Hays       LF  \n",
       "  6      Mullins       CF  \n",
       "  7    Santander       RF  \n",
       "  8      O'Hearn       DH  ,\n",
       "  'Mean Total RAA': -944.6151609636312,\n",
       "  'Lineup SD': 51.48481951308367,\n",
       "  '25th Percentile': -978.5302024491629,\n",
       "  '75th Percentile': -910.7233132230692},\n",
       " {'Lineup':     id               Name bats   bat  bat_sd  plat  bat_vsRHP  bat_vsLHP  \\\n",
       "  0  BAL       James McCann    R  -3.6      13   -10       -8.6        1.4   \n",
       "  1  BAL   Ryan Mountcastle    R  10.0      22   -11        4.5       15.5   \n",
       "  2  BAL       Adam Frazier    L  -4.4      13    18        4.6      -13.4   \n",
       "  3  BAL   Gunnar Henderson    L  20.9      19    25       33.4        8.4   \n",
       "  4  BAL         Joey Ortiz    R  -0.1      14    -9       -4.6        4.4   \n",
       "  5  BAL        Austin Hays    R   1.3       9    -8       -2.7        5.3   \n",
       "  6  BAL     Cedric Mullins    L   3.7      19    18       12.7       -5.3   \n",
       "  7  BAL       Kyle Stowers    R   0.0      19    10        5.0       -5.0   \n",
       "  8  BAL  Anthony Santander    S  10.5      14     7       14.0        7.0   \n",
       "  \n",
       "          C      1B      2B      3B      SS      LF      CF      RF  \\\n",
       "  0    -1.0    -6.0 -1000.0 -1000.0 -1000.0 -1000.0 -1000.0 -1000.0   \n",
       "  1 -1000.0    -1.0 -1000.0 -1000.0 -1000.0 -1000.0 -1000.0 -1000.0   \n",
       "  2 -1000.0 -1000.0    -9.0 -1000.0 -1000.0     0.0 -1000.0    -6.0   \n",
       "  3 -1000.0     5.0     0.0    10.0     5.0 -1000.0 -1000.0 -1000.0   \n",
       "  4 -1000.0     7.0    15.0    13.0    11.0 -1000.0 -1000.0 -1000.0   \n",
       "  5 -1000.0 -1000.0 -1000.0 -1000.0 -1000.0     6.0    -4.0     8.0   \n",
       "  6 -1000.0 -1000.0 -1000.0 -1000.0 -1000.0    15.0     8.0    13.0   \n",
       "  7 -1000.0 -1000.0 -1000.0 -1000.0 -1000.0     0.0   -10.0     2.0   \n",
       "  8 -1000.0    -4.0 -1000.0 -1000.0 -1000.0    -8.0 -1000.0   -10.0   \n",
       "  \n",
       "       Last Name Position  \n",
       "  0       McCann        C  \n",
       "  1  Mountcastle       1B  \n",
       "  2      Frazier       2B  \n",
       "  3    Henderson       3B  \n",
       "  4        Ortiz       SS  \n",
       "  5         Hays       LF  \n",
       "  6      Mullins       CF  \n",
       "  7      Stowers       RF  \n",
       "  8    Santander       DH  ,\n",
       "  'Mean Total RAA': 43.2702132561418,\n",
       "  'Lineup SD': 52.14408682741012,\n",
       "  '25th Percentile': 8.194599572916708,\n",
       "  '75th Percentile': 76.93127615800321},\n",
       " {'Lineup':     id               Name bats   bat  bat_sd  plat  bat_vsRHP  bat_vsLHP  \\\n",
       "  0  BAL    Adley Rutschman    S  22.2       9    10       27.2       17.2   \n",
       "  1  BAL  Anthony Santander    S  10.5      14     7       14.0        7.0   \n",
       "  2  BAL       Adam Frazier    L  -4.4      13    18        4.6      -13.4   \n",
       "  3  BAL   Gunnar Henderson    L  20.9      19    25       33.4        8.4   \n",
       "  4  BAL        Jorge Mateo    R  -1.8      20    -8       -5.8    -1000.0   \n",
       "  5  BAL        Austin Hays    R   1.3       9    -8       -2.7        5.3   \n",
       "  6  BAL     Cedric Mullins    L   3.7      19    18       12.7       -5.3   \n",
       "  7  BAL       Terrin Vavra    R   0.0      10    18        9.0       -9.0   \n",
       "  8  BAL   Ryan Mountcastle    R  10.0      22   -11        4.5       15.5   \n",
       "  \n",
       "          C      1B      2B      3B      SS      LF      CF      RF  \\\n",
       "  0    12.0    -6.0 -1000.0 -1000.0 -1000.0 -1000.0 -1000.0 -1000.0   \n",
       "  1 -1000.0    -4.0 -1000.0 -1000.0 -1000.0    -8.0 -1000.0   -10.0   \n",
       "  2 -1000.0 -1000.0    -9.0 -1000.0 -1000.0     0.0 -1000.0    -6.0   \n",
       "  3 -1000.0     5.0     0.0    10.0     5.0 -1000.0 -1000.0 -1000.0   \n",
       "  4 -1000.0 -1000.0     9.0     4.0    13.0     2.0    -3.0     0.0   \n",
       "  5 -1000.0 -1000.0 -1000.0 -1000.0 -1000.0     6.0    -4.0     8.0   \n",
       "  6 -1000.0 -1000.0 -1000.0 -1000.0 -1000.0    15.0     8.0    13.0   \n",
       "  7 -1000.0 -1000.0    -5.0    -8.0 -1000.0     2.0    -9.0    -1.0   \n",
       "  8 -1000.0    -1.0 -1000.0 -1000.0 -1000.0 -1000.0 -1000.0 -1000.0   \n",
       "  \n",
       "       Last Name Position  \n",
       "  0    Rutschman        C  \n",
       "  1    Santander       1B  \n",
       "  2      Frazier       2B  \n",
       "  3    Henderson       3B  \n",
       "  4        Mateo       SS  \n",
       "  5         Hays       LF  \n",
       "  6      Mullins       CF  \n",
       "  7        Vavra       RF  \n",
       "  8  Mountcastle       DH  ,\n",
       "  'Mean Total RAA': -937.4454622353811,\n",
       "  'Lineup SD': 51.76371721322947,\n",
       "  '25th Percentile': -971.6497794775313,\n",
       "  '75th Percentile': -902.4208590033318},\n",
       " {'Lineup':     id               Name bats   bat  bat_sd  plat  bat_vsRHP  bat_vsLHP  \\\n",
       "  0  BAL    Adley Rutschman    S  22.2       9    10       27.2       17.2   \n",
       "  1  BAL  Anthony Santander    S  10.5      14     7       14.0        7.0   \n",
       "  2  BAL       Adam Frazier    L  -4.4      13    18        4.6      -13.4   \n",
       "  3  BAL   Gunnar Henderson    L  20.9      19    25       33.4        8.4   \n",
       "  4  BAL        Jorge Mateo    R  -1.8      20    -8       -5.8    -1000.0   \n",
       "  5  BAL        Austin Hays    R   1.3       9    -8       -2.7        5.3   \n",
       "  6  BAL     Cedric Mullins    L   3.7      19    18       12.7       -5.3   \n",
       "  7  BAL       Terrin Vavra    R   0.0      10    18        9.0       -9.0   \n",
       "  8  BAL       Ryan O'Hearn    L   1.2      22    18       10.2       -7.8   \n",
       "  \n",
       "          C      1B      2B      3B      SS      LF      CF      RF  Last Name  \\\n",
       "  0    12.0    -6.0 -1000.0 -1000.0 -1000.0 -1000.0 -1000.0 -1000.0  Rutschman   \n",
       "  1 -1000.0    -4.0 -1000.0 -1000.0 -1000.0    -8.0 -1000.0   -10.0  Santander   \n",
       "  2 -1000.0 -1000.0    -9.0 -1000.0 -1000.0     0.0 -1000.0    -6.0    Frazier   \n",
       "  3 -1000.0     5.0     0.0    10.0     5.0 -1000.0 -1000.0 -1000.0  Henderson   \n",
       "  4 -1000.0 -1000.0     9.0     4.0    13.0     2.0    -3.0     0.0      Mateo   \n",
       "  5 -1000.0 -1000.0 -1000.0 -1000.0 -1000.0     6.0    -4.0     8.0       Hays   \n",
       "  6 -1000.0 -1000.0 -1000.0 -1000.0 -1000.0    15.0     8.0    13.0    Mullins   \n",
       "  7 -1000.0 -1000.0    -5.0    -8.0 -1000.0     2.0    -9.0    -1.0      Vavra   \n",
       "  8 -1000.0    -3.0 -1000.0 -1000.0 -1000.0    -6.0 -1000.0   -11.0    O'Hearn   \n",
       "  \n",
       "    Position  \n",
       "  0        C  \n",
       "  1       1B  \n",
       "  2       2B  \n",
       "  3       3B  \n",
       "  4       SS  \n",
       "  5       LF  \n",
       "  6       CF  \n",
       "  7       RF  \n",
       "  8       DH  ,\n",
       "  'Mean Total RAA': -960.3960027330183,\n",
       "  'Lineup SD': 51.45350205687842,\n",
       "  '25th Percentile': -995.0805174663208,\n",
       "  '75th Percentile': -923.7595620718996},\n",
       " {'Lineup':     id               Name bats   bat  bat_sd  plat  bat_vsRHP  bat_vsLHP  \\\n",
       "  0  BAL    Adley Rutschman    S  22.2       9    10       27.2       17.2   \n",
       "  1  BAL   Ryan Mountcastle    R  10.0      22   -11        4.5       15.5   \n",
       "  2  BAL       Adam Frazier    L  -4.4      13    18        4.6      -13.4   \n",
       "  3  BAL   Gunnar Henderson    L  20.9      19    25       33.4        8.4   \n",
       "  4  BAL         Joey Ortiz    R  -0.1      14    -9       -4.6        4.4   \n",
       "  5  BAL        Austin Hays    R   1.3       9    -8       -2.7        5.3   \n",
       "  6  BAL     Cedric Mullins    L   3.7      19    18       12.7       -5.3   \n",
       "  7  BAL       Terrin Vavra    R   0.0      10    18        9.0       -9.0   \n",
       "  8  BAL  Anthony Santander    S  10.5      14     7       14.0        7.0   \n",
       "  \n",
       "          C      1B      2B      3B      SS      LF      CF      RF  \\\n",
       "  0    12.0    -6.0 -1000.0 -1000.0 -1000.0 -1000.0 -1000.0 -1000.0   \n",
       "  1 -1000.0    -1.0 -1000.0 -1000.0 -1000.0 -1000.0 -1000.0 -1000.0   \n",
       "  2 -1000.0 -1000.0    -9.0 -1000.0 -1000.0     0.0 -1000.0    -6.0   \n",
       "  3 -1000.0     5.0     0.0    10.0     5.0 -1000.0 -1000.0 -1000.0   \n",
       "  4 -1000.0     7.0    15.0    13.0    11.0 -1000.0 -1000.0 -1000.0   \n",
       "  5 -1000.0 -1000.0 -1000.0 -1000.0 -1000.0     6.0    -4.0     8.0   \n",
       "  6 -1000.0 -1000.0 -1000.0 -1000.0 -1000.0    15.0     8.0    13.0   \n",
       "  7 -1000.0 -1000.0    -5.0    -8.0 -1000.0     2.0    -9.0    -1.0   \n",
       "  8 -1000.0    -4.0 -1000.0 -1000.0 -1000.0    -8.0 -1000.0   -10.0   \n",
       "  \n",
       "       Last Name Position  \n",
       "  0    Rutschman        C  \n",
       "  1  Mountcastle       1B  \n",
       "  2      Frazier       2B  \n",
       "  3    Henderson       3B  \n",
       "  4        Ortiz       SS  \n",
       "  5         Hays       LF  \n",
       "  6      Mullins       CF  \n",
       "  7        Vavra       RF  \n",
       "  8    Santander       DH  ,\n",
       "  'Mean Total RAA': 66.32940433482884,\n",
       "  'Lineup SD': 52.655433347809065,\n",
       "  '25th Percentile': 29.36262685986861,\n",
       "  '75th Percentile': 101.2928617983873},\n",
       " {'Lineup':     id               Name bats   bat  bat_sd  plat  bat_vsRHP  bat_vsLHP  \\\n",
       "  0  BAL    Adley Rutschman    S  22.2       9    10       27.2       17.2   \n",
       "  1  BAL   Ryan Mountcastle    R  10.0      22   -11        4.5       15.5   \n",
       "  2  BAL       Adam Frazier    L  -4.4      13    18        4.6      -13.4   \n",
       "  3  BAL   Gunnar Henderson    L  20.9      19    25       33.4        8.4   \n",
       "  4  BAL        Jorge Mateo    R  -1.8      20    -8       -5.8    -1000.0   \n",
       "  5  BAL       Terrin Vavra    R   0.0      10    18        9.0       -9.0   \n",
       "  6  BAL     Cedric Mullins    L   3.7      19    18       12.7       -5.3   \n",
       "  7  BAL  Anthony Santander    S  10.5      14     7       14.0        7.0   \n",
       "  8  BAL       Ryan O'Hearn    L   1.2      22    18       10.2       -7.8   \n",
       "  \n",
       "          C      1B      2B      3B      SS      LF      CF      RF  \\\n",
       "  0    12.0    -6.0 -1000.0 -1000.0 -1000.0 -1000.0 -1000.0 -1000.0   \n",
       "  1 -1000.0    -1.0 -1000.0 -1000.0 -1000.0 -1000.0 -1000.0 -1000.0   \n",
       "  2 -1000.0 -1000.0    -9.0 -1000.0 -1000.0     0.0 -1000.0    -6.0   \n",
       "  3 -1000.0     5.0     0.0    10.0     5.0 -1000.0 -1000.0 -1000.0   \n",
       "  4 -1000.0 -1000.0     9.0     4.0    13.0     2.0    -3.0     0.0   \n",
       "  5 -1000.0 -1000.0    -5.0    -8.0 -1000.0     2.0    -9.0    -1.0   \n",
       "  6 -1000.0 -1000.0 -1000.0 -1000.0 -1000.0    15.0     8.0    13.0   \n",
       "  7 -1000.0    -4.0 -1000.0 -1000.0 -1000.0    -8.0 -1000.0   -10.0   \n",
       "  8 -1000.0    -3.0 -1000.0 -1000.0 -1000.0    -6.0 -1000.0   -11.0   \n",
       "  \n",
       "       Last Name Position  \n",
       "  0    Rutschman        C  \n",
       "  1  Mountcastle       1B  \n",
       "  2      Frazier       2B  \n",
       "  3    Henderson       3B  \n",
       "  4        Mateo       SS  \n",
       "  5        Vavra       LF  \n",
       "  6      Mullins       CF  \n",
       "  7    Santander       RF  \n",
       "  8      O'Hearn       DH  ,\n",
       "  'Mean Total RAA': -963.3881103503946,\n",
       "  'Lineup SD': 51.66158073348963,\n",
       "  '25th Percentile': -999.3523479687442,\n",
       "  '75th Percentile': -926.2410337835715},\n",
       " {'Lineup':     id               Name bats   bat  bat_sd  plat  bat_vsRHP  bat_vsLHP  \\\n",
       "  0  BAL       James McCann    R  -3.6      13   -10       -8.6        1.4   \n",
       "  1  BAL   Ryan Mountcastle    R  10.0      22   -11        4.5       15.5   \n",
       "  2  BAL       Adam Frazier    L  -4.4      13    18        4.6      -13.4   \n",
       "  3  BAL   Gunnar Henderson    L  20.9      19    25       33.4        8.4   \n",
       "  4  BAL         Joey Ortiz    R  -0.1      14    -9       -4.6        4.4   \n",
       "  5  BAL        Austin Hays    R   1.3       9    -8       -2.7        5.3   \n",
       "  6  BAL     Cedric Mullins    L   3.7      19    18       12.7       -5.3   \n",
       "  7  BAL  Anthony Santander    S  10.5      14     7       14.0        7.0   \n",
       "  8  BAL    Adley Rutschman    S  22.2       9    10       27.2       17.2   \n",
       "  \n",
       "          C      1B      2B      3B      SS      LF      CF      RF  \\\n",
       "  0    -1.0    -6.0 -1000.0 -1000.0 -1000.0 -1000.0 -1000.0 -1000.0   \n",
       "  1 -1000.0    -1.0 -1000.0 -1000.0 -1000.0 -1000.0 -1000.0 -1000.0   \n",
       "  2 -1000.0 -1000.0    -9.0 -1000.0 -1000.0     0.0 -1000.0    -6.0   \n",
       "  3 -1000.0     5.0     0.0    10.0     5.0 -1000.0 -1000.0 -1000.0   \n",
       "  4 -1000.0     7.0    15.0    13.0    11.0 -1000.0 -1000.0 -1000.0   \n",
       "  5 -1000.0 -1000.0 -1000.0 -1000.0 -1000.0     6.0    -4.0     8.0   \n",
       "  6 -1000.0 -1000.0 -1000.0 -1000.0 -1000.0    15.0     8.0    13.0   \n",
       "  7 -1000.0    -4.0 -1000.0 -1000.0 -1000.0    -8.0 -1000.0   -10.0   \n",
       "  8    12.0    -6.0 -1000.0 -1000.0 -1000.0 -1000.0 -1000.0 -1000.0   \n",
       "  \n",
       "       Last Name Position  \n",
       "  0       McCann        C  \n",
       "  1  Mountcastle       1B  \n",
       "  2      Frazier       2B  \n",
       "  3    Henderson       3B  \n",
       "  4        Ortiz       SS  \n",
       "  5         Hays       LF  \n",
       "  6      Mullins       CF  \n",
       "  7    Santander       RF  \n",
       "  8    Rutschman       DH  ,\n",
       "  'Mean Total RAA': 56.50551279725907,\n",
       "  'Lineup SD': 50.70797483777602,\n",
       "  '25th Percentile': 22.791283435093476,\n",
       "  '75th Percentile': 89.96410583703558},\n",
       " {'Lineup':     id               Name bats   bat  bat_sd  plat  bat_vsRHP  bat_vsLHP  \\\n",
       "  0  BAL    Adley Rutschman    S  22.2       9    10       27.2       17.2   \n",
       "  1  BAL   Ryan Mountcastle    R  10.0      22   -11        4.5       15.5   \n",
       "  2  BAL       Adam Frazier    L  -4.4      13    18        4.6      -13.4   \n",
       "  3  BAL   Gunnar Henderson    L  20.9      19    25       33.4        8.4   \n",
       "  4  BAL        Jorge Mateo    R  -1.8      20    -8       -5.8    -1000.0   \n",
       "  5  BAL        Austin Hays    R   1.3       9    -8       -2.7        5.3   \n",
       "  6  BAL     Cedric Mullins    L   3.7      19    18       12.7       -5.3   \n",
       "  7  BAL       Terrin Vavra    R   0.0      10    18        9.0       -9.0   \n",
       "  8  BAL  Anthony Santander    S  10.5      14     7       14.0        7.0   \n",
       "  \n",
       "          C      1B      2B      3B      SS      LF      CF      RF  \\\n",
       "  0    12.0    -6.0 -1000.0 -1000.0 -1000.0 -1000.0 -1000.0 -1000.0   \n",
       "  1 -1000.0    -1.0 -1000.0 -1000.0 -1000.0 -1000.0 -1000.0 -1000.0   \n",
       "  2 -1000.0 -1000.0    -9.0 -1000.0 -1000.0     0.0 -1000.0    -6.0   \n",
       "  3 -1000.0     5.0     0.0    10.0     5.0 -1000.0 -1000.0 -1000.0   \n",
       "  4 -1000.0 -1000.0     9.0     4.0    13.0     2.0    -3.0     0.0   \n",
       "  5 -1000.0 -1000.0 -1000.0 -1000.0 -1000.0     6.0    -4.0     8.0   \n",
       "  6 -1000.0 -1000.0 -1000.0 -1000.0 -1000.0    15.0     8.0    13.0   \n",
       "  7 -1000.0 -1000.0    -5.0    -8.0 -1000.0     2.0    -9.0    -1.0   \n",
       "  8 -1000.0    -4.0 -1000.0 -1000.0 -1000.0    -8.0 -1000.0   -10.0   \n",
       "  \n",
       "       Last Name Position  \n",
       "  0    Rutschman        C  \n",
       "  1  Mountcastle       1B  \n",
       "  2      Frazier       2B  \n",
       "  3    Henderson       3B  \n",
       "  4        Mateo       SS  \n",
       "  5         Hays       LF  \n",
       "  6      Mullins       CF  \n",
       "  7        Vavra       RF  \n",
       "  8    Santander       DH  ,\n",
       "  'Mean Total RAA': -936.3862058845418,\n",
       "  'Lineup SD': 50.807778044808096,\n",
       "  '25th Percentile': -971.4853935809665,\n",
       "  '75th Percentile': -901.7905255157236},\n",
       " {'Lineup':     id               Name bats   bat  bat_sd  plat  bat_vsRHP  bat_vsLHP  \\\n",
       "  0  BAL    Adley Rutschman    S  22.2       9    10       27.2       17.2   \n",
       "  1  BAL       Ryan O'Hearn    L   1.2      22    18       10.2       -7.8   \n",
       "  2  BAL       Adam Frazier    L  -4.4      13    18        4.6      -13.4   \n",
       "  3  BAL   Gunnar Henderson    L  20.9      19    25       33.4        8.4   \n",
       "  4  BAL        Jorge Mateo    R  -1.8      20    -8       -5.8    -1000.0   \n",
       "  5  BAL        Austin Hays    R   1.3       9    -8       -2.7        5.3   \n",
       "  6  BAL       Ryan McKenna    R  -1.0      21    -3       -2.5    -1000.0   \n",
       "  7  BAL  Anthony Santander    S  10.5      14     7       14.0        7.0   \n",
       "  8  BAL   Ryan Mountcastle    R  10.0      22   -11        4.5       15.5   \n",
       "  \n",
       "          C      1B      2B      3B      SS      LF      CF      RF  \\\n",
       "  0    12.0    -6.0 -1000.0 -1000.0 -1000.0 -1000.0 -1000.0 -1000.0   \n",
       "  1 -1000.0    -3.0 -1000.0 -1000.0 -1000.0    -6.0 -1000.0   -11.0   \n",
       "  2 -1000.0 -1000.0    -9.0 -1000.0 -1000.0     0.0 -1000.0    -6.0   \n",
       "  3 -1000.0     5.0     0.0    10.0     5.0 -1000.0 -1000.0 -1000.0   \n",
       "  4 -1000.0 -1000.0     9.0     4.0    13.0     2.0    -3.0     0.0   \n",
       "  5 -1000.0 -1000.0 -1000.0 -1000.0 -1000.0     6.0    -4.0     8.0   \n",
       "  6 -1000.0 -1000.0 -1000.0 -1000.0 -1000.0     7.0     3.0     4.0   \n",
       "  7 -1000.0    -4.0 -1000.0 -1000.0 -1000.0    -8.0 -1000.0   -10.0   \n",
       "  8 -1000.0    -1.0 -1000.0 -1000.0 -1000.0 -1000.0 -1000.0 -1000.0   \n",
       "  \n",
       "       Last Name Position  \n",
       "  0    Rutschman        C  \n",
       "  1      O'Hearn       1B  \n",
       "  2      Frazier       2B  \n",
       "  3    Henderson       3B  \n",
       "  4        Mateo       SS  \n",
       "  5         Hays       LF  \n",
       "  6      McKenna       CF  \n",
       "  7    Santander       RF  \n",
       "  8  Mountcastle       DH  ,\n",
       "  'Mean Total RAA': -1945.700531431284,\n",
       "  'Lineup SD': 50.91740417502937,\n",
       "  '25th Percentile': -1979.8977686142355,\n",
       "  '75th Percentile': -1910.890663531382},\n",
       " {'Lineup':     id               Name bats   bat  bat_sd  plat  bat_vsRHP  bat_vsLHP  \\\n",
       "  0  BAL    Adley Rutschman    S  22.2       9    10       27.2       17.2   \n",
       "  1  BAL   Ryan Mountcastle    R  10.0      22   -11        4.5       15.5   \n",
       "  2  BAL       Adam Frazier    L  -4.4      13    18        4.6      -13.4   \n",
       "  3  BAL   Gunnar Henderson    L  20.9      19    25       33.4        8.4   \n",
       "  4  BAL        Jorge Mateo    R  -1.8      20    -8       -5.8    -1000.0   \n",
       "  5  BAL        Austin Hays    R   1.3       9    -8       -2.7        5.3   \n",
       "  6  BAL     Cedric Mullins    L   3.7      19    18       12.7       -5.3   \n",
       "  7  BAL  Anthony Santander    S  10.5      14     7       14.0        7.0   \n",
       "  8  BAL       Ryan O'Hearn    L   1.2      22    18       10.2       -7.8   \n",
       "  \n",
       "          C      1B      2B      3B      SS      LF      CF      RF  \\\n",
       "  0    12.0    -6.0 -1000.0 -1000.0 -1000.0 -1000.0 -1000.0 -1000.0   \n",
       "  1 -1000.0    -1.0 -1000.0 -1000.0 -1000.0 -1000.0 -1000.0 -1000.0   \n",
       "  2 -1000.0 -1000.0    -9.0 -1000.0 -1000.0     0.0 -1000.0    -6.0   \n",
       "  3 -1000.0     5.0     0.0    10.0     5.0 -1000.0 -1000.0 -1000.0   \n",
       "  4 -1000.0 -1000.0     9.0     4.0    13.0     2.0    -3.0     0.0   \n",
       "  5 -1000.0 -1000.0 -1000.0 -1000.0 -1000.0     6.0    -4.0     8.0   \n",
       "  6 -1000.0 -1000.0 -1000.0 -1000.0 -1000.0    15.0     8.0    13.0   \n",
       "  7 -1000.0    -4.0 -1000.0 -1000.0 -1000.0    -8.0 -1000.0   -10.0   \n",
       "  8 -1000.0    -3.0 -1000.0 -1000.0 -1000.0    -6.0 -1000.0   -11.0   \n",
       "  \n",
       "       Last Name Position  \n",
       "  0    Rutschman        C  \n",
       "  1  Mountcastle       1B  \n",
       "  2      Frazier       2B  \n",
       "  3    Henderson       3B  \n",
       "  4        Mateo       SS  \n",
       "  5         Hays       LF  \n",
       "  6      Mullins       CF  \n",
       "  7    Santander       RF  \n",
       "  8      O'Hearn       DH  ,\n",
       "  'Mean Total RAA': -946.0714377209916,\n",
       "  'Lineup SD': 52.16468375868237,\n",
       "  '25th Percentile': -981.6426792525745,\n",
       "  '75th Percentile': -912.2259911336974},\n",
       " {'Lineup':     id               Name bats   bat  bat_sd  plat  bat_vsRHP  bat_vsLHP  \\\n",
       "  0  BAL    Adley Rutschman    S  22.2       9    10       27.2       17.2   \n",
       "  1  BAL   Ryan Mountcastle    R  10.0      22   -11        4.5       15.5   \n",
       "  2  BAL       Adam Frazier    L  -4.4      13    18        4.6      -13.4   \n",
       "  3  BAL        Ramón Urías    R  -2.0      13    -4       -4.0    -1000.0   \n",
       "  4  BAL        Jorge Mateo    R  -1.8      20    -8       -5.8    -1000.0   \n",
       "  5  BAL       Terrin Vavra    R   0.0      10    18        9.0       -9.0   \n",
       "  6  BAL        Austin Hays    R   1.3       9    -8       -2.7        5.3   \n",
       "  7  BAL  Anthony Santander    S  10.5      14     7       14.0        7.0   \n",
       "  8  BAL   Gunnar Henderson    L  20.9      19    25       33.4        8.4   \n",
       "  \n",
       "          C      1B      2B      3B      SS      LF      CF      RF  \\\n",
       "  0    12.0    -6.0 -1000.0 -1000.0 -1000.0 -1000.0 -1000.0 -1000.0   \n",
       "  1 -1000.0    -1.0 -1000.0 -1000.0 -1000.0 -1000.0 -1000.0 -1000.0   \n",
       "  2 -1000.0 -1000.0    -9.0 -1000.0 -1000.0     0.0 -1000.0    -6.0   \n",
       "  3 -1000.0     5.0     4.0    12.0    -8.0 -1000.0 -1000.0 -1000.0   \n",
       "  4 -1000.0 -1000.0     9.0     4.0    13.0     2.0    -3.0     0.0   \n",
       "  5 -1000.0 -1000.0    -5.0    -8.0 -1000.0     2.0    -9.0    -1.0   \n",
       "  6 -1000.0 -1000.0 -1000.0 -1000.0 -1000.0     6.0    -4.0     8.0   \n",
       "  7 -1000.0    -4.0 -1000.0 -1000.0 -1000.0    -8.0 -1000.0   -10.0   \n",
       "  8 -1000.0     5.0     0.0    10.0     5.0 -1000.0 -1000.0 -1000.0   \n",
       "  \n",
       "       Last Name Position  \n",
       "  0    Rutschman        C  \n",
       "  1  Mountcastle       1B  \n",
       "  2      Frazier       2B  \n",
       "  3        Urías       3B  \n",
       "  4        Mateo       SS  \n",
       "  5        Vavra       LF  \n",
       "  6         Hays       CF  \n",
       "  7    Santander       RF  \n",
       "  8    Henderson       DH  ,\n",
       "  'Mean Total RAA': -1953.3854957435078,\n",
       "  'Lineup SD': 50.23314824929611,\n",
       "  '25th Percentile': -1988.4152787182088,\n",
       "  '75th Percentile': -1919.973693764658},\n",
       " {'Lineup':     id               Name bats   bat  bat_sd  plat  bat_vsRHP  bat_vsLHP  \\\n",
       "  0  BAL    Adley Rutschman    S  22.2       9    10       27.2       17.2   \n",
       "  1  BAL   Ryan Mountcastle    R  10.0      22   -11        4.5       15.5   \n",
       "  2  BAL       Adam Frazier    L  -4.4      13    18        4.6      -13.4   \n",
       "  3  BAL   Gunnar Henderson    L  20.9      19    25       33.4        8.4   \n",
       "  4  BAL        Jorge Mateo    R  -1.8      20    -8       -5.8    -1000.0   \n",
       "  5  BAL       Ryan McKenna    R  -1.0      21    -3       -2.5    -1000.0   \n",
       "  6  BAL        Aaron Hicks    S  -2.4      19     4       -0.4    -1000.0   \n",
       "  7  BAL       Ryan O'Hearn    L   1.2      22    18       10.2       -7.8   \n",
       "  8  BAL  Anthony Santander    S  10.5      14     7       14.0        7.0   \n",
       "  \n",
       "          C      1B      2B      3B      SS      LF      CF      RF  \\\n",
       "  0    12.0    -6.0 -1000.0 -1000.0 -1000.0 -1000.0 -1000.0 -1000.0   \n",
       "  1 -1000.0    -1.0 -1000.0 -1000.0 -1000.0 -1000.0 -1000.0 -1000.0   \n",
       "  2 -1000.0 -1000.0    -9.0 -1000.0 -1000.0     0.0 -1000.0    -6.0   \n",
       "  3 -1000.0     5.0     0.0    10.0     5.0 -1000.0 -1000.0 -1000.0   \n",
       "  4 -1000.0 -1000.0     9.0     4.0    13.0     2.0    -3.0     0.0   \n",
       "  5 -1000.0 -1000.0 -1000.0 -1000.0 -1000.0     7.0     3.0     4.0   \n",
       "  6 -1000.0 -1000.0 -1000.0 -1000.0 -1000.0     4.0    -3.0     3.0   \n",
       "  7 -1000.0    -3.0 -1000.0 -1000.0 -1000.0    -6.0 -1000.0   -11.0   \n",
       "  8 -1000.0    -4.0 -1000.0 -1000.0 -1000.0    -8.0 -1000.0   -10.0   \n",
       "  \n",
       "       Last Name Position  \n",
       "  0    Rutschman        C  \n",
       "  1  Mountcastle       1B  \n",
       "  2      Frazier       2B  \n",
       "  3    Henderson       3B  \n",
       "  4        Mateo       SS  \n",
       "  5      McKenna       LF  \n",
       "  6        Hicks       CF  \n",
       "  7      O'Hearn       RF  \n",
       "  8    Santander       DH  ,\n",
       "  'Mean Total RAA': -2955.8612603946676,\n",
       "  'Lineup SD': 51.02909691141855,\n",
       "  '25th Percentile': -2991.215687147454,\n",
       "  '75th Percentile': -2922.1326236618297},\n",
       " {'Lineup':     id               Name bats   bat  bat_sd  plat  bat_vsRHP  bat_vsLHP  \\\n",
       "  0  BAL    Adley Rutschman    S  22.2       9    10       27.2       17.2   \n",
       "  1  BAL       Ryan O'Hearn    L   1.2      22    18       10.2       -7.8   \n",
       "  2  BAL       Adam Frazier    L  -4.4      13    18        4.6      -13.4   \n",
       "  3  BAL        Ramón Urías    R  -2.0      13    -4       -4.0    -1000.0   \n",
       "  4  BAL        Jorge Mateo    R  -1.8      20    -8       -5.8    -1000.0   \n",
       "  5  BAL        Austin Hays    R   1.3       9    -8       -2.7        5.3   \n",
       "  6  BAL        Aaron Hicks    S  -2.4      19     4       -0.4    -1000.0   \n",
       "  7  BAL  Anthony Santander    S  10.5      14     7       14.0        7.0   \n",
       "  8  BAL   Gunnar Henderson    L  20.9      19    25       33.4        8.4   \n",
       "  \n",
       "          C      1B      2B      3B      SS      LF      CF      RF  Last Name  \\\n",
       "  0    12.0    -6.0 -1000.0 -1000.0 -1000.0 -1000.0 -1000.0 -1000.0  Rutschman   \n",
       "  1 -1000.0    -3.0 -1000.0 -1000.0 -1000.0    -6.0 -1000.0   -11.0    O'Hearn   \n",
       "  2 -1000.0 -1000.0    -9.0 -1000.0 -1000.0     0.0 -1000.0    -6.0    Frazier   \n",
       "  3 -1000.0     5.0     4.0    12.0    -8.0 -1000.0 -1000.0 -1000.0      Urías   \n",
       "  4 -1000.0 -1000.0     9.0     4.0    13.0     2.0    -3.0     0.0      Mateo   \n",
       "  5 -1000.0 -1000.0 -1000.0 -1000.0 -1000.0     6.0    -4.0     8.0       Hays   \n",
       "  6 -1000.0 -1000.0 -1000.0 -1000.0 -1000.0     4.0    -3.0     3.0      Hicks   \n",
       "  7 -1000.0    -4.0 -1000.0 -1000.0 -1000.0    -8.0 -1000.0   -10.0  Santander   \n",
       "  8 -1000.0     5.0     0.0    10.0     5.0 -1000.0 -1000.0 -1000.0  Henderson   \n",
       "  \n",
       "    Position  \n",
       "  0        C  \n",
       "  1       1B  \n",
       "  2       2B  \n",
       "  3       3B  \n",
       "  4       SS  \n",
       "  5       LF  \n",
       "  6       CF  \n",
       "  7       RF  \n",
       "  8       DH  ,\n",
       "  'Mean Total RAA': -2967.553323507751,\n",
       "  'Lineup SD': 50.89551461702168,\n",
       "  '25th Percentile': -3002.8124969711675,\n",
       "  '75th Percentile': -2933.3547569280545},\n",
       " {'Lineup':     id               Name bats   bat  bat_sd  plat  bat_vsRHP  bat_vsLHP  \\\n",
       "  0  BAL    Adley Rutschman    S  22.2       9    10       27.2       17.2   \n",
       "  1  BAL   Ryan Mountcastle    R  10.0      22   -11        4.5       15.5   \n",
       "  2  BAL       Adam Frazier    L  -4.4      13    18        4.6      -13.4   \n",
       "  3  BAL   Gunnar Henderson    L  20.9      19    25       33.4        8.4   \n",
       "  4  BAL        Jorge Mateo    R  -1.8      20    -8       -5.8    -1000.0   \n",
       "  5  BAL        Austin Hays    R   1.3       9    -8       -2.7        5.3   \n",
       "  6  BAL        Aaron Hicks    S  -2.4      19     4       -0.4    -1000.0   \n",
       "  7  BAL       Ryan O'Hearn    L   1.2      22    18       10.2       -7.8   \n",
       "  8  BAL  Anthony Santander    S  10.5      14     7       14.0        7.0   \n",
       "  \n",
       "          C      1B      2B      3B      SS      LF      CF      RF  \\\n",
       "  0    12.0    -6.0 -1000.0 -1000.0 -1000.0 -1000.0 -1000.0 -1000.0   \n",
       "  1 -1000.0    -1.0 -1000.0 -1000.0 -1000.0 -1000.0 -1000.0 -1000.0   \n",
       "  2 -1000.0 -1000.0    -9.0 -1000.0 -1000.0     0.0 -1000.0    -6.0   \n",
       "  3 -1000.0     5.0     0.0    10.0     5.0 -1000.0 -1000.0 -1000.0   \n",
       "  4 -1000.0 -1000.0     9.0     4.0    13.0     2.0    -3.0     0.0   \n",
       "  5 -1000.0 -1000.0 -1000.0 -1000.0 -1000.0     6.0    -4.0     8.0   \n",
       "  6 -1000.0 -1000.0 -1000.0 -1000.0 -1000.0     4.0    -3.0     3.0   \n",
       "  7 -1000.0    -3.0 -1000.0 -1000.0 -1000.0    -6.0 -1000.0   -11.0   \n",
       "  8 -1000.0    -4.0 -1000.0 -1000.0 -1000.0    -8.0 -1000.0   -10.0   \n",
       "  \n",
       "       Last Name Position  \n",
       "  0    Rutschman        C  \n",
       "  1  Mountcastle       1B  \n",
       "  2      Frazier       2B  \n",
       "  3    Henderson       3B  \n",
       "  4        Mateo       SS  \n",
       "  5         Hays       LF  \n",
       "  6        Hicks       CF  \n",
       "  7      O'Hearn       RF  \n",
       "  8    Santander       DH  ,\n",
       "  'Mean Total RAA': -1948.986064383443,\n",
       "  'Lineup SD': 49.87545101445342,\n",
       "  '25th Percentile': -1982.221588475423,\n",
       "  '75th Percentile': -1915.801690118005},\n",
       " {'Lineup':     id               Name bats   bat  bat_sd  plat  bat_vsRHP  bat_vsLHP  \\\n",
       "  0  BAL    Adley Rutschman    S  22.2       9    10       27.2       17.2   \n",
       "  1  BAL   Ryan Mountcastle    R  10.0      22   -11        4.5       15.5   \n",
       "  2  BAL       Adam Frazier    L  -4.4      13    18        4.6      -13.4   \n",
       "  3  BAL        Ramón Urías    R  -2.0      13    -4       -4.0    -1000.0   \n",
       "  4  BAL        Jorge Mateo    R  -1.8      20    -8       -5.8    -1000.0   \n",
       "  5  BAL        Austin Hays    R   1.3       9    -8       -2.7        5.3   \n",
       "  6  BAL        Aaron Hicks    S  -2.4      19     4       -0.4    -1000.0   \n",
       "  7  BAL  Anthony Santander    S  10.5      14     7       14.0        7.0   \n",
       "  8  BAL       Ryan O'Hearn    L   1.2      22    18       10.2       -7.8   \n",
       "  \n",
       "          C      1B      2B      3B      SS      LF      CF      RF  \\\n",
       "  0    12.0    -6.0 -1000.0 -1000.0 -1000.0 -1000.0 -1000.0 -1000.0   \n",
       "  1 -1000.0    -1.0 -1000.0 -1000.0 -1000.0 -1000.0 -1000.0 -1000.0   \n",
       "  2 -1000.0 -1000.0    -9.0 -1000.0 -1000.0     0.0 -1000.0    -6.0   \n",
       "  3 -1000.0     5.0     4.0    12.0    -8.0 -1000.0 -1000.0 -1000.0   \n",
       "  4 -1000.0 -1000.0     9.0     4.0    13.0     2.0    -3.0     0.0   \n",
       "  5 -1000.0 -1000.0 -1000.0 -1000.0 -1000.0     6.0    -4.0     8.0   \n",
       "  6 -1000.0 -1000.0 -1000.0 -1000.0 -1000.0     4.0    -3.0     3.0   \n",
       "  7 -1000.0    -4.0 -1000.0 -1000.0 -1000.0    -8.0 -1000.0   -10.0   \n",
       "  8 -1000.0    -3.0 -1000.0 -1000.0 -1000.0    -6.0 -1000.0   -11.0   \n",
       "  \n",
       "       Last Name Position  \n",
       "  0    Rutschman        C  \n",
       "  1  Mountcastle       1B  \n",
       "  2      Frazier       2B  \n",
       "  3        Urías       3B  \n",
       "  4        Mateo       SS  \n",
       "  5         Hays       LF  \n",
       "  6        Hicks       CF  \n",
       "  7    Santander       RF  \n",
       "  8      O'Hearn       DH  ,\n",
       "  'Mean Total RAA': -2954.6688523351145,\n",
       "  'Lineup SD': 52.71278910888955,\n",
       "  '25th Percentile': -2990.6225224260274,\n",
       "  '75th Percentile': -2920.06527849941},\n",
       " {'Lineup':     id               Name bats   bat  bat_sd  plat  bat_vsRHP  bat_vsLHP  \\\n",
       "  0  BAL       James McCann    R  -3.6      13   -10       -8.6        1.4   \n",
       "  1  BAL   Ryan Mountcastle    R  10.0      22   -11        4.5       15.5   \n",
       "  2  BAL       Adam Frazier    L  -4.4      13    18        4.6      -13.4   \n",
       "  3  BAL        Ramón Urías    R  -2.0      13    -4       -4.0    -1000.0   \n",
       "  4  BAL   Gunnar Henderson    L  20.9      19    25       33.4        8.4   \n",
       "  5  BAL       Ryan O'Hearn    L   1.2      22    18       10.2       -7.8   \n",
       "  6  BAL        Austin Hays    R   1.3       9    -8       -2.7        5.3   \n",
       "  7  BAL  Anthony Santander    S  10.5      14     7       14.0        7.0   \n",
       "  8  BAL    Adley Rutschman    S  22.2       9    10       27.2       17.2   \n",
       "  \n",
       "          C      1B      2B      3B      SS      LF      CF      RF  \\\n",
       "  0    -1.0    -6.0 -1000.0 -1000.0 -1000.0 -1000.0 -1000.0 -1000.0   \n",
       "  1 -1000.0    -1.0 -1000.0 -1000.0 -1000.0 -1000.0 -1000.0 -1000.0   \n",
       "  2 -1000.0 -1000.0    -9.0 -1000.0 -1000.0     0.0 -1000.0    -6.0   \n",
       "  3 -1000.0     5.0     4.0    12.0    -8.0 -1000.0 -1000.0 -1000.0   \n",
       "  4 -1000.0     5.0     0.0    10.0     5.0 -1000.0 -1000.0 -1000.0   \n",
       "  5 -1000.0    -3.0 -1000.0 -1000.0 -1000.0    -6.0 -1000.0   -11.0   \n",
       "  6 -1000.0 -1000.0 -1000.0 -1000.0 -1000.0     6.0    -4.0     8.0   \n",
       "  7 -1000.0    -4.0 -1000.0 -1000.0 -1000.0    -8.0 -1000.0   -10.0   \n",
       "  8    12.0    -6.0 -1000.0 -1000.0 -1000.0 -1000.0 -1000.0 -1000.0   \n",
       "  \n",
       "       Last Name Position  \n",
       "  0       McCann        C  \n",
       "  1  Mountcastle       1B  \n",
       "  2      Frazier       2B  \n",
       "  3        Urías       3B  \n",
       "  4    Henderson       SS  \n",
       "  5      O'Hearn       LF  \n",
       "  6         Hays       CF  \n",
       "  7    Santander       RF  \n",
       "  8    Rutschman       DH  ,\n",
       "  'Mean Total RAA': -979.9084379199859,\n",
       "  'Lineup SD': 52.55793017875179,\n",
       "  '25th Percentile': -1015.1468145946849,\n",
       "  '75th Percentile': -945.0917243779313},\n",
       " {'Lineup':     id               Name bats   bat  bat_sd  plat  bat_vsRHP  bat_vsLHP  \\\n",
       "  0  BAL    Adley Rutschman    S  22.2       9    10       27.2       17.2   \n",
       "  1  BAL       Ryan O'Hearn    L   1.2      22    18       10.2       -7.8   \n",
       "  2  BAL       Adam Frazier    L  -4.4      13    18        4.6      -13.4   \n",
       "  3  BAL        Ramón Urías    R  -2.0      13    -4       -4.0    -1000.0   \n",
       "  4  BAL        Jorge Mateo    R  -1.8      20    -8       -5.8    -1000.0   \n",
       "  5  BAL        Austin Hays    R   1.3       9    -8       -2.7        5.3   \n",
       "  6  BAL        Aaron Hicks    S  -2.4      19     4       -0.4    -1000.0   \n",
       "  7  BAL  Anthony Santander    S  10.5      14     7       14.0        7.0   \n",
       "  8  BAL   Gunnar Henderson    L  20.9      19    25       33.4        8.4   \n",
       "  \n",
       "          C      1B      2B      3B      SS      LF      CF      RF  Last Name  \\\n",
       "  0    12.0    -6.0 -1000.0 -1000.0 -1000.0 -1000.0 -1000.0 -1000.0  Rutschman   \n",
       "  1 -1000.0    -3.0 -1000.0 -1000.0 -1000.0    -6.0 -1000.0   -11.0    O'Hearn   \n",
       "  2 -1000.0 -1000.0    -9.0 -1000.0 -1000.0     0.0 -1000.0    -6.0    Frazier   \n",
       "  3 -1000.0     5.0     4.0    12.0    -8.0 -1000.0 -1000.0 -1000.0      Urías   \n",
       "  4 -1000.0 -1000.0     9.0     4.0    13.0     2.0    -3.0     0.0      Mateo   \n",
       "  5 -1000.0 -1000.0 -1000.0 -1000.0 -1000.0     6.0    -4.0     8.0       Hays   \n",
       "  6 -1000.0 -1000.0 -1000.0 -1000.0 -1000.0     4.0    -3.0     3.0      Hicks   \n",
       "  7 -1000.0    -4.0 -1000.0 -1000.0 -1000.0    -8.0 -1000.0   -10.0  Santander   \n",
       "  8 -1000.0     5.0     0.0    10.0     5.0 -1000.0 -1000.0 -1000.0  Henderson   \n",
       "  \n",
       "    Position  \n",
       "  0        C  \n",
       "  1       1B  \n",
       "  2       2B  \n",
       "  3       3B  \n",
       "  4       SS  \n",
       "  5       LF  \n",
       "  6       CF  \n",
       "  7       RF  \n",
       "  8       DH  ,\n",
       "  'Mean Total RAA': -2965.802923102694,\n",
       "  'Lineup SD': 52.16589629008148,\n",
       "  '25th Percentile': -3000.8350707397876,\n",
       "  '75th Percentile': -2929.6495823657237},\n",
       " {'Lineup':     id               Name bats   bat  bat_sd  plat  bat_vsRHP  bat_vsLHP  \\\n",
       "  0  BAL    Adley Rutschman    S  22.2       9    10       27.2       17.2   \n",
       "  1  BAL       Ryan O'Hearn    L   1.2      22    18       10.2       -7.8   \n",
       "  2  BAL       Adam Frazier    L  -4.4      13    18        4.6      -13.4   \n",
       "  3  BAL   Gunnar Henderson    L  20.9      19    25       33.4        8.4   \n",
       "  4  BAL        Jorge Mateo    R  -1.8      20    -8       -5.8    -1000.0   \n",
       "  5  BAL        Austin Hays    R   1.3       9    -8       -2.7        5.3   \n",
       "  6  BAL        Aaron Hicks    S  -2.4      19     4       -0.4    -1000.0   \n",
       "  7  BAL  Anthony Santander    S  10.5      14     7       14.0        7.0   \n",
       "  8  BAL        Ramón Urías    R  -2.0      13    -4       -4.0    -1000.0   \n",
       "  \n",
       "          C      1B      2B      3B      SS      LF      CF      RF  Last Name  \\\n",
       "  0    12.0    -6.0 -1000.0 -1000.0 -1000.0 -1000.0 -1000.0 -1000.0  Rutschman   \n",
       "  1 -1000.0    -3.0 -1000.0 -1000.0 -1000.0    -6.0 -1000.0   -11.0    O'Hearn   \n",
       "  2 -1000.0 -1000.0    -9.0 -1000.0 -1000.0     0.0 -1000.0    -6.0    Frazier   \n",
       "  3 -1000.0     5.0     0.0    10.0     5.0 -1000.0 -1000.0 -1000.0  Henderson   \n",
       "  4 -1000.0 -1000.0     9.0     4.0    13.0     2.0    -3.0     0.0      Mateo   \n",
       "  5 -1000.0 -1000.0 -1000.0 -1000.0 -1000.0     6.0    -4.0     8.0       Hays   \n",
       "  6 -1000.0 -1000.0 -1000.0 -1000.0 -1000.0     4.0    -3.0     3.0      Hicks   \n",
       "  7 -1000.0    -4.0 -1000.0 -1000.0 -1000.0    -8.0 -1000.0   -10.0  Santander   \n",
       "  8 -1000.0     5.0     4.0    12.0    -8.0 -1000.0 -1000.0 -1000.0      Urías   \n",
       "  \n",
       "    Position  \n",
       "  0        C  \n",
       "  1       1B  \n",
       "  2       2B  \n",
       "  3       3B  \n",
       "  4       SS  \n",
       "  5       LF  \n",
       "  6       CF  \n",
       "  7       RF  \n",
       "  8       DH  ,\n",
       "  'Mean Total RAA': -2967.0806412783577,\n",
       "  'Lineup SD': 50.90465527552856,\n",
       "  '25th Percentile': -3000.1474767276945,\n",
       "  '75th Percentile': -2932.9682672119334},\n",
       " {'Lineup':     id               Name bats   bat  bat_sd  plat  bat_vsRHP  bat_vsLHP  \\\n",
       "  0  BAL    Adley Rutschman    S  22.2       9    10       27.2       17.2   \n",
       "  1  BAL       Ryan O'Hearn    L   1.2      22    18       10.2       -7.8   \n",
       "  2  BAL       Adam Frazier    L  -4.4      13    18        4.6      -13.4   \n",
       "  3  BAL        Ramón Urías    R  -2.0      13    -4       -4.0    -1000.0   \n",
       "  4  BAL        Jorge Mateo    R  -1.8      20    -8       -5.8    -1000.0   \n",
       "  5  BAL        Austin Hays    R   1.3       9    -8       -2.7        5.3   \n",
       "  6  BAL        Aaron Hicks    S  -2.4      19     4       -0.4    -1000.0   \n",
       "  7  BAL  Anthony Santander    S  10.5      14     7       14.0        7.0   \n",
       "  8  BAL   Gunnar Henderson    L  20.9      19    25       33.4        8.4   \n",
       "  \n",
       "          C      1B      2B      3B      SS      LF      CF      RF  Last Name  \\\n",
       "  0    12.0    -6.0 -1000.0 -1000.0 -1000.0 -1000.0 -1000.0 -1000.0  Rutschman   \n",
       "  1 -1000.0    -3.0 -1000.0 -1000.0 -1000.0    -6.0 -1000.0   -11.0    O'Hearn   \n",
       "  2 -1000.0 -1000.0    -9.0 -1000.0 -1000.0     0.0 -1000.0    -6.0    Frazier   \n",
       "  3 -1000.0     5.0     4.0    12.0    -8.0 -1000.0 -1000.0 -1000.0      Urías   \n",
       "  4 -1000.0 -1000.0     9.0     4.0    13.0     2.0    -3.0     0.0      Mateo   \n",
       "  5 -1000.0 -1000.0 -1000.0 -1000.0 -1000.0     6.0    -4.0     8.0       Hays   \n",
       "  6 -1000.0 -1000.0 -1000.0 -1000.0 -1000.0     4.0    -3.0     3.0      Hicks   \n",
       "  7 -1000.0    -4.0 -1000.0 -1000.0 -1000.0    -8.0 -1000.0   -10.0  Santander   \n",
       "  8 -1000.0     5.0     0.0    10.0     5.0 -1000.0 -1000.0 -1000.0  Henderson   \n",
       "  \n",
       "    Position  \n",
       "  0        C  \n",
       "  1       1B  \n",
       "  2       2B  \n",
       "  3       3B  \n",
       "  4       SS  \n",
       "  5       LF  \n",
       "  6       CF  \n",
       "  7       RF  \n",
       "  8       DH  ,\n",
       "  'Mean Total RAA': -2964.8202480317004,\n",
       "  'Lineup SD': 50.71251174339637,\n",
       "  '25th Percentile': -2997.77245447733,\n",
       "  '75th Percentile': -2930.509252426857},\n",
       " {'Lineup':     id               Name bats   bat  bat_sd  plat  bat_vsRHP  bat_vsLHP  \\\n",
       "  0  BAL    Adley Rutschman    S  22.2       9    10       27.2       17.2   \n",
       "  1  BAL        Ramón Urías    R  -2.0      13    -4       -4.0    -1000.0   \n",
       "  2  BAL       Adam Frazier    L  -4.4      13    18        4.6      -13.4   \n",
       "  3  BAL   Gunnar Henderson    L  20.9      19    25       33.4        8.4   \n",
       "  4  BAL        Jorge Mateo    R  -1.8      20    -8       -5.8    -1000.0   \n",
       "  5  BAL        Austin Hays    R   1.3       9    -8       -2.7        5.3   \n",
       "  6  BAL        Aaron Hicks    S  -2.4      19     4       -0.4    -1000.0   \n",
       "  7  BAL  Anthony Santander    S  10.5      14     7       14.0        7.0   \n",
       "  8  BAL       Ryan O'Hearn    L   1.2      22    18       10.2       -7.8   \n",
       "  \n",
       "          C      1B      2B      3B      SS      LF      CF      RF  Last Name  \\\n",
       "  0    12.0    -6.0 -1000.0 -1000.0 -1000.0 -1000.0 -1000.0 -1000.0  Rutschman   \n",
       "  1 -1000.0     5.0     4.0    12.0    -8.0 -1000.0 -1000.0 -1000.0      Urías   \n",
       "  2 -1000.0 -1000.0    -9.0 -1000.0 -1000.0     0.0 -1000.0    -6.0    Frazier   \n",
       "  3 -1000.0     5.0     0.0    10.0     5.0 -1000.0 -1000.0 -1000.0  Henderson   \n",
       "  4 -1000.0 -1000.0     9.0     4.0    13.0     2.0    -3.0     0.0      Mateo   \n",
       "  5 -1000.0 -1000.0 -1000.0 -1000.0 -1000.0     6.0    -4.0     8.0       Hays   \n",
       "  6 -1000.0 -1000.0 -1000.0 -1000.0 -1000.0     4.0    -3.0     3.0      Hicks   \n",
       "  7 -1000.0    -4.0 -1000.0 -1000.0 -1000.0    -8.0 -1000.0   -10.0  Santander   \n",
       "  8 -1000.0    -3.0 -1000.0 -1000.0 -1000.0    -6.0 -1000.0   -11.0    O'Hearn   \n",
       "  \n",
       "    Position  \n",
       "  0        C  \n",
       "  1       1B  \n",
       "  2       2B  \n",
       "  3       3B  \n",
       "  4       SS  \n",
       "  5       LF  \n",
       "  6       CF  \n",
       "  7       RF  \n",
       "  8       DH  ,\n",
       "  'Mean Total RAA': -2961.171712719471,\n",
       "  'Lineup SD': 51.507828370886564,\n",
       "  '25th Percentile': -2995.5891761574394,\n",
       "  '75th Percentile': -2926.440712825929},\n",
       " {'Lineup':     id               Name bats   bat  bat_sd  plat  bat_vsRHP  bat_vsLHP  \\\n",
       "  0  BAL    Adley Rutschman    S  22.2       9    10       27.2       17.2   \n",
       "  1  BAL       Ryan O'Hearn    L   1.2      22    18       10.2       -7.8   \n",
       "  2  BAL       Adam Frazier    L  -4.4      13    18        4.6      -13.4   \n",
       "  3  BAL        Ramón Urías    R  -2.0      13    -4       -4.0    -1000.0   \n",
       "  4  BAL        Jorge Mateo    R  -1.8      20    -8       -5.8    -1000.0   \n",
       "  5  BAL        Austin Hays    R   1.3       9    -8       -2.7        5.3   \n",
       "  6  BAL        Aaron Hicks    S  -2.4      19     4       -0.4    -1000.0   \n",
       "  7  BAL  Anthony Santander    S  10.5      14     7       14.0        7.0   \n",
       "  8  BAL   Gunnar Henderson    L  20.9      19    25       33.4        8.4   \n",
       "  \n",
       "          C      1B      2B      3B      SS      LF      CF      RF  Last Name  \\\n",
       "  0    12.0    -6.0 -1000.0 -1000.0 -1000.0 -1000.0 -1000.0 -1000.0  Rutschman   \n",
       "  1 -1000.0    -3.0 -1000.0 -1000.0 -1000.0    -6.0 -1000.0   -11.0    O'Hearn   \n",
       "  2 -1000.0 -1000.0    -9.0 -1000.0 -1000.0     0.0 -1000.0    -6.0    Frazier   \n",
       "  3 -1000.0     5.0     4.0    12.0    -8.0 -1000.0 -1000.0 -1000.0      Urías   \n",
       "  4 -1000.0 -1000.0     9.0     4.0    13.0     2.0    -3.0     0.0      Mateo   \n",
       "  5 -1000.0 -1000.0 -1000.0 -1000.0 -1000.0     6.0    -4.0     8.0       Hays   \n",
       "  6 -1000.0 -1000.0 -1000.0 -1000.0 -1000.0     4.0    -3.0     3.0      Hicks   \n",
       "  7 -1000.0    -4.0 -1000.0 -1000.0 -1000.0    -8.0 -1000.0   -10.0  Santander   \n",
       "  8 -1000.0     5.0     0.0    10.0     5.0 -1000.0 -1000.0 -1000.0  Henderson   \n",
       "  \n",
       "    Position  \n",
       "  0        C  \n",
       "  1       1B  \n",
       "  2       2B  \n",
       "  3       3B  \n",
       "  4       SS  \n",
       "  5       LF  \n",
       "  6       CF  \n",
       "  7       RF  \n",
       "  8       DH  ,\n",
       "  'Mean Total RAA': -2966.0810213732034,\n",
       "  'Lineup SD': 51.62713861933293,\n",
       "  '25th Percentile': -3002.275917196709,\n",
       "  '75th Percentile': -2930.4479028826327},\n",
       " {'Lineup':     id               Name bats   bat  bat_sd  plat  bat_vsRHP  bat_vsLHP  \\\n",
       "  0  BAL    Adley Rutschman    S  22.2       9    10       27.2       17.2   \n",
       "  1  BAL       Ryan O'Hearn    L   1.2      22    18       10.2       -7.8   \n",
       "  2  BAL       Adam Frazier    L  -4.4      13    18        4.6      -13.4   \n",
       "  3  BAL        Ramón Urías    R  -2.0      13    -4       -4.0    -1000.0   \n",
       "  4  BAL   Gunnar Henderson    L  20.9      19    25       33.4        8.4   \n",
       "  5  BAL        Austin Hays    R   1.3       9    -8       -2.7        5.3   \n",
       "  6  BAL        Aaron Hicks    S  -2.4      19     4       -0.4    -1000.0   \n",
       "  7  BAL  Anthony Santander    S  10.5      14     7       14.0        7.0   \n",
       "  8  BAL     Cedric Mullins    L   3.7      19    18       12.7       -5.3   \n",
       "  \n",
       "          C      1B      2B      3B      SS      LF      CF      RF  Last Name  \\\n",
       "  0    12.0    -6.0 -1000.0 -1000.0 -1000.0 -1000.0 -1000.0 -1000.0  Rutschman   \n",
       "  1 -1000.0    -3.0 -1000.0 -1000.0 -1000.0    -6.0 -1000.0   -11.0    O'Hearn   \n",
       "  2 -1000.0 -1000.0    -9.0 -1000.0 -1000.0     0.0 -1000.0    -6.0    Frazier   \n",
       "  3 -1000.0     5.0     4.0    12.0    -8.0 -1000.0 -1000.0 -1000.0      Urías   \n",
       "  4 -1000.0     5.0     0.0    10.0     5.0 -1000.0 -1000.0 -1000.0  Henderson   \n",
       "  5 -1000.0 -1000.0 -1000.0 -1000.0 -1000.0     6.0    -4.0     8.0       Hays   \n",
       "  6 -1000.0 -1000.0 -1000.0 -1000.0 -1000.0     4.0    -3.0     3.0      Hicks   \n",
       "  7 -1000.0    -4.0 -1000.0 -1000.0 -1000.0    -8.0 -1000.0   -10.0  Santander   \n",
       "  8 -1000.0 -1000.0 -1000.0 -1000.0 -1000.0    15.0     8.0    13.0    Mullins   \n",
       "  \n",
       "    Position  \n",
       "  0        C  \n",
       "  1       1B  \n",
       "  2       2B  \n",
       "  3       3B  \n",
       "  4       SS  \n",
       "  5       LF  \n",
       "  6       CF  \n",
       "  7       RF  \n",
       "  8       DH  ,\n",
       "  'Mean Total RAA': -1979.7447103931913,\n",
       "  'Lineup SD': 51.44689787985659,\n",
       "  '25th Percentile': -2014.6127458434269,\n",
       "  '75th Percentile': -1944.347540174642},\n",
       " {'Lineup':     id               Name bats   bat  bat_sd  plat  bat_vsRHP  bat_vsLHP  \\\n",
       "  0  BAL    Adley Rutschman    S  22.2       9    10       27.2       17.2   \n",
       "  1  BAL       Ryan O'Hearn    L   1.2      22    18       10.2       -7.8   \n",
       "  2  BAL       Adam Frazier    L  -4.4      13    18        4.6      -13.4   \n",
       "  3  BAL    Jordan Westburg    R   3.0      14    -7       -0.5        6.5   \n",
       "  4  BAL   Gunnar Henderson    L  20.9      19    25       33.4        8.4   \n",
       "  5  BAL        Austin Hays    R   1.3       9    -8       -2.7        5.3   \n",
       "  6  BAL     Cedric Mullins    L   3.7      19    18       12.7       -5.3   \n",
       "  7  BAL  Anthony Santander    S  10.5      14     7       14.0        7.0   \n",
       "  8  BAL        Aaron Hicks    S  -2.4      19     4       -0.4    -1000.0   \n",
       "  \n",
       "          C      1B      2B      3B      SS      LF      CF      RF  Last Name  \\\n",
       "  0    12.0    -6.0 -1000.0 -1000.0 -1000.0 -1000.0 -1000.0 -1000.0  Rutschman   \n",
       "  1 -1000.0    -3.0 -1000.0 -1000.0 -1000.0    -6.0 -1000.0   -11.0    O'Hearn   \n",
       "  2 -1000.0 -1000.0    -9.0 -1000.0 -1000.0     0.0 -1000.0    -6.0    Frazier   \n",
       "  3 -1000.0 -1000.0    -2.0     3.0   -10.0 -1000.0 -1000.0 -1000.0   Westburg   \n",
       "  4 -1000.0     5.0     0.0    10.0     5.0 -1000.0 -1000.0 -1000.0  Henderson   \n",
       "  5 -1000.0 -1000.0 -1000.0 -1000.0 -1000.0     6.0    -4.0     8.0       Hays   \n",
       "  6 -1000.0 -1000.0 -1000.0 -1000.0 -1000.0    15.0     8.0    13.0    Mullins   \n",
       "  7 -1000.0    -4.0 -1000.0 -1000.0 -1000.0    -8.0 -1000.0   -10.0  Santander   \n",
       "  8 -1000.0 -1000.0 -1000.0 -1000.0 -1000.0     4.0    -3.0     3.0      Hicks   \n",
       "  \n",
       "    Position  \n",
       "  0        C  \n",
       "  1       1B  \n",
       "  2       2B  \n",
       "  3       3B  \n",
       "  4       SS  \n",
       "  5       LF  \n",
       "  6       CF  \n",
       "  7       RF  \n",
       "  8       DH  ,\n",
       "  'Mean Total RAA': -971.1407387083946,\n",
       "  'Lineup SD': 51.21212010274901,\n",
       "  '25th Percentile': -1004.710093165905,\n",
       "  '75th Percentile': -938.5024891628091},\n",
       " {'Lineup':     id               Name bats   bat  bat_sd  plat  bat_vsRHP  bat_vsLHP  \\\n",
       "  0  BAL    Adley Rutschman    S  22.2       9    10       27.2       17.2   \n",
       "  1  BAL       Ryan O'Hearn    L   1.2      22    18       10.2       -7.8   \n",
       "  2  BAL       Adam Frazier    L  -4.4      13    18        4.6      -13.4   \n",
       "  3  BAL    Jordan Westburg    R   3.0      14    -7       -0.5        6.5   \n",
       "  4  BAL   Gunnar Henderson    L  20.9      19    25       33.4        8.4   \n",
       "  5  BAL        Austin Hays    R   1.3       9    -8       -2.7        5.3   \n",
       "  6  BAL     Cedric Mullins    L   3.7      19    18       12.7       -5.3   \n",
       "  7  BAL        Aaron Hicks    S  -2.4      19     4       -0.4    -1000.0   \n",
       "  8  BAL  Anthony Santander    S  10.5      14     7       14.0        7.0   \n",
       "  \n",
       "          C      1B      2B      3B      SS      LF      CF      RF  Last Name  \\\n",
       "  0    12.0    -6.0 -1000.0 -1000.0 -1000.0 -1000.0 -1000.0 -1000.0  Rutschman   \n",
       "  1 -1000.0    -3.0 -1000.0 -1000.0 -1000.0    -6.0 -1000.0   -11.0    O'Hearn   \n",
       "  2 -1000.0 -1000.0    -9.0 -1000.0 -1000.0     0.0 -1000.0    -6.0    Frazier   \n",
       "  3 -1000.0 -1000.0    -2.0     3.0   -10.0 -1000.0 -1000.0 -1000.0   Westburg   \n",
       "  4 -1000.0     5.0     0.0    10.0     5.0 -1000.0 -1000.0 -1000.0  Henderson   \n",
       "  5 -1000.0 -1000.0 -1000.0 -1000.0 -1000.0     6.0    -4.0     8.0       Hays   \n",
       "  6 -1000.0 -1000.0 -1000.0 -1000.0 -1000.0    15.0     8.0    13.0    Mullins   \n",
       "  7 -1000.0 -1000.0 -1000.0 -1000.0 -1000.0     4.0    -3.0     3.0      Hicks   \n",
       "  8 -1000.0    -4.0 -1000.0 -1000.0 -1000.0    -8.0 -1000.0   -10.0  Santander   \n",
       "  \n",
       "    Position  \n",
       "  0        C  \n",
       "  1       1B  \n",
       "  2       2B  \n",
       "  3       3B  \n",
       "  4       SS  \n",
       "  5       LF  \n",
       "  6       CF  \n",
       "  7       RF  \n",
       "  8       DH  ,\n",
       "  'Mean Total RAA': -956.4072537565141,\n",
       "  'Lineup SD': 49.563619045937685,\n",
       "  '25th Percentile': -990.018978986751,\n",
       "  '75th Percentile': -922.2213446931381},\n",
       " {'Lineup':     id               Name bats   bat  bat_sd  plat  bat_vsRHP  bat_vsLHP  \\\n",
       "  0  BAL    Adley Rutschman    S  22.2       9    10       27.2       17.2   \n",
       "  1  BAL       Ryan O'Hearn    L   1.2      22    18       10.2       -7.8   \n",
       "  2  BAL        Ramón Urías    R  -2.0      13    -4       -4.0    -1000.0   \n",
       "  3  BAL   Gunnar Henderson    L  20.9      19    25       33.4        8.4   \n",
       "  4  BAL        Jorge Mateo    R  -1.8      20    -8       -5.8    -1000.0   \n",
       "  5  BAL        Aaron Hicks    S  -2.4      19     4       -0.4    -1000.0   \n",
       "  6  BAL     Cedric Mullins    L   3.7      19    18       12.7       -5.3   \n",
       "  7  BAL       Adam Frazier    L  -4.4      13    18        4.6      -13.4   \n",
       "  8  BAL  Anthony Santander    S  10.5      14     7       14.0        7.0   \n",
       "  \n",
       "          C      1B      2B      3B      SS      LF      CF      RF  Last Name  \\\n",
       "  0    12.0    -6.0 -1000.0 -1000.0 -1000.0 -1000.0 -1000.0 -1000.0  Rutschman   \n",
       "  1 -1000.0    -3.0 -1000.0 -1000.0 -1000.0    -6.0 -1000.0   -11.0    O'Hearn   \n",
       "  2 -1000.0     5.0     4.0    12.0    -8.0 -1000.0 -1000.0 -1000.0      Urías   \n",
       "  3 -1000.0     5.0     0.0    10.0     5.0 -1000.0 -1000.0 -1000.0  Henderson   \n",
       "  4 -1000.0 -1000.0     9.0     4.0    13.0     2.0    -3.0     0.0      Mateo   \n",
       "  5 -1000.0 -1000.0 -1000.0 -1000.0 -1000.0     4.0    -3.0     3.0      Hicks   \n",
       "  6 -1000.0 -1000.0 -1000.0 -1000.0 -1000.0    15.0     8.0    13.0    Mullins   \n",
       "  7 -1000.0 -1000.0    -9.0 -1000.0 -1000.0     0.0 -1000.0    -6.0    Frazier   \n",
       "  8 -1000.0    -4.0 -1000.0 -1000.0 -1000.0    -8.0 -1000.0   -10.0  Santander   \n",
       "  \n",
       "    Position  \n",
       "  0        C  \n",
       "  1       1B  \n",
       "  2       2B  \n",
       "  3       3B  \n",
       "  4       SS  \n",
       "  5       LF  \n",
       "  6       CF  \n",
       "  7       RF  \n",
       "  8       DH  ,\n",
       "  'Mean Total RAA': -2950.9515728088772,\n",
       "  'Lineup SD': 51.459360541345,\n",
       "  '25th Percentile': -2985.286822025934,\n",
       "  '75th Percentile': -2915.8528957015433},\n",
       " {'Lineup':     id               Name bats   bat  bat_sd  plat  bat_vsRHP  bat_vsLHP  \\\n",
       "  0  BAL       James McCann    R  -3.6      13   -10       -8.6        1.4   \n",
       "  1  BAL       Ryan O'Hearn    L   1.2      22    18       10.2       -7.8   \n",
       "  2  BAL       Adam Frazier    L  -4.4      13    18        4.6      -13.4   \n",
       "  3  BAL    Jordan Westburg    R   3.0      14    -7       -0.5        6.5   \n",
       "  4  BAL   Gunnar Henderson    L  20.9      19    25       33.4        8.4   \n",
       "  5  BAL        Aaron Hicks    S  -2.4      19     4       -0.4    -1000.0   \n",
       "  6  BAL     Cedric Mullins    L   3.7      19    18       12.7       -5.3   \n",
       "  7  BAL  Anthony Santander    S  10.5      14     7       14.0        7.0   \n",
       "  8  BAL    Adley Rutschman    S  22.2       9    10       27.2       17.2   \n",
       "  \n",
       "          C      1B      2B      3B      SS      LF      CF      RF  Last Name  \\\n",
       "  0    -1.0    -6.0 -1000.0 -1000.0 -1000.0 -1000.0 -1000.0 -1000.0     McCann   \n",
       "  1 -1000.0    -3.0 -1000.0 -1000.0 -1000.0    -6.0 -1000.0   -11.0    O'Hearn   \n",
       "  2 -1000.0 -1000.0    -9.0 -1000.0 -1000.0     0.0 -1000.0    -6.0    Frazier   \n",
       "  3 -1000.0 -1000.0    -2.0     3.0   -10.0 -1000.0 -1000.0 -1000.0   Westburg   \n",
       "  4 -1000.0     5.0     0.0    10.0     5.0 -1000.0 -1000.0 -1000.0  Henderson   \n",
       "  5 -1000.0 -1000.0 -1000.0 -1000.0 -1000.0     4.0    -3.0     3.0      Hicks   \n",
       "  6 -1000.0 -1000.0 -1000.0 -1000.0 -1000.0    15.0     8.0    13.0    Mullins   \n",
       "  7 -1000.0    -4.0 -1000.0 -1000.0 -1000.0    -8.0 -1000.0   -10.0  Santander   \n",
       "  8    12.0    -6.0 -1000.0 -1000.0 -1000.0 -1000.0 -1000.0 -1000.0  Rutschman   \n",
       "  \n",
       "    Position  \n",
       "  0        C  \n",
       "  1       1B  \n",
       "  2       2B  \n",
       "  3       3B  \n",
       "  4       SS  \n",
       "  5       LF  \n",
       "  6       CF  \n",
       "  7       RF  \n",
       "  8       DH  ,\n",
       "  'Mean Total RAA': -989.329801433668,\n",
       "  'Lineup SD': 52.711181565234725,\n",
       "  '25th Percentile': -1025.1913845042673,\n",
       "  '75th Percentile': -953.6954793130949},\n",
       " {'Lineup':     id               Name bats   bat  bat_sd  plat  bat_vsRHP  bat_vsLHP  \\\n",
       "  0  BAL    Adley Rutschman    S  22.2       9    10       27.2       17.2   \n",
       "  1  BAL       Ryan O'Hearn    L   1.2      22    18       10.2       -7.8   \n",
       "  2  BAL       Adam Frazier    L  -4.4      13    18        4.6      -13.4   \n",
       "  3  BAL    Jordan Westburg    R   3.0      14    -7       -0.5        6.5   \n",
       "  4  BAL   Gunnar Henderson    L  20.9      19    25       33.4        8.4   \n",
       "  5  BAL      Colton Cowser    L   0.3      11    18        9.3       -8.7   \n",
       "  6  BAL     Cedric Mullins    L   3.7      19    18       12.7       -5.3   \n",
       "  7  BAL  Anthony Santander    S  10.5      14     7       14.0        7.0   \n",
       "  8  BAL        Aaron Hicks    S  -2.4      19     4       -0.4    -1000.0   \n",
       "  \n",
       "          C      1B      2B      3B      SS      LF      CF      RF  Last Name  \\\n",
       "  0    12.0    -6.0 -1000.0 -1000.0 -1000.0 -1000.0 -1000.0 -1000.0  Rutschman   \n",
       "  1 -1000.0    -3.0 -1000.0 -1000.0 -1000.0    -6.0 -1000.0   -11.0    O'Hearn   \n",
       "  2 -1000.0 -1000.0    -9.0 -1000.0 -1000.0     0.0 -1000.0    -6.0    Frazier   \n",
       "  3 -1000.0 -1000.0    -2.0     3.0   -10.0 -1000.0 -1000.0 -1000.0   Westburg   \n",
       "  4 -1000.0     5.0     0.0    10.0     5.0 -1000.0 -1000.0 -1000.0  Henderson   \n",
       "  5 -1000.0 -1000.0 -1000.0 -1000.0 -1000.0     7.0     1.0     5.0     Cowser   \n",
       "  6 -1000.0 -1000.0 -1000.0 -1000.0 -1000.0    15.0     8.0    13.0    Mullins   \n",
       "  7 -1000.0    -4.0 -1000.0 -1000.0 -1000.0    -8.0 -1000.0   -10.0  Santander   \n",
       "  8 -1000.0 -1000.0 -1000.0 -1000.0 -1000.0     4.0    -3.0     3.0      Hicks   \n",
       "  \n",
       "    Position  \n",
       "  0        C  \n",
       "  1       1B  \n",
       "  2       2B  \n",
       "  3       3B  \n",
       "  4       SS  \n",
       "  5       LF  \n",
       "  6       CF  \n",
       "  7       RF  \n",
       "  8       DH  ,\n",
       "  'Mean Total RAA': -982.4042407661851,\n",
       "  'Lineup SD': 52.3698190871845,\n",
       "  '25th Percentile': -1018.6230614581618,\n",
       "  '75th Percentile': -947.6585196737858},\n",
       " {'Lineup':     id               Name bats   bat  bat_sd  plat  bat_vsRHP  bat_vsLHP  \\\n",
       "  0  BAL    Adley Rutschman    S  22.2       9    10       27.2       17.2   \n",
       "  1  BAL       Ryan O'Hearn    L   1.2      22    18       10.2       -7.8   \n",
       "  2  BAL    Jordan Westburg    R   3.0      14    -7       -0.5        6.5   \n",
       "  3  BAL        Ramón Urías    R  -2.0      13    -4       -4.0    -1000.0   \n",
       "  4  BAL   Gunnar Henderson    L  20.9      19    25       33.4        8.4   \n",
       "  5  BAL       Adam Frazier    L  -4.4      13    18        4.6      -13.4   \n",
       "  6  BAL      Colton Cowser    L   0.3      11    18        9.3       -8.7   \n",
       "  7  BAL  Anthony Santander    S  10.5      14     7       14.0        7.0   \n",
       "  8  BAL     Cedric Mullins    L   3.7      19    18       12.7       -5.3   \n",
       "  \n",
       "          C      1B      2B      3B      SS      LF      CF      RF  Last Name  \\\n",
       "  0    12.0    -6.0 -1000.0 -1000.0 -1000.0 -1000.0 -1000.0 -1000.0  Rutschman   \n",
       "  1 -1000.0    -3.0 -1000.0 -1000.0 -1000.0    -6.0 -1000.0   -11.0    O'Hearn   \n",
       "  2 -1000.0 -1000.0    -2.0     3.0   -10.0 -1000.0 -1000.0 -1000.0   Westburg   \n",
       "  3 -1000.0     5.0     4.0    12.0    -8.0 -1000.0 -1000.0 -1000.0      Urías   \n",
       "  4 -1000.0     5.0     0.0    10.0     5.0 -1000.0 -1000.0 -1000.0  Henderson   \n",
       "  5 -1000.0 -1000.0    -9.0 -1000.0 -1000.0     0.0 -1000.0    -6.0    Frazier   \n",
       "  6 -1000.0 -1000.0 -1000.0 -1000.0 -1000.0     7.0     1.0     5.0     Cowser   \n",
       "  7 -1000.0    -4.0 -1000.0 -1000.0 -1000.0    -8.0 -1000.0   -10.0  Santander   \n",
       "  8 -1000.0 -1000.0 -1000.0 -1000.0 -1000.0    15.0     8.0    13.0    Mullins   \n",
       "  \n",
       "    Position  \n",
       "  0        C  \n",
       "  1       1B  \n",
       "  2       2B  \n",
       "  3       3B  \n",
       "  4       SS  \n",
       "  5       LF  \n",
       "  6       CF  \n",
       "  7       RF  \n",
       "  8       DH  ,\n",
       "  'Mean Total RAA': -980.9483392677552,\n",
       "  'Lineup SD': 51.05320504040626,\n",
       "  '25th Percentile': -1015.8234123276599,\n",
       "  '75th Percentile': -947.7801910981937},\n",
       " {'Lineup':     id               Name bats   bat  bat_sd  plat  bat_vsRHP  bat_vsLHP  \\\n",
       "  0  BAL       James McCann    R  -3.6      13   -10       -8.6        1.4   \n",
       "  1  BAL        Ramón Urías    R  -2.0      13    -4       -4.0    -1000.0   \n",
       "  2  BAL    Jordan Westburg    R   3.0      14    -7       -0.5        6.5   \n",
       "  3  BAL   Gunnar Henderson    L  20.9      19    25       33.4        8.4   \n",
       "  4  BAL        Jorge Mateo    R  -1.8      20    -8       -5.8    -1000.0   \n",
       "  5  BAL      Colton Cowser    L   0.3      11    18        9.3       -8.7   \n",
       "  6  BAL     Cedric Mullins    L   3.7      19    18       12.7       -5.3   \n",
       "  7  BAL  Anthony Santander    S  10.5      14     7       14.0        7.0   \n",
       "  8  BAL       Ryan O'Hearn    L   1.2      22    18       10.2       -7.8   \n",
       "  \n",
       "          C      1B      2B      3B      SS      LF      CF      RF  Last Name  \\\n",
       "  0    -1.0    -6.0 -1000.0 -1000.0 -1000.0 -1000.0 -1000.0 -1000.0     McCann   \n",
       "  1 -1000.0     5.0     4.0    12.0    -8.0 -1000.0 -1000.0 -1000.0      Urías   \n",
       "  2 -1000.0 -1000.0    -2.0     3.0   -10.0 -1000.0 -1000.0 -1000.0   Westburg   \n",
       "  3 -1000.0     5.0     0.0    10.0     5.0 -1000.0 -1000.0 -1000.0  Henderson   \n",
       "  4 -1000.0 -1000.0     9.0     4.0    13.0     2.0    -3.0     0.0      Mateo   \n",
       "  5 -1000.0 -1000.0 -1000.0 -1000.0 -1000.0     7.0     1.0     5.0     Cowser   \n",
       "  6 -1000.0 -1000.0 -1000.0 -1000.0 -1000.0    15.0     8.0    13.0    Mullins   \n",
       "  7 -1000.0    -4.0 -1000.0 -1000.0 -1000.0    -8.0 -1000.0   -10.0  Santander   \n",
       "  8 -1000.0    -3.0 -1000.0 -1000.0 -1000.0    -6.0 -1000.0   -11.0    O'Hearn   \n",
       "  \n",
       "    Position  \n",
       "  0        C  \n",
       "  1       1B  \n",
       "  2       2B  \n",
       "  3       3B  \n",
       "  4       SS  \n",
       "  5       LF  \n",
       "  6       CF  \n",
       "  7       RF  \n",
       "  8       DH  ,\n",
       "  'Mean Total RAA': -1966.790362603625,\n",
       "  'Lineup SD': 51.25783137457746,\n",
       "  '25th Percentile': -2000.87637972367,\n",
       "  '75th Percentile': -1932.6732755841656},\n",
       " {'Lineup':     id               Name bats   bat  bat_sd  plat  bat_vsRHP  bat_vsLHP  \\\n",
       "  0  BAL    Adley Rutschman    S  22.2       9    10       27.2       17.2   \n",
       "  1  BAL       Ryan O'Hearn    L   1.2      22    18       10.2       -7.8   \n",
       "  2  BAL       Adam Frazier    L  -4.4      13    18        4.6      -13.4   \n",
       "  3  BAL        Ramón Urías    R  -2.0      13    -4       -4.0    -1000.0   \n",
       "  4  BAL   Gunnar Henderson    L  20.9      19    25       33.4        8.4   \n",
       "  5  BAL        Austin Hays    R   1.3       9    -8       -2.7        5.3   \n",
       "  6  BAL        Aaron Hicks    S  -2.4      19     4       -0.4    -1000.0   \n",
       "  7  BAL      Colton Cowser    L   0.3      11    18        9.3       -8.7   \n",
       "  8  BAL  Anthony Santander    S  10.5      14     7       14.0        7.0   \n",
       "  \n",
       "          C      1B      2B      3B      SS      LF      CF      RF  Last Name  \\\n",
       "  0    12.0    -6.0 -1000.0 -1000.0 -1000.0 -1000.0 -1000.0 -1000.0  Rutschman   \n",
       "  1 -1000.0    -3.0 -1000.0 -1000.0 -1000.0    -6.0 -1000.0   -11.0    O'Hearn   \n",
       "  2 -1000.0 -1000.0    -9.0 -1000.0 -1000.0     0.0 -1000.0    -6.0    Frazier   \n",
       "  3 -1000.0     5.0     4.0    12.0    -8.0 -1000.0 -1000.0 -1000.0      Urías   \n",
       "  4 -1000.0     5.0     0.0    10.0     5.0 -1000.0 -1000.0 -1000.0  Henderson   \n",
       "  5 -1000.0 -1000.0 -1000.0 -1000.0 -1000.0     6.0    -4.0     8.0       Hays   \n",
       "  6 -1000.0 -1000.0 -1000.0 -1000.0 -1000.0     4.0    -3.0     3.0      Hicks   \n",
       "  7 -1000.0 -1000.0 -1000.0 -1000.0 -1000.0     7.0     1.0     5.0     Cowser   \n",
       "  8 -1000.0    -4.0 -1000.0 -1000.0 -1000.0    -8.0 -1000.0   -10.0  Santander   \n",
       "  \n",
       "    Position  \n",
       "  0        C  \n",
       "  1       1B  \n",
       "  2       2B  \n",
       "  3       3B  \n",
       "  4       SS  \n",
       "  5       LF  \n",
       "  6       CF  \n",
       "  7       RF  \n",
       "  8       DH  ,\n",
       "  'Mean Total RAA': -1967.4499083515263,\n",
       "  'Lineup SD': 51.949957678199866,\n",
       "  '25th Percentile': -2003.8596087522064,\n",
       "  '75th Percentile': -1930.3919066796445},\n",
       " {'Lineup':     id               Name bats   bat  bat_sd  plat  bat_vsRHP  bat_vsLHP  \\\n",
       "  0  BAL    Adley Rutschman    S  22.2       9    10       27.2       17.2   \n",
       "  1  BAL       Ryan O'Hearn    L   1.2      22    18       10.2       -7.8   \n",
       "  2  BAL    Jordan Westburg    R   3.0      14    -7       -0.5        6.5   \n",
       "  3  BAL        Ramón Urías    R  -2.0      13    -4       -4.0    -1000.0   \n",
       "  4  BAL   Gunnar Henderson    L  20.9      19    25       33.4        8.4   \n",
       "  5  BAL        Austin Hays    R   1.3       9    -8       -2.7        5.3   \n",
       "  6  BAL     Cedric Mullins    L   3.7      19    18       12.7       -5.3   \n",
       "  7  BAL  Anthony Santander    S  10.5      14     7       14.0        7.0   \n",
       "  8  BAL        Aaron Hicks    S  -2.4      19     4       -0.4    -1000.0   \n",
       "  \n",
       "          C      1B      2B      3B      SS      LF      CF      RF  Last Name  \\\n",
       "  0    12.0    -6.0 -1000.0 -1000.0 -1000.0 -1000.0 -1000.0 -1000.0  Rutschman   \n",
       "  1 -1000.0    -3.0 -1000.0 -1000.0 -1000.0    -6.0 -1000.0   -11.0    O'Hearn   \n",
       "  2 -1000.0 -1000.0    -2.0     3.0   -10.0 -1000.0 -1000.0 -1000.0   Westburg   \n",
       "  3 -1000.0     5.0     4.0    12.0    -8.0 -1000.0 -1000.0 -1000.0      Urías   \n",
       "  4 -1000.0     5.0     0.0    10.0     5.0 -1000.0 -1000.0 -1000.0  Henderson   \n",
       "  5 -1000.0 -1000.0 -1000.0 -1000.0 -1000.0     6.0    -4.0     8.0       Hays   \n",
       "  6 -1000.0 -1000.0 -1000.0 -1000.0 -1000.0    15.0     8.0    13.0    Mullins   \n",
       "  7 -1000.0    -4.0 -1000.0 -1000.0 -1000.0    -8.0 -1000.0   -10.0  Santander   \n",
       "  8 -1000.0 -1000.0 -1000.0 -1000.0 -1000.0     4.0    -3.0     3.0      Hicks   \n",
       "  \n",
       "    Position  \n",
       "  0        C  \n",
       "  1       1B  \n",
       "  2       2B  \n",
       "  3       3B  \n",
       "  4       SS  \n",
       "  5       LF  \n",
       "  6       CF  \n",
       "  7       RF  \n",
       "  8       DH  ,\n",
       "  'Mean Total RAA': -1939.8217689064606,\n",
       "  'Lineup SD': 50.12184741902829,\n",
       "  '25th Percentile': -1973.4877854065735,\n",
       "  '75th Percentile': -1904.888682832171},\n",
       " {'Lineup':     id               Name bats   bat  bat_sd  plat  bat_vsRHP  bat_vsLHP  \\\n",
       "  0  BAL    Adley Rutschman    S  22.2       9    10       27.2       17.2   \n",
       "  1  BAL       Ryan O'Hearn    L   1.2      22    18       10.2       -7.8   \n",
       "  2  BAL       Adam Frazier    L  -4.4      13    18        4.6      -13.4   \n",
       "  3  BAL    Jordan Westburg    R   3.0      14    -7       -0.5        6.5   \n",
       "  4  BAL   Gunnar Henderson    L  20.9      19    25       33.4        8.4   \n",
       "  5  BAL        Austin Hays    R   1.3       9    -8       -2.7        5.3   \n",
       "  6  BAL     Cedric Mullins    L   3.7      19    18       12.7       -5.3   \n",
       "  7  BAL        Aaron Hicks    S  -2.4      19     4       -0.4    -1000.0   \n",
       "  8  BAL  Anthony Santander    S  10.5      14     7       14.0        7.0   \n",
       "  \n",
       "          C      1B      2B      3B      SS      LF      CF      RF  Last Name  \\\n",
       "  0    12.0    -6.0 -1000.0 -1000.0 -1000.0 -1000.0 -1000.0 -1000.0  Rutschman   \n",
       "  1 -1000.0    -3.0 -1000.0 -1000.0 -1000.0    -6.0 -1000.0   -11.0    O'Hearn   \n",
       "  2 -1000.0 -1000.0    -9.0 -1000.0 -1000.0     0.0 -1000.0    -6.0    Frazier   \n",
       "  3 -1000.0 -1000.0    -2.0     3.0   -10.0 -1000.0 -1000.0 -1000.0   Westburg   \n",
       "  4 -1000.0     5.0     0.0    10.0     5.0 -1000.0 -1000.0 -1000.0  Henderson   \n",
       "  5 -1000.0 -1000.0 -1000.0 -1000.0 -1000.0     6.0    -4.0     8.0       Hays   \n",
       "  6 -1000.0 -1000.0 -1000.0 -1000.0 -1000.0    15.0     8.0    13.0    Mullins   \n",
       "  7 -1000.0 -1000.0 -1000.0 -1000.0 -1000.0     4.0    -3.0     3.0      Hicks   \n",
       "  8 -1000.0    -4.0 -1000.0 -1000.0 -1000.0    -8.0 -1000.0   -10.0  Santander   \n",
       "  \n",
       "    Position  \n",
       "  0        C  \n",
       "  1       1B  \n",
       "  2       2B  \n",
       "  3       3B  \n",
       "  4       SS  \n",
       "  5       LF  \n",
       "  6       CF  \n",
       "  7       RF  \n",
       "  8       DH  ,\n",
       "  'Mean Total RAA': -954.3794836594611,\n",
       "  'Lineup SD': 51.66648208952111,\n",
       "  '25th Percentile': -987.3651790917784,\n",
       "  '75th Percentile': -918.5655139008346},\n",
       " {'Lineup':     id               Name bats   bat  bat_sd  plat  bat_vsRHP  bat_vsLHP  \\\n",
       "  0  BAL    Adley Rutschman    S  22.2       9    10       27.2       17.2   \n",
       "  1  BAL       Ryan O'Hearn    L   1.2      22    18       10.2       -7.8   \n",
       "  2  BAL       Adam Frazier    L  -4.4      13    18        4.6      -13.4   \n",
       "  3  BAL        Ramón Urías    R  -2.0      13    -4       -4.0    -1000.0   \n",
       "  4  BAL   Gunnar Henderson    L  20.9      19    25       33.4        8.4   \n",
       "  5  BAL      Colton Cowser    L   0.3      11    18        9.3       -8.7   \n",
       "  6  BAL        Aaron Hicks    S  -2.4      19     4       -0.4    -1000.0   \n",
       "  7  BAL  Anthony Santander    S  10.5      14     7       14.0        7.0   \n",
       "  8  BAL   Ryan Mountcastle    R  10.0      22   -11        4.5       15.5   \n",
       "  \n",
       "          C      1B      2B      3B      SS      LF      CF      RF  \\\n",
       "  0    12.0    -6.0 -1000.0 -1000.0 -1000.0 -1000.0 -1000.0 -1000.0   \n",
       "  1 -1000.0    -3.0 -1000.0 -1000.0 -1000.0    -6.0 -1000.0   -11.0   \n",
       "  2 -1000.0 -1000.0    -9.0 -1000.0 -1000.0     0.0 -1000.0    -6.0   \n",
       "  3 -1000.0     5.0     4.0    12.0    -8.0 -1000.0 -1000.0 -1000.0   \n",
       "  4 -1000.0     5.0     0.0    10.0     5.0 -1000.0 -1000.0 -1000.0   \n",
       "  5 -1000.0 -1000.0 -1000.0 -1000.0 -1000.0     7.0     1.0     5.0   \n",
       "  6 -1000.0 -1000.0 -1000.0 -1000.0 -1000.0     4.0    -3.0     3.0   \n",
       "  7 -1000.0    -4.0 -1000.0 -1000.0 -1000.0    -8.0 -1000.0   -10.0   \n",
       "  8 -1000.0    -1.0 -1000.0 -1000.0 -1000.0 -1000.0 -1000.0 -1000.0   \n",
       "  \n",
       "       Last Name Position  \n",
       "  0    Rutschman        C  \n",
       "  1      O'Hearn       1B  \n",
       "  2      Frazier       2B  \n",
       "  3        Urías       3B  \n",
       "  4    Henderson       SS  \n",
       "  5       Cowser       LF  \n",
       "  6        Hicks       CF  \n",
       "  7    Santander       RF  \n",
       "  8  Mountcastle       DH  ,\n",
       "  'Mean Total RAA': -1971.9470590128835,\n",
       "  'Lineup SD': 51.40583057628255,\n",
       "  '25th Percentile': -2005.5840122615066,\n",
       "  '75th Percentile': -1936.8855410238255},\n",
       " {'Lineup':     id               Name bats   bat  bat_sd  plat  bat_vsRHP  bat_vsLHP  \\\n",
       "  0  BAL    Adley Rutschman    S  22.2       9    10       27.2       17.2   \n",
       "  1  BAL       Ryan O'Hearn    L   1.2      22    18       10.2       -7.8   \n",
       "  2  BAL       Adam Frazier    L  -4.4      13    18        4.6      -13.4   \n",
       "  3  BAL    Jordan Westburg    R   3.0      14    -7       -0.5        6.5   \n",
       "  4  BAL   Gunnar Henderson    L  20.9      19    25       33.4        8.4   \n",
       "  5  BAL        Austin Hays    R   1.3       9    -8       -2.7        5.3   \n",
       "  6  BAL        Aaron Hicks    S  -2.4      19     4       -0.4    -1000.0   \n",
       "  7  BAL      Colton Cowser    L   0.3      11    18        9.3       -8.7   \n",
       "  8  BAL  Anthony Santander    S  10.5      14     7       14.0        7.0   \n",
       "  \n",
       "          C      1B      2B      3B      SS      LF      CF      RF  Last Name  \\\n",
       "  0    12.0    -6.0 -1000.0 -1000.0 -1000.0 -1000.0 -1000.0 -1000.0  Rutschman   \n",
       "  1 -1000.0    -3.0 -1000.0 -1000.0 -1000.0    -6.0 -1000.0   -11.0    O'Hearn   \n",
       "  2 -1000.0 -1000.0    -9.0 -1000.0 -1000.0     0.0 -1000.0    -6.0    Frazier   \n",
       "  3 -1000.0 -1000.0    -2.0     3.0   -10.0 -1000.0 -1000.0 -1000.0   Westburg   \n",
       "  4 -1000.0     5.0     0.0    10.0     5.0 -1000.0 -1000.0 -1000.0  Henderson   \n",
       "  5 -1000.0 -1000.0 -1000.0 -1000.0 -1000.0     6.0    -4.0     8.0       Hays   \n",
       "  6 -1000.0 -1000.0 -1000.0 -1000.0 -1000.0     4.0    -3.0     3.0      Hicks   \n",
       "  7 -1000.0 -1000.0 -1000.0 -1000.0 -1000.0     7.0     1.0     5.0     Cowser   \n",
       "  8 -1000.0    -4.0 -1000.0 -1000.0 -1000.0    -8.0 -1000.0   -10.0  Santander   \n",
       "  \n",
       "    Position  \n",
       "  0        C  \n",
       "  1       1B  \n",
       "  2       2B  \n",
       "  3       3B  \n",
       "  4       SS  \n",
       "  5       LF  \n",
       "  6       CF  \n",
       "  7       RF  \n",
       "  8       DH  ,\n",
       "  'Mean Total RAA': -969.3695189594524,\n",
       "  'Lineup SD': 50.98487792789585,\n",
       "  '25th Percentile': -1005.5630283499031,\n",
       "  '75th Percentile': -934.7996217000134},\n",
       " {'Lineup':     id               Name bats   bat  bat_sd  plat  bat_vsRHP  bat_vsLHP  \\\n",
       "  0  BAL    Adley Rutschman    S  22.2       9    10       27.2       17.2   \n",
       "  1  BAL  Anthony Santander    S  10.5      14     7       14.0        7.0   \n",
       "  2  BAL        Ramón Urías    R  -2.0      13    -4       -4.0    -1000.0   \n",
       "  3  BAL   Gunnar Henderson    L  20.9      19    25       33.4        8.4   \n",
       "  4  BAL        Jorge Mateo    R  -1.8      20    -8       -5.8    -1000.0   \n",
       "  5  BAL        Austin Hays    R   1.3       9    -8       -2.7        5.3   \n",
       "  6  BAL        Aaron Hicks    S  -2.4      19     4       -0.4    -1000.0   \n",
       "  7  BAL      Colton Cowser    L   0.3      11    18        9.3       -8.7   \n",
       "  8  BAL       Ryan O'Hearn    L   1.2      22    18       10.2       -7.8   \n",
       "  \n",
       "          C      1B      2B      3B      SS      LF      CF      RF  Last Name  \\\n",
       "  0    12.0    -6.0 -1000.0 -1000.0 -1000.0 -1000.0 -1000.0 -1000.0  Rutschman   \n",
       "  1 -1000.0    -4.0 -1000.0 -1000.0 -1000.0    -8.0 -1000.0   -10.0  Santander   \n",
       "  2 -1000.0     5.0     4.0    12.0    -8.0 -1000.0 -1000.0 -1000.0      Urías   \n",
       "  3 -1000.0     5.0     0.0    10.0     5.0 -1000.0 -1000.0 -1000.0  Henderson   \n",
       "  4 -1000.0 -1000.0     9.0     4.0    13.0     2.0    -3.0     0.0      Mateo   \n",
       "  5 -1000.0 -1000.0 -1000.0 -1000.0 -1000.0     6.0    -4.0     8.0       Hays   \n",
       "  6 -1000.0 -1000.0 -1000.0 -1000.0 -1000.0     4.0    -3.0     3.0      Hicks   \n",
       "  7 -1000.0 -1000.0 -1000.0 -1000.0 -1000.0     7.0     1.0     5.0     Cowser   \n",
       "  8 -1000.0    -3.0 -1000.0 -1000.0 -1000.0    -6.0 -1000.0   -11.0    O'Hearn   \n",
       "  \n",
       "    Position  \n",
       "  0        C  \n",
       "  1       1B  \n",
       "  2       2B  \n",
       "  3       3B  \n",
       "  4       SS  \n",
       "  5       LF  \n",
       "  6       CF  \n",
       "  7       RF  \n",
       "  8       DH  ,\n",
       "  'Mean Total RAA': -2935.3893716144057,\n",
       "  'Lineup SD': 51.388060971624114,\n",
       "  '25th Percentile': -2970.76885748345,\n",
       "  '75th Percentile': -2901.1309884842613},\n",
       " {'Lineup':     id               Name bats   bat  bat_sd  plat  bat_vsRHP  bat_vsLHP  \\\n",
       "  0  BAL    Adley Rutschman    S  22.2       9    10       27.2       17.2   \n",
       "  1  BAL       Ryan O'Hearn    L   1.2      22    18       10.2       -7.8   \n",
       "  2  BAL       Adam Frazier    L  -4.4      13    18        4.6      -13.4   \n",
       "  3  BAL    Jordan Westburg    R   3.0      14    -7       -0.5        6.5   \n",
       "  4  BAL   Gunnar Henderson    L  20.9      19    25       33.4        8.4   \n",
       "  5  BAL        Austin Hays    R   1.3       9    -8       -2.7        5.3   \n",
       "  6  BAL      Colton Cowser    L   0.3      11    18        9.3       -8.7   \n",
       "  7  BAL  Anthony Santander    S  10.5      14     7       14.0        7.0   \n",
       "  8  BAL   Ryan Mountcastle    R  10.0      22   -11        4.5       15.5   \n",
       "  \n",
       "          C      1B      2B      3B      SS      LF      CF      RF  \\\n",
       "  0    12.0    -6.0 -1000.0 -1000.0 -1000.0 -1000.0 -1000.0 -1000.0   \n",
       "  1 -1000.0    -3.0 -1000.0 -1000.0 -1000.0    -6.0 -1000.0   -11.0   \n",
       "  2 -1000.0 -1000.0    -9.0 -1000.0 -1000.0     0.0 -1000.0    -6.0   \n",
       "  3 -1000.0 -1000.0    -2.0     3.0   -10.0 -1000.0 -1000.0 -1000.0   \n",
       "  4 -1000.0     5.0     0.0    10.0     5.0 -1000.0 -1000.0 -1000.0   \n",
       "  5 -1000.0 -1000.0 -1000.0 -1000.0 -1000.0     6.0    -4.0     8.0   \n",
       "  6 -1000.0 -1000.0 -1000.0 -1000.0 -1000.0     7.0     1.0     5.0   \n",
       "  7 -1000.0    -4.0 -1000.0 -1000.0 -1000.0    -8.0 -1000.0   -10.0   \n",
       "  8 -1000.0    -1.0 -1000.0 -1000.0 -1000.0 -1000.0 -1000.0 -1000.0   \n",
       "  \n",
       "       Last Name Position  \n",
       "  0    Rutschman        C  \n",
       "  1      O'Hearn       1B  \n",
       "  2      Frazier       2B  \n",
       "  3     Westburg       3B  \n",
       "  4    Henderson       SS  \n",
       "  5         Hays       LF  \n",
       "  6       Cowser       CF  \n",
       "  7    Santander       RF  \n",
       "  8  Mountcastle       DH  ,\n",
       "  'Mean Total RAA': 34.81329853429673,\n",
       "  'Lineup SD': 52.07475224567534,\n",
       "  '25th Percentile': 0.5020698414913358,\n",
       "  '75th Percentile': 69.72667474935602},\n",
       " {'Lineup':     id               Name bats   bat  bat_sd  plat  bat_vsRHP  bat_vsLHP  \\\n",
       "  0  BAL    Adley Rutschman    S  22.2       9    10       27.2       17.2   \n",
       "  1  BAL       Ryan O'Hearn    L   1.2      22    18       10.2       -7.8   \n",
       "  2  BAL       Adam Frazier    L  -4.4      13    18        4.6      -13.4   \n",
       "  3  BAL        Ramón Urías    R  -2.0      13    -4       -4.0    -1000.0   \n",
       "  4  BAL   Gunnar Henderson    L  20.9      19    25       33.4        8.4   \n",
       "  5  BAL        Austin Hays    R   1.3       9    -8       -2.7        5.3   \n",
       "  6  BAL        Aaron Hicks    S  -2.4      19     4       -0.4    -1000.0   \n",
       "  7  BAL      Colton Cowser    L   0.3      11    18        9.3       -8.7   \n",
       "  8  BAL  Anthony Santander    S  10.5      14     7       14.0        7.0   \n",
       "  \n",
       "          C      1B      2B      3B      SS      LF      CF      RF  Last Name  \\\n",
       "  0    12.0    -6.0 -1000.0 -1000.0 -1000.0 -1000.0 -1000.0 -1000.0  Rutschman   \n",
       "  1 -1000.0    -3.0 -1000.0 -1000.0 -1000.0    -6.0 -1000.0   -11.0    O'Hearn   \n",
       "  2 -1000.0 -1000.0    -9.0 -1000.0 -1000.0     0.0 -1000.0    -6.0    Frazier   \n",
       "  3 -1000.0     5.0     4.0    12.0    -8.0 -1000.0 -1000.0 -1000.0      Urías   \n",
       "  4 -1000.0     5.0     0.0    10.0     5.0 -1000.0 -1000.0 -1000.0  Henderson   \n",
       "  5 -1000.0 -1000.0 -1000.0 -1000.0 -1000.0     6.0    -4.0     8.0       Hays   \n",
       "  6 -1000.0 -1000.0 -1000.0 -1000.0 -1000.0     4.0    -3.0     3.0      Hicks   \n",
       "  7 -1000.0 -1000.0 -1000.0 -1000.0 -1000.0     7.0     1.0     5.0     Cowser   \n",
       "  8 -1000.0    -4.0 -1000.0 -1000.0 -1000.0    -8.0 -1000.0   -10.0  Santander   \n",
       "  \n",
       "    Position  \n",
       "  0        C  \n",
       "  1       1B  \n",
       "  2       2B  \n",
       "  3       3B  \n",
       "  4       SS  \n",
       "  5       LF  \n",
       "  6       CF  \n",
       "  7       RF  \n",
       "  8       DH  ,\n",
       "  'Mean Total RAA': -1966.4451957368528,\n",
       "  'Lineup SD': 52.2489578849624,\n",
       "  '25th Percentile': -2001.432558372952,\n",
       "  '75th Percentile': -1931.971789188216},\n",
       " {'Lineup':     id               Name bats   bat  bat_sd  plat  bat_vsRHP  bat_vsLHP  \\\n",
       "  0  BAL    Adley Rutschman    S  22.2       9    10       27.2       17.2   \n",
       "  1  BAL       Ryan O'Hearn    L   1.2      22    18       10.2       -7.8   \n",
       "  2  BAL       Adam Frazier    L  -4.4      13    18        4.6      -13.4   \n",
       "  3  BAL    Jordan Westburg    R   3.0      14    -7       -0.5        6.5   \n",
       "  4  BAL   Gunnar Henderson    L  20.9      19    25       33.4        8.4   \n",
       "  5  BAL        Austin Hays    R   1.3       9    -8       -2.7        5.3   \n",
       "  6  BAL      Colton Cowser    L   0.3      11    18        9.3       -8.7   \n",
       "  7  BAL  Anthony Santander    S  10.5      14     7       14.0        7.0   \n",
       "  8  BAL   Ryan Mountcastle    R  10.0      22   -11        4.5       15.5   \n",
       "  \n",
       "          C      1B      2B      3B      SS      LF      CF      RF  \\\n",
       "  0    12.0    -6.0 -1000.0 -1000.0 -1000.0 -1000.0 -1000.0 -1000.0   \n",
       "  1 -1000.0    -3.0 -1000.0 -1000.0 -1000.0    -6.0 -1000.0   -11.0   \n",
       "  2 -1000.0 -1000.0    -9.0 -1000.0 -1000.0     0.0 -1000.0    -6.0   \n",
       "  3 -1000.0 -1000.0    -2.0     3.0   -10.0 -1000.0 -1000.0 -1000.0   \n",
       "  4 -1000.0     5.0     0.0    10.0     5.0 -1000.0 -1000.0 -1000.0   \n",
       "  5 -1000.0 -1000.0 -1000.0 -1000.0 -1000.0     6.0    -4.0     8.0   \n",
       "  6 -1000.0 -1000.0 -1000.0 -1000.0 -1000.0     7.0     1.0     5.0   \n",
       "  7 -1000.0    -4.0 -1000.0 -1000.0 -1000.0    -8.0 -1000.0   -10.0   \n",
       "  8 -1000.0    -1.0 -1000.0 -1000.0 -1000.0 -1000.0 -1000.0 -1000.0   \n",
       "  \n",
       "       Last Name Position  \n",
       "  0    Rutschman        C  \n",
       "  1      O'Hearn       1B  \n",
       "  2      Frazier       2B  \n",
       "  3     Westburg       3B  \n",
       "  4    Henderson       SS  \n",
       "  5         Hays       LF  \n",
       "  6       Cowser       CF  \n",
       "  7    Santander       RF  \n",
       "  8  Mountcastle       DH  ,\n",
       "  'Mean Total RAA': 34.45939117387893,\n",
       "  'Lineup SD': 51.841754079676136,\n",
       "  '25th Percentile': -1.4201226185310234,\n",
       "  '75th Percentile': 70.29241224043287},\n",
       " {'Lineup':     id               Name bats   bat  bat_sd  plat  bat_vsRHP  bat_vsLHP  \\\n",
       "  0  BAL    Adley Rutschman    S  22.2       9    10       27.2       17.2   \n",
       "  1  BAL       Ryan O'Hearn    L   1.2      22    18       10.2       -7.8   \n",
       "  2  BAL       Adam Frazier    L  -4.4      13    18        4.6      -13.4   \n",
       "  3  BAL        Ramón Urías    R  -2.0      13    -4       -4.0    -1000.0   \n",
       "  4  BAL   Gunnar Henderson    L  20.9      19    25       33.4        8.4   \n",
       "  5  BAL        Austin Hays    R   1.3       9    -8       -2.7        5.3   \n",
       "  6  BAL      Colton Cowser    L   0.3      11    18        9.3       -8.7   \n",
       "  7  BAL  Anthony Santander    S  10.5      14     7       14.0        7.0   \n",
       "  8  BAL   Ryan Mountcastle    R  10.0      22   -11        4.5       15.5   \n",
       "  \n",
       "          C      1B      2B      3B      SS      LF      CF      RF  \\\n",
       "  0    12.0    -6.0 -1000.0 -1000.0 -1000.0 -1000.0 -1000.0 -1000.0   \n",
       "  1 -1000.0    -3.0 -1000.0 -1000.0 -1000.0    -6.0 -1000.0   -11.0   \n",
       "  2 -1000.0 -1000.0    -9.0 -1000.0 -1000.0     0.0 -1000.0    -6.0   \n",
       "  3 -1000.0     5.0     4.0    12.0    -8.0 -1000.0 -1000.0 -1000.0   \n",
       "  4 -1000.0     5.0     0.0    10.0     5.0 -1000.0 -1000.0 -1000.0   \n",
       "  5 -1000.0 -1000.0 -1000.0 -1000.0 -1000.0     6.0    -4.0     8.0   \n",
       "  6 -1000.0 -1000.0 -1000.0 -1000.0 -1000.0     7.0     1.0     5.0   \n",
       "  7 -1000.0    -4.0 -1000.0 -1000.0 -1000.0    -8.0 -1000.0   -10.0   \n",
       "  8 -1000.0    -1.0 -1000.0 -1000.0 -1000.0 -1000.0 -1000.0 -1000.0   \n",
       "  \n",
       "       Last Name Position  \n",
       "  0    Rutschman        C  \n",
       "  1      O'Hearn       1B  \n",
       "  2      Frazier       2B  \n",
       "  3        Urías       3B  \n",
       "  4    Henderson       SS  \n",
       "  5         Hays       LF  \n",
       "  6       Cowser       CF  \n",
       "  7    Santander       RF  \n",
       "  8  Mountcastle       DH  ,\n",
       "  'Mean Total RAA': -962.4710442795649,\n",
       "  'Lineup SD': 50.580328977243596,\n",
       "  '25th Percentile': -997.3642589799709,\n",
       "  '75th Percentile': -929.477139231145},\n",
       " {'Lineup':     id               Name bats   bat  bat_sd  plat  bat_vsRHP  bat_vsLHP  \\\n",
       "  0  BAL    Adley Rutschman    S  22.2       9    10       27.2       17.2   \n",
       "  1  BAL       Ryan O'Hearn    L   1.2      22    18       10.2       -7.8   \n",
       "  2  BAL       Adam Frazier    L  -4.4      13    18        4.6      -13.4   \n",
       "  3  BAL        Ramón Urías    R  -2.0      13    -4       -4.0    -1000.0   \n",
       "  4  BAL   Gunnar Henderson    L  20.9      19    25       33.4        8.4   \n",
       "  5  BAL        Austin Hays    R   1.3       9    -8       -2.7        5.3   \n",
       "  6  BAL      Colton Cowser    L   0.3      11    18        9.3       -8.7   \n",
       "  7  BAL  Anthony Santander    S  10.5      14     7       14.0        7.0   \n",
       "  8  BAL   Ryan Mountcastle    R  10.0      22   -11        4.5       15.5   \n",
       "  \n",
       "          C      1B      2B      3B      SS      LF      CF      RF  \\\n",
       "  0    12.0    -6.0 -1000.0 -1000.0 -1000.0 -1000.0 -1000.0 -1000.0   \n",
       "  1 -1000.0    -3.0 -1000.0 -1000.0 -1000.0    -6.0 -1000.0   -11.0   \n",
       "  2 -1000.0 -1000.0    -9.0 -1000.0 -1000.0     0.0 -1000.0    -6.0   \n",
       "  3 -1000.0     5.0     4.0    12.0    -8.0 -1000.0 -1000.0 -1000.0   \n",
       "  4 -1000.0     5.0     0.0    10.0     5.0 -1000.0 -1000.0 -1000.0   \n",
       "  5 -1000.0 -1000.0 -1000.0 -1000.0 -1000.0     6.0    -4.0     8.0   \n",
       "  6 -1000.0 -1000.0 -1000.0 -1000.0 -1000.0     7.0     1.0     5.0   \n",
       "  7 -1000.0    -4.0 -1000.0 -1000.0 -1000.0    -8.0 -1000.0   -10.0   \n",
       "  8 -1000.0    -1.0 -1000.0 -1000.0 -1000.0 -1000.0 -1000.0 -1000.0   \n",
       "  \n",
       "       Last Name Position  \n",
       "  0    Rutschman        C  \n",
       "  1      O'Hearn       1B  \n",
       "  2      Frazier       2B  \n",
       "  3        Urías       3B  \n",
       "  4    Henderson       SS  \n",
       "  5         Hays       LF  \n",
       "  6       Cowser       CF  \n",
       "  7    Santander       RF  \n",
       "  8  Mountcastle       DH  ,\n",
       "  'Mean Total RAA': -963.0731269746304,\n",
       "  'Lineup SD': 51.73812396776562,\n",
       "  '25th Percentile': -997.6379218108912,\n",
       "  '75th Percentile': -928.7933202317357},\n",
       " {'Lineup':     id               Name bats   bat  bat_sd  plat  bat_vsRHP  bat_vsLHP  \\\n",
       "  0  BAL       James McCann    R  -3.6      13   -10       -8.6        1.4   \n",
       "  1  BAL       Ryan O'Hearn    L   1.2      22    18       10.2       -7.8   \n",
       "  2  BAL    Jordan Westburg    R   3.0      14    -7       -0.5        6.5   \n",
       "  3  BAL        Ramón Urías    R  -2.0      13    -4       -4.0    -1000.0   \n",
       "  4  BAL   Gunnar Henderson    L  20.9      19    25       33.4        8.4   \n",
       "  5  BAL       Adam Frazier    L  -4.4      13    18        4.6      -13.4   \n",
       "  6  BAL        Austin Hays    R   1.3       9    -8       -2.7        5.3   \n",
       "  7  BAL  Anthony Santander    S  10.5      14     7       14.0        7.0   \n",
       "  8  BAL    Adley Rutschman    S  22.2       9    10       27.2       17.2   \n",
       "  \n",
       "          C      1B      2B      3B      SS      LF      CF      RF  Last Name  \\\n",
       "  0    -1.0    -6.0 -1000.0 -1000.0 -1000.0 -1000.0 -1000.0 -1000.0     McCann   \n",
       "  1 -1000.0    -3.0 -1000.0 -1000.0 -1000.0    -6.0 -1000.0   -11.0    O'Hearn   \n",
       "  2 -1000.0 -1000.0    -2.0     3.0   -10.0 -1000.0 -1000.0 -1000.0   Westburg   \n",
       "  3 -1000.0     5.0     4.0    12.0    -8.0 -1000.0 -1000.0 -1000.0      Urías   \n",
       "  4 -1000.0     5.0     0.0    10.0     5.0 -1000.0 -1000.0 -1000.0  Henderson   \n",
       "  5 -1000.0 -1000.0    -9.0 -1000.0 -1000.0     0.0 -1000.0    -6.0    Frazier   \n",
       "  6 -1000.0 -1000.0 -1000.0 -1000.0 -1000.0     6.0    -4.0     8.0       Hays   \n",
       "  7 -1000.0    -4.0 -1000.0 -1000.0 -1000.0    -8.0 -1000.0   -10.0  Santander   \n",
       "  8    12.0    -6.0 -1000.0 -1000.0 -1000.0 -1000.0 -1000.0 -1000.0  Rutschman   \n",
       "  \n",
       "    Position  \n",
       "  0        C  \n",
       "  1       1B  \n",
       "  2       2B  \n",
       "  3       3B  \n",
       "  4       SS  \n",
       "  5       LF  \n",
       "  6       CF  \n",
       "  7       RF  \n",
       "  8       DH  ,\n",
       "  'Mean Total RAA': -978.7642866530651,\n",
       "  'Lineup SD': 50.57984458916302,\n",
       "  '25th Percentile': -1013.6126261657976,\n",
       "  '75th Percentile': -945.5386001195402},\n",
       " {'Lineup':     id               Name bats   bat  bat_sd  plat  bat_vsRHP  bat_vsLHP  \\\n",
       "  0  BAL    Adley Rutschman    S  22.2       9    10       27.2       17.2   \n",
       "  1  BAL       Ryan O'Hearn    L   1.2      22    18       10.2       -7.8   \n",
       "  2  BAL       Adam Frazier    L  -4.4      13    18        4.6      -13.4   \n",
       "  3  BAL   Gunnar Henderson    L  20.9      19    25       33.4        8.4   \n",
       "  4  BAL        Jorge Mateo    R  -1.8      20    -8       -5.8    -1000.0   \n",
       "  5  BAL        Austin Hays    R   1.3       9    -8       -2.7        5.3   \n",
       "  6  BAL      Colton Cowser    L   0.3      11    18        9.3       -8.7   \n",
       "  7  BAL  Anthony Santander    S  10.5      14     7       14.0        7.0   \n",
       "  8  BAL   Ryan Mountcastle    R  10.0      22   -11        4.5       15.5   \n",
       "  \n",
       "          C      1B      2B      3B      SS      LF      CF      RF  \\\n",
       "  0    12.0    -6.0 -1000.0 -1000.0 -1000.0 -1000.0 -1000.0 -1000.0   \n",
       "  1 -1000.0    -3.0 -1000.0 -1000.0 -1000.0    -6.0 -1000.0   -11.0   \n",
       "  2 -1000.0 -1000.0    -9.0 -1000.0 -1000.0     0.0 -1000.0    -6.0   \n",
       "  3 -1000.0     5.0     0.0    10.0     5.0 -1000.0 -1000.0 -1000.0   \n",
       "  4 -1000.0 -1000.0     9.0     4.0    13.0     2.0    -3.0     0.0   \n",
       "  5 -1000.0 -1000.0 -1000.0 -1000.0 -1000.0     6.0    -4.0     8.0   \n",
       "  6 -1000.0 -1000.0 -1000.0 -1000.0 -1000.0     7.0     1.0     5.0   \n",
       "  7 -1000.0    -4.0 -1000.0 -1000.0 -1000.0    -8.0 -1000.0   -10.0   \n",
       "  8 -1000.0    -1.0 -1000.0 -1000.0 -1000.0 -1000.0 -1000.0 -1000.0   \n",
       "  \n",
       "       Last Name Position  \n",
       "  0    Rutschman        C  \n",
       "  1      O'Hearn       1B  \n",
       "  2      Frazier       2B  \n",
       "  3    Henderson       3B  \n",
       "  4        Mateo       SS  \n",
       "  5         Hays       LF  \n",
       "  6       Cowser       CF  \n",
       "  7    Santander       RF  \n",
       "  8  Mountcastle       DH  ,\n",
       "  'Mean Total RAA': -955.502094167145,\n",
       "  'Lineup SD': 51.432510368896665,\n",
       "  '25th Percentile': -990.001682057278,\n",
       "  '75th Percentile': -920.2611949430643},\n",
       " {'Lineup':     id               Name bats   bat  bat_sd  plat  bat_vsRHP  bat_vsLHP  \\\n",
       "  0  BAL    Adley Rutschman    S  22.2       9    10       27.2       17.2   \n",
       "  1  BAL   Ryan Mountcastle    R  10.0      22   -11        4.5       15.5   \n",
       "  2  BAL       Adam Frazier    L  -4.4      13    18        4.6      -13.4   \n",
       "  3  BAL        Ramón Urías    R  -2.0      13    -4       -4.0    -1000.0   \n",
       "  4  BAL   Gunnar Henderson    L  20.9      19    25       33.4        8.4   \n",
       "  5  BAL        Austin Hays    R   1.3       9    -8       -2.7        5.3   \n",
       "  6  BAL       Ryan McKenna    R  -1.0      21    -3       -2.5    -1000.0   \n",
       "  7  BAL       Ryan O'Hearn    L   1.2      22    18       10.2       -7.8   \n",
       "  8  BAL  Anthony Santander    S  10.5      14     7       14.0        7.0   \n",
       "  \n",
       "          C      1B      2B      3B      SS      LF      CF      RF  \\\n",
       "  0    12.0    -6.0 -1000.0 -1000.0 -1000.0 -1000.0 -1000.0 -1000.0   \n",
       "  1 -1000.0    -1.0 -1000.0 -1000.0 -1000.0 -1000.0 -1000.0 -1000.0   \n",
       "  2 -1000.0 -1000.0    -9.0 -1000.0 -1000.0     0.0 -1000.0    -6.0   \n",
       "  3 -1000.0     5.0     4.0    12.0    -8.0 -1000.0 -1000.0 -1000.0   \n",
       "  4 -1000.0     5.0     0.0    10.0     5.0 -1000.0 -1000.0 -1000.0   \n",
       "  5 -1000.0 -1000.0 -1000.0 -1000.0 -1000.0     6.0    -4.0     8.0   \n",
       "  6 -1000.0 -1000.0 -1000.0 -1000.0 -1000.0     7.0     3.0     4.0   \n",
       "  7 -1000.0    -3.0 -1000.0 -1000.0 -1000.0    -6.0 -1000.0   -11.0   \n",
       "  8 -1000.0    -4.0 -1000.0 -1000.0 -1000.0    -8.0 -1000.0   -10.0   \n",
       "  \n",
       "       Last Name Position  \n",
       "  0    Rutschman        C  \n",
       "  1  Mountcastle       1B  \n",
       "  2      Frazier       2B  \n",
       "  3        Urías       3B  \n",
       "  4    Henderson       SS  \n",
       "  5         Hays       LF  \n",
       "  6      McKenna       CF  \n",
       "  7      O'Hearn       RF  \n",
       "  8    Santander       DH  ,\n",
       "  'Mean Total RAA': -1951.4318837291087,\n",
       "  'Lineup SD': 51.48219327734163,\n",
       "  '25th Percentile': -1986.4394052688563,\n",
       "  '75th Percentile': -1917.8017130650264},\n",
       " {'Lineup':     id               Name bats   bat  bat_sd  plat  bat_vsRHP  bat_vsLHP  \\\n",
       "  0  BAL    Adley Rutschman    S  22.2       9    10       27.2       17.2   \n",
       "  1  BAL   Ryan Mountcastle    R  10.0      22   -11        4.5       15.5   \n",
       "  2  BAL    Jordan Westburg    R   3.0      14    -7       -0.5        6.5   \n",
       "  3  BAL        Ramón Urías    R  -2.0      13    -4       -4.0    -1000.0   \n",
       "  4  BAL   Gunnar Henderson    L  20.9      19    25       33.4        8.4   \n",
       "  5  BAL      Colton Cowser    L   0.3      11    18        9.3       -8.7   \n",
       "  6  BAL       Ryan McKenna    R  -1.0      21    -3       -2.5    -1000.0   \n",
       "  7  BAL       Ryan O'Hearn    L   1.2      22    18       10.2       -7.8   \n",
       "  8  BAL  Anthony Santander    S  10.5      14     7       14.0        7.0   \n",
       "  \n",
       "          C      1B      2B      3B      SS      LF      CF      RF  \\\n",
       "  0    12.0    -6.0 -1000.0 -1000.0 -1000.0 -1000.0 -1000.0 -1000.0   \n",
       "  1 -1000.0    -1.0 -1000.0 -1000.0 -1000.0 -1000.0 -1000.0 -1000.0   \n",
       "  2 -1000.0 -1000.0    -2.0     3.0   -10.0 -1000.0 -1000.0 -1000.0   \n",
       "  3 -1000.0     5.0     4.0    12.0    -8.0 -1000.0 -1000.0 -1000.0   \n",
       "  4 -1000.0     5.0     0.0    10.0     5.0 -1000.0 -1000.0 -1000.0   \n",
       "  5 -1000.0 -1000.0 -1000.0 -1000.0 -1000.0     7.0     1.0     5.0   \n",
       "  6 -1000.0 -1000.0 -1000.0 -1000.0 -1000.0     7.0     3.0     4.0   \n",
       "  7 -1000.0    -3.0 -1000.0 -1000.0 -1000.0    -6.0 -1000.0   -11.0   \n",
       "  8 -1000.0    -4.0 -1000.0 -1000.0 -1000.0    -8.0 -1000.0   -10.0   \n",
       "  \n",
       "       Last Name Position  \n",
       "  0    Rutschman        C  \n",
       "  1  Mountcastle       1B  \n",
       "  2     Westburg       2B  \n",
       "  3        Urías       3B  \n",
       "  4    Henderson       SS  \n",
       "  5       Cowser       LF  \n",
       "  6      McKenna       CF  \n",
       "  7      O'Hearn       RF  \n",
       "  8    Santander       DH  ,\n",
       "  'Mean Total RAA': -1936.4138993767979,\n",
       "  'Lineup SD': 50.81543245639452,\n",
       "  '25th Percentile': -1971.401210193108,\n",
       "  '75th Percentile': -1902.0409646661137},\n",
       " {'Lineup':     id               Name bats   bat  bat_sd  plat  bat_vsRHP  bat_vsLHP  \\\n",
       "  0  BAL    Adley Rutschman    S  22.2       9    10       27.2       17.2   \n",
       "  1  BAL       Ryan O'Hearn    L   1.2      22    18       10.2       -7.8   \n",
       "  2  BAL       Adam Frazier    L  -4.4      13    18        4.6      -13.4   \n",
       "  3  BAL    Jordan Westburg    R   3.0      14    -7       -0.5        6.5   \n",
       "  4  BAL   Gunnar Henderson    L  20.9      19    25       33.4        8.4   \n",
       "  5  BAL        Austin Hays    R   1.3       9    -8       -2.7        5.3   \n",
       "  6  BAL      Colton Cowser    L   0.3      11    18        9.3       -8.7   \n",
       "  7  BAL  Anthony Santander    S  10.5      14     7       14.0        7.0   \n",
       "  8  BAL   Ryan Mountcastle    R  10.0      22   -11        4.5       15.5   \n",
       "  \n",
       "          C      1B      2B      3B      SS      LF      CF      RF  \\\n",
       "  0    12.0    -6.0 -1000.0 -1000.0 -1000.0 -1000.0 -1000.0 -1000.0   \n",
       "  1 -1000.0    -3.0 -1000.0 -1000.0 -1000.0    -6.0 -1000.0   -11.0   \n",
       "  2 -1000.0 -1000.0    -9.0 -1000.0 -1000.0     0.0 -1000.0    -6.0   \n",
       "  3 -1000.0 -1000.0    -2.0     3.0   -10.0 -1000.0 -1000.0 -1000.0   \n",
       "  4 -1000.0     5.0     0.0    10.0     5.0 -1000.0 -1000.0 -1000.0   \n",
       "  5 -1000.0 -1000.0 -1000.0 -1000.0 -1000.0     6.0    -4.0     8.0   \n",
       "  6 -1000.0 -1000.0 -1000.0 -1000.0 -1000.0     7.0     1.0     5.0   \n",
       "  7 -1000.0    -4.0 -1000.0 -1000.0 -1000.0    -8.0 -1000.0   -10.0   \n",
       "  8 -1000.0    -1.0 -1000.0 -1000.0 -1000.0 -1000.0 -1000.0 -1000.0   \n",
       "  \n",
       "       Last Name Position  \n",
       "  0    Rutschman        C  \n",
       "  1      O'Hearn       1B  \n",
       "  2      Frazier       2B  \n",
       "  3     Westburg       3B  \n",
       "  4    Henderson       SS  \n",
       "  5         Hays       LF  \n",
       "  6       Cowser       CF  \n",
       "  7    Santander       RF  \n",
       "  8  Mountcastle       DH  ,\n",
       "  'Mean Total RAA': 34.71387709597292,\n",
       "  'Lineup SD': 51.02479522700348,\n",
       "  '25th Percentile': 0.8709379246763529,\n",
       "  '75th Percentile': 68.43508251558362},\n",
       " {'Lineup':     id               Name bats   bat  bat_sd  plat  bat_vsRHP  bat_vsLHP  \\\n",
       "  0  BAL       James McCann    R  -3.6      13   -10       -8.6        1.4   \n",
       "  1  BAL   Ryan Mountcastle    R  10.0      22   -11        4.5       15.5   \n",
       "  2  BAL       Adam Frazier    L  -4.4      13    18        4.6      -13.4   \n",
       "  3  BAL        Ramón Urías    R  -2.0      13    -4       -4.0    -1000.0   \n",
       "  4  BAL   Gunnar Henderson    L  20.9      19    25       33.4        8.4   \n",
       "  5  BAL       Ryan O'Hearn    L   1.2      22    18       10.2       -7.8   \n",
       "  6  BAL        Austin Hays    R   1.3       9    -8       -2.7        5.3   \n",
       "  7  BAL  Anthony Santander    S  10.5      14     7       14.0        7.0   \n",
       "  8  BAL    Adley Rutschman    S  22.2       9    10       27.2       17.2   \n",
       "  \n",
       "          C      1B      2B      3B      SS      LF      CF      RF  \\\n",
       "  0    -1.0    -6.0 -1000.0 -1000.0 -1000.0 -1000.0 -1000.0 -1000.0   \n",
       "  1 -1000.0    -1.0 -1000.0 -1000.0 -1000.0 -1000.0 -1000.0 -1000.0   \n",
       "  2 -1000.0 -1000.0    -9.0 -1000.0 -1000.0     0.0 -1000.0    -6.0   \n",
       "  3 -1000.0     5.0     4.0    12.0    -8.0 -1000.0 -1000.0 -1000.0   \n",
       "  4 -1000.0     5.0     0.0    10.0     5.0 -1000.0 -1000.0 -1000.0   \n",
       "  5 -1000.0    -3.0 -1000.0 -1000.0 -1000.0    -6.0 -1000.0   -11.0   \n",
       "  6 -1000.0 -1000.0 -1000.0 -1000.0 -1000.0     6.0    -4.0     8.0   \n",
       "  7 -1000.0    -4.0 -1000.0 -1000.0 -1000.0    -8.0 -1000.0   -10.0   \n",
       "  8    12.0    -6.0 -1000.0 -1000.0 -1000.0 -1000.0 -1000.0 -1000.0   \n",
       "  \n",
       "       Last Name Position  \n",
       "  0       McCann        C  \n",
       "  1  Mountcastle       1B  \n",
       "  2      Frazier       2B  \n",
       "  3        Urías       3B  \n",
       "  4    Henderson       SS  \n",
       "  5      O'Hearn       LF  \n",
       "  6         Hays       CF  \n",
       "  7    Santander       RF  \n",
       "  8    Rutschman       DH  ,\n",
       "  'Mean Total RAA': -981.4598662159823,\n",
       "  'Lineup SD': 51.9217320767506,\n",
       "  '25th Percentile': -1015.9080472225115,\n",
       "  '75th Percentile': -947.8269918918204},\n",
       " {'Lineup':     id               Name bats   bat  bat_sd  plat  bat_vsRHP  bat_vsLHP  \\\n",
       "  0  BAL    Adley Rutschman    S  22.2       9    10       27.2       17.2   \n",
       "  1  BAL   Ryan Mountcastle    R  10.0      22   -11        4.5       15.5   \n",
       "  2  BAL       Adam Frazier    L  -4.4      13    18        4.6      -13.4   \n",
       "  3  BAL        Ramón Urías    R  -2.0      13    -4       -4.0    -1000.0   \n",
       "  4  BAL   Gunnar Henderson    L  20.9      19    25       33.4        8.4   \n",
       "  5  BAL      Colton Cowser    L   0.3      11    18        9.3       -8.7   \n",
       "  6  BAL     Cedric Mullins    L   3.7      19    18       12.7       -5.3   \n",
       "  7  BAL       Ryan O'Hearn    L   1.2      22    18       10.2       -7.8   \n",
       "  8  BAL  Anthony Santander    S  10.5      14     7       14.0        7.0   \n",
       "  \n",
       "          C      1B      2B      3B      SS      LF      CF      RF  \\\n",
       "  0    12.0    -6.0 -1000.0 -1000.0 -1000.0 -1000.0 -1000.0 -1000.0   \n",
       "  1 -1000.0    -1.0 -1000.0 -1000.0 -1000.0 -1000.0 -1000.0 -1000.0   \n",
       "  2 -1000.0 -1000.0    -9.0 -1000.0 -1000.0     0.0 -1000.0    -6.0   \n",
       "  3 -1000.0     5.0     4.0    12.0    -8.0 -1000.0 -1000.0 -1000.0   \n",
       "  4 -1000.0     5.0     0.0    10.0     5.0 -1000.0 -1000.0 -1000.0   \n",
       "  5 -1000.0 -1000.0 -1000.0 -1000.0 -1000.0     7.0     1.0     5.0   \n",
       "  6 -1000.0 -1000.0 -1000.0 -1000.0 -1000.0    15.0     8.0    13.0   \n",
       "  7 -1000.0    -3.0 -1000.0 -1000.0 -1000.0    -6.0 -1000.0   -11.0   \n",
       "  8 -1000.0    -4.0 -1000.0 -1000.0 -1000.0    -8.0 -1000.0   -10.0   \n",
       "  \n",
       "       Last Name Position  \n",
       "  0    Rutschman        C  \n",
       "  1  Mountcastle       1B  \n",
       "  2      Frazier       2B  \n",
       "  3        Urías       3B  \n",
       "  4    Henderson       SS  \n",
       "  5       Cowser       LF  \n",
       "  6      Mullins       CF  \n",
       "  7      O'Hearn       RF  \n",
       "  8    Santander       DH  ,\n",
       "  'Mean Total RAA': -964.9317279435622,\n",
       "  'Lineup SD': 50.20442252070214,\n",
       "  '25th Percentile': -999.0917552002641,\n",
       "  '75th Percentile': -930.6424221952774},\n",
       " {'Lineup':     id               Name bats   bat  bat_sd  plat  bat_vsRHP  bat_vsLHP  \\\n",
       "  0  BAL    Adley Rutschman    S  22.2       9    10       27.2       17.2   \n",
       "  1  BAL       Ryan O'Hearn    L   1.2      22    18       10.2       -7.8   \n",
       "  2  BAL       Adam Frazier    L  -4.4      13    18        4.6      -13.4   \n",
       "  3  BAL    Jordan Westburg    R   3.0      14    -7       -0.5        6.5   \n",
       "  4  BAL        Jorge Mateo    R  -1.8      20    -8       -5.8    -1000.0   \n",
       "  5  BAL        Austin Hays    R   1.3       9    -8       -2.7        5.3   \n",
       "  6  BAL     Cedric Mullins    L   3.7      19    18       12.7       -5.3   \n",
       "  7  BAL  Anthony Santander    S  10.5      14     7       14.0        7.0   \n",
       "  8  BAL   Ryan Mountcastle    R  10.0      22   -11        4.5       15.5   \n",
       "  \n",
       "          C      1B      2B      3B      SS      LF      CF      RF  \\\n",
       "  0    12.0    -6.0 -1000.0 -1000.0 -1000.0 -1000.0 -1000.0 -1000.0   \n",
       "  1 -1000.0    -3.0 -1000.0 -1000.0 -1000.0    -6.0 -1000.0   -11.0   \n",
       "  2 -1000.0 -1000.0    -9.0 -1000.0 -1000.0     0.0 -1000.0    -6.0   \n",
       "  3 -1000.0 -1000.0    -2.0     3.0   -10.0 -1000.0 -1000.0 -1000.0   \n",
       "  4 -1000.0 -1000.0     9.0     4.0    13.0     2.0    -3.0     0.0   \n",
       "  5 -1000.0 -1000.0 -1000.0 -1000.0 -1000.0     6.0    -4.0     8.0   \n",
       "  6 -1000.0 -1000.0 -1000.0 -1000.0 -1000.0    15.0     8.0    13.0   \n",
       "  7 -1000.0    -4.0 -1000.0 -1000.0 -1000.0    -8.0 -1000.0   -10.0   \n",
       "  8 -1000.0    -1.0 -1000.0 -1000.0 -1000.0 -1000.0 -1000.0 -1000.0   \n",
       "  \n",
       "       Last Name Position  \n",
       "  0    Rutschman        C  \n",
       "  1      O'Hearn       1B  \n",
       "  2      Frazier       2B  \n",
       "  3     Westburg       3B  \n",
       "  4        Mateo       SS  \n",
       "  5         Hays       LF  \n",
       "  6      Mullins       CF  \n",
       "  7    Santander       RF  \n",
       "  8  Mountcastle       DH  ,\n",
       "  'Mean Total RAA': -955.6510478906098,\n",
       "  'Lineup SD': 51.53357465563619,\n",
       "  '25th Percentile': -989.6929427360828,\n",
       "  '75th Percentile': -919.8910358979394},\n",
       " {'Lineup':     id               Name bats   bat  bat_sd  plat  bat_vsRHP  bat_vsLHP  \\\n",
       "  0  BAL       James McCann    R  -3.6      13   -10       -8.6        1.4   \n",
       "  1  BAL   Ryan Mountcastle    R  10.0      22   -11        4.5       15.5   \n",
       "  2  BAL       Adam Frazier    L  -4.4      13    18        4.6      -13.4   \n",
       "  3  BAL    Jordan Westburg    R   3.0      14    -7       -0.5        6.5   \n",
       "  4  BAL   Gunnar Henderson    L  20.9      19    25       33.4        8.4   \n",
       "  5  BAL       Ryan O'Hearn    L   1.2      22    18       10.2       -7.8   \n",
       "  6  BAL        Austin Hays    R   1.3       9    -8       -2.7        5.3   \n",
       "  7  BAL  Anthony Santander    S  10.5      14     7       14.0        7.0   \n",
       "  8  BAL    Adley Rutschman    S  22.2       9    10       27.2       17.2   \n",
       "  \n",
       "          C      1B      2B      3B      SS      LF      CF      RF  \\\n",
       "  0    -1.0    -6.0 -1000.0 -1000.0 -1000.0 -1000.0 -1000.0 -1000.0   \n",
       "  1 -1000.0    -1.0 -1000.0 -1000.0 -1000.0 -1000.0 -1000.0 -1000.0   \n",
       "  2 -1000.0 -1000.0    -9.0 -1000.0 -1000.0     0.0 -1000.0    -6.0   \n",
       "  3 -1000.0 -1000.0    -2.0     3.0   -10.0 -1000.0 -1000.0 -1000.0   \n",
       "  4 -1000.0     5.0     0.0    10.0     5.0 -1000.0 -1000.0 -1000.0   \n",
       "  5 -1000.0    -3.0 -1000.0 -1000.0 -1000.0    -6.0 -1000.0   -11.0   \n",
       "  6 -1000.0 -1000.0 -1000.0 -1000.0 -1000.0     6.0    -4.0     8.0   \n",
       "  7 -1000.0    -4.0 -1000.0 -1000.0 -1000.0    -8.0 -1000.0   -10.0   \n",
       "  8    12.0    -6.0 -1000.0 -1000.0 -1000.0 -1000.0 -1000.0 -1000.0   \n",
       "  \n",
       "       Last Name Position  \n",
       "  0       McCann        C  \n",
       "  1  Mountcastle       1B  \n",
       "  2      Frazier       2B  \n",
       "  3     Westburg       3B  \n",
       "  4    Henderson       SS  \n",
       "  5      O'Hearn       LF  \n",
       "  6         Hays       CF  \n",
       "  7    Santander       RF  \n",
       "  8    Rutschman       DH  ,\n",
       "  'Mean Total RAA': 16.80961071455254,\n",
       "  'Lineup SD': 52.289678226243225,\n",
       "  '25th Percentile': -17.309772006789306,\n",
       "  '75th Percentile': 52.54855788185615},\n",
       " {'Lineup':     id               Name bats   bat  bat_sd  plat  bat_vsRHP  bat_vsLHP  \\\n",
       "  0  BAL    Adley Rutschman    S  22.2       9    10       27.2       17.2   \n",
       "  1  BAL       Ryan O'Hearn    L   1.2      22    18       10.2       -7.8   \n",
       "  2  BAL    Jordan Westburg    R   3.0      14    -7       -0.5        6.5   \n",
       "  3  BAL        Ramón Urías    R  -2.0      13    -4       -4.0    -1000.0   \n",
       "  4  BAL   Gunnar Henderson    L  20.9      19    25       33.4        8.4   \n",
       "  5  BAL        Aaron Hicks    S  -2.4      19     4       -0.4    -1000.0   \n",
       "  6  BAL     Cedric Mullins    L   3.7      19    18       12.7       -5.3   \n",
       "  7  BAL  Anthony Santander    S  10.5      14     7       14.0        7.0   \n",
       "  8  BAL   Ryan Mountcastle    R  10.0      22   -11        4.5       15.5   \n",
       "  \n",
       "          C      1B      2B      3B      SS      LF      CF      RF  \\\n",
       "  0    12.0    -6.0 -1000.0 -1000.0 -1000.0 -1000.0 -1000.0 -1000.0   \n",
       "  1 -1000.0    -3.0 -1000.0 -1000.0 -1000.0    -6.0 -1000.0   -11.0   \n",
       "  2 -1000.0 -1000.0    -2.0     3.0   -10.0 -1000.0 -1000.0 -1000.0   \n",
       "  3 -1000.0     5.0     4.0    12.0    -8.0 -1000.0 -1000.0 -1000.0   \n",
       "  4 -1000.0     5.0     0.0    10.0     5.0 -1000.0 -1000.0 -1000.0   \n",
       "  5 -1000.0 -1000.0 -1000.0 -1000.0 -1000.0     4.0    -3.0     3.0   \n",
       "  6 -1000.0 -1000.0 -1000.0 -1000.0 -1000.0    15.0     8.0    13.0   \n",
       "  7 -1000.0    -4.0 -1000.0 -1000.0 -1000.0    -8.0 -1000.0   -10.0   \n",
       "  8 -1000.0    -1.0 -1000.0 -1000.0 -1000.0 -1000.0 -1000.0 -1000.0   \n",
       "  \n",
       "       Last Name Position  \n",
       "  0    Rutschman        C  \n",
       "  1      O'Hearn       1B  \n",
       "  2     Westburg       2B  \n",
       "  3        Urías       3B  \n",
       "  4    Henderson       SS  \n",
       "  5        Hicks       LF  \n",
       "  6      Mullins       CF  \n",
       "  7    Santander       RF  \n",
       "  8  Mountcastle       DH  ,\n",
       "  'Mean Total RAA': -1932.9613106616027,\n",
       "  'Lineup SD': 51.21212395633003,\n",
       "  '25th Percentile': -1965.5202019083717,\n",
       "  '75th Percentile': -1898.3043447122286},\n",
       " {'Lineup':     id               Name bats   bat  bat_sd  plat  bat_vsRHP  bat_vsLHP  \\\n",
       "  0  BAL    Adley Rutschman    S  22.2       9    10       27.2       17.2   \n",
       "  1  BAL       Ryan O'Hearn    L   1.2      22    18       10.2       -7.8   \n",
       "  2  BAL       Adam Frazier    L  -4.4      13    18        4.6      -13.4   \n",
       "  3  BAL        Ramón Urías    R  -2.0      13    -4       -4.0    -1000.0   \n",
       "  4  BAL   Gunnar Henderson    L  20.9      19    25       33.4        8.4   \n",
       "  5  BAL        Austin Hays    R   1.3       9    -8       -2.7        5.3   \n",
       "  6  BAL     Cedric Mullins    L   3.7      19    18       12.7       -5.3   \n",
       "  7  BAL  Anthony Santander    S  10.5      14     7       14.0        7.0   \n",
       "  8  BAL   Ryan Mountcastle    R  10.0      22   -11        4.5       15.5   \n",
       "  \n",
       "          C      1B      2B      3B      SS      LF      CF      RF  \\\n",
       "  0    12.0    -6.0 -1000.0 -1000.0 -1000.0 -1000.0 -1000.0 -1000.0   \n",
       "  1 -1000.0    -3.0 -1000.0 -1000.0 -1000.0    -6.0 -1000.0   -11.0   \n",
       "  2 -1000.0 -1000.0    -9.0 -1000.0 -1000.0     0.0 -1000.0    -6.0   \n",
       "  3 -1000.0     5.0     4.0    12.0    -8.0 -1000.0 -1000.0 -1000.0   \n",
       "  4 -1000.0     5.0     0.0    10.0     5.0 -1000.0 -1000.0 -1000.0   \n",
       "  5 -1000.0 -1000.0 -1000.0 -1000.0 -1000.0     6.0    -4.0     8.0   \n",
       "  6 -1000.0 -1000.0 -1000.0 -1000.0 -1000.0    15.0     8.0    13.0   \n",
       "  7 -1000.0    -4.0 -1000.0 -1000.0 -1000.0    -8.0 -1000.0   -10.0   \n",
       "  8 -1000.0    -1.0 -1000.0 -1000.0 -1000.0 -1000.0 -1000.0 -1000.0   \n",
       "  \n",
       "       Last Name Position  \n",
       "  0    Rutschman        C  \n",
       "  1      O'Hearn       1B  \n",
       "  2      Frazier       2B  \n",
       "  3        Urías       3B  \n",
       "  4    Henderson       SS  \n",
       "  5         Hays       LF  \n",
       "  6      Mullins       CF  \n",
       "  7    Santander       RF  \n",
       "  8  Mountcastle       DH  ,\n",
       "  'Mean Total RAA': -952.9160760221869,\n",
       "  'Lineup SD': 52.33844068156967,\n",
       "  '25th Percentile': -987.645436738611,\n",
       "  '75th Percentile': -917.309911416857},\n",
       " {'Lineup':     id               Name bats   bat  bat_sd  plat  bat_vsRHP  bat_vsLHP  \\\n",
       "  0  BAL    Adley Rutschman    S  22.2       9    10       27.2       17.2   \n",
       "  1  BAL       Ryan O'Hearn    L   1.2      22    18       10.2       -7.8   \n",
       "  2  BAL    Jordan Westburg    R   3.0      14    -7       -0.5        6.5   \n",
       "  3  BAL        Ramón Urías    R  -2.0      13    -4       -4.0    -1000.0   \n",
       "  4  BAL   Gunnar Henderson    L  20.9      19    25       33.4        8.4   \n",
       "  5  BAL        Austin Hays    R   1.3       9    -8       -2.7        5.3   \n",
       "  6  BAL     Cedric Mullins    L   3.7      19    18       12.7       -5.3   \n",
       "  7  BAL  Anthony Santander    S  10.5      14     7       14.0        7.0   \n",
       "  8  BAL   Ryan Mountcastle    R  10.0      22   -11        4.5       15.5   \n",
       "  \n",
       "          C      1B      2B      3B      SS      LF      CF      RF  \\\n",
       "  0    12.0    -6.0 -1000.0 -1000.0 -1000.0 -1000.0 -1000.0 -1000.0   \n",
       "  1 -1000.0    -3.0 -1000.0 -1000.0 -1000.0    -6.0 -1000.0   -11.0   \n",
       "  2 -1000.0 -1000.0    -2.0     3.0   -10.0 -1000.0 -1000.0 -1000.0   \n",
       "  3 -1000.0     5.0     4.0    12.0    -8.0 -1000.0 -1000.0 -1000.0   \n",
       "  4 -1000.0     5.0     0.0    10.0     5.0 -1000.0 -1000.0 -1000.0   \n",
       "  5 -1000.0 -1000.0 -1000.0 -1000.0 -1000.0     6.0    -4.0     8.0   \n",
       "  6 -1000.0 -1000.0 -1000.0 -1000.0 -1000.0    15.0     8.0    13.0   \n",
       "  7 -1000.0    -4.0 -1000.0 -1000.0 -1000.0    -8.0 -1000.0   -10.0   \n",
       "  8 -1000.0    -1.0 -1000.0 -1000.0 -1000.0 -1000.0 -1000.0 -1000.0   \n",
       "  \n",
       "       Last Name Position  \n",
       "  0    Rutschman        C  \n",
       "  1      O'Hearn       1B  \n",
       "  2     Westburg       2B  \n",
       "  3        Urías       3B  \n",
       "  4    Henderson       SS  \n",
       "  5         Hays       LF  \n",
       "  6      Mullins       CF  \n",
       "  7    Santander       RF  \n",
       "  8  Mountcastle       DH  ,\n",
       "  'Mean Total RAA': -924.1781045680838,\n",
       "  'Lineup SD': 52.08308421509789,\n",
       "  '25th Percentile': -960.0646854063693,\n",
       "  '75th Percentile': -889.0318050008601},\n",
       " {'Lineup':     id               Name bats   bat  bat_sd  plat  bat_vsRHP  bat_vsLHP  \\\n",
       "  0  BAL    Adley Rutschman    S  22.2       9    10       27.2       17.2   \n",
       "  1  BAL       Ryan O'Hearn    L   1.2      22    18       10.2       -7.8   \n",
       "  2  BAL       Adam Frazier    L  -4.4      13    18        4.6      -13.4   \n",
       "  3  BAL        Ramón Urías    R  -2.0      13    -4       -4.0    -1000.0   \n",
       "  4  BAL   Gunnar Henderson    L  20.9      19    25       33.4        8.4   \n",
       "  5  BAL        Austin Hays    R   1.3       9    -8       -2.7        5.3   \n",
       "  6  BAL     Cedric Mullins    L   3.7      19    18       12.7       -5.3   \n",
       "  7  BAL  Anthony Santander    S  10.5      14     7       14.0        7.0   \n",
       "  8  BAL   Ryan Mountcastle    R  10.0      22   -11        4.5       15.5   \n",
       "  \n",
       "          C      1B      2B      3B      SS      LF      CF      RF  \\\n",
       "  0    12.0    -6.0 -1000.0 -1000.0 -1000.0 -1000.0 -1000.0 -1000.0   \n",
       "  1 -1000.0    -3.0 -1000.0 -1000.0 -1000.0    -6.0 -1000.0   -11.0   \n",
       "  2 -1000.0 -1000.0    -9.0 -1000.0 -1000.0     0.0 -1000.0    -6.0   \n",
       "  3 -1000.0     5.0     4.0    12.0    -8.0 -1000.0 -1000.0 -1000.0   \n",
       "  4 -1000.0     5.0     0.0    10.0     5.0 -1000.0 -1000.0 -1000.0   \n",
       "  5 -1000.0 -1000.0 -1000.0 -1000.0 -1000.0     6.0    -4.0     8.0   \n",
       "  6 -1000.0 -1000.0 -1000.0 -1000.0 -1000.0    15.0     8.0    13.0   \n",
       "  7 -1000.0    -4.0 -1000.0 -1000.0 -1000.0    -8.0 -1000.0   -10.0   \n",
       "  8 -1000.0    -1.0 -1000.0 -1000.0 -1000.0 -1000.0 -1000.0 -1000.0   \n",
       "  \n",
       "       Last Name Position  \n",
       "  0    Rutschman        C  \n",
       "  1      O'Hearn       1B  \n",
       "  2      Frazier       2B  \n",
       "  3        Urías       3B  \n",
       "  4    Henderson       SS  \n",
       "  5         Hays       LF  \n",
       "  6      Mullins       CF  \n",
       "  7    Santander       RF  \n",
       "  8  Mountcastle       DH  ,\n",
       "  'Mean Total RAA': -950.8125180310495,\n",
       "  'Lineup SD': 52.350344247011314,\n",
       "  '25th Percentile': -985.9465226385244,\n",
       "  '75th Percentile': -915.7763501947136},\n",
       " {'Lineup':     id               Name bats   bat  bat_sd  plat  bat_vsRHP  bat_vsLHP  \\\n",
       "  0  BAL    Adley Rutschman    S  22.2       9    10       27.2       17.2   \n",
       "  1  BAL   Ryan Mountcastle    R  10.0      22   -11        4.5       15.5   \n",
       "  2  BAL       Adam Frazier    L  -4.4      13    18        4.6      -13.4   \n",
       "  3  BAL        Ramón Urías    R  -2.0      13    -4       -4.0    -1000.0   \n",
       "  4  BAL   Gunnar Henderson    L  20.9      19    25       33.4        8.4   \n",
       "  5  BAL        Austin Hays    R   1.3       9    -8       -2.7        5.3   \n",
       "  6  BAL     Cedric Mullins    L   3.7      19    18       12.7       -5.3   \n",
       "  7  BAL       Ryan O'Hearn    L   1.2      22    18       10.2       -7.8   \n",
       "  8  BAL  Anthony Santander    S  10.5      14     7       14.0        7.0   \n",
       "  \n",
       "          C      1B      2B      3B      SS      LF      CF      RF  \\\n",
       "  0    12.0    -6.0 -1000.0 -1000.0 -1000.0 -1000.0 -1000.0 -1000.0   \n",
       "  1 -1000.0    -1.0 -1000.0 -1000.0 -1000.0 -1000.0 -1000.0 -1000.0   \n",
       "  2 -1000.0 -1000.0    -9.0 -1000.0 -1000.0     0.0 -1000.0    -6.0   \n",
       "  3 -1000.0     5.0     4.0    12.0    -8.0 -1000.0 -1000.0 -1000.0   \n",
       "  4 -1000.0     5.0     0.0    10.0     5.0 -1000.0 -1000.0 -1000.0   \n",
       "  5 -1000.0 -1000.0 -1000.0 -1000.0 -1000.0     6.0    -4.0     8.0   \n",
       "  6 -1000.0 -1000.0 -1000.0 -1000.0 -1000.0    15.0     8.0    13.0   \n",
       "  7 -1000.0    -3.0 -1000.0 -1000.0 -1000.0    -6.0 -1000.0   -11.0   \n",
       "  8 -1000.0    -4.0 -1000.0 -1000.0 -1000.0    -8.0 -1000.0   -10.0   \n",
       "  \n",
       "       Last Name Position  \n",
       "  0    Rutschman        C  \n",
       "  1  Mountcastle       1B  \n",
       "  2      Frazier       2B  \n",
       "  3        Urías       3B  \n",
       "  4    Henderson       SS  \n",
       "  5         Hays       LF  \n",
       "  6      Mullins       CF  \n",
       "  7      O'Hearn       RF  \n",
       "  8    Santander       DH  ,\n",
       "  'Mean Total RAA': -950.6479182118563,\n",
       "  'Lineup SD': 52.6293782060475,\n",
       "  '25th Percentile': -987.4868127969424,\n",
       "  '75th Percentile': -915.0641693693831},\n",
       " {'Lineup':     id               Name bats   bat  bat_sd  plat  bat_vsRHP  bat_vsLHP  \\\n",
       "  0  BAL    Adley Rutschman    S  22.2       9    10       27.2       17.2   \n",
       "  1  BAL   Ryan Mountcastle    R  10.0      22   -11        4.5       15.5   \n",
       "  2  BAL       Adam Frazier    L  -4.4      13    18        4.6      -13.4   \n",
       "  3  BAL        Ramón Urías    R  -2.0      13    -4       -4.0    -1000.0   \n",
       "  4  BAL   Gunnar Henderson    L  20.9      19    25       33.4        8.4   \n",
       "  5  BAL       Ryan McKenna    R  -1.0      21    -3       -2.5    -1000.0   \n",
       "  6  BAL     Cedric Mullins    L   3.7      19    18       12.7       -5.3   \n",
       "  7  BAL       Ryan O'Hearn    L   1.2      22    18       10.2       -7.8   \n",
       "  8  BAL  Anthony Santander    S  10.5      14     7       14.0        7.0   \n",
       "  \n",
       "          C      1B      2B      3B      SS      LF      CF      RF  \\\n",
       "  0    12.0    -6.0 -1000.0 -1000.0 -1000.0 -1000.0 -1000.0 -1000.0   \n",
       "  1 -1000.0    -1.0 -1000.0 -1000.0 -1000.0 -1000.0 -1000.0 -1000.0   \n",
       "  2 -1000.0 -1000.0    -9.0 -1000.0 -1000.0     0.0 -1000.0    -6.0   \n",
       "  3 -1000.0     5.0     4.0    12.0    -8.0 -1000.0 -1000.0 -1000.0   \n",
       "  4 -1000.0     5.0     0.0    10.0     5.0 -1000.0 -1000.0 -1000.0   \n",
       "  5 -1000.0 -1000.0 -1000.0 -1000.0 -1000.0     7.0     3.0     4.0   \n",
       "  6 -1000.0 -1000.0 -1000.0 -1000.0 -1000.0    15.0     8.0    13.0   \n",
       "  7 -1000.0    -3.0 -1000.0 -1000.0 -1000.0    -6.0 -1000.0   -11.0   \n",
       "  8 -1000.0    -4.0 -1000.0 -1000.0 -1000.0    -8.0 -1000.0   -10.0   \n",
       "  \n",
       "       Last Name Position  \n",
       "  0    Rutschman        C  \n",
       "  1  Mountcastle       1B  \n",
       "  2      Frazier       2B  \n",
       "  3        Urías       3B  \n",
       "  4    Henderson       SS  \n",
       "  5      McKenna       LF  \n",
       "  6      Mullins       CF  \n",
       "  7      O'Hearn       RF  \n",
       "  8    Santander       DH  ,\n",
       "  'Mean Total RAA': -1954.0593476440595,\n",
       "  'Lineup SD': 52.00316668533719,\n",
       "  '25th Percentile': -1989.4533043484244,\n",
       "  '75th Percentile': -1917.8846251547398},\n",
       " {'Lineup':     id               Name bats   bat  bat_sd  plat  bat_vsRHP  bat_vsLHP  \\\n",
       "  0  BAL    Adley Rutschman    S  22.2       9    10       27.2       17.2   \n",
       "  1  BAL   Ryan Mountcastle    R  10.0      22   -11        4.5       15.5   \n",
       "  2  BAL       Adam Frazier    L  -4.4      13    18        4.6      -13.4   \n",
       "  3  BAL        Ramón Urías    R  -2.0      13    -4       -4.0    -1000.0   \n",
       "  4  BAL   Gunnar Henderson    L  20.9      19    25       33.4        8.4   \n",
       "  5  BAL        Austin Hays    R   1.3       9    -8       -2.7        5.3   \n",
       "  6  BAL     Cedric Mullins    L   3.7      19    18       12.7       -5.3   \n",
       "  7  BAL       Ryan O'Hearn    L   1.2      22    18       10.2       -7.8   \n",
       "  8  BAL  Anthony Santander    S  10.5      14     7       14.0        7.0   \n",
       "  \n",
       "          C      1B      2B      3B      SS      LF      CF      RF  \\\n",
       "  0    12.0    -6.0 -1000.0 -1000.0 -1000.0 -1000.0 -1000.0 -1000.0   \n",
       "  1 -1000.0    -1.0 -1000.0 -1000.0 -1000.0 -1000.0 -1000.0 -1000.0   \n",
       "  2 -1000.0 -1000.0    -9.0 -1000.0 -1000.0     0.0 -1000.0    -6.0   \n",
       "  3 -1000.0     5.0     4.0    12.0    -8.0 -1000.0 -1000.0 -1000.0   \n",
       "  4 -1000.0     5.0     0.0    10.0     5.0 -1000.0 -1000.0 -1000.0   \n",
       "  5 -1000.0 -1000.0 -1000.0 -1000.0 -1000.0     6.0    -4.0     8.0   \n",
       "  6 -1000.0 -1000.0 -1000.0 -1000.0 -1000.0    15.0     8.0    13.0   \n",
       "  7 -1000.0    -3.0 -1000.0 -1000.0 -1000.0    -6.0 -1000.0   -11.0   \n",
       "  8 -1000.0    -4.0 -1000.0 -1000.0 -1000.0    -8.0 -1000.0   -10.0   \n",
       "  \n",
       "       Last Name Position  \n",
       "  0    Rutschman        C  \n",
       "  1  Mountcastle       1B  \n",
       "  2      Frazier       2B  \n",
       "  3        Urías       3B  \n",
       "  4    Henderson       SS  \n",
       "  5         Hays       LF  \n",
       "  6      Mullins       CF  \n",
       "  7      O'Hearn       RF  \n",
       "  8    Santander       DH  ,\n",
       "  'Mean Total RAA': -950.4336871393081,\n",
       "  'Lineup SD': 52.615700028407716,\n",
       "  '25th Percentile': -985.7772238868745,\n",
       "  '75th Percentile': -914.2926753619106},\n",
       " {'Lineup':     id               Name bats   bat  bat_sd  plat  bat_vsRHP  bat_vsLHP  \\\n",
       "  0  BAL       James McCann    R  -3.6      13   -10       -8.6        1.4   \n",
       "  1  BAL       Ryan O'Hearn    L   1.2      22    18       10.2       -7.8   \n",
       "  2  BAL    Jordan Westburg    R   3.0      14    -7       -0.5        6.5   \n",
       "  3  BAL   Gunnar Henderson    L  20.9      19    25       33.4        8.4   \n",
       "  4  BAL        Jorge Mateo    R  -1.8      20    -8       -5.8    -1000.0   \n",
       "  5  BAL       Adam Frazier    L  -4.4      13    18        4.6      -13.4   \n",
       "  6  BAL     Cedric Mullins    L   3.7      19    18       12.7       -5.3   \n",
       "  7  BAL  Anthony Santander    S  10.5      14     7       14.0        7.0   \n",
       "  8  BAL   Ryan Mountcastle    R  10.0      22   -11        4.5       15.5   \n",
       "  \n",
       "          C      1B      2B      3B      SS      LF      CF      RF  \\\n",
       "  0    -1.0    -6.0 -1000.0 -1000.0 -1000.0 -1000.0 -1000.0 -1000.0   \n",
       "  1 -1000.0    -3.0 -1000.0 -1000.0 -1000.0    -6.0 -1000.0   -11.0   \n",
       "  2 -1000.0 -1000.0    -2.0     3.0   -10.0 -1000.0 -1000.0 -1000.0   \n",
       "  3 -1000.0     5.0     0.0    10.0     5.0 -1000.0 -1000.0 -1000.0   \n",
       "  4 -1000.0 -1000.0     9.0     4.0    13.0     2.0    -3.0     0.0   \n",
       "  5 -1000.0 -1000.0    -9.0 -1000.0 -1000.0     0.0 -1000.0    -6.0   \n",
       "  6 -1000.0 -1000.0 -1000.0 -1000.0 -1000.0    15.0     8.0    13.0   \n",
       "  7 -1000.0    -4.0 -1000.0 -1000.0 -1000.0    -8.0 -1000.0   -10.0   \n",
       "  8 -1000.0    -1.0 -1000.0 -1000.0 -1000.0 -1000.0 -1000.0 -1000.0   \n",
       "  \n",
       "       Last Name Position  \n",
       "  0       McCann        C  \n",
       "  1      O'Hearn       1B  \n",
       "  2     Westburg       2B  \n",
       "  3    Henderson       3B  \n",
       "  4        Mateo       SS  \n",
       "  5      Frazier       LF  \n",
       "  6      Mullins       CF  \n",
       "  7    Santander       RF  \n",
       "  8  Mountcastle       DH  ,\n",
       "  'Mean Total RAA': -971.9185003741331,\n",
       "  'Lineup SD': 52.265195212053804,\n",
       "  '25th Percentile': -1008.1109129530453,\n",
       "  '75th Percentile': -936.6880808603705},\n",
       " {'Lineup':     id               Name bats   bat  bat_sd  plat  bat_vsRHP  bat_vsLHP  \\\n",
       "  0  BAL    Adley Rutschman    S  22.2       9    10       27.2       17.2   \n",
       "  1  BAL       Ryan O'Hearn    L   1.2      22    18       10.2       -7.8   \n",
       "  2  BAL       Adam Frazier    L  -4.4      13    18        4.6      -13.4   \n",
       "  3  BAL        Ramón Urías    R  -2.0      13    -4       -4.0    -1000.0   \n",
       "  4  BAL   Gunnar Henderson    L  20.9      19    25       33.4        8.4   \n",
       "  5  BAL        Austin Hays    R   1.3       9    -8       -2.7        5.3   \n",
       "  6  BAL     Cedric Mullins    L   3.7      19    18       12.7       -5.3   \n",
       "  7  BAL  Anthony Santander    S  10.5      14     7       14.0        7.0   \n",
       "  8  BAL    Jordan Westburg    R   3.0      14    -7       -0.5        6.5   \n",
       "  \n",
       "          C      1B      2B      3B      SS      LF      CF      RF  Last Name  \\\n",
       "  0    12.0    -6.0 -1000.0 -1000.0 -1000.0 -1000.0 -1000.0 -1000.0  Rutschman   \n",
       "  1 -1000.0    -3.0 -1000.0 -1000.0 -1000.0    -6.0 -1000.0   -11.0    O'Hearn   \n",
       "  2 -1000.0 -1000.0    -9.0 -1000.0 -1000.0     0.0 -1000.0    -6.0    Frazier   \n",
       "  3 -1000.0     5.0     4.0    12.0    -8.0 -1000.0 -1000.0 -1000.0      Urías   \n",
       "  4 -1000.0     5.0     0.0    10.0     5.0 -1000.0 -1000.0 -1000.0  Henderson   \n",
       "  5 -1000.0 -1000.0 -1000.0 -1000.0 -1000.0     6.0    -4.0     8.0       Hays   \n",
       "  6 -1000.0 -1000.0 -1000.0 -1000.0 -1000.0    15.0     8.0    13.0    Mullins   \n",
       "  7 -1000.0    -4.0 -1000.0 -1000.0 -1000.0    -8.0 -1000.0   -10.0  Santander   \n",
       "  8 -1000.0 -1000.0    -2.0     3.0   -10.0 -1000.0 -1000.0 -1000.0   Westburg   \n",
       "  \n",
       "    Position  \n",
       "  0        C  \n",
       "  1       1B  \n",
       "  2       2B  \n",
       "  3       3B  \n",
       "  4       SS  \n",
       "  5       LF  \n",
       "  6       CF  \n",
       "  7       RF  \n",
       "  8       DH  ,\n",
       "  'Mean Total RAA': -960.6641661169033,\n",
       "  'Lineup SD': 51.65112806845553,\n",
       "  '25th Percentile': -995.0776689673041,\n",
       "  '75th Percentile': -926.7938894773824},\n",
       " {'Lineup':     id               Name bats   bat  bat_sd  plat  bat_vsRHP  bat_vsLHP  \\\n",
       "  0  BAL       James McCann    R  -3.6      13   -10       -8.6        1.4   \n",
       "  1  BAL       Ryan O'Hearn    L   1.2      22    18       10.2       -7.8   \n",
       "  2  BAL       Adam Frazier    L  -4.4      13    18        4.6      -13.4   \n",
       "  3  BAL        Ramón Urías    R  -2.0      13    -4       -4.0    -1000.0   \n",
       "  4  BAL   Gunnar Henderson    L  20.9      19    25       33.4        8.4   \n",
       "  5  BAL        Austin Hays    R   1.3       9    -8       -2.7        5.3   \n",
       "  6  BAL     Cedric Mullins    L   3.7      19    18       12.7       -5.3   \n",
       "  7  BAL  Anthony Santander    S  10.5      14     7       14.0        7.0   \n",
       "  8  BAL    Adley Rutschman    S  22.2       9    10       27.2       17.2   \n",
       "  \n",
       "          C      1B      2B      3B      SS      LF      CF      RF  Last Name  \\\n",
       "  0    -1.0    -6.0 -1000.0 -1000.0 -1000.0 -1000.0 -1000.0 -1000.0     McCann   \n",
       "  1 -1000.0    -3.0 -1000.0 -1000.0 -1000.0    -6.0 -1000.0   -11.0    O'Hearn   \n",
       "  2 -1000.0 -1000.0    -9.0 -1000.0 -1000.0     0.0 -1000.0    -6.0    Frazier   \n",
       "  3 -1000.0     5.0     4.0    12.0    -8.0 -1000.0 -1000.0 -1000.0      Urías   \n",
       "  4 -1000.0     5.0     0.0    10.0     5.0 -1000.0 -1000.0 -1000.0  Henderson   \n",
       "  5 -1000.0 -1000.0 -1000.0 -1000.0 -1000.0     6.0    -4.0     8.0       Hays   \n",
       "  6 -1000.0 -1000.0 -1000.0 -1000.0 -1000.0    15.0     8.0    13.0    Mullins   \n",
       "  7 -1000.0    -4.0 -1000.0 -1000.0 -1000.0    -8.0 -1000.0   -10.0  Santander   \n",
       "  8    12.0    -6.0 -1000.0 -1000.0 -1000.0 -1000.0 -1000.0 -1000.0  Rutschman   \n",
       "  \n",
       "    Position  \n",
       "  0        C  \n",
       "  1       1B  \n",
       "  2       2B  \n",
       "  3       3B  \n",
       "  4       SS  \n",
       "  5       LF  \n",
       "  6       CF  \n",
       "  7       RF  \n",
       "  8       DH  ,\n",
       "  'Mean Total RAA': -979.1732954856577,\n",
       "  'Lineup SD': 50.99666231572395,\n",
       "  '25th Percentile': -1013.9952652992769,\n",
       "  '75th Percentile': -944.500375408031},\n",
       " {'Lineup':     id               Name bats   bat  bat_sd  plat  bat_vsRHP  bat_vsLHP  \\\n",
       "  0  BAL    Adley Rutschman    S  22.2       9    10       27.2       17.2   \n",
       "  1  BAL   Ryan Mountcastle    R  10.0      22   -11        4.5       15.5   \n",
       "  2  BAL       Adam Frazier    L  -4.4      13    18        4.6      -13.4   \n",
       "  3  BAL        Ramón Urías    R  -2.0      13    -4       -4.0    -1000.0   \n",
       "  4  BAL   Gunnar Henderson    L  20.9      19    25       33.4        8.4   \n",
       "  5  BAL        Aaron Hicks    S  -2.4      19     4       -0.4    -1000.0   \n",
       "  6  BAL     Cedric Mullins    L   3.7      19    18       12.7       -5.3   \n",
       "  7  BAL       Ryan O'Hearn    L   1.2      22    18       10.2       -7.8   \n",
       "  8  BAL  Anthony Santander    S  10.5      14     7       14.0        7.0   \n",
       "  \n",
       "          C      1B      2B      3B      SS      LF      CF      RF  \\\n",
       "  0    12.0    -6.0 -1000.0 -1000.0 -1000.0 -1000.0 -1000.0 -1000.0   \n",
       "  1 -1000.0    -1.0 -1000.0 -1000.0 -1000.0 -1000.0 -1000.0 -1000.0   \n",
       "  2 -1000.0 -1000.0    -9.0 -1000.0 -1000.0     0.0 -1000.0    -6.0   \n",
       "  3 -1000.0     5.0     4.0    12.0    -8.0 -1000.0 -1000.0 -1000.0   \n",
       "  4 -1000.0     5.0     0.0    10.0     5.0 -1000.0 -1000.0 -1000.0   \n",
       "  5 -1000.0 -1000.0 -1000.0 -1000.0 -1000.0     4.0    -3.0     3.0   \n",
       "  6 -1000.0 -1000.0 -1000.0 -1000.0 -1000.0    15.0     8.0    13.0   \n",
       "  7 -1000.0    -3.0 -1000.0 -1000.0 -1000.0    -6.0 -1000.0   -11.0   \n",
       "  8 -1000.0    -4.0 -1000.0 -1000.0 -1000.0    -8.0 -1000.0   -10.0   \n",
       "  \n",
       "       Last Name Position  \n",
       "  0    Rutschman        C  \n",
       "  1  Mountcastle       1B  \n",
       "  2      Frazier       2B  \n",
       "  3        Urías       3B  \n",
       "  4    Henderson       SS  \n",
       "  5        Hicks       LF  \n",
       "  6      Mullins       CF  \n",
       "  7      O'Hearn       RF  \n",
       "  8    Santander       DH  ,\n",
       "  'Mean Total RAA': -1956.5075738089402,\n",
       "  'Lineup SD': 51.534313990321095,\n",
       "  '25th Percentile': -1990.7022709578446,\n",
       "  '75th Percentile': -1921.8121294112598},\n",
       " {'Lineup':     id               Name bats   bat  bat_sd  plat  bat_vsRHP  bat_vsLHP  \\\n",
       "  0  BAL    Adley Rutschman    S  22.2       9    10       27.2       17.2   \n",
       "  1  BAL   Ryan Mountcastle    R  10.0      22   -11        4.5       15.5   \n",
       "  2  BAL       Adam Frazier    L  -4.4      13    18        4.6      -13.4   \n",
       "  3  BAL        Ramón Urías    R  -2.0      13    -4       -4.0    -1000.0   \n",
       "  4  BAL   Gunnar Henderson    L  20.9      19    25       33.4        8.4   \n",
       "  5  BAL        Austin Hays    R   1.3       9    -8       -2.7        5.3   \n",
       "  6  BAL     Cedric Mullins    L   3.7      19    18       12.7       -5.3   \n",
       "  7  BAL  Anthony Santander    S  10.5      14     7       14.0        7.0   \n",
       "  8  BAL       Ryan O'Hearn    L   1.2      22    18       10.2       -7.8   \n",
       "  \n",
       "          C      1B      2B      3B      SS      LF      CF      RF  \\\n",
       "  0    12.0    -6.0 -1000.0 -1000.0 -1000.0 -1000.0 -1000.0 -1000.0   \n",
       "  1 -1000.0    -1.0 -1000.0 -1000.0 -1000.0 -1000.0 -1000.0 -1000.0   \n",
       "  2 -1000.0 -1000.0    -9.0 -1000.0 -1000.0     0.0 -1000.0    -6.0   \n",
       "  3 -1000.0     5.0     4.0    12.0    -8.0 -1000.0 -1000.0 -1000.0   \n",
       "  4 -1000.0     5.0     0.0    10.0     5.0 -1000.0 -1000.0 -1000.0   \n",
       "  5 -1000.0 -1000.0 -1000.0 -1000.0 -1000.0     6.0    -4.0     8.0   \n",
       "  6 -1000.0 -1000.0 -1000.0 -1000.0 -1000.0    15.0     8.0    13.0   \n",
       "  7 -1000.0    -4.0 -1000.0 -1000.0 -1000.0    -8.0 -1000.0   -10.0   \n",
       "  8 -1000.0    -3.0 -1000.0 -1000.0 -1000.0    -6.0 -1000.0   -11.0   \n",
       "  \n",
       "       Last Name Position  \n",
       "  0    Rutschman        C  \n",
       "  1  Mountcastle       1B  \n",
       "  2      Frazier       2B  \n",
       "  3        Urías       3B  \n",
       "  4    Henderson       SS  \n",
       "  5         Hays       LF  \n",
       "  6      Mullins       CF  \n",
       "  7    Santander       RF  \n",
       "  8      O'Hearn       DH  ,\n",
       "  'Mean Total RAA': -949.3442163706123,\n",
       "  'Lineup SD': 51.271992877585674,\n",
       "  '25th Percentile': -983.790201006611,\n",
       "  '75th Percentile': -914.3528389487333},\n",
       " {'Lineup':     id               Name bats   bat  bat_sd  plat  bat_vsRHP  bat_vsLHP  \\\n",
       "  0  BAL    Adley Rutschman    S  22.2       9    10       27.2       17.2   \n",
       "  1  BAL       Ryan O'Hearn    L   1.2      22    18       10.2       -7.8   \n",
       "  2  BAL       Adam Frazier    L  -4.4      13    18        4.6      -13.4   \n",
       "  3  BAL        Ramón Urías    R  -2.0      13    -4       -4.0    -1000.0   \n",
       "  4  BAL   Gunnar Henderson    L  20.9      19    25       33.4        8.4   \n",
       "  5  BAL        Austin Hays    R   1.3       9    -8       -2.7        5.3   \n",
       "  6  BAL     Cedric Mullins    L   3.7      19    18       12.7       -5.3   \n",
       "  7  BAL        Aaron Hicks    S  -2.4      19     4       -0.4    -1000.0   \n",
       "  8  BAL  Anthony Santander    S  10.5      14     7       14.0        7.0   \n",
       "  \n",
       "          C      1B      2B      3B      SS      LF      CF      RF  Last Name  \\\n",
       "  0    12.0    -6.0 -1000.0 -1000.0 -1000.0 -1000.0 -1000.0 -1000.0  Rutschman   \n",
       "  1 -1000.0    -3.0 -1000.0 -1000.0 -1000.0    -6.0 -1000.0   -11.0    O'Hearn   \n",
       "  2 -1000.0 -1000.0    -9.0 -1000.0 -1000.0     0.0 -1000.0    -6.0    Frazier   \n",
       "  3 -1000.0     5.0     4.0    12.0    -8.0 -1000.0 -1000.0 -1000.0      Urías   \n",
       "  4 -1000.0     5.0     0.0    10.0     5.0 -1000.0 -1000.0 -1000.0  Henderson   \n",
       "  5 -1000.0 -1000.0 -1000.0 -1000.0 -1000.0     6.0    -4.0     8.0       Hays   \n",
       "  6 -1000.0 -1000.0 -1000.0 -1000.0 -1000.0    15.0     8.0    13.0    Mullins   \n",
       "  7 -1000.0 -1000.0 -1000.0 -1000.0 -1000.0     4.0    -3.0     3.0      Hicks   \n",
       "  8 -1000.0    -4.0 -1000.0 -1000.0 -1000.0    -8.0 -1000.0   -10.0  Santander   \n",
       "  \n",
       "    Position  \n",
       "  0        C  \n",
       "  1       1B  \n",
       "  2       2B  \n",
       "  3       3B  \n",
       "  4       SS  \n",
       "  5       LF  \n",
       "  6       CF  \n",
       "  7       RF  \n",
       "  8       DH  ,\n",
       "  'Mean Total RAA': -1954.5786295568744,\n",
       "  'Lineup SD': 50.507191536937356,\n",
       "  '25th Percentile': -1988.512921155862,\n",
       "  '75th Percentile': -1920.9421660965704},\n",
       " {'Lineup':     id               Name bats   bat  bat_sd  plat  bat_vsRHP  bat_vsLHP  \\\n",
       "  0  BAL    Adley Rutschman    S  22.2       9    10       27.2       17.2   \n",
       "  1  BAL   Ryan Mountcastle    R  10.0      22   -11        4.5       15.5   \n",
       "  2  BAL       Adam Frazier    L  -4.4      13    18        4.6      -13.4   \n",
       "  3  BAL        Ramón Urías    R  -2.0      13    -4       -4.0    -1000.0   \n",
       "  4  BAL   Gunnar Henderson    L  20.9      19    25       33.4        8.4   \n",
       "  5  BAL        Aaron Hicks    S  -2.4      19     4       -0.4    -1000.0   \n",
       "  6  BAL     Cedric Mullins    L   3.7      19    18       12.7       -5.3   \n",
       "  7  BAL       Ryan O'Hearn    L   1.2      22    18       10.2       -7.8   \n",
       "  8  BAL  Anthony Santander    S  10.5      14     7       14.0        7.0   \n",
       "  \n",
       "          C      1B      2B      3B      SS      LF      CF      RF  \\\n",
       "  0    12.0    -6.0 -1000.0 -1000.0 -1000.0 -1000.0 -1000.0 -1000.0   \n",
       "  1 -1000.0    -1.0 -1000.0 -1000.0 -1000.0 -1000.0 -1000.0 -1000.0   \n",
       "  2 -1000.0 -1000.0    -9.0 -1000.0 -1000.0     0.0 -1000.0    -6.0   \n",
       "  3 -1000.0     5.0     4.0    12.0    -8.0 -1000.0 -1000.0 -1000.0   \n",
       "  4 -1000.0     5.0     0.0    10.0     5.0 -1000.0 -1000.0 -1000.0   \n",
       "  5 -1000.0 -1000.0 -1000.0 -1000.0 -1000.0     4.0    -3.0     3.0   \n",
       "  6 -1000.0 -1000.0 -1000.0 -1000.0 -1000.0    15.0     8.0    13.0   \n",
       "  7 -1000.0    -3.0 -1000.0 -1000.0 -1000.0    -6.0 -1000.0   -11.0   \n",
       "  8 -1000.0    -4.0 -1000.0 -1000.0 -1000.0    -8.0 -1000.0   -10.0   \n",
       "  \n",
       "       Last Name Position  \n",
       "  0    Rutschman        C  \n",
       "  1  Mountcastle       1B  \n",
       "  2      Frazier       2B  \n",
       "  3        Urías       3B  \n",
       "  4    Henderson       SS  \n",
       "  5        Hicks       LF  \n",
       "  6      Mullins       CF  \n",
       "  7      O'Hearn       RF  \n",
       "  8    Santander       DH  ,\n",
       "  'Mean Total RAA': -1959.7581592949603,\n",
       "  'Lineup SD': 53.25594939799721,\n",
       "  '25th Percentile': -1996.7381098268265,\n",
       "  '75th Percentile': -1924.0190121432663},\n",
       " {'Lineup':     id               Name bats   bat  bat_sd  plat  bat_vsRHP  bat_vsLHP  \\\n",
       "  0  BAL       James McCann    R  -3.6      13   -10       -8.6        1.4   \n",
       "  1  BAL       Ryan O'Hearn    L   1.2      22    18       10.2       -7.8   \n",
       "  2  BAL       Adam Frazier    L  -4.4      13    18        4.6      -13.4   \n",
       "  3  BAL    Jordan Westburg    R   3.0      14    -7       -0.5        6.5   \n",
       "  4  BAL   Gunnar Henderson    L  20.9      19    25       33.4        8.4   \n",
       "  5  BAL        Austin Hays    R   1.3       9    -8       -2.7        5.3   \n",
       "  6  BAL     Cedric Mullins    L   3.7      19    18       12.7       -5.3   \n",
       "  7  BAL  Anthony Santander    S  10.5      14     7       14.0        7.0   \n",
       "  8  BAL    Adley Rutschman    S  22.2       9    10       27.2       17.2   \n",
       "  \n",
       "          C      1B      2B      3B      SS      LF      CF      RF  Last Name  \\\n",
       "  0    -1.0    -6.0 -1000.0 -1000.0 -1000.0 -1000.0 -1000.0 -1000.0     McCann   \n",
       "  1 -1000.0    -3.0 -1000.0 -1000.0 -1000.0    -6.0 -1000.0   -11.0    O'Hearn   \n",
       "  2 -1000.0 -1000.0    -9.0 -1000.0 -1000.0     0.0 -1000.0    -6.0    Frazier   \n",
       "  3 -1000.0 -1000.0    -2.0     3.0   -10.0 -1000.0 -1000.0 -1000.0   Westburg   \n",
       "  4 -1000.0     5.0     0.0    10.0     5.0 -1000.0 -1000.0 -1000.0  Henderson   \n",
       "  5 -1000.0 -1000.0 -1000.0 -1000.0 -1000.0     6.0    -4.0     8.0       Hays   \n",
       "  6 -1000.0 -1000.0 -1000.0 -1000.0 -1000.0    15.0     8.0    13.0    Mullins   \n",
       "  7 -1000.0    -4.0 -1000.0 -1000.0 -1000.0    -8.0 -1000.0   -10.0  Santander   \n",
       "  8    12.0    -6.0 -1000.0 -1000.0 -1000.0 -1000.0 -1000.0 -1000.0  Rutschman   \n",
       "  \n",
       "    Position  \n",
       "  0        C  \n",
       "  1       1B  \n",
       "  2       2B  \n",
       "  3       3B  \n",
       "  4       SS  \n",
       "  5       LF  \n",
       "  6       CF  \n",
       "  7       RF  \n",
       "  8       DH  ,\n",
       "  'Mean Total RAA': 17.91101824906198,\n",
       "  'Lineup SD': 51.71853953087947,\n",
       "  '25th Percentile': -16.734645929664826,\n",
       "  '75th Percentile': 52.981327746116655},\n",
       " {'Lineup':     id               Name bats   bat  bat_sd  plat  bat_vsRHP  bat_vsLHP  \\\n",
       "  0  BAL    Adley Rutschman    S  22.2       9    10       27.2       17.2   \n",
       "  1  BAL       Ryan O'Hearn    L   1.2      22    18       10.2       -7.8   \n",
       "  2  BAL       Adam Frazier    L  -4.4      13    18        4.6      -13.4   \n",
       "  3  BAL    Jordan Westburg    R   3.0      14    -7       -0.5        6.5   \n",
       "  4  BAL   Gunnar Henderson    L  20.9      19    25       33.4        8.4   \n",
       "  5  BAL        Austin Hays    R   1.3       9    -8       -2.7        5.3   \n",
       "  6  BAL     Cedric Mullins    L   3.7      19    18       12.7       -5.3   \n",
       "  7  BAL        Aaron Hicks    S  -2.4      19     4       -0.4    -1000.0   \n",
       "  8  BAL  Anthony Santander    S  10.5      14     7       14.0        7.0   \n",
       "  \n",
       "          C      1B      2B      3B      SS      LF      CF      RF  Last Name  \\\n",
       "  0    12.0    -6.0 -1000.0 -1000.0 -1000.0 -1000.0 -1000.0 -1000.0  Rutschman   \n",
       "  1 -1000.0    -3.0 -1000.0 -1000.0 -1000.0    -6.0 -1000.0   -11.0    O'Hearn   \n",
       "  2 -1000.0 -1000.0    -9.0 -1000.0 -1000.0     0.0 -1000.0    -6.0    Frazier   \n",
       "  3 -1000.0 -1000.0    -2.0     3.0   -10.0 -1000.0 -1000.0 -1000.0   Westburg   \n",
       "  4 -1000.0     5.0     0.0    10.0     5.0 -1000.0 -1000.0 -1000.0  Henderson   \n",
       "  5 -1000.0 -1000.0 -1000.0 -1000.0 -1000.0     6.0    -4.0     8.0       Hays   \n",
       "  6 -1000.0 -1000.0 -1000.0 -1000.0 -1000.0    15.0     8.0    13.0    Mullins   \n",
       "  7 -1000.0 -1000.0 -1000.0 -1000.0 -1000.0     4.0    -3.0     3.0      Hicks   \n",
       "  8 -1000.0    -4.0 -1000.0 -1000.0 -1000.0    -8.0 -1000.0   -10.0  Santander   \n",
       "  \n",
       "    Position  \n",
       "  0        C  \n",
       "  1       1B  \n",
       "  2       2B  \n",
       "  3       3B  \n",
       "  4       SS  \n",
       "  5       LF  \n",
       "  6       CF  \n",
       "  7       RF  \n",
       "  8       DH  ,\n",
       "  'Mean Total RAA': -956.1546395380581,\n",
       "  'Lineup SD': 51.40605587411303,\n",
       "  '25th Percentile': -991.0981559993993,\n",
       "  '75th Percentile': -921.5149909574715},\n",
       " {'Lineup':     id               Name bats   bat  bat_sd  plat  bat_vsRHP  bat_vsLHP  \\\n",
       "  0  BAL    Adley Rutschman    S  22.2       9    10       27.2       17.2   \n",
       "  1  BAL       Ryan O'Hearn    L   1.2      22    18       10.2       -7.8   \n",
       "  2  BAL       Adam Frazier    L  -4.4      13    18        4.6      -13.4   \n",
       "  3  BAL    Jordan Westburg    R   3.0      14    -7       -0.5        6.5   \n",
       "  4  BAL   Gunnar Henderson    L  20.9      19    25       33.4        8.4   \n",
       "  5  BAL        Aaron Hicks    S  -2.4      19     4       -0.4    -1000.0   \n",
       "  6  BAL     Cedric Mullins    L   3.7      19    18       12.7       -5.3   \n",
       "  7  BAL  Anthony Santander    S  10.5      14     7       14.0        7.0   \n",
       "  8  BAL    Heston Kjerstad    L   1.7      19    15        9.2       -5.8   \n",
       "  \n",
       "          C      1B      2B      3B      SS      LF      CF      RF  Last Name  \\\n",
       "  0    12.0    -6.0 -1000.0 -1000.0 -1000.0 -1000.0 -1000.0 -1000.0  Rutschman   \n",
       "  1 -1000.0    -3.0 -1000.0 -1000.0 -1000.0    -6.0 -1000.0   -11.0    O'Hearn   \n",
       "  2 -1000.0 -1000.0    -9.0 -1000.0 -1000.0     0.0 -1000.0    -6.0    Frazier   \n",
       "  3 -1000.0 -1000.0    -2.0     3.0   -10.0 -1000.0 -1000.0 -1000.0   Westburg   \n",
       "  4 -1000.0     5.0     0.0    10.0     5.0 -1000.0 -1000.0 -1000.0  Henderson   \n",
       "  5 -1000.0 -1000.0 -1000.0 -1000.0 -1000.0     4.0    -3.0     3.0      Hicks   \n",
       "  6 -1000.0 -1000.0 -1000.0 -1000.0 -1000.0    15.0     8.0    13.0    Mullins   \n",
       "  7 -1000.0    -4.0 -1000.0 -1000.0 -1000.0    -8.0 -1000.0   -10.0  Santander   \n",
       "  8 -1000.0    -7.0 -1000.0 -1000.0 -1000.0   -10.0 -1000.0    -8.0   Kjerstad   \n",
       "  \n",
       "    Position  \n",
       "  0        C  \n",
       "  1       1B  \n",
       "  2       2B  \n",
       "  3       3B  \n",
       "  4       SS  \n",
       "  5       LF  \n",
       "  6       CF  \n",
       "  7       RF  \n",
       "  8       DH  ,\n",
       "  'Mean Total RAA': -984.2356843847246,\n",
       "  'Lineup SD': 51.0237895187721,\n",
       "  '25th Percentile': -1018.3972034199701,\n",
       "  '75th Percentile': -950.1046809644622},\n",
       " {'Lineup':     id               Name bats   bat  bat_sd  plat  bat_vsRHP  bat_vsLHP  \\\n",
       "  0  BAL    Adley Rutschman    S  22.2       9    10       27.2       17.2   \n",
       "  1  BAL       Ryan O'Hearn    L   1.2      22    18       10.2       -7.8   \n",
       "  2  BAL       Adam Frazier    L  -4.4      13    18        4.6      -13.4   \n",
       "  3  BAL        Ramón Urías    R  -2.0      13    -4       -4.0    -1000.0   \n",
       "  4  BAL   Gunnar Henderson    L  20.9      19    25       33.4        8.4   \n",
       "  5  BAL        Austin Hays    R   1.3       9    -8       -2.7        5.3   \n",
       "  6  BAL     Cedric Mullins    L   3.7      19    18       12.7       -5.3   \n",
       "  7  BAL        Aaron Hicks    S  -2.4      19     4       -0.4    -1000.0   \n",
       "  8  BAL  Anthony Santander    S  10.5      14     7       14.0        7.0   \n",
       "  \n",
       "          C      1B      2B      3B      SS      LF      CF      RF  Last Name  \\\n",
       "  0    12.0    -6.0 -1000.0 -1000.0 -1000.0 -1000.0 -1000.0 -1000.0  Rutschman   \n",
       "  1 -1000.0    -3.0 -1000.0 -1000.0 -1000.0    -6.0 -1000.0   -11.0    O'Hearn   \n",
       "  2 -1000.0 -1000.0    -9.0 -1000.0 -1000.0     0.0 -1000.0    -6.0    Frazier   \n",
       "  3 -1000.0     5.0     4.0    12.0    -8.0 -1000.0 -1000.0 -1000.0      Urías   \n",
       "  4 -1000.0     5.0     0.0    10.0     5.0 -1000.0 -1000.0 -1000.0  Henderson   \n",
       "  5 -1000.0 -1000.0 -1000.0 -1000.0 -1000.0     6.0    -4.0     8.0       Hays   \n",
       "  6 -1000.0 -1000.0 -1000.0 -1000.0 -1000.0    15.0     8.0    13.0    Mullins   \n",
       "  7 -1000.0 -1000.0 -1000.0 -1000.0 -1000.0     4.0    -3.0     3.0      Hicks   \n",
       "  8 -1000.0    -4.0 -1000.0 -1000.0 -1000.0    -8.0 -1000.0   -10.0  Santander   \n",
       "  \n",
       "    Position  \n",
       "  0        C  \n",
       "  1       1B  \n",
       "  2       2B  \n",
       "  3       3B  \n",
       "  4       SS  \n",
       "  5       LF  \n",
       "  6       CF  \n",
       "  7       RF  \n",
       "  8       DH  ,\n",
       "  'Mean Total RAA': -1952.7693146449094,\n",
       "  'Lineup SD': 51.399235545596795,\n",
       "  '25th Percentile': -1985.4814263390986,\n",
       "  '75th Percentile': -1918.4863688535233},\n",
       " {'Lineup':     id               Name bats   bat  bat_sd  plat  bat_vsRHP  bat_vsLHP  \\\n",
       "  0  BAL       James McCann    R  -3.6      13   -10       -8.6        1.4   \n",
       "  1  BAL       Ryan O'Hearn    L   1.2      22    18       10.2       -7.8   \n",
       "  2  BAL       Adam Frazier    L  -4.4      13    18        4.6      -13.4   \n",
       "  3  BAL        Ramón Urías    R  -2.0      13    -4       -4.0    -1000.0   \n",
       "  4  BAL   Gunnar Henderson    L  20.9      19    25       33.4        8.4   \n",
       "  5  BAL        Austin Hays    R   1.3       9    -8       -2.7        5.3   \n",
       "  6  BAL     Cedric Mullins    L   3.7      19    18       12.7       -5.3   \n",
       "  7  BAL  Anthony Santander    S  10.5      14     7       14.0        7.0   \n",
       "  8  BAL    Adley Rutschman    S  22.2       9    10       27.2       17.2   \n",
       "  \n",
       "          C      1B      2B      3B      SS      LF      CF      RF  Last Name  \\\n",
       "  0    -1.0    -6.0 -1000.0 -1000.0 -1000.0 -1000.0 -1000.0 -1000.0     McCann   \n",
       "  1 -1000.0    -3.0 -1000.0 -1000.0 -1000.0    -6.0 -1000.0   -11.0    O'Hearn   \n",
       "  2 -1000.0 -1000.0    -9.0 -1000.0 -1000.0     0.0 -1000.0    -6.0    Frazier   \n",
       "  3 -1000.0     5.0     4.0    12.0    -8.0 -1000.0 -1000.0 -1000.0      Urías   \n",
       "  4 -1000.0     5.0     0.0    10.0     5.0 -1000.0 -1000.0 -1000.0  Henderson   \n",
       "  5 -1000.0 -1000.0 -1000.0 -1000.0 -1000.0     6.0    -4.0     8.0       Hays   \n",
       "  6 -1000.0 -1000.0 -1000.0 -1000.0 -1000.0    15.0     8.0    13.0    Mullins   \n",
       "  7 -1000.0    -4.0 -1000.0 -1000.0 -1000.0    -8.0 -1000.0   -10.0  Santander   \n",
       "  8    12.0    -6.0 -1000.0 -1000.0 -1000.0 -1000.0 -1000.0 -1000.0  Rutschman   \n",
       "  \n",
       "    Position  \n",
       "  0        C  \n",
       "  1       1B  \n",
       "  2       2B  \n",
       "  3       3B  \n",
       "  4       SS  \n",
       "  5       LF  \n",
       "  6       CF  \n",
       "  7       RF  \n",
       "  8       DH  ,\n",
       "  'Mean Total RAA': -979.4009477231887,\n",
       "  'Lineup SD': 51.91769781265533,\n",
       "  '25th Percentile': -1013.4005997090588,\n",
       "  '75th Percentile': -943.3487004781293},\n",
       " {'Lineup':     id              Name bats   bat  bat_sd  plat  bat_vsRHP  bat_vsLHP  \\\n",
       "  0  BAL   Adley Rutschman    S  22.2       9    10       27.2       17.2   \n",
       "  1  BAL      Ryan O'Hearn    L   1.2      22    18       10.2       -7.8   \n",
       "  2  BAL   Jordan Westburg    R   3.0      14    -7       -0.5        6.5   \n",
       "  3  BAL  Gunnar Henderson    L  20.9      19    25       33.4        8.4   \n",
       "  4  BAL       Jorge Mateo    R  -1.8      20    -8       -5.8    -1000.0   \n",
       "  5  BAL       Austin Hays    R   1.3       9    -8       -2.7        5.3   \n",
       "  6  BAL    Cedric Mullins    L   3.7      19    18       12.7       -5.3   \n",
       "  7  BAL       Aaron Hicks    S  -2.4      19     4       -0.4    -1000.0   \n",
       "  8  BAL   Heston Kjerstad    L   1.7      19    15        9.2       -5.8   \n",
       "  \n",
       "          C      1B      2B      3B      SS      LF      CF      RF  Last Name  \\\n",
       "  0    12.0    -6.0 -1000.0 -1000.0 -1000.0 -1000.0 -1000.0 -1000.0  Rutschman   \n",
       "  1 -1000.0    -3.0 -1000.0 -1000.0 -1000.0    -6.0 -1000.0   -11.0    O'Hearn   \n",
       "  2 -1000.0 -1000.0    -2.0     3.0   -10.0 -1000.0 -1000.0 -1000.0   Westburg   \n",
       "  3 -1000.0     5.0     0.0    10.0     5.0 -1000.0 -1000.0 -1000.0  Henderson   \n",
       "  4 -1000.0 -1000.0     9.0     4.0    13.0     2.0    -3.0     0.0      Mateo   \n",
       "  5 -1000.0 -1000.0 -1000.0 -1000.0 -1000.0     6.0    -4.0     8.0       Hays   \n",
       "  6 -1000.0 -1000.0 -1000.0 -1000.0 -1000.0    15.0     8.0    13.0    Mullins   \n",
       "  7 -1000.0 -1000.0 -1000.0 -1000.0 -1000.0     4.0    -3.0     3.0      Hicks   \n",
       "  8 -1000.0    -7.0 -1000.0 -1000.0 -1000.0   -10.0 -1000.0    -8.0   Kjerstad   \n",
       "  \n",
       "    Position  \n",
       "  0        C  \n",
       "  1       1B  \n",
       "  2       2B  \n",
       "  3       3B  \n",
       "  4       SS  \n",
       "  5       LF  \n",
       "  6       CF  \n",
       "  7       RF  \n",
       "  8       DH  ,\n",
       "  'Mean Total RAA': -1932.274667064346,\n",
       "  'Lineup SD': 51.96529035268628,\n",
       "  '25th Percentile': -1968.7310481115105,\n",
       "  '75th Percentile': -1895.8999660692625},\n",
       " {'Lineup':     id               Name bats   bat  bat_sd  plat  bat_vsRHP  bat_vsLHP  \\\n",
       "  0  BAL       James McCann    R  -3.6      13   -10       -8.6        1.4   \n",
       "  1  BAL       Ryan O'Hearn    L   1.2      22    18       10.2       -7.8   \n",
       "  2  BAL       Adam Frazier    L  -4.4      13    18        4.6      -13.4   \n",
       "  3  BAL   Gunnar Henderson    L  20.9      19    25       33.4        8.4   \n",
       "  4  BAL        Jorge Mateo    R  -1.8      20    -8       -5.8    -1000.0   \n",
       "  5  BAL        Austin Hays    R   1.3       9    -8       -2.7        5.3   \n",
       "  6  BAL     Cedric Mullins    L   3.7      19    18       12.7       -5.3   \n",
       "  7  BAL  Anthony Santander    S  10.5      14     7       14.0        7.0   \n",
       "  8  BAL    Heston Kjerstad    L   1.7      19    15        9.2       -5.8   \n",
       "  \n",
       "          C      1B      2B      3B      SS      LF      CF      RF  Last Name  \\\n",
       "  0    -1.0    -6.0 -1000.0 -1000.0 -1000.0 -1000.0 -1000.0 -1000.0     McCann   \n",
       "  1 -1000.0    -3.0 -1000.0 -1000.0 -1000.0    -6.0 -1000.0   -11.0    O'Hearn   \n",
       "  2 -1000.0 -1000.0    -9.0 -1000.0 -1000.0     0.0 -1000.0    -6.0    Frazier   \n",
       "  3 -1000.0     5.0     0.0    10.0     5.0 -1000.0 -1000.0 -1000.0  Henderson   \n",
       "  4 -1000.0 -1000.0     9.0     4.0    13.0     2.0    -3.0     0.0      Mateo   \n",
       "  5 -1000.0 -1000.0 -1000.0 -1000.0 -1000.0     6.0    -4.0     8.0       Hays   \n",
       "  6 -1000.0 -1000.0 -1000.0 -1000.0 -1000.0    15.0     8.0    13.0    Mullins   \n",
       "  7 -1000.0    -4.0 -1000.0 -1000.0 -1000.0    -8.0 -1000.0   -10.0  Santander   \n",
       "  8 -1000.0    -7.0 -1000.0 -1000.0 -1000.0   -10.0 -1000.0    -8.0   Kjerstad   \n",
       "  \n",
       "    Position  \n",
       "  0        C  \n",
       "  1       1B  \n",
       "  2       2B  \n",
       "  3       3B  \n",
       "  4       SS  \n",
       "  5       LF  \n",
       "  6       CF  \n",
       "  7       RF  \n",
       "  8       DH  ,\n",
       "  'Mean Total RAA': -996.6794152057893,\n",
       "  'Lineup SD': 51.58011272430008,\n",
       "  '25th Percentile': -1031.6896895392583,\n",
       "  '75th Percentile': -963.2046608046869},\n",
       " {'Lineup':     id               Name bats   bat  bat_sd  plat  bat_vsRHP  bat_vsLHP  \\\n",
       "  0  BAL    Adley Rutschman    S  22.2       9    10       27.2       17.2   \n",
       "  1  BAL       Ryan O'Hearn    L   1.2      22    18       10.2       -7.8   \n",
       "  2  BAL       Adam Frazier    L  -4.4      13    18        4.6      -13.4   \n",
       "  3  BAL        Ramón Urías    R  -2.0      13    -4       -4.0    -1000.0   \n",
       "  4  BAL   Gunnar Henderson    L  20.9      19    25       33.4        8.4   \n",
       "  5  BAL        Austin Hays    R   1.3       9    -8       -2.7        5.3   \n",
       "  6  BAL     Cedric Mullins    L   3.7      19    18       12.7       -5.3   \n",
       "  7  BAL  Anthony Santander    S  10.5      14     7       14.0        7.0   \n",
       "  8  BAL    Heston Kjerstad    L   1.7      19    15        9.2       -5.8   \n",
       "  \n",
       "          C      1B      2B      3B      SS      LF      CF      RF  Last Name  \\\n",
       "  0    12.0    -6.0 -1000.0 -1000.0 -1000.0 -1000.0 -1000.0 -1000.0  Rutschman   \n",
       "  1 -1000.0    -3.0 -1000.0 -1000.0 -1000.0    -6.0 -1000.0   -11.0    O'Hearn   \n",
       "  2 -1000.0 -1000.0    -9.0 -1000.0 -1000.0     0.0 -1000.0    -6.0    Frazier   \n",
       "  3 -1000.0     5.0     4.0    12.0    -8.0 -1000.0 -1000.0 -1000.0      Urías   \n",
       "  4 -1000.0     5.0     0.0    10.0     5.0 -1000.0 -1000.0 -1000.0  Henderson   \n",
       "  5 -1000.0 -1000.0 -1000.0 -1000.0 -1000.0     6.0    -4.0     8.0       Hays   \n",
       "  6 -1000.0 -1000.0 -1000.0 -1000.0 -1000.0    15.0     8.0    13.0    Mullins   \n",
       "  7 -1000.0    -4.0 -1000.0 -1000.0 -1000.0    -8.0 -1000.0   -10.0  Santander   \n",
       "  8 -1000.0    -7.0 -1000.0 -1000.0 -1000.0   -10.0 -1000.0    -8.0   Kjerstad   \n",
       "  \n",
       "    Position  \n",
       "  0        C  \n",
       "  1       1B  \n",
       "  2       2B  \n",
       "  3       3B  \n",
       "  4       SS  \n",
       "  5       LF  \n",
       "  6       CF  \n",
       "  7       RF  \n",
       "  8       DH  ,\n",
       "  'Mean Total RAA': -973.3595416479563,\n",
       "  'Lineup SD': 50.259665156729824,\n",
       "  '25th Percentile': -1008.9806478312051,\n",
       "  '75th Percentile': -940.1697323660172},\n",
       " {'Lineup':     id               Name bats   bat  bat_sd  plat  bat_vsRHP  bat_vsLHP  \\\n",
       "  0  BAL    Adley Rutschman    S  22.2       9    10       27.2       17.2   \n",
       "  1  BAL       Ryan O'Hearn    L   1.2      22    18       10.2       -7.8   \n",
       "  2  BAL       Adam Frazier    L  -4.4      13    18        4.6      -13.4   \n",
       "  3  BAL    Jordan Westburg    R   3.0      14    -7       -0.5        6.5   \n",
       "  4  BAL   Gunnar Henderson    L  20.9      19    25       33.4        8.4   \n",
       "  5  BAL        Austin Hays    R   1.3       9    -8       -2.7        5.3   \n",
       "  6  BAL     Cedric Mullins    L   3.7      19    18       12.7       -5.3   \n",
       "  7  BAL        Aaron Hicks    S  -2.4      19     4       -0.4    -1000.0   \n",
       "  8  BAL  Anthony Santander    S  10.5      14     7       14.0        7.0   \n",
       "  \n",
       "          C      1B      2B      3B      SS      LF      CF      RF  Last Name  \\\n",
       "  0    12.0    -6.0 -1000.0 -1000.0 -1000.0 -1000.0 -1000.0 -1000.0  Rutschman   \n",
       "  1 -1000.0    -3.0 -1000.0 -1000.0 -1000.0    -6.0 -1000.0   -11.0    O'Hearn   \n",
       "  2 -1000.0 -1000.0    -9.0 -1000.0 -1000.0     0.0 -1000.0    -6.0    Frazier   \n",
       "  3 -1000.0 -1000.0    -2.0     3.0   -10.0 -1000.0 -1000.0 -1000.0   Westburg   \n",
       "  4 -1000.0     5.0     0.0    10.0     5.0 -1000.0 -1000.0 -1000.0  Henderson   \n",
       "  5 -1000.0 -1000.0 -1000.0 -1000.0 -1000.0     6.0    -4.0     8.0       Hays   \n",
       "  6 -1000.0 -1000.0 -1000.0 -1000.0 -1000.0    15.0     8.0    13.0    Mullins   \n",
       "  7 -1000.0 -1000.0 -1000.0 -1000.0 -1000.0     4.0    -3.0     3.0      Hicks   \n",
       "  8 -1000.0    -4.0 -1000.0 -1000.0 -1000.0    -8.0 -1000.0   -10.0  Santander   \n",
       "  \n",
       "    Position  \n",
       "  0        C  \n",
       "  1       1B  \n",
       "  2       2B  \n",
       "  3       3B  \n",
       "  4       SS  \n",
       "  5       LF  \n",
       "  6       CF  \n",
       "  7       RF  \n",
       "  8       DH  ,\n",
       "  'Mean Total RAA': -955.9178487423115,\n",
       "  'Lineup SD': 51.68653859571667,\n",
       "  '25th Percentile': -989.7170516347746,\n",
       "  '75th Percentile': -920.0184857575395},\n",
       " {'Lineup':     id               Name bats   bat  bat_sd  plat  bat_vsRHP  bat_vsLHP  \\\n",
       "  0  BAL    Adley Rutschman    S  22.2       9    10       27.2       17.2   \n",
       "  1  BAL       Ryan O'Hearn    L   1.2      22    18       10.2       -7.8   \n",
       "  2  BAL    Jordan Westburg    R   3.0      14    -7       -0.5        6.5   \n",
       "  3  BAL        Ramón Urías    R  -2.0      13    -4       -4.0    -1000.0   \n",
       "  4  BAL   Gunnar Henderson    L  20.9      19    25       33.4        8.4   \n",
       "  5  BAL        Austin Hays    R   1.3       9    -8       -2.7        5.3   \n",
       "  6  BAL        Aaron Hicks    S  -2.4      19     4       -0.4    -1000.0   \n",
       "  7  BAL  Anthony Santander    S  10.5      14     7       14.0        7.0   \n",
       "  8  BAL    Heston Kjerstad    L   1.7      19    15        9.2       -5.8   \n",
       "  \n",
       "          C      1B      2B      3B      SS      LF      CF      RF  Last Name  \\\n",
       "  0    12.0    -6.0 -1000.0 -1000.0 -1000.0 -1000.0 -1000.0 -1000.0  Rutschman   \n",
       "  1 -1000.0    -3.0 -1000.0 -1000.0 -1000.0    -6.0 -1000.0   -11.0    O'Hearn   \n",
       "  2 -1000.0 -1000.0    -2.0     3.0   -10.0 -1000.0 -1000.0 -1000.0   Westburg   \n",
       "  3 -1000.0     5.0     4.0    12.0    -8.0 -1000.0 -1000.0 -1000.0      Urías   \n",
       "  4 -1000.0     5.0     0.0    10.0     5.0 -1000.0 -1000.0 -1000.0  Henderson   \n",
       "  5 -1000.0 -1000.0 -1000.0 -1000.0 -1000.0     6.0    -4.0     8.0       Hays   \n",
       "  6 -1000.0 -1000.0 -1000.0 -1000.0 -1000.0     4.0    -3.0     3.0      Hicks   \n",
       "  7 -1000.0    -4.0 -1000.0 -1000.0 -1000.0    -8.0 -1000.0   -10.0  Santander   \n",
       "  8 -1000.0    -7.0 -1000.0 -1000.0 -1000.0   -10.0 -1000.0    -8.0   Kjerstad   \n",
       "  \n",
       "    Position  \n",
       "  0        C  \n",
       "  1       1B  \n",
       "  2       2B  \n",
       "  3       3B  \n",
       "  4       SS  \n",
       "  5       LF  \n",
       "  6       CF  \n",
       "  7       RF  \n",
       "  8       DH  ,\n",
       "  'Mean Total RAA': -1953.9802203356578,\n",
       "  'Lineup SD': 50.861397851876696,\n",
       "  '25th Percentile': -1988.4627979990862,\n",
       "  '75th Percentile': -1918.3625441154322},\n",
       " {'Lineup':     id               Name bats   bat  bat_sd  plat  bat_vsRHP  bat_vsLHP  \\\n",
       "  0  BAL       James McCann    R  -3.6      13   -10       -8.6        1.4   \n",
       "  1  BAL       Ryan O'Hearn    L   1.2      22    18       10.2       -7.8   \n",
       "  2  BAL       Adam Frazier    L  -4.4      13    18        4.6      -13.4   \n",
       "  3  BAL        Ramón Urías    R  -2.0      13    -4       -4.0    -1000.0   \n",
       "  4  BAL   Gunnar Henderson    L  20.9      19    25       33.4        8.4   \n",
       "  5  BAL        Aaron Hicks    S  -2.4      19     4       -0.4    -1000.0   \n",
       "  6  BAL     Cedric Mullins    L   3.7      19    18       12.7       -5.3   \n",
       "  7  BAL  Anthony Santander    S  10.5      14     7       14.0        7.0   \n",
       "  8  BAL    Adley Rutschman    S  22.2       9    10       27.2       17.2   \n",
       "  \n",
       "          C      1B      2B      3B      SS      LF      CF      RF  Last Name  \\\n",
       "  0    -1.0    -6.0 -1000.0 -1000.0 -1000.0 -1000.0 -1000.0 -1000.0     McCann   \n",
       "  1 -1000.0    -3.0 -1000.0 -1000.0 -1000.0    -6.0 -1000.0   -11.0    O'Hearn   \n",
       "  2 -1000.0 -1000.0    -9.0 -1000.0 -1000.0     0.0 -1000.0    -6.0    Frazier   \n",
       "  3 -1000.0     5.0     4.0    12.0    -8.0 -1000.0 -1000.0 -1000.0      Urías   \n",
       "  4 -1000.0     5.0     0.0    10.0     5.0 -1000.0 -1000.0 -1000.0  Henderson   \n",
       "  5 -1000.0 -1000.0 -1000.0 -1000.0 -1000.0     4.0    -3.0     3.0      Hicks   \n",
       "  6 -1000.0 -1000.0 -1000.0 -1000.0 -1000.0    15.0     8.0    13.0    Mullins   \n",
       "  7 -1000.0    -4.0 -1000.0 -1000.0 -1000.0    -8.0 -1000.0   -10.0  Santander   \n",
       "  8    12.0    -6.0 -1000.0 -1000.0 -1000.0 -1000.0 -1000.0 -1000.0  Rutschman   \n",
       "  \n",
       "    Position  \n",
       "  0        C  \n",
       "  1       1B  \n",
       "  2       2B  \n",
       "  3       3B  \n",
       "  4       SS  \n",
       "  5       LF  \n",
       "  6       CF  \n",
       "  7       RF  \n",
       "  8       DH  ,\n",
       "  'Mean Total RAA': -1987.7157130779146,\n",
       "  'Lineup SD': 51.570785229656444,\n",
       "  '25th Percentile': -2022.223764000362,\n",
       "  '75th Percentile': -1953.0017692901922},\n",
       " {'Lineup':     id               Name bats   bat  bat_sd  plat  bat_vsRHP  bat_vsLHP  \\\n",
       "  0  BAL    Adley Rutschman    S  22.2       9    10       27.2       17.2   \n",
       "  1  BAL       Ryan O'Hearn    L   1.2      22    18       10.2       -7.8   \n",
       "  2  BAL    Jordan Westburg    R   3.0      14    -7       -0.5        6.5   \n",
       "  3  BAL   Gunnar Henderson    L  20.9      19    25       33.4        8.4   \n",
       "  4  BAL        Jorge Mateo    R  -1.8      20    -8       -5.8    -1000.0   \n",
       "  5  BAL        Austin Hays    R   1.3       9    -8       -2.7        5.3   \n",
       "  6  BAL     Cedric Mullins    L   3.7      19    18       12.7       -5.3   \n",
       "  7  BAL  Anthony Santander    S  10.5      14     7       14.0        7.0   \n",
       "  8  BAL    Heston Kjerstad    L   1.7      19    15        9.2       -5.8   \n",
       "  \n",
       "          C      1B      2B      3B      SS      LF      CF      RF  Last Name  \\\n",
       "  0    12.0    -6.0 -1000.0 -1000.0 -1000.0 -1000.0 -1000.0 -1000.0  Rutschman   \n",
       "  1 -1000.0    -3.0 -1000.0 -1000.0 -1000.0    -6.0 -1000.0   -11.0    O'Hearn   \n",
       "  2 -1000.0 -1000.0    -2.0     3.0   -10.0 -1000.0 -1000.0 -1000.0   Westburg   \n",
       "  3 -1000.0     5.0     0.0    10.0     5.0 -1000.0 -1000.0 -1000.0  Henderson   \n",
       "  4 -1000.0 -1000.0     9.0     4.0    13.0     2.0    -3.0     0.0      Mateo   \n",
       "  5 -1000.0 -1000.0 -1000.0 -1000.0 -1000.0     6.0    -4.0     8.0       Hays   \n",
       "  6 -1000.0 -1000.0 -1000.0 -1000.0 -1000.0    15.0     8.0    13.0    Mullins   \n",
       "  7 -1000.0    -4.0 -1000.0 -1000.0 -1000.0    -8.0 -1000.0   -10.0  Santander   \n",
       "  8 -1000.0    -7.0 -1000.0 -1000.0 -1000.0   -10.0 -1000.0    -8.0   Kjerstad   \n",
       "  \n",
       "    Position  \n",
       "  0        C  \n",
       "  1       1B  \n",
       "  2       2B  \n",
       "  3       3B  \n",
       "  4       SS  \n",
       "  5       LF  \n",
       "  6       CF  \n",
       "  7       RF  \n",
       "  8       DH  ,\n",
       "  'Mean Total RAA': -943.3245144264554,\n",
       "  'Lineup SD': 52.853726667800565,\n",
       "  '25th Percentile': -979.0073442042722,\n",
       "  '75th Percentile': -907.5330854254961},\n",
       " {'Lineup':     id               Name bats   bat  bat_sd  plat  bat_vsRHP  bat_vsLHP  \\\n",
       "  0  BAL    Adley Rutschman    S  22.2       9    10       27.2       17.2   \n",
       "  1  BAL       Ryan O'Hearn    L   1.2      22    18       10.2       -7.8   \n",
       "  2  BAL       Adam Frazier    L  -4.4      13    18        4.6      -13.4   \n",
       "  3  BAL        Ramón Urías    R  -2.0      13    -4       -4.0    -1000.0   \n",
       "  4  BAL   Gunnar Henderson    L  20.9      19    25       33.4        8.4   \n",
       "  5  BAL        Austin Hays    R   1.3       9    -8       -2.7        5.3   \n",
       "  6  BAL     Cedric Mullins    L   3.7      19    18       12.7       -5.3   \n",
       "  7  BAL        Aaron Hicks    S  -2.4      19     4       -0.4    -1000.0   \n",
       "  8  BAL  Anthony Santander    S  10.5      14     7       14.0        7.0   \n",
       "  \n",
       "          C      1B      2B      3B      SS      LF      CF      RF  Last Name  \\\n",
       "  0    12.0    -6.0 -1000.0 -1000.0 -1000.0 -1000.0 -1000.0 -1000.0  Rutschman   \n",
       "  1 -1000.0    -3.0 -1000.0 -1000.0 -1000.0    -6.0 -1000.0   -11.0    O'Hearn   \n",
       "  2 -1000.0 -1000.0    -9.0 -1000.0 -1000.0     0.0 -1000.0    -6.0    Frazier   \n",
       "  3 -1000.0     5.0     4.0    12.0    -8.0 -1000.0 -1000.0 -1000.0      Urías   \n",
       "  4 -1000.0     5.0     0.0    10.0     5.0 -1000.0 -1000.0 -1000.0  Henderson   \n",
       "  5 -1000.0 -1000.0 -1000.0 -1000.0 -1000.0     6.0    -4.0     8.0       Hays   \n",
       "  6 -1000.0 -1000.0 -1000.0 -1000.0 -1000.0    15.0     8.0    13.0    Mullins   \n",
       "  7 -1000.0 -1000.0 -1000.0 -1000.0 -1000.0     4.0    -3.0     3.0      Hicks   \n",
       "  8 -1000.0    -4.0 -1000.0 -1000.0 -1000.0    -8.0 -1000.0   -10.0  Santander   \n",
       "  \n",
       "    Position  \n",
       "  0        C  \n",
       "  1       1B  \n",
       "  2       2B  \n",
       "  3       3B  \n",
       "  4       SS  \n",
       "  5       LF  \n",
       "  6       CF  \n",
       "  7       RF  \n",
       "  8       DH  ,\n",
       "  'Mean Total RAA': -1956.8437639176027,\n",
       "  'Lineup SD': 51.46227867241805,\n",
       "  '25th Percentile': -1991.6016771676686,\n",
       "  '75th Percentile': -1923.2688695632005},\n",
       " {'Lineup':     id              Name bats   bat  bat_sd  plat  bat_vsRHP  bat_vsLHP  \\\n",
       "  0  BAL      James McCann    R  -3.6      13   -10       -8.6        1.4   \n",
       "  1  BAL  Ryan Mountcastle    R  10.0      22   -11        4.5       15.5   \n",
       "  2  BAL      Adam Frazier    L  -4.4      13    18        4.6      -13.4   \n",
       "  3  BAL   Jordan Westburg    R   3.0      14    -7       -0.5        6.5   \n",
       "  4  BAL       Jorge Mateo    R  -1.8      20    -8       -5.8    -1000.0   \n",
       "  5  BAL       Austin Hays    R   1.3       9    -8       -2.7        5.3   \n",
       "  6  BAL    Cedric Mullins    L   3.7      19    18       12.7       -5.3   \n",
       "  7  BAL   Heston Kjerstad    L   1.7      19    15        9.2       -5.8   \n",
       "  8  BAL      Ryan O'Hearn    L   1.2      22    18       10.2       -7.8   \n",
       "  \n",
       "          C      1B      2B      3B      SS      LF      CF      RF  \\\n",
       "  0    -1.0    -6.0 -1000.0 -1000.0 -1000.0 -1000.0 -1000.0 -1000.0   \n",
       "  1 -1000.0    -1.0 -1000.0 -1000.0 -1000.0 -1000.0 -1000.0 -1000.0   \n",
       "  2 -1000.0 -1000.0    -9.0 -1000.0 -1000.0     0.0 -1000.0    -6.0   \n",
       "  3 -1000.0 -1000.0    -2.0     3.0   -10.0 -1000.0 -1000.0 -1000.0   \n",
       "  4 -1000.0 -1000.0     9.0     4.0    13.0     2.0    -3.0     0.0   \n",
       "  5 -1000.0 -1000.0 -1000.0 -1000.0 -1000.0     6.0    -4.0     8.0   \n",
       "  6 -1000.0 -1000.0 -1000.0 -1000.0 -1000.0    15.0     8.0    13.0   \n",
       "  7 -1000.0    -7.0 -1000.0 -1000.0 -1000.0   -10.0 -1000.0    -8.0   \n",
       "  8 -1000.0    -3.0 -1000.0 -1000.0 -1000.0    -6.0 -1000.0   -11.0   \n",
       "  \n",
       "       Last Name Position  \n",
       "  0       McCann        C  \n",
       "  1  Mountcastle       1B  \n",
       "  2      Frazier       2B  \n",
       "  3     Westburg       3B  \n",
       "  4        Mateo       SS  \n",
       "  5         Hays       LF  \n",
       "  6      Mullins       CF  \n",
       "  7     Kjerstad       RF  \n",
       "  8      O'Hearn       DH  ,\n",
       "  'Mean Total RAA': -992.7289515583564,\n",
       "  'Lineup SD': 51.37607285063339,\n",
       "  '25th Percentile': -1026.005342110827,\n",
       "  '75th Percentile': -957.8938475208317},\n",
       " {'Lineup':     id               Name bats   bat  bat_sd  plat  bat_vsRHP  bat_vsLHP  \\\n",
       "  0  BAL    Adley Rutschman    S  22.2       9    10       27.2       17.2   \n",
       "  1  BAL   Ryan Mountcastle    R  10.0      22   -11        4.5       15.5   \n",
       "  2  BAL       Adam Frazier    L  -4.4      13    18        4.6      -13.4   \n",
       "  3  BAL        Ramón Urías    R  -2.0      13    -4       -4.0    -1000.0   \n",
       "  4  BAL   Gunnar Henderson    L  20.9      19    25       33.4        8.4   \n",
       "  5  BAL        Aaron Hicks    S  -2.4      19     4       -0.4    -1000.0   \n",
       "  6  BAL     Cedric Mullins    L   3.7      19    18       12.7       -5.3   \n",
       "  7  BAL       Ryan O'Hearn    L   1.2      22    18       10.2       -7.8   \n",
       "  8  BAL  Anthony Santander    S  10.5      14     7       14.0        7.0   \n",
       "  \n",
       "          C      1B      2B      3B      SS      LF      CF      RF  \\\n",
       "  0    12.0    -6.0 -1000.0 -1000.0 -1000.0 -1000.0 -1000.0 -1000.0   \n",
       "  1 -1000.0    -1.0 -1000.0 -1000.0 -1000.0 -1000.0 -1000.0 -1000.0   \n",
       "  2 -1000.0 -1000.0    -9.0 -1000.0 -1000.0     0.0 -1000.0    -6.0   \n",
       "  3 -1000.0     5.0     4.0    12.0    -8.0 -1000.0 -1000.0 -1000.0   \n",
       "  4 -1000.0     5.0     0.0    10.0     5.0 -1000.0 -1000.0 -1000.0   \n",
       "  5 -1000.0 -1000.0 -1000.0 -1000.0 -1000.0     4.0    -3.0     3.0   \n",
       "  6 -1000.0 -1000.0 -1000.0 -1000.0 -1000.0    15.0     8.0    13.0   \n",
       "  7 -1000.0    -3.0 -1000.0 -1000.0 -1000.0    -6.0 -1000.0   -11.0   \n",
       "  8 -1000.0    -4.0 -1000.0 -1000.0 -1000.0    -8.0 -1000.0   -10.0   \n",
       "  \n",
       "       Last Name Position  \n",
       "  0    Rutschman        C  \n",
       "  1  Mountcastle       1B  \n",
       "  2      Frazier       2B  \n",
       "  3        Urías       3B  \n",
       "  4    Henderson       SS  \n",
       "  5        Hicks       LF  \n",
       "  6      Mullins       CF  \n",
       "  7      O'Hearn       RF  \n",
       "  8    Santander       DH  ,\n",
       "  'Mean Total RAA': -1959.1050603670515,\n",
       "  'Lineup SD': 52.09958057244295,\n",
       "  '25th Percentile': -1994.509856927971,\n",
       "  '75th Percentile': -1923.7258875308717},\n",
       " {'Lineup':     id               Name bats   bat  bat_sd  plat  bat_vsRHP  bat_vsLHP  \\\n",
       "  0  BAL       James McCann    R  -3.6      13   -10       -8.6        1.4   \n",
       "  1  BAL       Ryan O'Hearn    L   1.2      22    18       10.2       -7.8   \n",
       "  2  BAL       Adam Frazier    L  -4.4      13    18        4.6      -13.4   \n",
       "  3  BAL    Jordan Westburg    R   3.0      14    -7       -0.5        6.5   \n",
       "  4  BAL   Gunnar Henderson    L  20.9      19    25       33.4        8.4   \n",
       "  5  BAL    Heston Kjerstad    L   1.7      19    15        9.2       -5.8   \n",
       "  6  BAL     Cedric Mullins    L   3.7      19    18       12.7       -5.3   \n",
       "  7  BAL  Anthony Santander    S  10.5      14     7       14.0        7.0   \n",
       "  8  BAL    Adley Rutschman    S  22.2       9    10       27.2       17.2   \n",
       "  \n",
       "          C      1B      2B      3B      SS      LF      CF      RF  Last Name  \\\n",
       "  0    -1.0    -6.0 -1000.0 -1000.0 -1000.0 -1000.0 -1000.0 -1000.0     McCann   \n",
       "  1 -1000.0    -3.0 -1000.0 -1000.0 -1000.0    -6.0 -1000.0   -11.0    O'Hearn   \n",
       "  2 -1000.0 -1000.0    -9.0 -1000.0 -1000.0     0.0 -1000.0    -6.0    Frazier   \n",
       "  3 -1000.0 -1000.0    -2.0     3.0   -10.0 -1000.0 -1000.0 -1000.0   Westburg   \n",
       "  4 -1000.0     5.0     0.0    10.0     5.0 -1000.0 -1000.0 -1000.0  Henderson   \n",
       "  5 -1000.0    -7.0 -1000.0 -1000.0 -1000.0   -10.0 -1000.0    -8.0   Kjerstad   \n",
       "  6 -1000.0 -1000.0 -1000.0 -1000.0 -1000.0    15.0     8.0    13.0    Mullins   \n",
       "  7 -1000.0    -4.0 -1000.0 -1000.0 -1000.0    -8.0 -1000.0   -10.0  Santander   \n",
       "  8    12.0    -6.0 -1000.0 -1000.0 -1000.0 -1000.0 -1000.0 -1000.0  Rutschman   \n",
       "  \n",
       "    Position  \n",
       "  0        C  \n",
       "  1       1B  \n",
       "  2       2B  \n",
       "  3       3B  \n",
       "  4       SS  \n",
       "  5       LF  \n",
       "  6       CF  \n",
       "  7       RF  \n",
       "  8       DH  ,\n",
       "  'Mean Total RAA': -9.964387150506656,\n",
       "  'Lineup SD': 50.71560290350792,\n",
       "  '25th Percentile': -45.391080565968934,\n",
       "  '75th Percentile': 25.306742102940397}]"
      ]
     },
     "execution_count": 14,
     "metadata": {},
     "output_type": "execute_result"
    }
   ],
   "source": [
    "lineup_stats_LHP = []\n",
    "\n",
    "total_lineups = len(lineup_dataframes_LHP)\n",
    "progress_interval = 5  # Change this number to adjust how frequently progress is reported\n",
    "\n",
    "for index, lineup_df in enumerate(lineup_dataframes_LHP):\n",
    "    try:\n",
    "        # Calculate statistics for the lineup\n",
    "        mean_total_lineup_raa, lineup_sd, percentile_25, percentile_75 = calculate_lineup_statistics(\n",
    "            lineup_df, player_data, \"LHP\", n_simulations=2000)\n",
    "        \n",
    "        lineup_stats_LHP.append({\n",
    "            'Lineup': lineup_df,\n",
    "            'Mean Total RAA': mean_total_lineup_raa,\n",
    "            'Lineup SD': lineup_sd,\n",
    "            '25th Percentile': percentile_25,\n",
    "            '75th Percentile': percentile_75\n",
    "        })\n",
    "    except Exception as e:\n",
    "        print(f\"Error processing lineup {index + 1}: {e}\")\n",
    "    # Progress tracking\n",
    "    if (index + 1) % progress_interval == 0 or index == total_lineups - 1:\n",
    "        print(f\"Processed {index + 1}/{total_lineups} lineups.\")\n",
    "\n",
    "# Displaying the evaluation results for the example lineups\n",
    "lineup_stats_LHP"
   ]
  },
  {
   "cell_type": "code",
   "execution_count": 13,
   "metadata": {},
   "outputs": [
    {
     "data": {
      "application/vnd.plotly.v1+json": {
       "config": {
        "plotlyServerURL": "https://plot.ly"
       },
       "data": [
        {
         "cells": {
          "align": "center",
          "fill": {
           "color": [
            "white",
            "#FFA500"
           ]
          },
          "font": {
           "color": "black",
           "family": "Helvetica",
           "size": 13
          },
          "height": 30,
          "values": [
           [
            "C",
            "1B",
            "2B",
            "3B",
            "SS",
            "LF",
            "CF",
            "RF",
            "DH",
            "Total"
           ],
           [
            "Adley Rutschman",
            "Ryan Mountcastle",
            "Ramón Urías",
            "Gunnar Henderson",
            "Jorge Mateo",
            "Ryan McKenna",
            "Cedric Mullins",
            "Austin Hays",
            "Anthony Santander",
            ""
           ],
           [
            27.2,
            4.5,
            -4,
            33.4,
            -5.8,
            -2.5,
            12.7,
            -2.7,
            14,
            ""
           ],
           [
            12,
            -1,
            4,
            10,
            13,
            7,
            8,
            8,
            0,
            ""
           ],
           [
            39.2,
            3.5,
            0,
            43.4,
            7.2,
            4.5,
            20.7,
            5.3,
            14,
            137.8
           ]
          ]
         },
         "header": {
          "align": "center",
          "fill": {
           "color": "white"
          },
          "font": {
           "color": "black",
           "family": "Helvetica",
           "size": 14
          },
          "values": [
           "Position",
           "Player",
           "Offensive RAA",
           "Defensive RAA",
           "Total RAA"
          ]
         },
         "type": "table"
        }
       ],
       "layout": {
        "height": 400,
        "margin": {
         "b": 5,
         "l": 5,
         "r": 5,
         "t": 50
        },
        "paper_bgcolor": "white",
        "template": {
         "data": {
          "bar": [
           {
            "error_x": {
             "color": "#2a3f5f"
            },
            "error_y": {
             "color": "#2a3f5f"
            },
            "marker": {
             "line": {
              "color": "#E5ECF6",
              "width": 0.5
             },
             "pattern": {
              "fillmode": "overlay",
              "size": 10,
              "solidity": 0.2
             }
            },
            "type": "bar"
           }
          ],
          "barpolar": [
           {
            "marker": {
             "line": {
              "color": "#E5ECF6",
              "width": 0.5
             },
             "pattern": {
              "fillmode": "overlay",
              "size": 10,
              "solidity": 0.2
             }
            },
            "type": "barpolar"
           }
          ],
          "carpet": [
           {
            "aaxis": {
             "endlinecolor": "#2a3f5f",
             "gridcolor": "white",
             "linecolor": "white",
             "minorgridcolor": "white",
             "startlinecolor": "#2a3f5f"
            },
            "baxis": {
             "endlinecolor": "#2a3f5f",
             "gridcolor": "white",
             "linecolor": "white",
             "minorgridcolor": "white",
             "startlinecolor": "#2a3f5f"
            },
            "type": "carpet"
           }
          ],
          "choropleth": [
           {
            "colorbar": {
             "outlinewidth": 0,
             "ticks": ""
            },
            "type": "choropleth"
           }
          ],
          "contour": [
           {
            "colorbar": {
             "outlinewidth": 0,
             "ticks": ""
            },
            "colorscale": [
             [
              0,
              "#0d0887"
             ],
             [
              0.1111111111111111,
              "#46039f"
             ],
             [
              0.2222222222222222,
              "#7201a8"
             ],
             [
              0.3333333333333333,
              "#9c179e"
             ],
             [
              0.4444444444444444,
              "#bd3786"
             ],
             [
              0.5555555555555556,
              "#d8576b"
             ],
             [
              0.6666666666666666,
              "#ed7953"
             ],
             [
              0.7777777777777778,
              "#fb9f3a"
             ],
             [
              0.8888888888888888,
              "#fdca26"
             ],
             [
              1,
              "#f0f921"
             ]
            ],
            "type": "contour"
           }
          ],
          "contourcarpet": [
           {
            "colorbar": {
             "outlinewidth": 0,
             "ticks": ""
            },
            "type": "contourcarpet"
           }
          ],
          "heatmap": [
           {
            "colorbar": {
             "outlinewidth": 0,
             "ticks": ""
            },
            "colorscale": [
             [
              0,
              "#0d0887"
             ],
             [
              0.1111111111111111,
              "#46039f"
             ],
             [
              0.2222222222222222,
              "#7201a8"
             ],
             [
              0.3333333333333333,
              "#9c179e"
             ],
             [
              0.4444444444444444,
              "#bd3786"
             ],
             [
              0.5555555555555556,
              "#d8576b"
             ],
             [
              0.6666666666666666,
              "#ed7953"
             ],
             [
              0.7777777777777778,
              "#fb9f3a"
             ],
             [
              0.8888888888888888,
              "#fdca26"
             ],
             [
              1,
              "#f0f921"
             ]
            ],
            "type": "heatmap"
           }
          ],
          "heatmapgl": [
           {
            "colorbar": {
             "outlinewidth": 0,
             "ticks": ""
            },
            "colorscale": [
             [
              0,
              "#0d0887"
             ],
             [
              0.1111111111111111,
              "#46039f"
             ],
             [
              0.2222222222222222,
              "#7201a8"
             ],
             [
              0.3333333333333333,
              "#9c179e"
             ],
             [
              0.4444444444444444,
              "#bd3786"
             ],
             [
              0.5555555555555556,
              "#d8576b"
             ],
             [
              0.6666666666666666,
              "#ed7953"
             ],
             [
              0.7777777777777778,
              "#fb9f3a"
             ],
             [
              0.8888888888888888,
              "#fdca26"
             ],
             [
              1,
              "#f0f921"
             ]
            ],
            "type": "heatmapgl"
           }
          ],
          "histogram": [
           {
            "marker": {
             "pattern": {
              "fillmode": "overlay",
              "size": 10,
              "solidity": 0.2
             }
            },
            "type": "histogram"
           }
          ],
          "histogram2d": [
           {
            "colorbar": {
             "outlinewidth": 0,
             "ticks": ""
            },
            "colorscale": [
             [
              0,
              "#0d0887"
             ],
             [
              0.1111111111111111,
              "#46039f"
             ],
             [
              0.2222222222222222,
              "#7201a8"
             ],
             [
              0.3333333333333333,
              "#9c179e"
             ],
             [
              0.4444444444444444,
              "#bd3786"
             ],
             [
              0.5555555555555556,
              "#d8576b"
             ],
             [
              0.6666666666666666,
              "#ed7953"
             ],
             [
              0.7777777777777778,
              "#fb9f3a"
             ],
             [
              0.8888888888888888,
              "#fdca26"
             ],
             [
              1,
              "#f0f921"
             ]
            ],
            "type": "histogram2d"
           }
          ],
          "histogram2dcontour": [
           {
            "colorbar": {
             "outlinewidth": 0,
             "ticks": ""
            },
            "colorscale": [
             [
              0,
              "#0d0887"
             ],
             [
              0.1111111111111111,
              "#46039f"
             ],
             [
              0.2222222222222222,
              "#7201a8"
             ],
             [
              0.3333333333333333,
              "#9c179e"
             ],
             [
              0.4444444444444444,
              "#bd3786"
             ],
             [
              0.5555555555555556,
              "#d8576b"
             ],
             [
              0.6666666666666666,
              "#ed7953"
             ],
             [
              0.7777777777777778,
              "#fb9f3a"
             ],
             [
              0.8888888888888888,
              "#fdca26"
             ],
             [
              1,
              "#f0f921"
             ]
            ],
            "type": "histogram2dcontour"
           }
          ],
          "mesh3d": [
           {
            "colorbar": {
             "outlinewidth": 0,
             "ticks": ""
            },
            "type": "mesh3d"
           }
          ],
          "parcoords": [
           {
            "line": {
             "colorbar": {
              "outlinewidth": 0,
              "ticks": ""
             }
            },
            "type": "parcoords"
           }
          ],
          "pie": [
           {
            "automargin": true,
            "type": "pie"
           }
          ],
          "scatter": [
           {
            "fillpattern": {
             "fillmode": "overlay",
             "size": 10,
             "solidity": 0.2
            },
            "type": "scatter"
           }
          ],
          "scatter3d": [
           {
            "line": {
             "colorbar": {
              "outlinewidth": 0,
              "ticks": ""
             }
            },
            "marker": {
             "colorbar": {
              "outlinewidth": 0,
              "ticks": ""
             }
            },
            "type": "scatter3d"
           }
          ],
          "scattercarpet": [
           {
            "marker": {
             "colorbar": {
              "outlinewidth": 0,
              "ticks": ""
             }
            },
            "type": "scattercarpet"
           }
          ],
          "scattergeo": [
           {
            "marker": {
             "colorbar": {
              "outlinewidth": 0,
              "ticks": ""
             }
            },
            "type": "scattergeo"
           }
          ],
          "scattergl": [
           {
            "marker": {
             "colorbar": {
              "outlinewidth": 0,
              "ticks": ""
             }
            },
            "type": "scattergl"
           }
          ],
          "scattermapbox": [
           {
            "marker": {
             "colorbar": {
              "outlinewidth": 0,
              "ticks": ""
             }
            },
            "type": "scattermapbox"
           }
          ],
          "scatterpolar": [
           {
            "marker": {
             "colorbar": {
              "outlinewidth": 0,
              "ticks": ""
             }
            },
            "type": "scatterpolar"
           }
          ],
          "scatterpolargl": [
           {
            "marker": {
             "colorbar": {
              "outlinewidth": 0,
              "ticks": ""
             }
            },
            "type": "scatterpolargl"
           }
          ],
          "scatterternary": [
           {
            "marker": {
             "colorbar": {
              "outlinewidth": 0,
              "ticks": ""
             }
            },
            "type": "scatterternary"
           }
          ],
          "surface": [
           {
            "colorbar": {
             "outlinewidth": 0,
             "ticks": ""
            },
            "colorscale": [
             [
              0,
              "#0d0887"
             ],
             [
              0.1111111111111111,
              "#46039f"
             ],
             [
              0.2222222222222222,
              "#7201a8"
             ],
             [
              0.3333333333333333,
              "#9c179e"
             ],
             [
              0.4444444444444444,
              "#bd3786"
             ],
             [
              0.5555555555555556,
              "#d8576b"
             ],
             [
              0.6666666666666666,
              "#ed7953"
             ],
             [
              0.7777777777777778,
              "#fb9f3a"
             ],
             [
              0.8888888888888888,
              "#fdca26"
             ],
             [
              1,
              "#f0f921"
             ]
            ],
            "type": "surface"
           }
          ],
          "table": [
           {
            "cells": {
             "fill": {
              "color": "#EBF0F8"
             },
             "line": {
              "color": "white"
             }
            },
            "header": {
             "fill": {
              "color": "#C8D4E3"
             },
             "line": {
              "color": "white"
             }
            },
            "type": "table"
           }
          ]
         },
         "layout": {
          "annotationdefaults": {
           "arrowcolor": "#2a3f5f",
           "arrowhead": 0,
           "arrowwidth": 1
          },
          "autotypenumbers": "strict",
          "coloraxis": {
           "colorbar": {
            "outlinewidth": 0,
            "ticks": ""
           }
          },
          "colorscale": {
           "diverging": [
            [
             0,
             "#8e0152"
            ],
            [
             0.1,
             "#c51b7d"
            ],
            [
             0.2,
             "#de77ae"
            ],
            [
             0.3,
             "#f1b6da"
            ],
            [
             0.4,
             "#fde0ef"
            ],
            [
             0.5,
             "#f7f7f7"
            ],
            [
             0.6,
             "#e6f5d0"
            ],
            [
             0.7,
             "#b8e186"
            ],
            [
             0.8,
             "#7fbc41"
            ],
            [
             0.9,
             "#4d9221"
            ],
            [
             1,
             "#276419"
            ]
           ],
           "sequential": [
            [
             0,
             "#0d0887"
            ],
            [
             0.1111111111111111,
             "#46039f"
            ],
            [
             0.2222222222222222,
             "#7201a8"
            ],
            [
             0.3333333333333333,
             "#9c179e"
            ],
            [
             0.4444444444444444,
             "#bd3786"
            ],
            [
             0.5555555555555556,
             "#d8576b"
            ],
            [
             0.6666666666666666,
             "#ed7953"
            ],
            [
             0.7777777777777778,
             "#fb9f3a"
            ],
            [
             0.8888888888888888,
             "#fdca26"
            ],
            [
             1,
             "#f0f921"
            ]
           ],
           "sequentialminus": [
            [
             0,
             "#0d0887"
            ],
            [
             0.1111111111111111,
             "#46039f"
            ],
            [
             0.2222222222222222,
             "#7201a8"
            ],
            [
             0.3333333333333333,
             "#9c179e"
            ],
            [
             0.4444444444444444,
             "#bd3786"
            ],
            [
             0.5555555555555556,
             "#d8576b"
            ],
            [
             0.6666666666666666,
             "#ed7953"
            ],
            [
             0.7777777777777778,
             "#fb9f3a"
            ],
            [
             0.8888888888888888,
             "#fdca26"
            ],
            [
             1,
             "#f0f921"
            ]
           ]
          },
          "colorway": [
           "#636efa",
           "#EF553B",
           "#00cc96",
           "#ab63fa",
           "#FFA15A",
           "#19d3f3",
           "#FF6692",
           "#B6E880",
           "#FF97FF",
           "#FECB52"
          ],
          "font": {
           "color": "#2a3f5f"
          },
          "geo": {
           "bgcolor": "white",
           "lakecolor": "white",
           "landcolor": "#E5ECF6",
           "showlakes": true,
           "showland": true,
           "subunitcolor": "white"
          },
          "hoverlabel": {
           "align": "left"
          },
          "hovermode": "closest",
          "mapbox": {
           "style": "light"
          },
          "paper_bgcolor": "white",
          "plot_bgcolor": "#E5ECF6",
          "polar": {
           "angularaxis": {
            "gridcolor": "white",
            "linecolor": "white",
            "ticks": ""
           },
           "bgcolor": "#E5ECF6",
           "radialaxis": {
            "gridcolor": "white",
            "linecolor": "white",
            "ticks": ""
           }
          },
          "scene": {
           "xaxis": {
            "backgroundcolor": "#E5ECF6",
            "gridcolor": "white",
            "gridwidth": 2,
            "linecolor": "white",
            "showbackground": true,
            "ticks": "",
            "zerolinecolor": "white"
           },
           "yaxis": {
            "backgroundcolor": "#E5ECF6",
            "gridcolor": "white",
            "gridwidth": 2,
            "linecolor": "white",
            "showbackground": true,
            "ticks": "",
            "zerolinecolor": "white"
           },
           "zaxis": {
            "backgroundcolor": "#E5ECF6",
            "gridcolor": "white",
            "gridwidth": 2,
            "linecolor": "white",
            "showbackground": true,
            "ticks": "",
            "zerolinecolor": "white"
           }
          },
          "shapedefaults": {
           "line": {
            "color": "#2a3f5f"
           }
          },
          "ternary": {
           "aaxis": {
            "gridcolor": "white",
            "linecolor": "white",
            "ticks": ""
           },
           "baxis": {
            "gridcolor": "white",
            "linecolor": "white",
            "ticks": ""
           },
           "bgcolor": "#E5ECF6",
           "caxis": {
            "gridcolor": "white",
            "linecolor": "white",
            "ticks": ""
           }
          },
          "title": {
           "x": 0.05
          },
          "xaxis": {
           "automargin": true,
           "gridcolor": "white",
           "linecolor": "white",
           "ticks": "",
           "title": {
            "standoff": 15
           },
           "zerolinecolor": "white",
           "zerolinewidth": 2
          },
          "yaxis": {
           "automargin": true,
           "gridcolor": "white",
           "linecolor": "white",
           "ticks": "",
           "title": {
            "standoff": 15
           },
           "zerolinecolor": "white",
           "zerolinewidth": 2
          }
         }
        },
        "title": {
         "font": {
          "color": "black",
          "family": "Helvetica",
          "size": 20
         },
         "text": "Lineup vs. RHP - Mean RAA: 135.43<br>SD: 50.74, 25th Percentile: 99.65, 75th Percentile: 168.28",
         "x": 0.5,
         "xanchor": "center",
         "y": 0.95,
         "yanchor": "top"
        },
        "width": 800
       }
      }
     },
     "metadata": {},
     "output_type": "display_data"
    }
   ],
   "source": [
    "sorted_lineup_stats_RHP = sorted(lineup_stats_RHP, key=lambda x: x.get('Mean Total RAA', 0), reverse=True)\n",
    "\n",
    "#create_and_display_lineup_visual(sorted_lineup_stats_RHP[0]['Lineup'], player_data, 'RHP')\n",
    "create_and_display_lineup_visual(sorted_lineup_stats_RHP[0]['Lineup'], player_data, 'RHP')"
   ]
  },
  {
   "cell_type": "code",
   "execution_count": 22,
   "metadata": {},
   "outputs": [
    {
     "data": {
      "application/vnd.plotly.v1+json": {
       "config": {
        "plotlyServerURL": "https://plot.ly"
       },
       "data": [
        {
         "cells": {
          "align": "center",
          "fill": {
           "color": [
            "white",
            "#FFA500"
           ]
          },
          "font": {
           "color": "black",
           "family": "Helvetica",
           "size": 13
          },
          "height": 30,
          "values": [
           [
            "C",
            "1B",
            "2B",
            "3B",
            "SS",
            "LF",
            "CF",
            "RF",
            "DH",
            "Total"
           ],
           [
            "Adley Rutschman",
            "Ryan Mountcastle",
            "Adam Frazier",
            "Gunnar Henderson",
            "Joey Ortiz",
            "Austin Hays",
            "Cedric Mullins",
            "Terrin Vavra",
            "Anthony Santander",
            ""
           ],
           [
            17.2,
            15.5,
            -13.4,
            8.4,
            4.4,
            5.3,
            -5.3,
            -9,
            7,
            ""
           ],
           [
            12,
            -1,
            -9,
            10,
            11,
            6,
            8,
            -1,
            0,
            ""
           ],
           [
            29.2,
            14.5,
            -22.4,
            18.4,
            15.4,
            11.3,
            2.7,
            -10,
            7,
            66.1
           ]
          ]
         },
         "header": {
          "align": "center",
          "fill": {
           "color": "white"
          },
          "font": {
           "color": "black",
           "family": "Helvetica",
           "size": 14
          },
          "values": [
           "Position",
           "Player",
           "Offensive RAA",
           "Defensive RAA",
           "Total RAA"
          ]
         },
         "type": "table"
        }
       ],
       "layout": {
        "height": 400,
        "margin": {
         "b": 5,
         "l": 5,
         "r": 5,
         "t": 50
        },
        "paper_bgcolor": "white",
        "template": {
         "data": {
          "bar": [
           {
            "error_x": {
             "color": "#2a3f5f"
            },
            "error_y": {
             "color": "#2a3f5f"
            },
            "marker": {
             "line": {
              "color": "#E5ECF6",
              "width": 0.5
             },
             "pattern": {
              "fillmode": "overlay",
              "size": 10,
              "solidity": 0.2
             }
            },
            "type": "bar"
           }
          ],
          "barpolar": [
           {
            "marker": {
             "line": {
              "color": "#E5ECF6",
              "width": 0.5
             },
             "pattern": {
              "fillmode": "overlay",
              "size": 10,
              "solidity": 0.2
             }
            },
            "type": "barpolar"
           }
          ],
          "carpet": [
           {
            "aaxis": {
             "endlinecolor": "#2a3f5f",
             "gridcolor": "white",
             "linecolor": "white",
             "minorgridcolor": "white",
             "startlinecolor": "#2a3f5f"
            },
            "baxis": {
             "endlinecolor": "#2a3f5f",
             "gridcolor": "white",
             "linecolor": "white",
             "minorgridcolor": "white",
             "startlinecolor": "#2a3f5f"
            },
            "type": "carpet"
           }
          ],
          "choropleth": [
           {
            "colorbar": {
             "outlinewidth": 0,
             "ticks": ""
            },
            "type": "choropleth"
           }
          ],
          "contour": [
           {
            "colorbar": {
             "outlinewidth": 0,
             "ticks": ""
            },
            "colorscale": [
             [
              0,
              "#0d0887"
             ],
             [
              0.1111111111111111,
              "#46039f"
             ],
             [
              0.2222222222222222,
              "#7201a8"
             ],
             [
              0.3333333333333333,
              "#9c179e"
             ],
             [
              0.4444444444444444,
              "#bd3786"
             ],
             [
              0.5555555555555556,
              "#d8576b"
             ],
             [
              0.6666666666666666,
              "#ed7953"
             ],
             [
              0.7777777777777778,
              "#fb9f3a"
             ],
             [
              0.8888888888888888,
              "#fdca26"
             ],
             [
              1,
              "#f0f921"
             ]
            ],
            "type": "contour"
           }
          ],
          "contourcarpet": [
           {
            "colorbar": {
             "outlinewidth": 0,
             "ticks": ""
            },
            "type": "contourcarpet"
           }
          ],
          "heatmap": [
           {
            "colorbar": {
             "outlinewidth": 0,
             "ticks": ""
            },
            "colorscale": [
             [
              0,
              "#0d0887"
             ],
             [
              0.1111111111111111,
              "#46039f"
             ],
             [
              0.2222222222222222,
              "#7201a8"
             ],
             [
              0.3333333333333333,
              "#9c179e"
             ],
             [
              0.4444444444444444,
              "#bd3786"
             ],
             [
              0.5555555555555556,
              "#d8576b"
             ],
             [
              0.6666666666666666,
              "#ed7953"
             ],
             [
              0.7777777777777778,
              "#fb9f3a"
             ],
             [
              0.8888888888888888,
              "#fdca26"
             ],
             [
              1,
              "#f0f921"
             ]
            ],
            "type": "heatmap"
           }
          ],
          "heatmapgl": [
           {
            "colorbar": {
             "outlinewidth": 0,
             "ticks": ""
            },
            "colorscale": [
             [
              0,
              "#0d0887"
             ],
             [
              0.1111111111111111,
              "#46039f"
             ],
             [
              0.2222222222222222,
              "#7201a8"
             ],
             [
              0.3333333333333333,
              "#9c179e"
             ],
             [
              0.4444444444444444,
              "#bd3786"
             ],
             [
              0.5555555555555556,
              "#d8576b"
             ],
             [
              0.6666666666666666,
              "#ed7953"
             ],
             [
              0.7777777777777778,
              "#fb9f3a"
             ],
             [
              0.8888888888888888,
              "#fdca26"
             ],
             [
              1,
              "#f0f921"
             ]
            ],
            "type": "heatmapgl"
           }
          ],
          "histogram": [
           {
            "marker": {
             "pattern": {
              "fillmode": "overlay",
              "size": 10,
              "solidity": 0.2
             }
            },
            "type": "histogram"
           }
          ],
          "histogram2d": [
           {
            "colorbar": {
             "outlinewidth": 0,
             "ticks": ""
            },
            "colorscale": [
             [
              0,
              "#0d0887"
             ],
             [
              0.1111111111111111,
              "#46039f"
             ],
             [
              0.2222222222222222,
              "#7201a8"
             ],
             [
              0.3333333333333333,
              "#9c179e"
             ],
             [
              0.4444444444444444,
              "#bd3786"
             ],
             [
              0.5555555555555556,
              "#d8576b"
             ],
             [
              0.6666666666666666,
              "#ed7953"
             ],
             [
              0.7777777777777778,
              "#fb9f3a"
             ],
             [
              0.8888888888888888,
              "#fdca26"
             ],
             [
              1,
              "#f0f921"
             ]
            ],
            "type": "histogram2d"
           }
          ],
          "histogram2dcontour": [
           {
            "colorbar": {
             "outlinewidth": 0,
             "ticks": ""
            },
            "colorscale": [
             [
              0,
              "#0d0887"
             ],
             [
              0.1111111111111111,
              "#46039f"
             ],
             [
              0.2222222222222222,
              "#7201a8"
             ],
             [
              0.3333333333333333,
              "#9c179e"
             ],
             [
              0.4444444444444444,
              "#bd3786"
             ],
             [
              0.5555555555555556,
              "#d8576b"
             ],
             [
              0.6666666666666666,
              "#ed7953"
             ],
             [
              0.7777777777777778,
              "#fb9f3a"
             ],
             [
              0.8888888888888888,
              "#fdca26"
             ],
             [
              1,
              "#f0f921"
             ]
            ],
            "type": "histogram2dcontour"
           }
          ],
          "mesh3d": [
           {
            "colorbar": {
             "outlinewidth": 0,
             "ticks": ""
            },
            "type": "mesh3d"
           }
          ],
          "parcoords": [
           {
            "line": {
             "colorbar": {
              "outlinewidth": 0,
              "ticks": ""
             }
            },
            "type": "parcoords"
           }
          ],
          "pie": [
           {
            "automargin": true,
            "type": "pie"
           }
          ],
          "scatter": [
           {
            "fillpattern": {
             "fillmode": "overlay",
             "size": 10,
             "solidity": 0.2
            },
            "type": "scatter"
           }
          ],
          "scatter3d": [
           {
            "line": {
             "colorbar": {
              "outlinewidth": 0,
              "ticks": ""
             }
            },
            "marker": {
             "colorbar": {
              "outlinewidth": 0,
              "ticks": ""
             }
            },
            "type": "scatter3d"
           }
          ],
          "scattercarpet": [
           {
            "marker": {
             "colorbar": {
              "outlinewidth": 0,
              "ticks": ""
             }
            },
            "type": "scattercarpet"
           }
          ],
          "scattergeo": [
           {
            "marker": {
             "colorbar": {
              "outlinewidth": 0,
              "ticks": ""
             }
            },
            "type": "scattergeo"
           }
          ],
          "scattergl": [
           {
            "marker": {
             "colorbar": {
              "outlinewidth": 0,
              "ticks": ""
             }
            },
            "type": "scattergl"
           }
          ],
          "scattermapbox": [
           {
            "marker": {
             "colorbar": {
              "outlinewidth": 0,
              "ticks": ""
             }
            },
            "type": "scattermapbox"
           }
          ],
          "scatterpolar": [
           {
            "marker": {
             "colorbar": {
              "outlinewidth": 0,
              "ticks": ""
             }
            },
            "type": "scatterpolar"
           }
          ],
          "scatterpolargl": [
           {
            "marker": {
             "colorbar": {
              "outlinewidth": 0,
              "ticks": ""
             }
            },
            "type": "scatterpolargl"
           }
          ],
          "scatterternary": [
           {
            "marker": {
             "colorbar": {
              "outlinewidth": 0,
              "ticks": ""
             }
            },
            "type": "scatterternary"
           }
          ],
          "surface": [
           {
            "colorbar": {
             "outlinewidth": 0,
             "ticks": ""
            },
            "colorscale": [
             [
              0,
              "#0d0887"
             ],
             [
              0.1111111111111111,
              "#46039f"
             ],
             [
              0.2222222222222222,
              "#7201a8"
             ],
             [
              0.3333333333333333,
              "#9c179e"
             ],
             [
              0.4444444444444444,
              "#bd3786"
             ],
             [
              0.5555555555555556,
              "#d8576b"
             ],
             [
              0.6666666666666666,
              "#ed7953"
             ],
             [
              0.7777777777777778,
              "#fb9f3a"
             ],
             [
              0.8888888888888888,
              "#fdca26"
             ],
             [
              1,
              "#f0f921"
             ]
            ],
            "type": "surface"
           }
          ],
          "table": [
           {
            "cells": {
             "fill": {
              "color": "#EBF0F8"
             },
             "line": {
              "color": "white"
             }
            },
            "header": {
             "fill": {
              "color": "#C8D4E3"
             },
             "line": {
              "color": "white"
             }
            },
            "type": "table"
           }
          ]
         },
         "layout": {
          "annotationdefaults": {
           "arrowcolor": "#2a3f5f",
           "arrowhead": 0,
           "arrowwidth": 1
          },
          "autotypenumbers": "strict",
          "coloraxis": {
           "colorbar": {
            "outlinewidth": 0,
            "ticks": ""
           }
          },
          "colorscale": {
           "diverging": [
            [
             0,
             "#8e0152"
            ],
            [
             0.1,
             "#c51b7d"
            ],
            [
             0.2,
             "#de77ae"
            ],
            [
             0.3,
             "#f1b6da"
            ],
            [
             0.4,
             "#fde0ef"
            ],
            [
             0.5,
             "#f7f7f7"
            ],
            [
             0.6,
             "#e6f5d0"
            ],
            [
             0.7,
             "#b8e186"
            ],
            [
             0.8,
             "#7fbc41"
            ],
            [
             0.9,
             "#4d9221"
            ],
            [
             1,
             "#276419"
            ]
           ],
           "sequential": [
            [
             0,
             "#0d0887"
            ],
            [
             0.1111111111111111,
             "#46039f"
            ],
            [
             0.2222222222222222,
             "#7201a8"
            ],
            [
             0.3333333333333333,
             "#9c179e"
            ],
            [
             0.4444444444444444,
             "#bd3786"
            ],
            [
             0.5555555555555556,
             "#d8576b"
            ],
            [
             0.6666666666666666,
             "#ed7953"
            ],
            [
             0.7777777777777778,
             "#fb9f3a"
            ],
            [
             0.8888888888888888,
             "#fdca26"
            ],
            [
             1,
             "#f0f921"
            ]
           ],
           "sequentialminus": [
            [
             0,
             "#0d0887"
            ],
            [
             0.1111111111111111,
             "#46039f"
            ],
            [
             0.2222222222222222,
             "#7201a8"
            ],
            [
             0.3333333333333333,
             "#9c179e"
            ],
            [
             0.4444444444444444,
             "#bd3786"
            ],
            [
             0.5555555555555556,
             "#d8576b"
            ],
            [
             0.6666666666666666,
             "#ed7953"
            ],
            [
             0.7777777777777778,
             "#fb9f3a"
            ],
            [
             0.8888888888888888,
             "#fdca26"
            ],
            [
             1,
             "#f0f921"
            ]
           ]
          },
          "colorway": [
           "#636efa",
           "#EF553B",
           "#00cc96",
           "#ab63fa",
           "#FFA15A",
           "#19d3f3",
           "#FF6692",
           "#B6E880",
           "#FF97FF",
           "#FECB52"
          ],
          "font": {
           "color": "#2a3f5f"
          },
          "geo": {
           "bgcolor": "white",
           "lakecolor": "white",
           "landcolor": "#E5ECF6",
           "showlakes": true,
           "showland": true,
           "subunitcolor": "white"
          },
          "hoverlabel": {
           "align": "left"
          },
          "hovermode": "closest",
          "mapbox": {
           "style": "light"
          },
          "paper_bgcolor": "white",
          "plot_bgcolor": "#E5ECF6",
          "polar": {
           "angularaxis": {
            "gridcolor": "white",
            "linecolor": "white",
            "ticks": ""
           },
           "bgcolor": "#E5ECF6",
           "radialaxis": {
            "gridcolor": "white",
            "linecolor": "white",
            "ticks": ""
           }
          },
          "scene": {
           "xaxis": {
            "backgroundcolor": "#E5ECF6",
            "gridcolor": "white",
            "gridwidth": 2,
            "linecolor": "white",
            "showbackground": true,
            "ticks": "",
            "zerolinecolor": "white"
           },
           "yaxis": {
            "backgroundcolor": "#E5ECF6",
            "gridcolor": "white",
            "gridwidth": 2,
            "linecolor": "white",
            "showbackground": true,
            "ticks": "",
            "zerolinecolor": "white"
           },
           "zaxis": {
            "backgroundcolor": "#E5ECF6",
            "gridcolor": "white",
            "gridwidth": 2,
            "linecolor": "white",
            "showbackground": true,
            "ticks": "",
            "zerolinecolor": "white"
           }
          },
          "shapedefaults": {
           "line": {
            "color": "#2a3f5f"
           }
          },
          "ternary": {
           "aaxis": {
            "gridcolor": "white",
            "linecolor": "white",
            "ticks": ""
           },
           "baxis": {
            "gridcolor": "white",
            "linecolor": "white",
            "ticks": ""
           },
           "bgcolor": "#E5ECF6",
           "caxis": {
            "gridcolor": "white",
            "linecolor": "white",
            "ticks": ""
           }
          },
          "title": {
           "x": 0.05
          },
          "xaxis": {
           "automargin": true,
           "gridcolor": "white",
           "linecolor": "white",
           "ticks": "",
           "title": {
            "standoff": 15
           },
           "zerolinecolor": "white",
           "zerolinewidth": 2
          },
          "yaxis": {
           "automargin": true,
           "gridcolor": "white",
           "linecolor": "white",
           "ticks": "",
           "title": {
            "standoff": 15
           },
           "zerolinecolor": "white",
           "zerolinewidth": 2
          }
         }
        },
        "title": {
         "font": {
          "color": "black",
          "family": "Helvetica",
          "size": 20
         },
         "text": "Lineup vs. LHP - Mean RAA: 65.96<br>SD: 50.69, 25th Percentile: 31.80, 75th Percentile: 98.79",
         "x": 0.5,
         "xanchor": "center",
         "y": 0.95,
         "yanchor": "top"
        },
        "width": 800
       }
      }
     },
     "metadata": {},
     "output_type": "display_data"
    }
   ],
   "source": [
    "filtered_lineup_stats_LHP = [lineup for lineup in lineup_stats_LHP if lineup['Mean Total RAA'] > -50]\n",
    "sorted_lineup_stats_LHP = sorted(filtered_lineup_stats_LHP, key=lambda x: x.get('Mean Total RAA', 0), reverse=True)\n",
    "\n",
    "create_and_display_lineup_visual(sorted_lineup_stats_LHP[0]['Lineup'], player_data, 'LHP')"
   ]
  },
  {
   "cell_type": "code",
   "execution_count": 18,
   "metadata": {},
   "outputs": [
    {
     "data": {
      "image/png": "[encoded data removed]",
      "text/plain": [
       "<Figure size 1000x600 with 1 Axes>"
      ]
     },
     "metadata": {},
     "output_type": "display_data"
    }
   ],
   "source": [
    "import matplotlib.pyplot as plt\n",
    "\n",
    "# Extracting 'Mean Total RAA' values from the sorted list\n",
    "mean_total_raa_values = [entry.get('Mean Total RAA') for entry in sorted_lineup_stats_RHP if 'Mean Total RAA' in entry]\n",
    "\n",
    "# Creating Histogram of Lineups\n",
    "\n",
    "plt.figure(figsize=(10, 6))\n",
    "plt.hist(mean_total_raa_values, bins=20, color='orange', edgecolor='black')\n",
    "\n",
    "plt.title('Histogram of Mean Total RAA vs. RHP', color='black', fontsize=14)\n",
    "plt.xlabel('Mean Total RAA', color='black', fontsize=12)\n",
    "plt.ylabel('Frequency', color='black', fontsize=12)\n",
    "\n",
    "plt.grid(True, linestyle='--', linewidth=0.5, color='grey')\n",
    "\n",
    "# Changing the color of the ticks to black for consistency\n",
    "plt.tick_params(colors='black')\n",
    "\n",
    "\n",
    "plt.gca().set_facecolor('white')\n",
    "plt.gca().spines['top'].set_visible(False)\n",
    "plt.gca().spines['right'].set_visible(False)\n",
    "plt.gca().spines['bottom'].set_color('black')\n",
    "plt.gca().spines['left'].set_color('black')\n",
    "\n",
    "\n",
    "plt.show()\n",
    "\n"
   ]
  },
  {
   "cell_type": "code",
   "execution_count": 6,
   "metadata": {},
   "outputs": [
    {
     "name": "stderr",
     "output_type": "stream",
     "text": [
      "/var/folders/8n/g8bq8_011kv24tnfb649vgmw0000gn/T/ipykernel_1988/2147977177.py:25: SettingWithCopyWarning:\n",
      "\n",
      "\n",
      "A value is trying to be set on a copy of a slice from a DataFrame.\n",
      "Try using .loc[row_indexer,col_indexer] = value instead\n",
      "\n",
      "See the caveats in the documentation: https://pandas.pydata.org/pandas-docs/stable/user_guide/indexing.html#returning-a-view-versus-a-copy\n",
      "\n",
      "/var/folders/8n/g8bq8_011kv24tnfb649vgmw0000gn/T/ipykernel_1988/2147977177.py:25: SettingWithCopyWarning:\n",
      "\n",
      "\n",
      "A value is trying to be set on a copy of a slice from a DataFrame.\n",
      "Try using .loc[row_indexer,col_indexer] = value instead\n",
      "\n",
      "See the caveats in the documentation: https://pandas.pydata.org/pandas-docs/stable/user_guide/indexing.html#returning-a-view-versus-a-copy\n",
      "\n"
     ]
    }
   ],
   "source": [
    "import matplotlib.pyplot as plt\n",
    "\n",
    "# Extracting 'Mean Total RAA' values from the sorted list\n",
    "mean_total_raa_values = [entry.get('Mean Total RAA') for entry in sorted_lineup_stats_LHP if 'Mean Total RAA' in entry]\n",
    "\n",
    "\n",
    "# Creating Histogram of Lineups\n",
    "\n",
    "plt.figure(figsize=(10, 6))\n",
    "plt.hist(mean_total_raa_values, bins=20, color='orange', edgecolor='black')\n",
    "\n",
    "plt.title('Histogram of Mean Total RAA vs. LHP', color='black', fontsize=14)\n",
    "plt.xlabel('Mean Total RAA', color='black', fontsize=12)\n",
    "plt.ylabel('Frequency', color='black', fontsize=12)\n",
    "\n",
    "plt.grid(True, linestyle='--', linewidth=0.5, color='grey')\n",
    "\n",
    "# Changing the color of the ticks to black for consistency\n",
    "plt.tick_params(colors='black')\n",
    "\n",
    "\n",
    "plt.gca().set_facecolor('white')\n",
    "plt.gca().spines['top'].set_visible(False)\n",
    "plt.gca().spines['right'].set_visible(False)\n",
    "plt.gca().spines['bottom'].set_color('black')\n",
    "plt.gca().spines['left'].set_color('black')\n",
    "\n",
    "\n",
    "plt.show()\n",
    "\n"
   ]
  },
  {
   "cell_type": "code",
   "execution_count": 7,
   "metadata": {},
   "outputs": [
    {
     "data": {
      "application/vnd.plotly.v1+json": {
       "config": {
        "plotlyServerURL": "https://plot.ly"
       },
       "data": [
        {
         "cells": {
          "align": "center",
          "fill": {
           "color": [
            "white",
            "#FFA500"
           ]
          },
          "font": {
           "color": "black",
           "family": "Helvetica",
           "size": 13
          },
          "height": 30,
          "values": [
           [
            "C",
            "1B",
            "2B",
            "3B",
            "SS",
            "LF",
            "CF",
            "RF",
            "DH",
            "Total"
           ],
           [
            "Adley Rutschman",
            "Ryan O'Hearn",
            "Joey Ortiz",
            "Gunnar Henderson",
            "Jackson Holliday",
            "Cedric Mullins",
            "Colton Cowser",
            "Sam Hilliard",
            "Anthony Santander",
            ""
           ],
           [
            27.2,
            10.2,
            -4.6,
            33.4,
            13.3,
            12.7,
            9.3,
            8,
            14,
            ""
           ],
           [
            12,
            -3,
            15,
            10,
            5,
            15,
            1,
            2,
            0,
            ""
           ],
           [
            39.2,
            7.2,
            10.4,
            43.4,
            18.3,
            27.7,
            10.3,
            10,
            14,
            180.5
           ]
          ]
         },
         "header": {
          "align": "center",
          "fill": {
           "color": "white"
          },
          "font": {
           "color": "black",
           "family": "Helvetica",
           "size": 14
          },
          "values": [
           "Position",
           "Player",
           "Offensive RAA",
           "Defensive RAA",
           "Total RAA"
          ]
         },
         "type": "table"
        }
       ],
       "layout": {
        "height": 400,
        "margin": {
         "b": 5,
         "l": 5,
         "r": 5,
         "t": 50
        },
        "paper_bgcolor": "white",
        "template": {
         "data": {
          "bar": [
           {
            "error_x": {
             "color": "#2a3f5f"
            },
            "error_y": {
             "color": "#2a3f5f"
            },
            "marker": {
             "line": {
              "color": "#E5ECF6",
              "width": 0.5
             },
             "pattern": {
              "fillmode": "overlay",
              "size": 10,
              "solidity": 0.2
             }
            },
            "type": "bar"
           }
          ],
          "barpolar": [
           {
            "marker": {
             "line": {
              "color": "#E5ECF6",
              "width": 0.5
             },
             "pattern": {
              "fillmode": "overlay",
              "size": 10,
              "solidity": 0.2
             }
            },
            "type": "barpolar"
           }
          ],
          "carpet": [
           {
            "aaxis": {
             "endlinecolor": "#2a3f5f",
             "gridcolor": "white",
             "linecolor": "white",
             "minorgridcolor": "white",
             "startlinecolor": "#2a3f5f"
            },
            "baxis": {
             "endlinecolor": "#2a3f5f",
             "gridcolor": "white",
             "linecolor": "white",
             "minorgridcolor": "white",
             "startlinecolor": "#2a3f5f"
            },
            "type": "carpet"
           }
          ],
          "choropleth": [
           {
            "colorbar": {
             "outlinewidth": 0,
             "ticks": ""
            },
            "type": "choropleth"
           }
          ],
          "contour": [
           {
            "colorbar": {
             "outlinewidth": 0,
             "ticks": ""
            },
            "colorscale": [
             [
              0,
              "#0d0887"
             ],
             [
              0.1111111111111111,
              "#46039f"
             ],
             [
              0.2222222222222222,
              "#7201a8"
             ],
             [
              0.3333333333333333,
              "#9c179e"
             ],
             [
              0.4444444444444444,
              "#bd3786"
             ],
             [
              0.5555555555555556,
              "#d8576b"
             ],
             [
              0.6666666666666666,
              "#ed7953"
             ],
             [
              0.7777777777777778,
              "#fb9f3a"
             ],
             [
              0.8888888888888888,
              "#fdca26"
             ],
             [
              1,
              "#f0f921"
             ]
            ],
            "type": "contour"
           }
          ],
          "contourcarpet": [
           {
            "colorbar": {
             "outlinewidth": 0,
             "ticks": ""
            },
            "type": "contourcarpet"
           }
          ],
          "heatmap": [
           {
            "colorbar": {
             "outlinewidth": 0,
             "ticks": ""
            },
            "colorscale": [
             [
              0,
              "#0d0887"
             ],
             [
              0.1111111111111111,
              "#46039f"
             ],
             [
              0.2222222222222222,
              "#7201a8"
             ],
             [
              0.3333333333333333,
              "#9c179e"
             ],
             [
              0.4444444444444444,
              "#bd3786"
             ],
             [
              0.5555555555555556,
              "#d8576b"
             ],
             [
              0.6666666666666666,
              "#ed7953"
             ],
             [
              0.7777777777777778,
              "#fb9f3a"
             ],
             [
              0.8888888888888888,
              "#fdca26"
             ],
             [
              1,
              "#f0f921"
             ]
            ],
            "type": "heatmap"
           }
          ],
          "heatmapgl": [
           {
            "colorbar": {
             "outlinewidth": 0,
             "ticks": ""
            },
            "colorscale": [
             [
              0,
              "#0d0887"
             ],
             [
              0.1111111111111111,
              "#46039f"
             ],
             [
              0.2222222222222222,
              "#7201a8"
             ],
             [
              0.3333333333333333,
              "#9c179e"
             ],
             [
              0.4444444444444444,
              "#bd3786"
             ],
             [
              0.5555555555555556,
              "#d8576b"
             ],
             [
              0.6666666666666666,
              "#ed7953"
             ],
             [
              0.7777777777777778,
              "#fb9f3a"
             ],
             [
              0.8888888888888888,
              "#fdca26"
             ],
             [
              1,
              "#f0f921"
             ]
            ],
            "type": "heatmapgl"
           }
          ],
          "histogram": [
           {
            "marker": {
             "pattern": {
              "fillmode": "overlay",
              "size": 10,
              "solidity": 0.2
             }
            },
            "type": "histogram"
           }
          ],
          "histogram2d": [
           {
            "colorbar": {
             "outlinewidth": 0,
             "ticks": ""
            },
            "colorscale": [
             [
              0,
              "#0d0887"
             ],
             [
              0.1111111111111111,
              "#46039f"
             ],
             [
              0.2222222222222222,
              "#7201a8"
             ],
             [
              0.3333333333333333,
              "#9c179e"
             ],
             [
              0.4444444444444444,
              "#bd3786"
             ],
             [
              0.5555555555555556,
              "#d8576b"
             ],
             [
              0.6666666666666666,
              "#ed7953"
             ],
             [
              0.7777777777777778,
              "#fb9f3a"
             ],
             [
              0.8888888888888888,
              "#fdca26"
             ],
             [
              1,
              "#f0f921"
             ]
            ],
            "type": "histogram2d"
           }
          ],
          "histogram2dcontour": [
           {
            "colorbar": {
             "outlinewidth": 0,
             "ticks": ""
            },
            "colorscale": [
             [
              0,
              "#0d0887"
             ],
             [
              0.1111111111111111,
              "#46039f"
             ],
             [
              0.2222222222222222,
              "#7201a8"
             ],
             [
              0.3333333333333333,
              "#9c179e"
             ],
             [
              0.4444444444444444,
              "#bd3786"
             ],
             [
              0.5555555555555556,
              "#d8576b"
             ],
             [
              0.6666666666666666,
              "#ed7953"
             ],
             [
              0.7777777777777778,
              "#fb9f3a"
             ],
             [
              0.8888888888888888,
              "#fdca26"
             ],
             [
              1,
              "#f0f921"
             ]
            ],
            "type": "histogram2dcontour"
           }
          ],
          "mesh3d": [
           {
            "colorbar": {
             "outlinewidth": 0,
             "ticks": ""
            },
            "type": "mesh3d"
           }
          ],
          "parcoords": [
           {
            "line": {
             "colorbar": {
              "outlinewidth": 0,
              "ticks": ""
             }
            },
            "type": "parcoords"
           }
          ],
          "pie": [
           {
            "automargin": true,
            "type": "pie"
           }
          ],
          "scatter": [
           {
            "fillpattern": {
             "fillmode": "overlay",
             "size": 10,
             "solidity": 0.2
            },
            "type": "scatter"
           }
          ],
          "scatter3d": [
           {
            "line": {
             "colorbar": {
              "outlinewidth": 0,
              "ticks": ""
             }
            },
            "marker": {
             "colorbar": {
              "outlinewidth": 0,
              "ticks": ""
             }
            },
            "type": "scatter3d"
           }
          ],
          "scattercarpet": [
           {
            "marker": {
             "colorbar": {
              "outlinewidth": 0,
              "ticks": ""
             }
            },
            "type": "scattercarpet"
           }
          ],
          "scattergeo": [
           {
            "marker": {
             "colorbar": {
              "outlinewidth": 0,
              "ticks": ""
             }
            },
            "type": "scattergeo"
           }
          ],
          "scattergl": [
           {
            "marker": {
             "colorbar": {
              "outlinewidth": 0,
              "ticks": ""
             }
            },
            "type": "scattergl"
           }
          ],
          "scattermapbox": [
           {
            "marker": {
             "colorbar": {
              "outlinewidth": 0,
              "ticks": ""
             }
            },
            "type": "scattermapbox"
           }
          ],
          "scatterpolar": [
           {
            "marker": {
             "colorbar": {
              "outlinewidth": 0,
              "ticks": ""
             }
            },
            "type": "scatterpolar"
           }
          ],
          "scatterpolargl": [
           {
            "marker": {
             "colorbar": {
              "outlinewidth": 0,
              "ticks": ""
             }
            },
            "type": "scatterpolargl"
           }
          ],
          "scatterternary": [
           {
            "marker": {
             "colorbar": {
              "outlinewidth": 0,
              "ticks": ""
             }
            },
            "type": "scatterternary"
           }
          ],
          "surface": [
           {
            "colorbar": {
             "outlinewidth": 0,
             "ticks": ""
            },
            "colorscale": [
             [
              0,
              "#0d0887"
             ],
             [
              0.1111111111111111,
              "#46039f"
             ],
             [
              0.2222222222222222,
              "#7201a8"
             ],
             [
              0.3333333333333333,
              "#9c179e"
             ],
             [
              0.4444444444444444,
              "#bd3786"
             ],
             [
              0.5555555555555556,
              "#d8576b"
             ],
             [
              0.6666666666666666,
              "#ed7953"
             ],
             [
              0.7777777777777778,
              "#fb9f3a"
             ],
             [
              0.8888888888888888,
              "#fdca26"
             ],
             [
              1,
              "#f0f921"
             ]
            ],
            "type": "surface"
           }
          ],
          "table": [
           {
            "cells": {
             "fill": {
              "color": "#EBF0F8"
             },
             "line": {
              "color": "white"
             }
            },
            "header": {
             "fill": {
              "color": "#C8D4E3"
             },
             "line": {
              "color": "white"
             }
            },
            "type": "table"
           }
          ]
         },
         "layout": {
          "annotationdefaults": {
           "arrowcolor": "#2a3f5f",
           "arrowhead": 0,
           "arrowwidth": 1
          },
          "autotypenumbers": "strict",
          "coloraxis": {
           "colorbar": {
            "outlinewidth": 0,
            "ticks": ""
           }
          },
          "colorscale": {
           "diverging": [
            [
             0,
             "#8e0152"
            ],
            [
             0.1,
             "#c51b7d"
            ],
            [
             0.2,
             "#de77ae"
            ],
            [
             0.3,
             "#f1b6da"
            ],
            [
             0.4,
             "#fde0ef"
            ],
            [
             0.5,
             "#f7f7f7"
            ],
            [
             0.6,
             "#e6f5d0"
            ],
            [
             0.7,
             "#b8e186"
            ],
            [
             0.8,
             "#7fbc41"
            ],
            [
             0.9,
             "#4d9221"
            ],
            [
             1,
             "#276419"
            ]
           ],
           "sequential": [
            [
             0,
             "#0d0887"
            ],
            [
             0.1111111111111111,
             "#46039f"
            ],
            [
             0.2222222222222222,
             "#7201a8"
            ],
            [
             0.3333333333333333,
             "#9c179e"
            ],
            [
             0.4444444444444444,
             "#bd3786"
            ],
            [
             0.5555555555555556,
             "#d8576b"
            ],
            [
             0.6666666666666666,
             "#ed7953"
            ],
            [
             0.7777777777777778,
             "#fb9f3a"
            ],
            [
             0.8888888888888888,
             "#fdca26"
            ],
            [
             1,
             "#f0f921"
            ]
           ],
           "sequentialminus": [
            [
             0,
             "#0d0887"
            ],
            [
             0.1111111111111111,
             "#46039f"
            ],
            [
             0.2222222222222222,
             "#7201a8"
            ],
            [
             0.3333333333333333,
             "#9c179e"
            ],
            [
             0.4444444444444444,
             "#bd3786"
            ],
            [
             0.5555555555555556,
             "#d8576b"
            ],
            [
             0.6666666666666666,
             "#ed7953"
            ],
            [
             0.7777777777777778,
             "#fb9f3a"
            ],
            [
             0.8888888888888888,
             "#fdca26"
            ],
            [
             1,
             "#f0f921"
            ]
           ]
          },
          "colorway": [
           "#636efa",
           "#EF553B",
           "#00cc96",
           "#ab63fa",
           "#FFA15A",
           "#19d3f3",
           "#FF6692",
           "#B6E880",
           "#FF97FF",
           "#FECB52"
          ],
          "font": {
           "color": "#2a3f5f"
          },
          "geo": {
           "bgcolor": "white",
           "lakecolor": "white",
           "landcolor": "#E5ECF6",
           "showlakes": true,
           "showland": true,
           "subunitcolor": "white"
          },
          "hoverlabel": {
           "align": "left"
          },
          "hovermode": "closest",
          "mapbox": {
           "style": "light"
          },
          "paper_bgcolor": "white",
          "plot_bgcolor": "#E5ECF6",
          "polar": {
           "angularaxis": {
            "gridcolor": "white",
            "linecolor": "white",
            "ticks": ""
           },
           "bgcolor": "#E5ECF6",
           "radialaxis": {
            "gridcolor": "white",
            "linecolor": "white",
            "ticks": ""
           }
          },
          "scene": {
           "xaxis": {
            "backgroundcolor": "#E5ECF6",
            "gridcolor": "white",
            "gridwidth": 2,
            "linecolor": "white",
            "showbackground": true,
            "ticks": "",
            "zerolinecolor": "white"
           },
           "yaxis": {
            "backgroundcolor": "#E5ECF6",
            "gridcolor": "white",
            "gridwidth": 2,
            "linecolor": "white",
            "showbackground": true,
            "ticks": "",
            "zerolinecolor": "white"
           },
           "zaxis": {
            "backgroundcolor": "#E5ECF6",
            "gridcolor": "white",
            "gridwidth": 2,
            "linecolor": "white",
            "showbackground": true,
            "ticks": "",
            "zerolinecolor": "white"
           }
          },
          "shapedefaults": {
           "line": {
            "color": "#2a3f5f"
           }
          },
          "ternary": {
           "aaxis": {
            "gridcolor": "white",
            "linecolor": "white",
            "ticks": ""
           },
           "baxis": {
            "gridcolor": "white",
            "linecolor": "white",
            "ticks": ""
           },
           "bgcolor": "#E5ECF6",
           "caxis": {
            "gridcolor": "white",
            "linecolor": "white",
            "ticks": ""
           }
          },
          "title": {
           "x": 0.05
          },
          "xaxis": {
           "automargin": true,
           "gridcolor": "white",
           "linecolor": "white",
           "ticks": "",
           "title": {
            "standoff": 15
           },
           "zerolinecolor": "white",
           "zerolinewidth": 2
          },
          "yaxis": {
           "automargin": true,
           "gridcolor": "white",
           "linecolor": "white",
           "ticks": "",
           "title": {
            "standoff": 15
           },
           "zerolinecolor": "white",
           "zerolinewidth": 2
          }
         }
        },
        "title": {
         "font": {
          "color": "black",
          "family": "Helvetica",
          "size": 20
         },
         "text": "Lineup vs. RHP - Mean RAA: 180.14<br>SD: 47.67, 25th Percentile: 148.61, 75th Percentile: 212.55",
         "x": 0.5,
         "xanchor": "center",
         "y": 0.95,
         "yanchor": "top"
        },
        "width": 800
       }
      }
     },
     "metadata": {},
     "output_type": "display_data"
    },
    {
     "data": {
      "application/vnd.plotly.v1+json": {
       "config": {
        "plotlyServerURL": "https://plot.ly"
       },
       "data": [
        {
         "cells": {
          "align": "center",
          "fill": {
           "color": [
            "white",
            "#FFA500"
           ]
          },
          "font": {
           "color": "black",
           "family": "Helvetica",
           "size": 13
          },
          "height": 30,
          "values": [
           [
            "C",
            "1B",
            "2B",
            "3B",
            "SS",
            "LF",
            "CF",
            "RF",
            "DH",
            "Total"
           ],
           [
            "Adley Rutschman",
            "Ryan Mountcastle",
            "Joey Ortiz",
            "Jordan Westburg",
            "Gunnar Henderson",
            "Cedric Mullins",
            "Colton Cowser",
            "Austin Hays",
            "Anthony Santander",
            ""
           ],
           [
            17.2,
            15.5,
            4.4,
            6.5,
            8.4,
            -5.3,
            -8.7,
            5.3,
            7,
            ""
           ],
           [
            12,
            -1,
            15,
            3,
            5,
            15,
            1,
            8,
            0,
            ""
           ],
           [
            29.2,
            14.5,
            19.4,
            9.5,
            13.4,
            9.7,
            -7.7,
            13.3,
            7,
            108.3
           ]
          ]
         },
         "header": {
          "align": "center",
          "fill": {
           "color": "white"
          },
          "font": {
           "color": "black",
           "family": "Helvetica",
           "size": 14
          },
          "values": [
           "Position",
           "Player",
           "Offensive RAA",
           "Defensive RAA",
           "Total RAA"
          ]
         },
         "type": "table"
        }
       ],
       "layout": {
        "height": 400,
        "margin": {
         "b": 5,
         "l": 5,
         "r": 5,
         "t": 50
        },
        "paper_bgcolor": "white",
        "template": {
         "data": {
          "bar": [
           {
            "error_x": {
             "color": "#2a3f5f"
            },
            "error_y": {
             "color": "#2a3f5f"
            },
            "marker": {
             "line": {
              "color": "#E5ECF6",
              "width": 0.5
             },
             "pattern": {
              "fillmode": "overlay",
              "size": 10,
              "solidity": 0.2
             }
            },
            "type": "bar"
           }
          ],
          "barpolar": [
           {
            "marker": {
             "line": {
              "color": "#E5ECF6",
              "width": 0.5
             },
             "pattern": {
              "fillmode": "overlay",
              "size": 10,
              "solidity": 0.2
             }
            },
            "type": "barpolar"
           }
          ],
          "carpet": [
           {
            "aaxis": {
             "endlinecolor": "#2a3f5f",
             "gridcolor": "white",
             "linecolor": "white",
             "minorgridcolor": "white",
             "startlinecolor": "#2a3f5f"
            },
            "baxis": {
             "endlinecolor": "#2a3f5f",
             "gridcolor": "white",
             "linecolor": "white",
             "minorgridcolor": "white",
             "startlinecolor": "#2a3f5f"
            },
            "type": "carpet"
           }
          ],
          "choropleth": [
           {
            "colorbar": {
             "outlinewidth": 0,
             "ticks": ""
            },
            "type": "choropleth"
           }
          ],
          "contour": [
           {
            "colorbar": {
             "outlinewidth": 0,
             "ticks": ""
            },
            "colorscale": [
             [
              0,
              "#0d0887"
             ],
             [
              0.1111111111111111,
              "#46039f"
             ],
             [
              0.2222222222222222,
              "#7201a8"
             ],
             [
              0.3333333333333333,
              "#9c179e"
             ],
             [
              0.4444444444444444,
              "#bd3786"
             ],
             [
              0.5555555555555556,
              "#d8576b"
             ],
             [
              0.6666666666666666,
              "#ed7953"
             ],
             [
              0.7777777777777778,
              "#fb9f3a"
             ],
             [
              0.8888888888888888,
              "#fdca26"
             ],
             [
              1,
              "#f0f921"
             ]
            ],
            "type": "contour"
           }
          ],
          "contourcarpet": [
           {
            "colorbar": {
             "outlinewidth": 0,
             "ticks": ""
            },
            "type": "contourcarpet"
           }
          ],
          "heatmap": [
           {
            "colorbar": {
             "outlinewidth": 0,
             "ticks": ""
            },
            "colorscale": [
             [
              0,
              "#0d0887"
             ],
             [
              0.1111111111111111,
              "#46039f"
             ],
             [
              0.2222222222222222,
              "#7201a8"
             ],
             [
              0.3333333333333333,
              "#9c179e"
             ],
             [
              0.4444444444444444,
              "#bd3786"
             ],
             [
              0.5555555555555556,
              "#d8576b"
             ],
             [
              0.6666666666666666,
              "#ed7953"
             ],
             [
              0.7777777777777778,
              "#fb9f3a"
             ],
             [
              0.8888888888888888,
              "#fdca26"
             ],
             [
              1,
              "#f0f921"
             ]
            ],
            "type": "heatmap"
           }
          ],
          "heatmapgl": [
           {
            "colorbar": {
             "outlinewidth": 0,
             "ticks": ""
            },
            "colorscale": [
             [
              0,
              "#0d0887"
             ],
             [
              0.1111111111111111,
              "#46039f"
             ],
             [
              0.2222222222222222,
              "#7201a8"
             ],
             [
              0.3333333333333333,
              "#9c179e"
             ],
             [
              0.4444444444444444,
              "#bd3786"
             ],
             [
              0.5555555555555556,
              "#d8576b"
             ],
             [
              0.6666666666666666,
              "#ed7953"
             ],
             [
              0.7777777777777778,
              "#fb9f3a"
             ],
             [
              0.8888888888888888,
              "#fdca26"
             ],
             [
              1,
              "#f0f921"
             ]
            ],
            "type": "heatmapgl"
           }
          ],
          "histogram": [
           {
            "marker": {
             "pattern": {
              "fillmode": "overlay",
              "size": 10,
              "solidity": 0.2
             }
            },
            "type": "histogram"
           }
          ],
          "histogram2d": [
           {
            "colorbar": {
             "outlinewidth": 0,
             "ticks": ""
            },
            "colorscale": [
             [
              0,
              "#0d0887"
             ],
             [
              0.1111111111111111,
              "#46039f"
             ],
             [
              0.2222222222222222,
              "#7201a8"
             ],
             [
              0.3333333333333333,
              "#9c179e"
             ],
             [
              0.4444444444444444,
              "#bd3786"
             ],
             [
              0.5555555555555556,
              "#d8576b"
             ],
             [
              0.6666666666666666,
              "#ed7953"
             ],
             [
              0.7777777777777778,
              "#fb9f3a"
             ],
             [
              0.8888888888888888,
              "#fdca26"
             ],
             [
              1,
              "#f0f921"
             ]
            ],
            "type": "histogram2d"
           }
          ],
          "histogram2dcontour": [
           {
            "colorbar": {
             "outlinewidth": 0,
             "ticks": ""
            },
            "colorscale": [
             [
              0,
              "#0d0887"
             ],
             [
              0.1111111111111111,
              "#46039f"
             ],
             [
              0.2222222222222222,
              "#7201a8"
             ],
             [
              0.3333333333333333,
              "#9c179e"
             ],
             [
              0.4444444444444444,
              "#bd3786"
             ],
             [
              0.5555555555555556,
              "#d8576b"
             ],
             [
              0.6666666666666666,
              "#ed7953"
             ],
             [
              0.7777777777777778,
              "#fb9f3a"
             ],
             [
              0.8888888888888888,
              "#fdca26"
             ],
             [
              1,
              "#f0f921"
             ]
            ],
            "type": "histogram2dcontour"
           }
          ],
          "mesh3d": [
           {
            "colorbar": {
             "outlinewidth": 0,
             "ticks": ""
            },
            "type": "mesh3d"
           }
          ],
          "parcoords": [
           {
            "line": {
             "colorbar": {
              "outlinewidth": 0,
              "ticks": ""
             }
            },
            "type": "parcoords"
           }
          ],
          "pie": [
           {
            "automargin": true,
            "type": "pie"
           }
          ],
          "scatter": [
           {
            "fillpattern": {
             "fillmode": "overlay",
             "size": 10,
             "solidity": 0.2
            },
            "type": "scatter"
           }
          ],
          "scatter3d": [
           {
            "line": {
             "colorbar": {
              "outlinewidth": 0,
              "ticks": ""
             }
            },
            "marker": {
             "colorbar": {
              "outlinewidth": 0,
              "ticks": ""
             }
            },
            "type": "scatter3d"
           }
          ],
          "scattercarpet": [
           {
            "marker": {
             "colorbar": {
              "outlinewidth": 0,
              "ticks": ""
             }
            },
            "type": "scattercarpet"
           }
          ],
          "scattergeo": [
           {
            "marker": {
             "colorbar": {
              "outlinewidth": 0,
              "ticks": ""
             }
            },
            "type": "scattergeo"
           }
          ],
          "scattergl": [
           {
            "marker": {
             "colorbar": {
              "outlinewidth": 0,
              "ticks": ""
             }
            },
            "type": "scattergl"
           }
          ],
          "scattermapbox": [
           {
            "marker": {
             "colorbar": {
              "outlinewidth": 0,
              "ticks": ""
             }
            },
            "type": "scattermapbox"
           }
          ],
          "scatterpolar": [
           {
            "marker": {
             "colorbar": {
              "outlinewidth": 0,
              "ticks": ""
             }
            },
            "type": "scatterpolar"
           }
          ],
          "scatterpolargl": [
           {
            "marker": {
             "colorbar": {
              "outlinewidth": 0,
              "ticks": ""
             }
            },
            "type": "scatterpolargl"
           }
          ],
          "scatterternary": [
           {
            "marker": {
             "colorbar": {
              "outlinewidth": 0,
              "ticks": ""
             }
            },
            "type": "scatterternary"
           }
          ],
          "surface": [
           {
            "colorbar": {
             "outlinewidth": 0,
             "ticks": ""
            },
            "colorscale": [
             [
              0,
              "#0d0887"
             ],
             [
              0.1111111111111111,
              "#46039f"
             ],
             [
              0.2222222222222222,
              "#7201a8"
             ],
             [
              0.3333333333333333,
              "#9c179e"
             ],
             [
              0.4444444444444444,
              "#bd3786"
             ],
             [
              0.5555555555555556,
              "#d8576b"
             ],
             [
              0.6666666666666666,
              "#ed7953"
             ],
             [
              0.7777777777777778,
              "#fb9f3a"
             ],
             [
              0.8888888888888888,
              "#fdca26"
             ],
             [
              1,
              "#f0f921"
             ]
            ],
            "type": "surface"
           }
          ],
          "table": [
           {
            "cells": {
             "fill": {
              "color": "#EBF0F8"
             },
             "line": {
              "color": "white"
             }
            },
            "header": {
             "fill": {
              "color": "#C8D4E3"
             },
             "line": {
              "color": "white"
             }
            },
            "type": "table"
           }
          ]
         },
         "layout": {
          "annotationdefaults": {
           "arrowcolor": "#2a3f5f",
           "arrowhead": 0,
           "arrowwidth": 1
          },
          "autotypenumbers": "strict",
          "coloraxis": {
           "colorbar": {
            "outlinewidth": 0,
            "ticks": ""
           }
          },
          "colorscale": {
           "diverging": [
            [
             0,
             "#8e0152"
            ],
            [
             0.1,
             "#c51b7d"
            ],
            [
             0.2,
             "#de77ae"
            ],
            [
             0.3,
             "#f1b6da"
            ],
            [
             0.4,
             "#fde0ef"
            ],
            [
             0.5,
             "#f7f7f7"
            ],
            [
             0.6,
             "#e6f5d0"
            ],
            [
             0.7,
             "#b8e186"
            ],
            [
             0.8,
             "#7fbc41"
            ],
            [
             0.9,
             "#4d9221"
            ],
            [
             1,
             "#276419"
            ]
           ],
           "sequential": [
            [
             0,
             "#0d0887"
            ],
            [
             0.1111111111111111,
             "#46039f"
            ],
            [
             0.2222222222222222,
             "#7201a8"
            ],
            [
             0.3333333333333333,
             "#9c179e"
            ],
            [
             0.4444444444444444,
             "#bd3786"
            ],
            [
             0.5555555555555556,
             "#d8576b"
            ],
            [
             0.6666666666666666,
             "#ed7953"
            ],
            [
             0.7777777777777778,
             "#fb9f3a"
            ],
            [
             0.8888888888888888,
             "#fdca26"
            ],
            [
             1,
             "#f0f921"
            ]
           ],
           "sequentialminus": [
            [
             0,
             "#0d0887"
            ],
            [
             0.1111111111111111,
             "#46039f"
            ],
            [
             0.2222222222222222,
             "#7201a8"
            ],
            [
             0.3333333333333333,
             "#9c179e"
            ],
            [
             0.4444444444444444,
             "#bd3786"
            ],
            [
             0.5555555555555556,
             "#d8576b"
            ],
            [
             0.6666666666666666,
             "#ed7953"
            ],
            [
             0.7777777777777778,
             "#fb9f3a"
            ],
            [
             0.8888888888888888,
             "#fdca26"
            ],
            [
             1,
             "#f0f921"
            ]
           ]
          },
          "colorway": [
           "#636efa",
           "#EF553B",
           "#00cc96",
           "#ab63fa",
           "#FFA15A",
           "#19d3f3",
           "#FF6692",
           "#B6E880",
           "#FF97FF",
           "#FECB52"
          ],
          "font": {
           "color": "#2a3f5f"
          },
          "geo": {
           "bgcolor": "white",
           "lakecolor": "white",
           "landcolor": "#E5ECF6",
           "showlakes": true,
           "showland": true,
           "subunitcolor": "white"
          },
          "hoverlabel": {
           "align": "left"
          },
          "hovermode": "closest",
          "mapbox": {
           "style": "light"
          },
          "paper_bgcolor": "white",
          "plot_bgcolor": "#E5ECF6",
          "polar": {
           "angularaxis": {
            "gridcolor": "white",
            "linecolor": "white",
            "ticks": ""
           },
           "bgcolor": "#E5ECF6",
           "radialaxis": {
            "gridcolor": "white",
            "linecolor": "white",
            "ticks": ""
           }
          },
          "scene": {
           "xaxis": {
            "backgroundcolor": "#E5ECF6",
            "gridcolor": "white",
            "gridwidth": 2,
            "linecolor": "white",
            "showbackground": true,
            "ticks": "",
            "zerolinecolor": "white"
           },
           "yaxis": {
            "backgroundcolor": "#E5ECF6",
            "gridcolor": "white",
            "gridwidth": 2,
            "linecolor": "white",
            "showbackground": true,
            "ticks": "",
            "zerolinecolor": "white"
           },
           "zaxis": {
            "backgroundcolor": "#E5ECF6",
            "gridcolor": "white",
            "gridwidth": 2,
            "linecolor": "white",
            "showbackground": true,
            "ticks": "",
            "zerolinecolor": "white"
           }
          },
          "shapedefaults": {
           "line": {
            "color": "#2a3f5f"
           }
          },
          "ternary": {
           "aaxis": {
            "gridcolor": "white",
            "linecolor": "white",
            "ticks": ""
           },
           "baxis": {
            "gridcolor": "white",
            "linecolor": "white",
            "ticks": ""
           },
           "bgcolor": "#E5ECF6",
           "caxis": {
            "gridcolor": "white",
            "linecolor": "white",
            "ticks": ""
           }
          },
          "title": {
           "x": 0.05
          },
          "xaxis": {
           "automargin": true,
           "gridcolor": "white",
           "linecolor": "white",
           "ticks": "",
           "title": {
            "standoff": 15
           },
           "zerolinecolor": "white",
           "zerolinewidth": 2
          },
          "yaxis": {
           "automargin": true,
           "gridcolor": "white",
           "linecolor": "white",
           "ticks": "",
           "title": {
            "standoff": 15
           },
           "zerolinecolor": "white",
           "zerolinewidth": 2
          }
         }
        },
        "title": {
         "font": {
          "color": "black",
          "family": "Helvetica",
          "size": 20
         },
         "text": "Lineup vs. LHP - Mean RAA: 109.32<br>SD: 44.17, 25th Percentile: 80.32, 75th Percentile: 139.68",
         "x": 0.5,
         "xanchor": "center",
         "y": 0.95,
         "yanchor": "top"
        },
        "width": 800
       }
      }
     },
     "metadata": {},
     "output_type": "display_data"
    }
   ],
   "source": [
    "create_and_display_lineup_visual(optimized_rhp_lineup, player_data, \"RHP\")\n",
    "create_and_display_lineup_visual(optimized_lhp_lineup, player_data, \"LHP\")"
   ]
  },
  {
   "cell_type": "code",
   "execution_count": 26,
   "metadata": {},
   "outputs": [
    {
     "name": "stderr",
     "output_type": "stream",
     "text": [
      "/var/folders/8n/g8bq8_011kv24tnfb649vgmw0000gn/T/ipykernel_1988/3622556812.py:22: FutureWarning:\n",
      "\n",
      "The frame.append method is deprecated and will be removed from pandas in a future version. Use pandas.concat instead.\n",
      "\n",
      "/var/folders/8n/g8bq8_011kv24tnfb649vgmw0000gn/T/ipykernel_1988/2147977177.py:25: SettingWithCopyWarning:\n",
      "\n",
      "\n",
      "A value is trying to be set on a copy of a slice from a DataFrame.\n",
      "Try using .loc[row_indexer,col_indexer] = value instead\n",
      "\n",
      "See the caveats in the documentation: https://pandas.pydata.org/pandas-docs/stable/user_guide/indexing.html#returning-a-view-versus-a-copy\n",
      "\n",
      "/var/folders/8n/g8bq8_011kv24tnfb649vgmw0000gn/T/ipykernel_1988/2147977177.py:25: SettingWithCopyWarning:\n",
      "\n",
      "\n",
      "A value is trying to be set on a copy of a slice from a DataFrame.\n",
      "Try using .loc[row_indexer,col_indexer] = value instead\n",
      "\n",
      "See the caveats in the documentation: https://pandas.pydata.org/pandas-docs/stable/user_guide/indexing.html#returning-a-view-versus-a-copy\n",
      "\n"
     ]
    },
    {
     "data": {
      "application/vnd.plotly.v1+json": {
       "config": {
        "plotlyServerURL": "https://plot.ly"
       },
       "data": [
        {
         "cells": {
          "align": "center",
          "fill": {
           "color": [
            "white",
            "#FFA500"
           ]
          },
          "font": {
           "color": "black",
           "family": "Helvetica",
           "size": 13
          },
          "height": 30,
          "values": [
           [
            "C",
            "1B",
            "2B",
            "3B",
            "SS",
            "LF",
            "CF",
            "RF",
            "DH",
            "Total"
           ],
           [
            "Adley Rutschman",
            "Ryan O'Hearn",
            "Joey Ortiz",
            "Gunnar Henderson",
            "Jackson Holliday",
            "Cedric Mullins",
            "Colton Cowser",
            "Sal Frelick",
            "Anthony Santander",
            ""
           ],
           [
            27.2,
            10.2,
            -4.6,
            33.4,
            13.3,
            12.7,
            9.3,
            0.6,
            14,
            ""
           ],
           [
            12,
            -3,
            15,
            10,
            5,
            15,
            1,
            23.7,
            0,
            ""
           ],
           [
            39.2,
            7.2,
            10.4,
            43.4,
            18.3,
            27.7,
            10.3,
            24.29,
            14,
            194.79
           ]
          ]
         },
         "header": {
          "align": "center",
          "fill": {
           "color": "white"
          },
          "font": {
           "color": "black",
           "family": "Helvetica",
           "size": 14
          },
          "values": [
           "Position",
           "Player",
           "Offensive RAA",
           "Defensive RAA",
           "Total RAA"
          ]
         },
         "type": "table"
        }
       ],
       "layout": {
        "height": 400,
        "margin": {
         "b": 5,
         "l": 5,
         "r": 5,
         "t": 50
        },
        "paper_bgcolor": "white",
        "template": {
         "data": {
          "bar": [
           {
            "error_x": {
             "color": "#2a3f5f"
            },
            "error_y": {
             "color": "#2a3f5f"
            },
            "marker": {
             "line": {
              "color": "#E5ECF6",
              "width": 0.5
             },
             "pattern": {
              "fillmode": "overlay",
              "size": 10,
              "solidity": 0.2
             }
            },
            "type": "bar"
           }
          ],
          "barpolar": [
           {
            "marker": {
             "line": {
              "color": "#E5ECF6",
              "width": 0.5
             },
             "pattern": {
              "fillmode": "overlay",
              "size": 10,
              "solidity": 0.2
             }
            },
            "type": "barpolar"
           }
          ],
          "carpet": [
           {
            "aaxis": {
             "endlinecolor": "#2a3f5f",
             "gridcolor": "white",
             "linecolor": "white",
             "minorgridcolor": "white",
             "startlinecolor": "#2a3f5f"
            },
            "baxis": {
             "endlinecolor": "#2a3f5f",
             "gridcolor": "white",
             "linecolor": "white",
             "minorgridcolor": "white",
             "startlinecolor": "#2a3f5f"
            },
            "type": "carpet"
           }
          ],
          "choropleth": [
           {
            "colorbar": {
             "outlinewidth": 0,
             "ticks": ""
            },
            "type": "choropleth"
           }
          ],
          "contour": [
           {
            "colorbar": {
             "outlinewidth": 0,
             "ticks": ""
            },
            "colorscale": [
             [
              0,
              "#0d0887"
             ],
             [
              0.1111111111111111,
              "#46039f"
             ],
             [
              0.2222222222222222,
              "#7201a8"
             ],
             [
              0.3333333333333333,
              "#9c179e"
             ],
             [
              0.4444444444444444,
              "#bd3786"
             ],
             [
              0.5555555555555556,
              "#d8576b"
             ],
             [
              0.6666666666666666,
              "#ed7953"
             ],
             [
              0.7777777777777778,
              "#fb9f3a"
             ],
             [
              0.8888888888888888,
              "#fdca26"
             ],
             [
              1,
              "#f0f921"
             ]
            ],
            "type": "contour"
           }
          ],
          "contourcarpet": [
           {
            "colorbar": {
             "outlinewidth": 0,
             "ticks": ""
            },
            "type": "contourcarpet"
           }
          ],
          "heatmap": [
           {
            "colorbar": {
             "outlinewidth": 0,
             "ticks": ""
            },
            "colorscale": [
             [
              0,
              "#0d0887"
             ],
             [
              0.1111111111111111,
              "#46039f"
             ],
             [
              0.2222222222222222,
              "#7201a8"
             ],
             [
              0.3333333333333333,
              "#9c179e"
             ],
             [
              0.4444444444444444,
              "#bd3786"
             ],
             [
              0.5555555555555556,
              "#d8576b"
             ],
             [
              0.6666666666666666,
              "#ed7953"
             ],
             [
              0.7777777777777778,
              "#fb9f3a"
             ],
             [
              0.8888888888888888,
              "#fdca26"
             ],
             [
              1,
              "#f0f921"
             ]
            ],
            "type": "heatmap"
           }
          ],
          "heatmapgl": [
           {
            "colorbar": {
             "outlinewidth": 0,
             "ticks": ""
            },
            "colorscale": [
             [
              0,
              "#0d0887"
             ],
             [
              0.1111111111111111,
              "#46039f"
             ],
             [
              0.2222222222222222,
              "#7201a8"
             ],
             [
              0.3333333333333333,
              "#9c179e"
             ],
             [
              0.4444444444444444,
              "#bd3786"
             ],
             [
              0.5555555555555556,
              "#d8576b"
             ],
             [
              0.6666666666666666,
              "#ed7953"
             ],
             [
              0.7777777777777778,
              "#fb9f3a"
             ],
             [
              0.8888888888888888,
              "#fdca26"
             ],
             [
              1,
              "#f0f921"
             ]
            ],
            "type": "heatmapgl"
           }
          ],
          "histogram": [
           {
            "marker": {
             "pattern": {
              "fillmode": "overlay",
              "size": 10,
              "solidity": 0.2
             }
            },
            "type": "histogram"
           }
          ],
          "histogram2d": [
           {
            "colorbar": {
             "outlinewidth": 0,
             "ticks": ""
            },
            "colorscale": [
             [
              0,
              "#0d0887"
             ],
             [
              0.1111111111111111,
              "#46039f"
             ],
             [
              0.2222222222222222,
              "#7201a8"
             ],
             [
              0.3333333333333333,
              "#9c179e"
             ],
             [
              0.4444444444444444,
              "#bd3786"
             ],
             [
              0.5555555555555556,
              "#d8576b"
             ],
             [
              0.6666666666666666,
              "#ed7953"
             ],
             [
              0.7777777777777778,
              "#fb9f3a"
             ],
             [
              0.8888888888888888,
              "#fdca26"
             ],
             [
              1,
              "#f0f921"
             ]
            ],
            "type": "histogram2d"
           }
          ],
          "histogram2dcontour": [
           {
            "colorbar": {
             "outlinewidth": 0,
             "ticks": ""
            },
            "colorscale": [
             [
              0,
              "#0d0887"
             ],
             [
              0.1111111111111111,
              "#46039f"
             ],
             [
              0.2222222222222222,
              "#7201a8"
             ],
             [
              0.3333333333333333,
              "#9c179e"
             ],
             [
              0.4444444444444444,
              "#bd3786"
             ],
             [
              0.5555555555555556,
              "#d8576b"
             ],
             [
              0.6666666666666666,
              "#ed7953"
             ],
             [
              0.7777777777777778,
              "#fb9f3a"
             ],
             [
              0.8888888888888888,
              "#fdca26"
             ],
             [
              1,
              "#f0f921"
             ]
            ],
            "type": "histogram2dcontour"
           }
          ],
          "mesh3d": [
           {
            "colorbar": {
             "outlinewidth": 0,
             "ticks": ""
            },
            "type": "mesh3d"
           }
          ],
          "parcoords": [
           {
            "line": {
             "colorbar": {
              "outlinewidth": 0,
              "ticks": ""
             }
            },
            "type": "parcoords"
           }
          ],
          "pie": [
           {
            "automargin": true,
            "type": "pie"
           }
          ],
          "scatter": [
           {
            "fillpattern": {
             "fillmode": "overlay",
             "size": 10,
             "solidity": 0.2
            },
            "type": "scatter"
           }
          ],
          "scatter3d": [
           {
            "line": {
             "colorbar": {
              "outlinewidth": 0,
              "ticks": ""
             }
            },
            "marker": {
             "colorbar": {
              "outlinewidth": 0,
              "ticks": ""
             }
            },
            "type": "scatter3d"
           }
          ],
          "scattercarpet": [
           {
            "marker": {
             "colorbar": {
              "outlinewidth": 0,
              "ticks": ""
             }
            },
            "type": "scattercarpet"
           }
          ],
          "scattergeo": [
           {
            "marker": {
             "colorbar": {
              "outlinewidth": 0,
              "ticks": ""
             }
            },
            "type": "scattergeo"
           }
          ],
          "scattergl": [
           {
            "marker": {
             "colorbar": {
              "outlinewidth": 0,
              "ticks": ""
             }
            },
            "type": "scattergl"
           }
          ],
          "scattermapbox": [
           {
            "marker": {
             "colorbar": {
              "outlinewidth": 0,
              "ticks": ""
             }
            },
            "type": "scattermapbox"
           }
          ],
          "scatterpolar": [
           {
            "marker": {
             "colorbar": {
              "outlinewidth": 0,
              "ticks": ""
             }
            },
            "type": "scatterpolar"
           }
          ],
          "scatterpolargl": [
           {
            "marker": {
             "colorbar": {
              "outlinewidth": 0,
              "ticks": ""
             }
            },
            "type": "scatterpolargl"
           }
          ],
          "scatterternary": [
           {
            "marker": {
             "colorbar": {
              "outlinewidth": 0,
              "ticks": ""
             }
            },
            "type": "scatterternary"
           }
          ],
          "surface": [
           {
            "colorbar": {
             "outlinewidth": 0,
             "ticks": ""
            },
            "colorscale": [
             [
              0,
              "#0d0887"
             ],
             [
              0.1111111111111111,
              "#46039f"
             ],
             [
              0.2222222222222222,
              "#7201a8"
             ],
             [
              0.3333333333333333,
              "#9c179e"
             ],
             [
              0.4444444444444444,
              "#bd3786"
             ],
             [
              0.5555555555555556,
              "#d8576b"
             ],
             [
              0.6666666666666666,
              "#ed7953"
             ],
             [
              0.7777777777777778,
              "#fb9f3a"
             ],
             [
              0.8888888888888888,
              "#fdca26"
             ],
             [
              1,
              "#f0f921"
             ]
            ],
            "type": "surface"
           }
          ],
          "table": [
           {
            "cells": {
             "fill": {
              "color": "#EBF0F8"
             },
             "line": {
              "color": "white"
             }
            },
            "header": {
             "fill": {
              "color": "#C8D4E3"
             },
             "line": {
              "color": "white"
             }
            },
            "type": "table"
           }
          ]
         },
         "layout": {
          "annotationdefaults": {
           "arrowcolor": "#2a3f5f",
           "arrowhead": 0,
           "arrowwidth": 1
          },
          "autotypenumbers": "strict",
          "coloraxis": {
           "colorbar": {
            "outlinewidth": 0,
            "ticks": ""
           }
          },
          "colorscale": {
           "diverging": [
            [
             0,
             "#8e0152"
            ],
            [
             0.1,
             "#c51b7d"
            ],
            [
             0.2,
             "#de77ae"
            ],
            [
             0.3,
             "#f1b6da"
            ],
            [
             0.4,
             "#fde0ef"
            ],
            [
             0.5,
             "#f7f7f7"
            ],
            [
             0.6,
             "#e6f5d0"
            ],
            [
             0.7,
             "#b8e186"
            ],
            [
             0.8,
             "#7fbc41"
            ],
            [
             0.9,
             "#4d9221"
            ],
            [
             1,
             "#276419"
            ]
           ],
           "sequential": [
            [
             0,
             "#0d0887"
            ],
            [
             0.1111111111111111,
             "#46039f"
            ],
            [
             0.2222222222222222,
             "#7201a8"
            ],
            [
             0.3333333333333333,
             "#9c179e"
            ],
            [
             0.4444444444444444,
             "#bd3786"
            ],
            [
             0.5555555555555556,
             "#d8576b"
            ],
            [
             0.6666666666666666,
             "#ed7953"
            ],
            [
             0.7777777777777778,
             "#fb9f3a"
            ],
            [
             0.8888888888888888,
             "#fdca26"
            ],
            [
             1,
             "#f0f921"
            ]
           ],
           "sequentialminus": [
            [
             0,
             "#0d0887"
            ],
            [
             0.1111111111111111,
             "#46039f"
            ],
            [
             0.2222222222222222,
             "#7201a8"
            ],
            [
             0.3333333333333333,
             "#9c179e"
            ],
            [
             0.4444444444444444,
             "#bd3786"
            ],
            [
             0.5555555555555556,
             "#d8576b"
            ],
            [
             0.6666666666666666,
             "#ed7953"
            ],
            [
             0.7777777777777778,
             "#fb9f3a"
            ],
            [
             0.8888888888888888,
             "#fdca26"
            ],
            [
             1,
             "#f0f921"
            ]
           ]
          },
          "colorway": [
           "#636efa",
           "#EF553B",
           "#00cc96",
           "#ab63fa",
           "#FFA15A",
           "#19d3f3",
           "#FF6692",
           "#B6E880",
           "#FF97FF",
           "#FECB52"
          ],
          "font": {
           "color": "#2a3f5f"
          },
          "geo": {
           "bgcolor": "white",
           "lakecolor": "white",
           "landcolor": "#E5ECF6",
           "showlakes": true,
           "showland": true,
           "subunitcolor": "white"
          },
          "hoverlabel": {
           "align": "left"
          },
          "hovermode": "closest",
          "mapbox": {
           "style": "light"
          },
          "paper_bgcolor": "white",
          "plot_bgcolor": "#E5ECF6",
          "polar": {
           "angularaxis": {
            "gridcolor": "white",
            "linecolor": "white",
            "ticks": ""
           },
           "bgcolor": "#E5ECF6",
           "radialaxis": {
            "gridcolor": "white",
            "linecolor": "white",
            "ticks": ""
           }
          },
          "scene": {
           "xaxis": {
            "backgroundcolor": "#E5ECF6",
            "gridcolor": "white",
            "gridwidth": 2,
            "linecolor": "white",
            "showbackground": true,
            "ticks": "",
            "zerolinecolor": "white"
           },
           "yaxis": {
            "backgroundcolor": "#E5ECF6",
            "gridcolor": "white",
            "gridwidth": 2,
            "linecolor": "white",
            "showbackground": true,
            "ticks": "",
            "zerolinecolor": "white"
           },
           "zaxis": {
            "backgroundcolor": "#E5ECF6",
            "gridcolor": "white",
            "gridwidth": 2,
            "linecolor": "white",
            "showbackground": true,
            "ticks": "",
            "zerolinecolor": "white"
           }
          },
          "shapedefaults": {
           "line": {
            "color": "#2a3f5f"
           }
          },
          "ternary": {
           "aaxis": {
            "gridcolor": "white",
            "linecolor": "white",
            "ticks": ""
           },
           "baxis": {
            "gridcolor": "white",
            "linecolor": "white",
            "ticks": ""
           },
           "bgcolor": "#E5ECF6",
           "caxis": {
            "gridcolor": "white",
            "linecolor": "white",
            "ticks": ""
           }
          },
          "title": {
           "x": 0.05
          },
          "xaxis": {
           "automargin": true,
           "gridcolor": "white",
           "linecolor": "white",
           "ticks": "",
           "title": {
            "standoff": 15
           },
           "zerolinecolor": "white",
           "zerolinewidth": 2
          },
          "yaxis": {
           "automargin": true,
           "gridcolor": "white",
           "linecolor": "white",
           "ticks": "",
           "title": {
            "standoff": 15
           },
           "zerolinecolor": "white",
           "zerolinewidth": 2
          }
         }
        },
        "title": {
         "font": {
          "color": "black",
          "family": "Helvetica",
          "size": 20
         },
         "text": "Lineup vs. RHP - Mean RAA: 194.58<br>SD: 51.44, 25th Percentile: 159.43, 75th Percentile: 227.98",
         "x": 0.5,
         "xanchor": "center",
         "y": 0.95,
         "yanchor": "top"
        },
        "width": 800
       }
      }
     },
     "metadata": {},
     "output_type": "display_data"
    },
    {
     "data": {
      "application/vnd.plotly.v1+json": {
       "config": {
        "plotlyServerURL": "https://plot.ly"
       },
       "data": [
        {
         "cells": {
          "align": "center",
          "fill": {
           "color": [
            "white",
            "#FFA500"
           ]
          },
          "font": {
           "color": "black",
           "family": "Helvetica",
           "size": 13
          },
          "height": 30,
          "values": [
           [
            "C",
            "1B",
            "2B",
            "3B",
            "SS",
            "LF",
            "CF",
            "RF",
            "DH",
            "Total"
           ],
           [
            "Adley Rutschman",
            "Ryan Mountcastle",
            "Joey Ortiz",
            "Jordan Westburg",
            "Gunnar Henderson",
            "Cedric Mullins",
            "Sal Frelick",
            "Austin Hays",
            "Anthony Santander",
            ""
           ],
           [
            17.2,
            15.5,
            4.4,
            6.5,
            8.4,
            -5.3,
            -5.01,
            5.3,
            7,
            ""
           ],
           [
            12,
            -1,
            15,
            3,
            5,
            15,
            14.88,
            8,
            0,
            ""
           ],
           [
            29.2,
            14.5,
            19.4,
            9.5,
            13.4,
            9.7,
            9.87,
            13.3,
            7,
            125.87
           ]
          ]
         },
         "header": {
          "align": "center",
          "fill": {
           "color": "white"
          },
          "font": {
           "color": "black",
           "family": "Helvetica",
           "size": 14
          },
          "values": [
           "Position",
           "Player",
           "Offensive RAA",
           "Defensive RAA",
           "Total RAA"
          ]
         },
         "type": "table"
        }
       ],
       "layout": {
        "height": 400,
        "margin": {
         "b": 5,
         "l": 5,
         "r": 5,
         "t": 50
        },
        "paper_bgcolor": "white",
        "template": {
         "data": {
          "bar": [
           {
            "error_x": {
             "color": "#2a3f5f"
            },
            "error_y": {
             "color": "#2a3f5f"
            },
            "marker": {
             "line": {
              "color": "#E5ECF6",
              "width": 0.5
             },
             "pattern": {
              "fillmode": "overlay",
              "size": 10,
              "solidity": 0.2
             }
            },
            "type": "bar"
           }
          ],
          "barpolar": [
           {
            "marker": {
             "line": {
              "color": "#E5ECF6",
              "width": 0.5
             },
             "pattern": {
              "fillmode": "overlay",
              "size": 10,
              "solidity": 0.2
             }
            },
            "type": "barpolar"
           }
          ],
          "carpet": [
           {
            "aaxis": {
             "endlinecolor": "#2a3f5f",
             "gridcolor": "white",
             "linecolor": "white",
             "minorgridcolor": "white",
             "startlinecolor": "#2a3f5f"
            },
            "baxis": {
             "endlinecolor": "#2a3f5f",
             "gridcolor": "white",
             "linecolor": "white",
             "minorgridcolor": "white",
             "startlinecolor": "#2a3f5f"
            },
            "type": "carpet"
           }
          ],
          "choropleth": [
           {
            "colorbar": {
             "outlinewidth": 0,
             "ticks": ""
            },
            "type": "choropleth"
           }
          ],
          "contour": [
           {
            "colorbar": {
             "outlinewidth": 0,
             "ticks": ""
            },
            "colorscale": [
             [
              0,
              "#0d0887"
             ],
             [
              0.1111111111111111,
              "#46039f"
             ],
             [
              0.2222222222222222,
              "#7201a8"
             ],
             [
              0.3333333333333333,
              "#9c179e"
             ],
             [
              0.4444444444444444,
              "#bd3786"
             ],
             [
              0.5555555555555556,
              "#d8576b"
             ],
             [
              0.6666666666666666,
              "#ed7953"
             ],
             [
              0.7777777777777778,
              "#fb9f3a"
             ],
             [
              0.8888888888888888,
              "#fdca26"
             ],
             [
              1,
              "#f0f921"
             ]
            ],
            "type": "contour"
           }
          ],
          "contourcarpet": [
           {
            "colorbar": {
             "outlinewidth": 0,
             "ticks": ""
            },
            "type": "contourcarpet"
           }
          ],
          "heatmap": [
           {
            "colorbar": {
             "outlinewidth": 0,
             "ticks": ""
            },
            "colorscale": [
             [
              0,
              "#0d0887"
             ],
             [
              0.1111111111111111,
              "#46039f"
             ],
             [
              0.2222222222222222,
              "#7201a8"
             ],
             [
              0.3333333333333333,
              "#9c179e"
             ],
             [
              0.4444444444444444,
              "#bd3786"
             ],
             [
              0.5555555555555556,
              "#d8576b"
             ],
             [
              0.6666666666666666,
              "#ed7953"
             ],
             [
              0.7777777777777778,
              "#fb9f3a"
             ],
             [
              0.8888888888888888,
              "#fdca26"
             ],
             [
              1,
              "#f0f921"
             ]
            ],
            "type": "heatmap"
           }
          ],
          "heatmapgl": [
           {
            "colorbar": {
             "outlinewidth": 0,
             "ticks": ""
            },
            "colorscale": [
             [
              0,
              "#0d0887"
             ],
             [
              0.1111111111111111,
              "#46039f"
             ],
             [
              0.2222222222222222,
              "#7201a8"
             ],
             [
              0.3333333333333333,
              "#9c179e"
             ],
             [
              0.4444444444444444,
              "#bd3786"
             ],
             [
              0.5555555555555556,
              "#d8576b"
             ],
             [
              0.6666666666666666,
              "#ed7953"
             ],
             [
              0.7777777777777778,
              "#fb9f3a"
             ],
             [
              0.8888888888888888,
              "#fdca26"
             ],
             [
              1,
              "#f0f921"
             ]
            ],
            "type": "heatmapgl"
           }
          ],
          "histogram": [
           {
            "marker": {
             "pattern": {
              "fillmode": "overlay",
              "size": 10,
              "solidity": 0.2
             }
            },
            "type": "histogram"
           }
          ],
          "histogram2d": [
           {
            "colorbar": {
             "outlinewidth": 0,
             "ticks": ""
            },
            "colorscale": [
             [
              0,
              "#0d0887"
             ],
             [
              0.1111111111111111,
              "#46039f"
             ],
             [
              0.2222222222222222,
              "#7201a8"
             ],
             [
              0.3333333333333333,
              "#9c179e"
             ],
             [
              0.4444444444444444,
              "#bd3786"
             ],
             [
              0.5555555555555556,
              "#d8576b"
             ],
             [
              0.6666666666666666,
              "#ed7953"
             ],
             [
              0.7777777777777778,
              "#fb9f3a"
             ],
             [
              0.8888888888888888,
              "#fdca26"
             ],
             [
              1,
              "#f0f921"
             ]
            ],
            "type": "histogram2d"
           }
          ],
          "histogram2dcontour": [
           {
            "colorbar": {
             "outlinewidth": 0,
             "ticks": ""
            },
            "colorscale": [
             [
              0,
              "#0d0887"
             ],
             [
              0.1111111111111111,
              "#46039f"
             ],
             [
              0.2222222222222222,
              "#7201a8"
             ],
             [
              0.3333333333333333,
              "#9c179e"
             ],
             [
              0.4444444444444444,
              "#bd3786"
             ],
             [
              0.5555555555555556,
              "#d8576b"
             ],
             [
              0.6666666666666666,
              "#ed7953"
             ],
             [
              0.7777777777777778,
              "#fb9f3a"
             ],
             [
              0.8888888888888888,
              "#fdca26"
             ],
             [
              1,
              "#f0f921"
             ]
            ],
            "type": "histogram2dcontour"
           }
          ],
          "mesh3d": [
           {
            "colorbar": {
             "outlinewidth": 0,
             "ticks": ""
            },
            "type": "mesh3d"
           }
          ],
          "parcoords": [
           {
            "line": {
             "colorbar": {
              "outlinewidth": 0,
              "ticks": ""
             }
            },
            "type": "parcoords"
           }
          ],
          "pie": [
           {
            "automargin": true,
            "type": "pie"
           }
          ],
          "scatter": [
           {
            "fillpattern": {
             "fillmode": "overlay",
             "size": 10,
             "solidity": 0.2
            },
            "type": "scatter"
           }
          ],
          "scatter3d": [
           {
            "line": {
             "colorbar": {
              "outlinewidth": 0,
              "ticks": ""
             }
            },
            "marker": {
             "colorbar": {
              "outlinewidth": 0,
              "ticks": ""
             }
            },
            "type": "scatter3d"
           }
          ],
          "scattercarpet": [
           {
            "marker": {
             "colorbar": {
              "outlinewidth": 0,
              "ticks": ""
             }
            },
            "type": "scattercarpet"
           }
          ],
          "scattergeo": [
           {
            "marker": {
             "colorbar": {
              "outlinewidth": 0,
              "ticks": ""
             }
            },
            "type": "scattergeo"
           }
          ],
          "scattergl": [
           {
            "marker": {
             "colorbar": {
              "outlinewidth": 0,
              "ticks": ""
             }
            },
            "type": "scattergl"
           }
          ],
          "scattermapbox": [
           {
            "marker": {
             "colorbar": {
              "outlinewidth": 0,
              "ticks": ""
             }
            },
            "type": "scattermapbox"
           }
          ],
          "scatterpolar": [
           {
            "marker": {
             "colorbar": {
              "outlinewidth": 0,
              "ticks": ""
             }
            },
            "type": "scatterpolar"
           }
          ],
          "scatterpolargl": [
           {
            "marker": {
             "colorbar": {
              "outlinewidth": 0,
              "ticks": ""
             }
            },
            "type": "scatterpolargl"
           }
          ],
          "scatterternary": [
           {
            "marker": {
             "colorbar": {
              "outlinewidth": 0,
              "ticks": ""
             }
            },
            "type": "scatterternary"
           }
          ],
          "surface": [
           {
            "colorbar": {
             "outlinewidth": 0,
             "ticks": ""
            },
            "colorscale": [
             [
              0,
              "#0d0887"
             ],
             [
              0.1111111111111111,
              "#46039f"
             ],
             [
              0.2222222222222222,
              "#7201a8"
             ],
             [
              0.3333333333333333,
              "#9c179e"
             ],
             [
              0.4444444444444444,
              "#bd3786"
             ],
             [
              0.5555555555555556,
              "#d8576b"
             ],
             [
              0.6666666666666666,
              "#ed7953"
             ],
             [
              0.7777777777777778,
              "#fb9f3a"
             ],
             [
              0.8888888888888888,
              "#fdca26"
             ],
             [
              1,
              "#f0f921"
             ]
            ],
            "type": "surface"
           }
          ],
          "table": [
           {
            "cells": {
             "fill": {
              "color": "#EBF0F8"
             },
             "line": {
              "color": "white"
             }
            },
            "header": {
             "fill": {
              "color": "#C8D4E3"
             },
             "line": {
              "color": "white"
             }
            },
            "type": "table"
           }
          ]
         },
         "layout": {
          "annotationdefaults": {
           "arrowcolor": "#2a3f5f",
           "arrowhead": 0,
           "arrowwidth": 1
          },
          "autotypenumbers": "strict",
          "coloraxis": {
           "colorbar": {
            "outlinewidth": 0,
            "ticks": ""
           }
          },
          "colorscale": {
           "diverging": [
            [
             0,
             "#8e0152"
            ],
            [
             0.1,
             "#c51b7d"
            ],
            [
             0.2,
             "#de77ae"
            ],
            [
             0.3,
             "#f1b6da"
            ],
            [
             0.4,
             "#fde0ef"
            ],
            [
             0.5,
             "#f7f7f7"
            ],
            [
             0.6,
             "#e6f5d0"
            ],
            [
             0.7,
             "#b8e186"
            ],
            [
             0.8,
             "#7fbc41"
            ],
            [
             0.9,
             "#4d9221"
            ],
            [
             1,
             "#276419"
            ]
           ],
           "sequential": [
            [
             0,
             "#0d0887"
            ],
            [
             0.1111111111111111,
             "#46039f"
            ],
            [
             0.2222222222222222,
             "#7201a8"
            ],
            [
             0.3333333333333333,
             "#9c179e"
            ],
            [
             0.4444444444444444,
             "#bd3786"
            ],
            [
             0.5555555555555556,
             "#d8576b"
            ],
            [
             0.6666666666666666,
             "#ed7953"
            ],
            [
             0.7777777777777778,
             "#fb9f3a"
            ],
            [
             0.8888888888888888,
             "#fdca26"
            ],
            [
             1,
             "#f0f921"
            ]
           ],
           "sequentialminus": [
            [
             0,
             "#0d0887"
            ],
            [
             0.1111111111111111,
             "#46039f"
            ],
            [
             0.2222222222222222,
             "#7201a8"
            ],
            [
             0.3333333333333333,
             "#9c179e"
            ],
            [
             0.4444444444444444,
             "#bd3786"
            ],
            [
             0.5555555555555556,
             "#d8576b"
            ],
            [
             0.6666666666666666,
             "#ed7953"
            ],
            [
             0.7777777777777778,
             "#fb9f3a"
            ],
            [
             0.8888888888888888,
             "#fdca26"
            ],
            [
             1,
             "#f0f921"
            ]
           ]
          },
          "colorway": [
           "#636efa",
           "#EF553B",
           "#00cc96",
           "#ab63fa",
           "#FFA15A",
           "#19d3f3",
           "#FF6692",
           "#B6E880",
           "#FF97FF",
           "#FECB52"
          ],
          "font": {
           "color": "#2a3f5f"
          },
          "geo": {
           "bgcolor": "white",
           "lakecolor": "white",
           "landcolor": "#E5ECF6",
           "showlakes": true,
           "showland": true,
           "subunitcolor": "white"
          },
          "hoverlabel": {
           "align": "left"
          },
          "hovermode": "closest",
          "mapbox": {
           "style": "light"
          },
          "paper_bgcolor": "white",
          "plot_bgcolor": "#E5ECF6",
          "polar": {
           "angularaxis": {
            "gridcolor": "white",
            "linecolor": "white",
            "ticks": ""
           },
           "bgcolor": "#E5ECF6",
           "radialaxis": {
            "gridcolor": "white",
            "linecolor": "white",
            "ticks": ""
           }
          },
          "scene": {
           "xaxis": {
            "backgroundcolor": "#E5ECF6",
            "gridcolor": "white",
            "gridwidth": 2,
            "linecolor": "white",
            "showbackground": true,
            "ticks": "",
            "zerolinecolor": "white"
           },
           "yaxis": {
            "backgroundcolor": "#E5ECF6",
            "gridcolor": "white",
            "gridwidth": 2,
            "linecolor": "white",
            "showbackground": true,
            "ticks": "",
            "zerolinecolor": "white"
           },
           "zaxis": {
            "backgroundcolor": "#E5ECF6",
            "gridcolor": "white",
            "gridwidth": 2,
            "linecolor": "white",
            "showbackground": true,
            "ticks": "",
            "zerolinecolor": "white"
           }
          },
          "shapedefaults": {
           "line": {
            "color": "#2a3f5f"
           }
          },
          "ternary": {
           "aaxis": {
            "gridcolor": "white",
            "linecolor": "white",
            "ticks": ""
           },
           "baxis": {
            "gridcolor": "white",
            "linecolor": "white",
            "ticks": ""
           },
           "bgcolor": "#E5ECF6",
           "caxis": {
            "gridcolor": "white",
            "linecolor": "white",
            "ticks": ""
           }
          },
          "title": {
           "x": 0.05
          },
          "xaxis": {
           "automargin": true,
           "gridcolor": "white",
           "linecolor": "white",
           "ticks": "",
           "title": {
            "standoff": 15
           },
           "zerolinecolor": "white",
           "zerolinewidth": 2
          },
          "yaxis": {
           "automargin": true,
           "gridcolor": "white",
           "linecolor": "white",
           "ticks": "",
           "title": {
            "standoff": 15
           },
           "zerolinecolor": "white",
           "zerolinewidth": 2
          }
         }
        },
        "title": {
         "font": {
          "color": "black",
          "family": "Helvetica",
          "size": 20
         },
         "text": "Lineup vs. LHP - Mean RAA: 126.44<br>SD: 46.77, 25th Percentile: 92.49, 75th Percentile: 159.81",
         "x": 0.5,
         "xanchor": "center",
         "y": 0.95,
         "yanchor": "top"
        },
        "width": 800
       }
      }
     },
     "metadata": {},
     "output_type": "display_data"
    }
   ],
   "source": [
    "frelick = {\n",
    "    'id': 664056,\n",
    "    'Name': 'Sal Frelick',\n",
    "    'bats': 'R',\n",
    "    'bat': -1.1945825908574963,\n",
    "    'bat_sd': 17.0,\n",
    "    'plat': 0,\n",
    "    'bat_vsRHP': 0.5964567496379495,\n",
    "    'bat_vsLHP': -5.01049749422324,\n",
    "    'C': np.nan,     # Assuming NaN should be represented by np.nan\n",
    "    '1B': np.nan,\n",
    "    '2B': np.nan,\n",
    "    '3B': np.nan,\n",
    "    'SS': np.nan,\n",
    "    'LF': 14, # No way it's less than this with respect to the process\n",
    "    'CF': 14.87755102040816,\n",
    "    'RF': 23.697683868346203\n",
    "}\n",
    "\n",
    "\n",
    "player_data_w_frelick = player_data.append(frelick, ignore_index=True)\n",
    "player_data_w_frelick.fillna(-1000, inplace=True)\n",
    "optimized_rhp_lineup, optimized_rhp_runs, optimized_rhp_sd, optimized_lhp_lineup, optimized_lhp_runs, optimized_lhp_sd = optimize_dual_lineups(player_data_w_frelick)\n",
    "create_and_display_lineup_visual(optimized_rhp_lineup, player_data_w_frelick , \"RHP\")\n",
    "create_and_display_lineup_visual(optimized_lhp_lineup, player_data_w_frelick , \"LHP\")\n"
   ]
  }
 ],
 "metadata": {
  "kernelspec": {
   "display_name": "Python 3",
   "language": "python",
   "name": "python3"
  },
  "language_info": {
   "codemirror_mode": {
    "name": "ipython",
    "version": 3
   },
   "file_extension": ".py",
   "mimetype": "text/x-python",
   "name": "python",
   "nbconvert_exporter": "python",
   "pygments_lexer": "ipython3",
   "version": "3.10.4"
  },
  "orig_nbformat": 4
 },
 "nbformat": 4,
 "nbformat_minor": 2
}
