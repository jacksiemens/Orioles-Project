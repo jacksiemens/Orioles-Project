{
 "cells": [
  {
   "cell_type": "code",
   "execution_count": 3,
   "metadata": {},
   "outputs": [],
   "source": [
    "import pandas as pd\n",
    "import plotly.graph_objects as go\n",
    "import pandas as pd\n"
   ]
  },
  {
   "cell_type": "code",
   "execution_count": 17,
   "metadata": {},
   "outputs": [
    {
     "data": {
      "text/html": [
       "<div>\n",
       "<style scoped>\n",
       "    .dataframe tbody tr th:only-of-type {\n",
       "        vertical-align: middle;\n",
       "    }\n",
       "\n",
       "    .dataframe tbody tr th {\n",
       "        vertical-align: top;\n",
       "    }\n",
       "\n",
       "    .dataframe thead th {\n",
       "        text-align: right;\n",
       "    }\n",
       "</style>\n",
       "<table border=\"1\" class=\"dataframe\">\n",
       "  <thead>\n",
       "    <tr style=\"text-align: right;\">\n",
       "      <th></th>\n",
       "      <th>Name</th>\n",
       "      <th>3B</th>\n",
       "      <th>SS</th>\n",
       "      <th>2B</th>\n",
       "      <th>1B</th>\n",
       "      <th>LF</th>\n",
       "      <th>CF</th>\n",
       "      <th>RF</th>\n",
       "      <th>DH</th>\n",
       "      <th>C</th>\n",
       "    </tr>\n",
       "  </thead>\n",
       "  <tbody>\n",
       "    <tr>\n",
       "      <th>0</th>\n",
       "      <td>Anthony Bemboom</td>\n",
       "      <td>0</td>\n",
       "      <td>0</td>\n",
       "      <td>0</td>\n",
       "      <td>0</td>\n",
       "      <td>0</td>\n",
       "      <td>0</td>\n",
       "      <td>0</td>\n",
       "      <td>0</td>\n",
       "      <td>6</td>\n",
       "    </tr>\n",
       "    <tr>\n",
       "      <th>1</th>\n",
       "      <td>Colton Cowser</td>\n",
       "      <td>0</td>\n",
       "      <td>0</td>\n",
       "      <td>0</td>\n",
       "      <td>0</td>\n",
       "      <td>7</td>\n",
       "      <td>10</td>\n",
       "      <td>12</td>\n",
       "      <td>0</td>\n",
       "      <td>0</td>\n",
       "    </tr>\n",
       "    <tr>\n",
       "      <th>2</th>\n",
       "      <td>Adam Frazier</td>\n",
       "      <td>0</td>\n",
       "      <td>0</td>\n",
       "      <td>130</td>\n",
       "      <td>0</td>\n",
       "      <td>3</td>\n",
       "      <td>0</td>\n",
       "      <td>7</td>\n",
       "      <td>2</td>\n",
       "      <td>0</td>\n",
       "    </tr>\n",
       "    <tr>\n",
       "      <th>3</th>\n",
       "      <td>Austin Hays</td>\n",
       "      <td>0</td>\n",
       "      <td>0</td>\n",
       "      <td>0</td>\n",
       "      <td>0</td>\n",
       "      <td>137</td>\n",
       "      <td>7</td>\n",
       "      <td>5</td>\n",
       "      <td>3</td>\n",
       "      <td>0</td>\n",
       "    </tr>\n",
       "    <tr>\n",
       "      <th>4</th>\n",
       "      <td>Gunnar Henderson</td>\n",
       "      <td>84</td>\n",
       "      <td>83</td>\n",
       "      <td>0</td>\n",
       "      <td>0</td>\n",
       "      <td>0</td>\n",
       "      <td>0</td>\n",
       "      <td>0</td>\n",
       "      <td>11</td>\n",
       "      <td>0</td>\n",
       "    </tr>\n",
       "    <tr>\n",
       "      <th>5</th>\n",
       "      <td>Aaron Hicks</td>\n",
       "      <td>0</td>\n",
       "      <td>0</td>\n",
       "      <td>0</td>\n",
       "      <td>0</td>\n",
       "      <td>11</td>\n",
       "      <td>37</td>\n",
       "      <td>21</td>\n",
       "      <td>6</td>\n",
       "      <td>0</td>\n",
       "    </tr>\n",
       "    <tr>\n",
       "      <th>6</th>\n",
       "      <td>Heston Kjerstad</td>\n",
       "      <td>0</td>\n",
       "      <td>0</td>\n",
       "      <td>0</td>\n",
       "      <td>0</td>\n",
       "      <td>3</td>\n",
       "      <td>0</td>\n",
       "      <td>1</td>\n",
       "      <td>6</td>\n",
       "      <td>0</td>\n",
       "    </tr>\n",
       "    <tr>\n",
       "      <th>7</th>\n",
       "      <td>Mark Kolozsvary</td>\n",
       "      <td>0</td>\n",
       "      <td>0</td>\n",
       "      <td>0</td>\n",
       "      <td>0</td>\n",
       "      <td>0</td>\n",
       "      <td>0</td>\n",
       "      <td>0</td>\n",
       "      <td>0</td>\n",
       "      <td>1</td>\n",
       "    </tr>\n",
       "    <tr>\n",
       "      <th>8</th>\n",
       "      <td>Josh Lester</td>\n",
       "      <td>1</td>\n",
       "      <td>0</td>\n",
       "      <td>0</td>\n",
       "      <td>5</td>\n",
       "      <td>0</td>\n",
       "      <td>0</td>\n",
       "      <td>1</td>\n",
       "      <td>2</td>\n",
       "      <td>0</td>\n",
       "    </tr>\n",
       "    <tr>\n",
       "      <th>9</th>\n",
       "      <td>Jorge Mateo</td>\n",
       "      <td>0</td>\n",
       "      <td>110</td>\n",
       "      <td>0</td>\n",
       "      <td>0</td>\n",
       "      <td>0</td>\n",
       "      <td>4</td>\n",
       "      <td>0</td>\n",
       "      <td>2</td>\n",
       "      <td>0</td>\n",
       "    </tr>\n",
       "    <tr>\n",
       "      <th>10</th>\n",
       "      <td>James McCann</td>\n",
       "      <td>0</td>\n",
       "      <td>0</td>\n",
       "      <td>0</td>\n",
       "      <td>2</td>\n",
       "      <td>0</td>\n",
       "      <td>0</td>\n",
       "      <td>0</td>\n",
       "      <td>7</td>\n",
       "      <td>59</td>\n",
       "    </tr>\n",
       "    <tr>\n",
       "      <th>11</th>\n",
       "      <td>Ryan McKenna</td>\n",
       "      <td>0</td>\n",
       "      <td>0</td>\n",
       "      <td>0</td>\n",
       "      <td>0</td>\n",
       "      <td>15</td>\n",
       "      <td>25</td>\n",
       "      <td>55</td>\n",
       "      <td>1</td>\n",
       "      <td>0</td>\n",
       "    </tr>\n",
       "    <tr>\n",
       "      <th>12</th>\n",
       "      <td>Ryan Mountcastle</td>\n",
       "      <td>0</td>\n",
       "      <td>0</td>\n",
       "      <td>0</td>\n",
       "      <td>90</td>\n",
       "      <td>0</td>\n",
       "      <td>0</td>\n",
       "      <td>0</td>\n",
       "      <td>23</td>\n",
       "      <td>0</td>\n",
       "    </tr>\n",
       "    <tr>\n",
       "      <th>13</th>\n",
       "      <td>Cedric Mullins</td>\n",
       "      <td>0</td>\n",
       "      <td>0</td>\n",
       "      <td>0</td>\n",
       "      <td>0</td>\n",
       "      <td>0</td>\n",
       "      <td>110</td>\n",
       "      <td>0</td>\n",
       "      <td>3</td>\n",
       "      <td>0</td>\n",
       "    </tr>\n",
       "    <tr>\n",
       "      <th>14</th>\n",
       "      <td>Ryan O'Hearn</td>\n",
       "      <td>0</td>\n",
       "      <td>0</td>\n",
       "      <td>0</td>\n",
       "      <td>70</td>\n",
       "      <td>6</td>\n",
       "      <td>0</td>\n",
       "      <td>23</td>\n",
       "      <td>14</td>\n",
       "      <td>0</td>\n",
       "    </tr>\n",
       "    <tr>\n",
       "      <th>15</th>\n",
       "      <td>Joey Ortiz</td>\n",
       "      <td>4</td>\n",
       "      <td>3</td>\n",
       "      <td>7</td>\n",
       "      <td>0</td>\n",
       "      <td>0</td>\n",
       "      <td>0</td>\n",
       "      <td>0</td>\n",
       "      <td>0</td>\n",
       "      <td>0</td>\n",
       "    </tr>\n",
       "    <tr>\n",
       "      <th>16</th>\n",
       "      <td>Adley Rutschman</td>\n",
       "      <td>0</td>\n",
       "      <td>0</td>\n",
       "      <td>0</td>\n",
       "      <td>0</td>\n",
       "      <td>0</td>\n",
       "      <td>0</td>\n",
       "      <td>0</td>\n",
       "      <td>46</td>\n",
       "      <td>110</td>\n",
       "    </tr>\n",
       "    <tr>\n",
       "      <th>17</th>\n",
       "      <td>Anthony Santander</td>\n",
       "      <td>0</td>\n",
       "      <td>0</td>\n",
       "      <td>0</td>\n",
       "      <td>12</td>\n",
       "      <td>1</td>\n",
       "      <td>0</td>\n",
       "      <td>97</td>\n",
       "      <td>47</td>\n",
       "      <td>0</td>\n",
       "    </tr>\n",
       "    <tr>\n",
       "      <th>18</th>\n",
       "      <td>Kyle Stowers</td>\n",
       "      <td>0</td>\n",
       "      <td>0</td>\n",
       "      <td>0</td>\n",
       "      <td>0</td>\n",
       "      <td>4</td>\n",
       "      <td>0</td>\n",
       "      <td>6</td>\n",
       "      <td>1</td>\n",
       "      <td>0</td>\n",
       "    </tr>\n",
       "    <tr>\n",
       "      <th>19</th>\n",
       "      <td>Ramón Urías</td>\n",
       "      <td>92</td>\n",
       "      <td>0</td>\n",
       "      <td>22</td>\n",
       "      <td>13</td>\n",
       "      <td>0</td>\n",
       "      <td>0</td>\n",
       "      <td>0</td>\n",
       "      <td>3</td>\n",
       "      <td>0</td>\n",
       "    </tr>\n",
       "    <tr>\n",
       "      <th>20</th>\n",
       "      <td>Terrin Vavra</td>\n",
       "      <td>2</td>\n",
       "      <td>0</td>\n",
       "      <td>1</td>\n",
       "      <td>0</td>\n",
       "      <td>6</td>\n",
       "      <td>0</td>\n",
       "      <td>13</td>\n",
       "      <td>4</td>\n",
       "      <td>0</td>\n",
       "    </tr>\n",
       "    <tr>\n",
       "      <th>21</th>\n",
       "      <td>Jordan Westburg</td>\n",
       "      <td>29</td>\n",
       "      <td>0</td>\n",
       "      <td>50</td>\n",
       "      <td>0</td>\n",
       "      <td>0</td>\n",
       "      <td>0</td>\n",
       "      <td>0</td>\n",
       "      <td>1</td>\n",
       "      <td>0</td>\n",
       "    </tr>\n",
       "  </tbody>\n",
       "</table>\n",
       "</div>"
      ],
      "text/plain": [
       "                 Name  3B   SS   2B  1B   LF   CF  RF  DH    C\n",
       "0     Anthony Bemboom   0    0    0   0    0    0   0   0    6\n",
       "1       Colton Cowser   0    0    0   0    7   10  12   0    0\n",
       "2        Adam Frazier   0    0  130   0    3    0   7   2    0\n",
       "3         Austin Hays   0    0    0   0  137    7   5   3    0\n",
       "4    Gunnar Henderson  84   83    0   0    0    0   0  11    0\n",
       "5         Aaron Hicks   0    0    0   0   11   37  21   6    0\n",
       "6     Heston Kjerstad   0    0    0   0    3    0   1   6    0\n",
       "7     Mark Kolozsvary   0    0    0   0    0    0   0   0    1\n",
       "8         Josh Lester   1    0    0   5    0    0   1   2    0\n",
       "9         Jorge Mateo   0  110    0   0    0    4   0   2    0\n",
       "10       James McCann   0    0    0   2    0    0   0   7   59\n",
       "11       Ryan McKenna   0    0    0   0   15   25  55   1    0\n",
       "12   Ryan Mountcastle   0    0    0  90    0    0   0  23    0\n",
       "13     Cedric Mullins   0    0    0   0    0  110   0   3    0\n",
       "14       Ryan O'Hearn   0    0    0  70    6    0  23  14    0\n",
       "15         Joey Ortiz   4    3    7   0    0    0   0   0    0\n",
       "16    Adley Rutschman   0    0    0   0    0    0   0  46  110\n",
       "17  Anthony Santander   0    0    0  12    1    0  97  47    0\n",
       "18       Kyle Stowers   0    0    0   0    4    0   6   1    0\n",
       "19        Ramón Urías  92    0   22  13    0    0   0   3    0\n",
       "20       Terrin Vavra   2    0    1   0    6    0  13   4    0\n",
       "21    Jordan Westburg  29    0   50   0    0    0   0   1    0"
      ]
     },
     "execution_count": 17,
     "metadata": {},
     "output_type": "execute_result"
    }
   ],
   "source": [
    "orioles = pd.read_csv(\"data/BR_orioles_dc.csv\")\n",

    "\n",
    "non_pitching_positions = [\"3B\", \"SS\", \"2B\", \"1B\", \"LF\", \"CF\", \"RF\", \"DH\", \"C\"]\n",
    "position_columns = [pos for pos in non_pitching_positions if pos in orioles.columns]\n",
    "\n",
    "position_players = orioles[position_columns].sum(axis=1) > 0\n",
    "orioles = orioles[position_players].reset_index()\n",
    "select_cols = [\"Name\",\"3B\", \"SS\", \"2B\", \"1B\", \"LF\", \"CF\", \"RF\", \"DH\", \"C\"]\n",
    "orioles = orioles[select_cols]\n",
    "\n",
    "orioles\n",
    "\n"
   ]
  },
  {
   "cell_type": "code",
   "execution_count": 20,
   "metadata": {},
   "outputs": [
    {
     "name": "stderr",
     "output_type": "stream",
     "text": [
      "/var/folders/8n/g8bq8_011kv24tnfb649vgmw0000gn/T/ipykernel_26623/2169349909.py:14: FutureWarning:\n",
      "\n",
      "The frame.append method is deprecated and will be removed from pandas in a future version. Use pandas.concat instead.\n",
      "\n",
      "/var/folders/8n/g8bq8_011kv24tnfb649vgmw0000gn/T/ipykernel_26623/2169349909.py:14: FutureWarning:\n",
      "\n",
      "The frame.append method is deprecated and will be removed from pandas in a future version. Use pandas.concat instead.\n",
      "\n",
      "/var/folders/8n/g8bq8_011kv24tnfb649vgmw0000gn/T/ipykernel_26623/2169349909.py:14: FutureWarning:\n",
      "\n",
      "The frame.append method is deprecated and will be removed from pandas in a future version. Use pandas.concat instead.\n",
      "\n",
      "/var/folders/8n/g8bq8_011kv24tnfb649vgmw0000gn/T/ipykernel_26623/2169349909.py:14: FutureWarning:\n",
      "\n",
      "The frame.append method is deprecated and will be removed from pandas in a future version. Use pandas.concat instead.\n",
      "\n",
      "/var/folders/8n/g8bq8_011kv24tnfb649vgmw0000gn/T/ipykernel_26623/2169349909.py:14: FutureWarning:\n",
      "\n",
      "The frame.append method is deprecated and will be removed from pandas in a future version. Use pandas.concat instead.\n",
      "\n",
      "/var/folders/8n/g8bq8_011kv24tnfb649vgmw0000gn/T/ipykernel_26623/2169349909.py:14: FutureWarning:\n",
      "\n",
      "The frame.append method is deprecated and will be removed from pandas in a future version. Use pandas.concat instead.\n",
      "\n",
      "/var/folders/8n/g8bq8_011kv24tnfb649vgmw0000gn/T/ipykernel_26623/2169349909.py:14: FutureWarning:\n",
      "\n",
      "The frame.append method is deprecated and will be removed from pandas in a future version. Use pandas.concat instead.\n",
      "\n",
      "/var/folders/8n/g8bq8_011kv24tnfb649vgmw0000gn/T/ipykernel_26623/2169349909.py:14: FutureWarning:\n",
      "\n",
      "The frame.append method is deprecated and will be removed from pandas in a future version. Use pandas.concat instead.\n",
      "\n",
      "/var/folders/8n/g8bq8_011kv24tnfb649vgmw0000gn/T/ipykernel_26623/2169349909.py:14: FutureWarning:\n",
      "\n",
      "The frame.append method is deprecated and will be removed from pandas in a future version. Use pandas.concat instead.\n",
      "\n"
     ]
    }
   ],
   "source": [
    "\n",
    "# Determine the primary position for each player\n",
    "orioles['PrimaryPosition'] = orioles[non_pitching_positions].idxmax(axis=1)\n",
    "\n",
    "# Calculate the games played at primary position\n",
    "orioles['GamesPlayedAtPrimary'] = orioles.apply(lambda row: row[row['PrimaryPosition']], axis=1)\n",
    "\n",
    "# Creating a new dataframe to hold the sorted values\n",
    "orioles_sorted = pd.DataFrame()\n",
    "\n",
    "# Iterating over each position and appending the sorted data for that position\n",
    "# considering the primary position and games played at primary position\n",
    "for pos in non_pitching_positions:\n",
    "    df = orioles[(orioles['PrimaryPosition'] == pos) & (orioles[pos] > 0)].sort_values(by='GamesPlayedAtPrimary', ascending=False)\n",
    "    orioles_sorted = orioles_sorted.append(df)\n",
    "\n",
    "# Dropping duplicates since a player may appear in multiple primary positions but should only be listed once\n",
    "orioles_sorted = orioles_sorted.drop_duplicates(subset='Name')\n",
    "\n",
    "# Resetting index for clarity\n",
    "orioles_sorted.reset_index(drop=True, inplace=True)\n",
    "orioles_sorted = orioles_sorted[select_cols]\n",
    "orioles_sorted = orioles_sorted[select_cols]"
   ]
  },
  {
   "cell_type": "code",
   "execution_count": 36,
   "metadata": {},
   "outputs": [
    {
     "data": {
      "text/plain": [
       "(['aliceblue',\n",
       "  'antiquewhite',\n",
       "  'aqua',\n",
       "  'aquamarine',\n",
       "  'azure',\n",
       "  'beige',\n",
       "  'bisque',\n",
       "  'black',\n",
       "  'blanchedalmond',\n",
       "  'blue',\n",
       "  'blueviolet',\n",
       "  'brown',\n",
       "  'burlywood',\n",
       "  'cadetblue',\n",
       "  'chartreuse',\n",
       "  'chocolate',\n",
       "  'coral',\n",
       "  'cornflowerblue',\n",
       "  'cornsilk',\n",
       "  'crimson',\n",
       "  'cyan'],\n",
       " ['#ffffff',\n",
       "  '#ffffff',\n",
       "  '#4cffff',\n",
       "  '#ccffff',\n",
       "  '#ffffff',\n",
       "  '#ffffff',\n",
       "  '#ffffff',\n",
       "  '#4c4c4c',\n",
       "  '#ffffff',\n",
       "  '#4c4cff',\n",
       "  '#d678ff',\n",
       "  '#f27676',\n",
       "  '#ffffd3',\n",
       "  '#acebec',\n",
       "  '#ccff4c',\n",
       "  '#ffb56a',\n",
       "  '#ffcc9c',\n",
       "  '#b0e2ff',\n",
       "  '#ffffff',\n",
       "  '#ff6088',\n",
       "  '#4cffff'])"
      ]
     },
     "execution_count": 36,
     "metadata": {},
     "output_type": "execute_result"
    }
   ],
   "source": [
    "import matplotlib.colors as mcolors\n",
    "\n",
    "# Getting a list of color names from matplotlib\n",
    "color_names = list(mcolors.CSS4_COLORS.keys())\n",
    "\n",
    "# Since there are 21 players, we will select 21 distinct colors for NODE_COLORS\n",
    "# and create subdued versions for LINK_COLORS\n",
    "num_players = 21\n",
    "node_colors = color_names[:num_players]\n",
    "\n",
    "# Function to create subdued version of a color\n",
    "def subdue_color(color):\n",
    "    # Convert color to RGB\n",
    "    rgb = mcolors.to_rgb(color)\n",
    "    # Increase lightness to create a subdued version\n",
    "    subdued_rgb = [min(x + 0.3, 1.0) for x in rgb]\n",
    "    return mcolors.to_hex(subdued_rgb)\n",
    "\n",
    "# Creating subdued versions for LINK_COLORS\n",
    "link_colors = [subdue_color(color) for color in node_colors]\n",
    "\n",
    "node_colors, link_colors"
   ]
  },
  {
   "cell_type": "code",
   "execution_count": 91,
   "metadata": {},
   "outputs": [
    {
     "data": {
      "text/plain": [
       "(['aqua',\n",
       "  'aquamarine',\n",
       "  'blue',\n",
       "  'blueviolet',\n",
       "  'brown',\n",
       "  'burlywood',\n",
       "  'cadetblue',\n",
       "  'chartreuse',\n",
       "  'chocolate',\n",
       "  'coral',\n",
       "  'cornflowerblue',\n",
       "  'crimson',\n",
       "  'cyan',\n",
       "  'darkblue',\n",
       "  'darkcyan',\n",
       "  'darkgoldenrod',\n",
       "  'darkkhaki',\n",
       "  'darkmagenta',\n",
       "  'darkolivegreen',\n",
       "  'darkorange',\n",
       "  'darkorchid'],\n",
       " ['#8cf2f2',\n",
       "  '#c5f9e7',\n",
       "  '#8c8cf2',\n",
       "  '#c49ee7',\n",
       "  '#d78f8f',\n",
       "  '#eadbc7',\n",
       "  '#b2cbcc',\n",
       "  '#bff28c',\n",
       "  '#e4b593',\n",
       "  '#f6c3b0',\n",
       "  '#b8ccef',\n",
       "  '#e98ea0',\n",
       "  '#8cf2f2',\n",
       "  '#5858ec',\n",
       "  '#58ecec',\n",
       "  '#e8c878',\n",
       "  '#dad8b9',\n",
       "  '#ec58ec',\n",
       "  '#adc28a',\n",
       "  '#f2c48c',\n",
       "  '#c9a0de'])"
      ]
     },
     "execution_count": 91,
     "metadata": {},
     "output_type": "execute_result"
    }
   ],
   "source": [
    "import matplotlib.colors as mcolors\n",
    "import colorsys\n",
    "\n",
    "# Adjust the thresholds for vibrance and lightness to be more suitable\n",
    "def is_vibrant(rgb):\n",
    "    h, l, s = colorsys.rgb_to_hls(*rgb)\n",
    "    # Adjust thresholds for a pleasing balance of vibrance and contrast\n",
    "    return 0.25 < l < 0.8 and s > 0.25\n",
    "\n",
    "# Convert CSS color names to RGBA format with a specified opacity\n",
    "def convert_to_rgba_string(color_name, opacity):\n",
    "    # Convert to RGBA\n",
    "    rgba_color = mcolors.to_rgba(color_name, opacity)\n",
    "    # Format into a string\n",
    "    return 'rgba({},{},{},{})'.format(int(rgba_color[0]*255), int(rgba_color[1]*255), int(rgba_color[2]*255), rgba_color[3])\n",
    "\n",
    "\n",
    "# Scale function to adjust lightness and saturation\n",
    "def scale_lightness_saturation(rgb, scale_l=0.5, scale_s=1.25):\n",
    "    h, l, s = colorsys.rgb_to_hls(*rgb)\n",
    "    # Scale lightness and saturation within the range [0, 1]\n",
    "    l = max(0, min(scale_l + l * (1 - scale_l), 1))\n",
    "    s = max(0, min(s * scale_s, 1))\n",
    "    return colorsys.hls_to_rgb(h, l, s)\n",
    "\n",
    "color_names = list(mcolors.CSS4_COLORS.keys())\n",
    "vibrant_color_names = [name for name in color_names if is_vibrant(mcolors.to_rgb(mcolors.CSS4_COLORS[name]))]\n",
    "\n",
    "num_players = 21\n",
    "node_colors = vibrant_color_names[:num_players]\n",
    "\n",
    "# If there are not enough vibrant colors, adjust existing ones\n",
    "while len(node_colors) < num_players:\n",
    "    additional_colors = [scale_lightness_saturation(mcolors.to_rgb(c)) for c in node_colors]\n",
    "    node_colors.extend(additional_colors)\n",
    "node_colors = node_colors[:num_players]  # Ensure we only have num_players colors\n",
    "\n",
    "def subdue_color(color):\n",
    "    rgb = mcolors.to_rgb(color)\n",
    "    # Instead of adding a fixed value, scale the lightness and saturation\n",
    "    subdued_rgb = scale_lightness_saturation(rgb, scale_l=0.5, scale_s=0.8)\n",
    "    return mcolors.to_hex(subdued_rgb)\n",
    "\n",
    "link_colors = [subdue_color(color) for color in node_colors]\n",
    "\n",
    "node_colors, link_colors\n"
   ]
  },
  {
   "cell_type": "code",
   "execution_count": 92,
   "metadata": {},
   "outputs": [
    {
     "data": {
      "application/vnd.plotly.v1+json": {
       "config": {
        "plotlyServerURL": "https://plot.ly"
       },
       "data": [
        {
         "arrangement": "snap",
         "link": {
          "color": [
           "rgba(140,242,242,0.5)",
           "rgba(140,242,242,0.5)",
           "rgba(140,242,242,0.5)",
           "rgba(140,242,242,0.5)",
           "rgba(140,242,242,0.5)",
           "rgba(140,242,242,0.5)",
           "rgba(140,242,242,0.5)",
           "rgba(140,242,242,0.5)",
           "rgba(140,242,242,0.5)",
           "rgba(197,249,231,0.5)",
           "rgba(197,249,231,0.5)",
           "rgba(197,249,231,0.5)",
           "rgba(197,249,231,0.5)",
           "rgba(197,249,231,0.5)",
           "rgba(197,249,231,0.5)",
           "rgba(197,249,231,0.5)",
           "rgba(197,249,231,0.5)",
           "rgba(197,249,231,0.5)",
           "rgba(140,140,242,0.5)",
           "rgba(140,140,242,0.5)",
           "rgba(140,140,242,0.5)",
           "rgba(140,140,242,0.5)",
           "rgba(140,140,242,0.5)",
           "rgba(140,140,242,0.5)",
           "rgba(140,140,242,0.5)",
           "rgba(140,140,242,0.5)",
           "rgba(140,140,242,0.5)",
           "rgba(196,158,231,0.5)",
           "rgba(196,158,231,0.5)",
           "rgba(196,158,231,0.5)",
           "rgba(196,158,231,0.5)",
           "rgba(196,158,231,0.5)",
           "rgba(196,158,231,0.5)",
           "rgba(196,158,231,0.5)",
           "rgba(196,158,231,0.5)",
           "rgba(196,158,231,0.5)",
           "rgba(215,143,143,0.5)",
           "rgba(215,143,143,0.5)",
           "rgba(215,143,143,0.5)",
           "rgba(215,143,143,0.5)",
           "rgba(215,143,143,0.5)",
           "rgba(215,143,143,0.5)",
           "rgba(215,143,143,0.5)",
           "rgba(215,143,143,0.5)",
           "rgba(215,143,143,0.5)",
           "rgba(234,219,199,0.5)",
           "rgba(234,219,199,0.5)",
           "rgba(234,219,199,0.5)",
           "rgba(234,219,199,0.5)",
           "rgba(234,219,199,0.5)",
           "rgba(234,219,199,0.5)",
           "rgba(234,219,199,0.5)",
           "rgba(234,219,199,0.5)",
           "rgba(234,219,199,0.5)",
           "rgba(178,203,204,0.5)",
           "rgba(178,203,204,0.5)",
           "rgba(178,203,204,0.5)",
           "rgba(178,203,204,0.5)",
           "rgba(178,203,204,0.5)",
           "rgba(178,203,204,0.5)",
           "rgba(178,203,204,0.5)",
           "rgba(178,203,204,0.5)",
           "rgba(178,203,204,0.5)",
           "rgba(191,242,140,0.5)",
           "rgba(191,242,140,0.5)",
           "rgba(191,242,140,0.5)",
           "rgba(191,242,140,0.5)",
           "rgba(191,242,140,0.5)",
           "rgba(191,242,140,0.5)",
           "rgba(191,242,140,0.5)",
           "rgba(191,242,140,0.5)",
           "rgba(191,242,140,0.5)",
           "rgba(228,181,147,0.5)",
           "rgba(228,181,147,0.5)",
           "rgba(228,181,147,0.5)",
           "rgba(228,181,147,0.5)",
           "rgba(228,181,147,0.5)",
           "rgba(228,181,147,0.5)",
           "rgba(228,181,147,0.5)",
           "rgba(228,181,147,0.5)",
           "rgba(228,181,147,0.5)",
           "rgba(246,195,176,0.5)",
           "rgba(246,195,176,0.5)",
           "rgba(246,195,176,0.5)",
           "rgba(246,195,176,0.5)",
           "rgba(246,195,176,0.5)",
           "rgba(246,195,176,0.5)",
           "rgba(246,195,176,0.5)",
           "rgba(246,195,176,0.5)",
           "rgba(246,195,176,0.5)",
           "rgba(184,204,239,0.5)",
           "rgba(184,204,239,0.5)",
           "rgba(184,204,239,0.5)",
           "rgba(184,204,239,0.5)",
           "rgba(184,204,239,0.5)",
           "rgba(184,204,239,0.5)",
           "rgba(184,204,239,0.5)",
           "rgba(184,204,239,0.5)",
           "rgba(184,204,239,0.5)",
           "rgba(233,142,160,0.5)",
           "rgba(233,142,160,0.5)",
           "rgba(233,142,160,0.5)",
           "rgba(233,142,160,0.5)",
           "rgba(233,142,160,0.5)",
           "rgba(233,142,160,0.5)",
           "rgba(233,142,160,0.5)",
           "rgba(233,142,160,0.5)",
           "rgba(233,142,160,0.5)",
           "rgba(140,242,242,0.5)",
           "rgba(140,242,242,0.5)",
           "rgba(140,242,242,0.5)",
           "rgba(140,242,242,0.5)",
           "rgba(140,242,242,0.5)",
           "rgba(140,242,242,0.5)",
           "rgba(140,242,242,0.5)",
           "rgba(140,242,242,0.5)",
           "rgba(140,242,242,0.5)",
           "rgba(88,88,236,0.5)",
           "rgba(88,88,236,0.5)",
           "rgba(88,88,236,0.5)",
           "rgba(88,88,236,0.5)",
           "rgba(88,88,236,0.5)",
           "rgba(88,88,236,0.5)",
           "rgba(88,88,236,0.5)",
           "rgba(88,88,236,0.5)",
           "rgba(88,88,236,0.5)",
           "rgba(88,236,236,0.5)",
           "rgba(88,236,236,0.5)",
           "rgba(88,236,236,0.5)",
           "rgba(88,236,236,0.5)",
           "rgba(88,236,236,0.5)",
           "rgba(88,236,236,0.5)",
           "rgba(88,236,236,0.5)",
           "rgba(88,236,236,0.5)",
           "rgba(88,236,236,0.5)",
           "rgba(232,200,120,0.5)",
           "rgba(232,200,120,0.5)",
           "rgba(232,200,120,0.5)",
           "rgba(232,200,120,0.5)",
           "rgba(232,200,120,0.5)",
           "rgba(232,200,120,0.5)",
           "rgba(232,200,120,0.5)",
           "rgba(232,200,120,0.5)",
           "rgba(232,200,120,0.5)",
           "rgba(218,216,185,0.5)",
           "rgba(218,216,185,0.5)",
           "rgba(218,216,185,0.5)",
           "rgba(218,216,185,0.5)",
           "rgba(218,216,185,0.5)",
           "rgba(218,216,185,0.5)",
           "rgba(218,216,185,0.5)",
           "rgba(218,216,185,0.5)",
           "rgba(218,216,185,0.5)",
           "rgba(236,88,236,0.5)",
           "rgba(236,88,236,0.5)",
           "rgba(236,88,236,0.5)",
           "rgba(236,88,236,0.5)",
           "rgba(236,88,236,0.5)",
           "rgba(236,88,236,0.5)",
           "rgba(236,88,236,0.5)",
           "rgba(236,88,236,0.5)",
           "rgba(236,88,236,0.5)",
           "rgba(173,194,138,0.5)",
           "rgba(173,194,138,0.5)",
           "rgba(173,194,138,0.5)",
           "rgba(173,194,138,0.5)",
           "rgba(173,194,138,0.5)",
           "rgba(173,194,138,0.5)",
           "rgba(173,194,138,0.5)",
           "rgba(173,194,138,0.5)",
           "rgba(173,194,138,0.5)",
           "rgba(242,196,140,0.5)",
           "rgba(242,196,140,0.5)",
           "rgba(242,196,140,0.5)",
           "rgba(242,196,140,0.5)",
           "rgba(242,196,140,0.5)",
           "rgba(242,196,140,0.5)",
           "rgba(242,196,140,0.5)",
           "rgba(242,196,140,0.5)",
           "rgba(242,196,140,0.5)",
           "rgba(201,160,222,0.5)",
           "rgba(201,160,222,0.5)",
           "rgba(201,160,222,0.5)",
           "rgba(201,160,222,0.5)",
           "rgba(201,160,222,0.5)",
           "rgba(201,160,222,0.5)",
           "rgba(201,160,222,0.5)",
           "rgba(201,160,222,0.5)",
           "rgba(201,160,222,0.5)",
           "rgba(130,212,130,0.5)",
           "rgba(221,140,140,0.5)",
           "rgba(203,189,232,0.5)",
           "rgba(242,196,140,0.5)",
           "rgba(229,207,151,0.5)",
           "rgba(140,217,242,0.5)",
           "rgba(220,158,114,0.5)",
           "rgba(248,187,218,0.5)",
           "rgba(168,184,232,0.5)"
          ],
          "hovertemplate": "%{label}",
          "label": [
           "Ramón Urías-3B",
           "Ramón Urías-SS",
           "Ramón Urías-2B",
           "Ramón Urías-1B",
           "Ramón Urías-LF",
           "Ramón Urías-CF",
           "Ramón Urías-RF",
           "Ramón Urías-DH",
           "Ramón Urías-C",
           "Gunnar Henderson-3B",
           "Gunnar Henderson-SS",
           "Gunnar Henderson-2B",
           "Gunnar Henderson-1B",
           "Gunnar Henderson-LF",
           "Gunnar Henderson-CF",
           "Gunnar Henderson-RF",
           "Gunnar Henderson-DH",
           "Gunnar Henderson-C",
           "Jorge Mateo-3B",
           "Jorge Mateo-SS",
           "Jorge Mateo-2B",
           "Jorge Mateo-1B",
           "Jorge Mateo-LF",
           "Jorge Mateo-CF",
           "Jorge Mateo-RF",
           "Jorge Mateo-DH",
           "Jorge Mateo-C",
           "Adam Frazier-3B",
           "Adam Frazier-SS",
           "Adam Frazier-2B",
           "Adam Frazier-1B",
           "Adam Frazier-LF",
           "Adam Frazier-CF",
           "Adam Frazier-RF",
           "Adam Frazier-DH",
           "Adam Frazier-C",
           "Jordan Westburg-3B",
           "Jordan Westburg-SS",
           "Jordan Westburg-2B",
           "Jordan Westburg-1B",
           "Jordan Westburg-LF",
           "Jordan Westburg-CF",
           "Jordan Westburg-RF",
           "Jordan Westburg-DH",
           "Jordan Westburg-C",
           "Joey Ortiz-3B",
           "Joey Ortiz-SS",
           "Joey Ortiz-2B",
           "Joey Ortiz-1B",
           "Joey Ortiz-LF",
           "Joey Ortiz-CF",
           "Joey Ortiz-RF",
           "Joey Ortiz-DH",
           "Joey Ortiz-C",
           "Ryan Mountcastle-3B",
           "Ryan Mountcastle-SS",
           "Ryan Mountcastle-2B",
           "Ryan Mountcastle-1B",
           "Ryan Mountcastle-LF",
           "Ryan Mountcastle-CF",
           "Ryan Mountcastle-RF",
           "Ryan Mountcastle-DH",
           "Ryan Mountcastle-C",
           "Ryan O'Hearn-3B",
           "Ryan O'Hearn-SS",
           "Ryan O'Hearn-2B",
           "Ryan O'Hearn-1B",
           "Ryan O'Hearn-LF",
           "Ryan O'Hearn-CF",
           "Ryan O'Hearn-RF",
           "Ryan O'Hearn-DH",
           "Ryan O'Hearn-C",
           "Josh Lester-3B",
           "Josh Lester-SS",
           "Josh Lester-2B",
           "Josh Lester-1B",
           "Josh Lester-LF",
           "Josh Lester-CF",
           "Josh Lester-RF",
           "Josh Lester-DH",
           "Josh Lester-C",
           "Austin Hays-3B",
           "Austin Hays-SS",
           "Austin Hays-2B",
           "Austin Hays-1B",
           "Austin Hays-LF",
           "Austin Hays-CF",
           "Austin Hays-RF",
           "Austin Hays-DH",
           "Austin Hays-C",
           "Cedric Mullins-3B",
           "Cedric Mullins-SS",
           "Cedric Mullins-2B",
           "Cedric Mullins-1B",
           "Cedric Mullins-LF",
           "Cedric Mullins-CF",
           "Cedric Mullins-RF",
           "Cedric Mullins-DH",
           "Cedric Mullins-C",
           "Aaron Hicks-3B",
           "Aaron Hicks-SS",
           "Aaron Hicks-2B",
           "Aaron Hicks-1B",
           "Aaron Hicks-LF",
           "Aaron Hicks-CF",
           "Aaron Hicks-RF",
           "Aaron Hicks-DH",
           "Aaron Hicks-C",
           "Anthony Santander-3B",
           "Anthony Santander-SS",
           "Anthony Santander-2B",
           "Anthony Santander-1B",
           "Anthony Santander-LF",
           "Anthony Santander-CF",
           "Anthony Santander-RF",
           "Anthony Santander-DH",
           "Anthony Santander-C",
           "Ryan McKenna-3B",
           "Ryan McKenna-SS",
           "Ryan McKenna-2B",
           "Ryan McKenna-1B",
           "Ryan McKenna-LF",
           "Ryan McKenna-CF",
           "Ryan McKenna-RF",
           "Ryan McKenna-DH",
           "Ryan McKenna-C",
           "Terrin Vavra-3B",
           "Terrin Vavra-SS",
           "Terrin Vavra-2B",
           "Terrin Vavra-1B",
           "Terrin Vavra-LF",
           "Terrin Vavra-CF",
           "Terrin Vavra-RF",
           "Terrin Vavra-DH",
           "Terrin Vavra-C",
           "Colton Cowser-3B",
           "Colton Cowser-SS",
           "Colton Cowser-2B",
           "Colton Cowser-1B",
           "Colton Cowser-LF",
           "Colton Cowser-CF",
           "Colton Cowser-RF",
           "Colton Cowser-DH",
           "Colton Cowser-C",
           "Kyle Stowers-3B",
           "Kyle Stowers-SS",
           "Kyle Stowers-2B",
           "Kyle Stowers-1B",
           "Kyle Stowers-LF",
           "Kyle Stowers-CF",
           "Kyle Stowers-RF",
           "Kyle Stowers-DH",
           "Kyle Stowers-C",
           "Heston Kjerstad-3B",
           "Heston Kjerstad-SS",
           "Heston Kjerstad-2B",
           "Heston Kjerstad-1B",
           "Heston Kjerstad-LF",
           "Heston Kjerstad-CF",
           "Heston Kjerstad-RF",
           "Heston Kjerstad-DH",
           "Heston Kjerstad-C",
           "Adley Rutschman-3B",
           "Adley Rutschman-SS",
           "Adley Rutschman-2B",
           "Adley Rutschman-1B",
           "Adley Rutschman-LF",
           "Adley Rutschman-CF",
           "Adley Rutschman-RF",
           "Adley Rutschman-DH",
           "Adley Rutschman-C",
           "James McCann-3B",
           "James McCann-SS",
           "James McCann-2B",
           "James McCann-1B",
           "James McCann-LF",
           "James McCann-CF",
           "James McCann-RF",
           "James McCann-DH",
           "James McCann-C",
           "Anthony Bemboom-3B",
           "Anthony Bemboom-SS",
           "Anthony Bemboom-2B",
           "Anthony Bemboom-1B",
           "Anthony Bemboom-LF",
           "Anthony Bemboom-CF",
           "Anthony Bemboom-RF",
           "Anthony Bemboom-DH",
           "Anthony Bemboom-C"
          ],
          "source": [
           0,
           0,
           0,
           0,
           0,
           0,
           0,
           0,
           0,
           1,
           1,
           1,
           1,
           1,
           1,
           1,
           1,
           1,
           2,
           2,
           2,
           2,
           2,
           2,
           2,
           2,
           2,
           3,
           3,
           3,
           3,
           3,
           3,
           3,
           3,
           3,
           4,
           4,
           4,
           4,
           4,
           4,
           4,
           4,
           4,
           5,
           5,
           5,
           5,
           5,
           5,
           5,
           5,
           5,
           6,
           6,
           6,
           6,
           6,
           6,
           6,
           6,
           6,
           7,
           7,
           7,
           7,
           7,
           7,
           7,
           7,
           7,
           8,
           8,
           8,
           8,
           8,
           8,
           8,
           8,
           8,
           9,
           9,
           9,
           9,
           9,
           9,
           9,
           9,
           9,
           10,
           10,
           10,
           10,
           10,
           10,
           10,
           10,
           10,
           11,
           11,
           11,
           11,
           11,
           11,
           11,
           11,
           11,
           12,
           12,
           12,
           12,
           12,
           12,
           12,
           12,
           12,
           13,
           13,
           13,
           13,
           13,
           13,
           13,
           13,
           13,
           14,
           14,
           14,
           14,
           14,
           14,
           14,
           14,
           14,
           15,
           15,
           15,
           15,
           15,
           15,
           15,
           15,
           15,
           16,
           16,
           16,
           16,
           16,
           16,
           16,
           16,
           16,
           17,
           17,
           17,
           17,
           17,
           17,
           17,
           17,
           17,
           18,
           18,
           18,
           18,
           18,
           18,
           18,
           18,
           18,
           19,
           19,
           19,
           19,
           19,
           19,
           19,
           19,
           19,
           20,
           20,
           20,
           20,
           20,
           20,
           20,
           20,
           20
          ],
          "target": [
           21,
           22,
           23,
           24,
           25,
           26,
           27,
           28,
           29,
           21,
           22,
           23,
           24,
           25,
           26,
           27,
           28,
           29,
           21,
           22,
           23,
           24,
           25,
           26,
           27,
           28,
           29,
           21,
           22,
           23,
           24,
           25,
           26,
           27,
           28,
           29,
           21,
           22,
           23,
           24,
           25,
           26,
           27,
           28,
           29,
           21,
           22,
           23,
           24,
           25,
           26,
           27,
           28,
           29,
           21,
           22,
           23,
           24,
           25,
           26,
           27,
           28,
           29,
           21,
           22,
           23,
           24,
           25,
           26,
           27,
           28,
           29,
           21,
           22,
           23,
           24,
           25,
           26,
           27,
           28,
           29,
           21,
           22,
           23,
           24,
           25,
           26,
           27,
           28,
           29,
           21,
           22,
           23,
           24,
           25,
           26,
           27,
           28,
           29,
           21,
           22,
           23,
           24,
           25,
           26,
           27,
           28,
           29,
           21,
           22,
           23,
           24,
           25,
           26,
           27,
           28,
           29,
           21,
           22,
           23,
           24,
           25,
           26,
           27,
           28,
           29,
           21,
           22,
           23,
           24,
           25,
           26,
           27,
           28,
           29,
           21,
           22,
           23,
           24,
           25,
           26,
           27,
           28,
           29,
           21,
           22,
           23,
           24,
           25,
           26,
           27,
           28,
           29,
           21,
           22,
           23,
           24,
           25,
           26,
           27,
           28,
           29,
           21,
           22,
           23,
           24,
           25,
           26,
           27,
           28,
           29,
           21,
           22,
           23,
           24,
           25,
           26,
           27,
           28,
           29,
           21,
           22,
           23,
           24,
           25,
           26,
           27,
           28,
           29
          ],
          "value": [
           92,
           0,
           22,
           13,
           0,
           0,
           0,
           3,
           0,
           84,
           83,
           0,
           0,
           0,
           0,
           0,
           11,
           0,
           0,
           110,
           0,
           0,
           0,
           4,
           0,
           2,
           0,
           0,
           0,
           130,
           0,
           3,
           0,
           7,
           2,
           0,
           29,
           0,
           50,
           0,
           0,
           0,
           0,
           1,
           0,
           4,
           3,
           7,
           0,
           0,
           0,
           0,
           0,
           0,
           0,
           0,
           0,
           90,
           0,
           0,
           0,
           23,
           0,
           0,
           0,
           0,
           70,
           6,
           0,
           23,
           14,
           0,
           1,
           0,
           0,
           5,
           0,
           0,
           1,
           2,
           0,
           0,
           0,
           0,
           0,
           137,
           7,
           5,
           3,
           0,
           0,
           0,
           0,
           0,
           0,
           110,
           0,
           3,
           0,
           0,
           0,
           0,
           0,
           11,
           37,
           21,
           6,
           0,
           0,
           0,
           0,
           12,
           1,
           0,
           97,
           47,
           0,
           0,
           0,
           0,
           0,
           15,
           25,
           55,
           1,
           0,
           2,
           0,
           1,
           0,
           6,
           0,
           13,
           4,
           0,
           0,
           0,
           0,
           0,
           7,
           10,
           12,
           0,
           0,
           0,
           0,
           0,
           0,
           4,
           0,
           6,
           1,
           0,
           0,
           0,
           0,
           0,
           3,
           0,
           1,
           6,
           0,
           0,
           0,
           0,
           0,
           0,
           0,
           0,
           46,
           110,
           0,
           0,
           0,
           2,
           0,
           0,
           0,
           7,
           59,
           0,
           0,
           0,
           0,
           0,
           0,
           0,
           0,
           6
          ]
         },
         "node": {
          "color": [
           "aqua",
           "aquamarine",
           "blue",
           "blueviolet",
           "brown",
           "burlywood",
           "cadetblue",
           "chartreuse",
           "chocolate",
           "coral",
           "cornflowerblue",
           "crimson",
           "cyan",
           "darkblue",
           "darkcyan",
           "darkgoldenrod",
           "darkkhaki",
           "darkmagenta",
           "darkolivegreen",
           "darkorange",
           "darkorchid",
           "forestgreen",
           "firebrick",
           "mediumpurple",
           "darkorange",
           "goldenrod",
           "deepskyblue",
           "saddlebrown",
           "hotpink",
           "royalblue"
          ],
          "hovertemplate": " ",
          "label": [
           "Ramón Urías",
           "Gunnar Henderson",
           "Jorge Mateo",
           "Adam Frazier",
           "Jordan Westburg",
           "Joey Ortiz",
           "Ryan Mountcastle",
           "Ryan O'Hearn",
           "Josh Lester",
           "Austin Hays",
           "Cedric Mullins",
           "Aaron Hicks",
           "Anthony Santander",
           "Ryan McKenna",
           "Terrin Vavra",
           "Colton Cowser",
           "Kyle Stowers",
           "Heston Kjerstad",
           "Adley Rutschman",
           "James McCann",
           "Anthony Bemboom",
           "3B",
           "SS",
           "2B",
           "1B",
           "LF",
           "CF",
           "RF",
           "DH",
           "C"
          ],
          "line": {
           "color": "lightslategrey",
           "width": 0.5
          },
          "pad": 20,
          "thickness": 20,
          "x": [
           0.01,
           0.01,
           0.01,
           0.01,
           0.01,
           0.01,
           0.01,
           0.01,
           0.01,
           0.01,
           0.01,
           0.01,
           0.01,
           0.01,
           0.01,
           0.01,
           0.01,
           0.01,
           0.01,
           0.01,
           0.01,
           0.8,
           0.8,
           0.8,
           0.8,
           0.8,
           0.8,
           0.8,
           0.8,
           0.8
          ],
          "y": [
           0.01,
           0.06,
           0.11,
           0.16,
           0.21,
           0.26,
           0.31,
           0.36,
           0.41,
           0.46,
           0.51,
           0.56,
           0.61,
           0.66,
           0.71,
           0.76,
           0.81,
           0.86,
           0.91,
           0.96,
           1.01,
           0.01,
           0.06,
           0.11,
           0.16,
           0.21,
           0.26,
           0.31,
           0.36,
           0.41
          ]
         },
         "type": "sankey",
         "valueformat": "3d"
        }
       ],
       "layout": {
        "font": {
         "size": 16
        },
        "height": 1500,
        "hoverlabel": {
         "bgcolor": "grey",
         "font": {
          "family": "Rockwell",
          "size": 14
         }
        },
        "template": {
         "data": {
          "bar": [
           {
            "error_x": {
             "color": "#2a3f5f"
            },
            "error_y": {
             "color": "#2a3f5f"
            },
            "marker": {
             "line": {
              "color": "#E5ECF6",
              "width": 0.5
             },
             "pattern": {
              "fillmode": "overlay",
              "size": 10,
              "solidity": 0.2
             }
            },
            "type": "bar"
           }
          ],
          "barpolar": [
           {
            "marker": {
             "line": {
              "color": "#E5ECF6",
              "width": 0.5
             },
             "pattern": {
              "fillmode": "overlay",
              "size": 10,
              "solidity": 0.2
             }
            },
            "type": "barpolar"
           }
          ],
          "carpet": [
           {
            "aaxis": {
             "endlinecolor": "#2a3f5f",
             "gridcolor": "white",
             "linecolor": "white",
             "minorgridcolor": "white",
             "startlinecolor": "#2a3f5f"
            },
            "baxis": {
             "endlinecolor": "#2a3f5f",
             "gridcolor": "white",
             "linecolor": "white",
             "minorgridcolor": "white",
             "startlinecolor": "#2a3f5f"
            },
            "type": "carpet"
           }
          ],
          "choropleth": [
           {
            "colorbar": {
             "outlinewidth": 0,
             "ticks": ""
            },
            "type": "choropleth"
           }
          ],
          "contour": [
           {
            "colorbar": {
             "outlinewidth": 0,
             "ticks": ""
            },
            "colorscale": [
             [
              0,
              "#0d0887"
             ],
             [
              0.1111111111111111,
              "#46039f"
             ],
             [
              0.2222222222222222,
              "#7201a8"
             ],
             [
              0.3333333333333333,
              "#9c179e"
             ],
             [
              0.4444444444444444,
              "#bd3786"
             ],
             [
              0.5555555555555556,
              "#d8576b"
             ],
             [
              0.6666666666666666,
              "#ed7953"
             ],
             [
              0.7777777777777778,
              "#fb9f3a"
             ],
             [
              0.8888888888888888,
              "#fdca26"
             ],
             [
              1,
              "#f0f921"
             ]
            ],
            "type": "contour"
           }
          ],
          "contourcarpet": [
           {
            "colorbar": {
             "outlinewidth": 0,
             "ticks": ""
            },
            "type": "contourcarpet"
           }
          ],
          "heatmap": [
           {
            "colorbar": {
             "outlinewidth": 0,
             "ticks": ""
            },
            "colorscale": [
             [
              0,
              "#0d0887"
             ],
             [
              0.1111111111111111,
              "#46039f"
             ],
             [
              0.2222222222222222,
              "#7201a8"
             ],
             [
              0.3333333333333333,
              "#9c179e"
             ],
             [
              0.4444444444444444,
              "#bd3786"
             ],
             [
              0.5555555555555556,
              "#d8576b"
             ],
             [
              0.6666666666666666,
              "#ed7953"
             ],
             [
              0.7777777777777778,
              "#fb9f3a"
             ],
             [
              0.8888888888888888,
              "#fdca26"
             ],
             [
              1,
              "#f0f921"
             ]
            ],
            "type": "heatmap"
           }
          ],
          "heatmapgl": [
           {
            "colorbar": {
             "outlinewidth": 0,
             "ticks": ""
            },
            "colorscale": [
             [
              0,
              "#0d0887"
             ],
             [
              0.1111111111111111,
              "#46039f"
             ],
             [
              0.2222222222222222,
              "#7201a8"
             ],
             [
              0.3333333333333333,
              "#9c179e"
             ],
             [
              0.4444444444444444,
              "#bd3786"
             ],
             [
              0.5555555555555556,
              "#d8576b"
             ],
             [
              0.6666666666666666,
              "#ed7953"
             ],
             [
              0.7777777777777778,
              "#fb9f3a"
             ],
             [
              0.8888888888888888,
              "#fdca26"
             ],
             [
              1,
              "#f0f921"
             ]
            ],
            "type": "heatmapgl"
           }
          ],
          "histogram": [
           {
            "marker": {
             "pattern": {
              "fillmode": "overlay",
              "size": 10,
              "solidity": 0.2
             }
            },
            "type": "histogram"
           }
          ],
          "histogram2d": [
           {
            "colorbar": {
             "outlinewidth": 0,
             "ticks": ""
            },
            "colorscale": [
             [
              0,
              "#0d0887"
             ],
             [
              0.1111111111111111,
              "#46039f"
             ],
             [
              0.2222222222222222,
              "#7201a8"
             ],
             [
              0.3333333333333333,
              "#9c179e"
             ],
             [
              0.4444444444444444,
              "#bd3786"
             ],
             [
              0.5555555555555556,
              "#d8576b"
             ],
             [
              0.6666666666666666,
              "#ed7953"
             ],
             [
              0.7777777777777778,
              "#fb9f3a"
             ],
             [
              0.8888888888888888,
              "#fdca26"
             ],
             [
              1,
              "#f0f921"
             ]
            ],
            "type": "histogram2d"
           }
          ],
          "histogram2dcontour": [
           {
            "colorbar": {
             "outlinewidth": 0,
             "ticks": ""
            },
            "colorscale": [
             [
              0,
              "#0d0887"
             ],
             [
              0.1111111111111111,
              "#46039f"
             ],
             [
              0.2222222222222222,
              "#7201a8"
             ],
             [
              0.3333333333333333,
              "#9c179e"
             ],
             [
              0.4444444444444444,
              "#bd3786"
             ],
             [
              0.5555555555555556,
              "#d8576b"
             ],
             [
              0.6666666666666666,
              "#ed7953"
             ],
             [
              0.7777777777777778,
              "#fb9f3a"
             ],
             [
              0.8888888888888888,
              "#fdca26"
             ],
             [
              1,
              "#f0f921"
             ]
            ],
            "type": "histogram2dcontour"
           }
          ],
          "mesh3d": [
           {
            "colorbar": {
             "outlinewidth": 0,
             "ticks": ""
            },
            "type": "mesh3d"
           }
          ],
          "parcoords": [
           {
            "line": {
             "colorbar": {
              "outlinewidth": 0,
              "ticks": ""
             }
            },
            "type": "parcoords"
           }
          ],
          "pie": [
           {
            "automargin": true,
            "type": "pie"
           }
          ],
          "scatter": [
           {
            "fillpattern": {
             "fillmode": "overlay",
             "size": 10,
             "solidity": 0.2
            },
            "type": "scatter"
           }
          ],
          "scatter3d": [
           {
            "line": {
             "colorbar": {
              "outlinewidth": 0,
              "ticks": ""
             }
            },
            "marker": {
             "colorbar": {
              "outlinewidth": 0,
              "ticks": ""
             }
            },
            "type": "scatter3d"
           }
          ],
          "scattercarpet": [
           {
            "marker": {
             "colorbar": {
              "outlinewidth": 0,
              "ticks": ""
             }
            },
            "type": "scattercarpet"
           }
          ],
          "scattergeo": [
           {
            "marker": {
             "colorbar": {
              "outlinewidth": 0,
              "ticks": ""
             }
            },
            "type": "scattergeo"
           }
          ],
          "scattergl": [
           {
            "marker": {
             "colorbar": {
              "outlinewidth": 0,
              "ticks": ""
             }
            },
            "type": "scattergl"
           }
          ],
          "scattermapbox": [
           {
            "marker": {
             "colorbar": {
              "outlinewidth": 0,
              "ticks": ""
             }
            },
            "type": "scattermapbox"
           }
          ],
          "scatterpolar": [
           {
            "marker": {
             "colorbar": {
              "outlinewidth": 0,
              "ticks": ""
             }
            },
            "type": "scatterpolar"
           }
          ],
          "scatterpolargl": [
           {
            "marker": {
             "colorbar": {
              "outlinewidth": 0,
              "ticks": ""
             }
            },
            "type": "scatterpolargl"
           }
          ],
          "scatterternary": [
           {
            "marker": {
             "colorbar": {
              "outlinewidth": 0,
              "ticks": ""
             }
            },
            "type": "scatterternary"
           }
          ],
          "surface": [
           {
            "colorbar": {
             "outlinewidth": 0,
             "ticks": ""
            },
            "colorscale": [
             [
              0,
              "#0d0887"
             ],
             [
              0.1111111111111111,
              "#46039f"
             ],
             [
              0.2222222222222222,
              "#7201a8"
             ],
             [
              0.3333333333333333,
              "#9c179e"
             ],
             [
              0.4444444444444444,
              "#bd3786"
             ],
             [
              0.5555555555555556,
              "#d8576b"
             ],
             [
              0.6666666666666666,
              "#ed7953"
             ],
             [
              0.7777777777777778,
              "#fb9f3a"
             ],
             [
              0.8888888888888888,
              "#fdca26"
             ],
             [
              1,
              "#f0f921"
             ]
            ],
            "type": "surface"
           }
          ],
          "table": [
           {
            "cells": {
             "fill": {
              "color": "#EBF0F8"
             },
             "line": {
              "color": "white"
             }
            },
            "header": {
             "fill": {
              "color": "#C8D4E3"
             },
             "line": {
              "color": "white"
             }
            },
            "type": "table"
           }
          ]
         },
         "layout": {
          "annotationdefaults": {
           "arrowcolor": "#2a3f5f",
           "arrowhead": 0,
           "arrowwidth": 1
          },
          "autotypenumbers": "strict",
          "coloraxis": {
           "colorbar": {
            "outlinewidth": 0,
            "ticks": ""
           }
          },
          "colorscale": {
           "diverging": [
            [
             0,
             "#8e0152"
            ],
            [
             0.1,
             "#c51b7d"
            ],
            [
             0.2,
             "#de77ae"
            ],
            [
             0.3,
             "#f1b6da"
            ],
            [
             0.4,
             "#fde0ef"
            ],
            [
             0.5,
             "#f7f7f7"
            ],
            [
             0.6,
             "#e6f5d0"
            ],
            [
             0.7,
             "#b8e186"
            ],
            [
             0.8,
             "#7fbc41"
            ],
            [
             0.9,
             "#4d9221"
            ],
            [
             1,
             "#276419"
            ]
           ],
           "sequential": [
            [
             0,
             "#0d0887"
            ],
            [
             0.1111111111111111,
             "#46039f"
            ],
            [
             0.2222222222222222,
             "#7201a8"
            ],
            [
             0.3333333333333333,
             "#9c179e"
            ],
            [
             0.4444444444444444,
             "#bd3786"
            ],
            [
             0.5555555555555556,
             "#d8576b"
            ],
            [
             0.6666666666666666,
             "#ed7953"
            ],
            [
             0.7777777777777778,
             "#fb9f3a"
            ],
            [
             0.8888888888888888,
             "#fdca26"
            ],
            [
             1,
             "#f0f921"
            ]
           ],
           "sequentialminus": [
            [
             0,
             "#0d0887"
            ],
            [
             0.1111111111111111,
             "#46039f"
            ],
            [
             0.2222222222222222,
             "#7201a8"
            ],
            [
             0.3333333333333333,
             "#9c179e"
            ],
            [
             0.4444444444444444,
             "#bd3786"
            ],
            [
             0.5555555555555556,
             "#d8576b"
            ],
            [
             0.6666666666666666,
             "#ed7953"
            ],
            [
             0.7777777777777778,
             "#fb9f3a"
            ],
            [
             0.8888888888888888,
             "#fdca26"
            ],
            [
             1,
             "#f0f921"
            ]
           ]
          },
          "colorway": [
           "#636efa",
           "#EF553B",
           "#00cc96",
           "#ab63fa",
           "#FFA15A",
           "#19d3f3",
           "#FF6692",
           "#B6E880",
           "#FF97FF",
           "#FECB52"
          ],
          "font": {
           "color": "#2a3f5f"
          },
          "geo": {
           "bgcolor": "white",
           "lakecolor": "white",
           "landcolor": "#E5ECF6",
           "showlakes": true,
           "showland": true,
           "subunitcolor": "white"
          },
          "hoverlabel": {
           "align": "left"
          },
          "hovermode": "closest",
          "mapbox": {
           "style": "light"
          },
          "paper_bgcolor": "white",
          "plot_bgcolor": "#E5ECF6",
          "polar": {
           "angularaxis": {
            "gridcolor": "white",
            "linecolor": "white",
            "ticks": ""
           },
           "bgcolor": "#E5ECF6",
           "radialaxis": {
            "gridcolor": "white",
            "linecolor": "white",
            "ticks": ""
           }
          },
          "scene": {
           "xaxis": {
            "backgroundcolor": "#E5ECF6",
            "gridcolor": "white",
            "gridwidth": 2,
            "linecolor": "white",
            "showbackground": true,
            "ticks": "",
            "zerolinecolor": "white"
           },
           "yaxis": {
            "backgroundcolor": "#E5ECF6",
            "gridcolor": "white",
            "gridwidth": 2,
            "linecolor": "white",
            "showbackground": true,
            "ticks": "",
            "zerolinecolor": "white"
           },
           "zaxis": {
            "backgroundcolor": "#E5ECF6",
            "gridcolor": "white",
            "gridwidth": 2,
            "linecolor": "white",
            "showbackground": true,
            "ticks": "",
            "zerolinecolor": "white"
           }
          },
          "shapedefaults": {
           "line": {
            "color": "#2a3f5f"
           }
          },
          "ternary": {
           "aaxis": {
            "gridcolor": "white",
            "linecolor": "white",
            "ticks": ""
           },
           "baxis": {
            "gridcolor": "white",
            "linecolor": "white",
            "ticks": ""
           },
           "bgcolor": "#E5ECF6",
           "caxis": {
            "gridcolor": "white",
            "linecolor": "white",
            "ticks": ""
           }
          },
          "title": {
           "x": 0.05
          },
          "xaxis": {
           "automargin": true,
           "gridcolor": "white",
           "linecolor": "white",
           "ticks": "",
           "title": {
            "standoff": 15
           },
           "zerolinecolor": "white",
           "zerolinewidth": 2
          },
          "yaxis": {
           "automargin": true,
           "gridcolor": "white",
           "linecolor": "white",
           "ticks": "",
           "title": {
            "standoff": 15
           },
           "zerolinecolor": "white",
           "zerolinewidth": 2
          }
         }
        },
        "title": {
         "text": "Baseball Depth Chart: Players & Positions"
        },
        "width": 1200
       }
      }
     },
     "metadata": {},
     "output_type": "display_data"
    }
   ],
   "source": [
    "\n",
    "\n",
    "NUM_PLAYERS = 21\n",
    "X_POS, Y_POS = 0.8, 1/(NUM_PLAYERS -1)\n",
    "player_node_colors = node_colors\n",
    "player_link_colors = link_colors\n",
    "\n",
    "num_positions = len(non_pitching_positions)\n",
    "\n",
    "non_pitching_positions = [\"3B\", \"SS\", \"2B\", \"1B\", \"LF\", \"CF\", \"RF\", \"DH\", \"C\"]\n",
    "selected_position_colors = [\n",
    "    'forestgreen', # Third Base (3B)\n",
    "    'firebrick',   # Shortstop (SS)\n",
    "    'mediumpurple',# Second Base (2B)\n",
    "    'darkorange',  # First Base (1B)\n",
    "    'goldenrod',   # Left Field (LF)\n",
    "    'deepskyblue', # Center Field (CF)\n",
    "    'saddlebrown', # Right Field (RF)\n",
    "    'hotpink',     # Designated Hitter (DH)\n",
    "    'royalblue',   # Catcher (C)\n",
    "]\n",
    "\n",
    "# Creating subdued versions for link colors\n",
    "position_link_colors = [subdue_color(color) for color in selected_position_colors]\n",
    "\n",
    "# Define position node colors using the selected colors\n",
    "position_node_colors = selected_position_colors\n",
    "\n",
    "# Revised code with the defined colors\n",
    "source = []\n",
    "node_x_pos, node_y_pos = [], []\n",
    "node_labels, node_colors = [], player_node_colors\n",
    "link_labels, link_colors, link_values = [], [], [] \n",
    "\n",
    "# FIRST set of links and nodes for players\n",
    "for i in range(NUM_PLAYERS):\n",
    "    source.extend([i]*num_positions)\n",
    "    node_x_pos.append(0.01)\n",
    "    node_y_pos.append(round(i*Y_POS+0.01,2))\n",
    "    player_name = orioles_sorted['Name'][i]\n",
    "    node_labels.append(player_name) \n",
    "    for pos in non_pitching_positions:\n",
    "        link_labels.append(f\"{player_name}-{pos}\")\n",
    "        link_values.append(orioles_sorted[pos][i])\n",
    "    link_colors.extend([player_link_colors[i]]*num_positions)\n",
    "\n",
    "source_last = max(source)+1\n",
    "target = [source_last + j for j in range(num_positions)] * NUM_PLAYERS\n",
    "\n",
    "# Adding position nodes\n",
    "node_labels.extend(non_pitching_positions)\n",
    "node_colors.extend(position_node_colors)  # Adjusted colors for positions\n",
    "node_x_pos.extend([X_POS] * num_positions)\n",
    "node_y_pos.extend([round(j*Y_POS+0.01,2) for j in range(num_positions)])\n",
    "\n",
    "link_colors.extend(position_link_colors)  # Adjusted colors for positions\n",
    "\n",
    "import plotly.graph_objects as go\n",
    "\n",
    "# Adjusting the NODES and LINKS dictionaries with the new data\n",
    "NODES = dict(\n",
    "    pad = 20, \n",
    "    thickness = 20, \n",
    "    line = dict(color = \"lightslategrey\", width = 0.5),\n",
    "    hovertemplate=\" \",\n",
    "    label = node_labels, \n",
    "    color = node_colors,\n",
    "    x = node_x_pos, \n",
    "    y = node_y_pos\n",
    ")\n",
    "\n",
    "rgba_link_colors = [convert_to_rgba_string(color, 0.5) for color in link_colors]\n",
    "\n",
    "LINKS = dict(\n",
    "    source=source, \n",
    "    target=target, \n",
    "    value=link_values, \n",
    "    label=link_labels, \n",
    "    color=rgba_link_colors,  # Use the rgba colors with opacity\n",
    "    hovertemplate=\"%{label}\"\n",
    ")\n",
    "# Creating the Sankey Diagram\n",
    "data = go.Sankey(arrangement='snap', node = NODES, link = LINKS)\n",
    "fig = go.Figure(data)\n",
    "\n",
    "# Updating the traces and layout for the baseball context\n",
    "fig.update_traces(valueformat='3d')  # Remove valuesuffix if not needed\n",
    "fig.update_layout(\n",
    "    title=\"Baseball Depth Chart: Players & Positions\",  \n",
    "    font_size=16,  \n",
    "    width=1200,\n",
    "    height=1500\n",
    ")\n",
    "\n",
    "# Update hover label formatting\n",
    "fig.update_layout(hoverlabel=dict(bgcolor=\"grey\", font_size=14, font_family=\"Rockwell\"))\n",
    "\n",
    "\n",
    "# Display the figure\n",
    "fig.show()\n"
   ]
  }
 ],
 "metadata": {
  "kernelspec": {
   "display_name": "Python 3",
   "language": "python",
   "name": "python3"
  },
  "language_info": {
   "codemirror_mode": {
    "name": "ipython",
    "version": 3
   },
   "file_extension": ".py",
   "mimetype": "text/x-python",
   "name": "python",
   "nbconvert_exporter": "python",
   "pygments_lexer": "ipython3",
   "version": "3.10.4"
  },
  "orig_nbformat": 4
 },
 "nbformat": 4,
 "nbformat_minor": 2
}
